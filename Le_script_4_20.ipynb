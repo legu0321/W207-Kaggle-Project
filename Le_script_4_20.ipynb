{
 "cells": [
  {
   "cell_type": "markdown",
   "metadata": {},
   "source": [
    "###Load Data\n"
   ]
  },
  {
   "cell_type": "code",
   "execution_count": 2,
   "metadata": {
    "collapsed": true
   },
   "outputs": [],
   "source": [
    "# This tells matplotlib not to try opening a new window for each plot.\n",
    "%matplotlib inline\n",
    "\n",
    "# General libraries.\n",
    "import os\n",
    "import codecs\n",
    "import json\n",
    "import csv\n",
    "\n",
    "import re\n",
    "import numpy as np\n",
    "import pandas as pd\n",
    "import matplotlib.pyplot as plt\n",
    "\n",
    "# SK-learn libraries for learning.\n",
    "from sklearn.pipeline import Pipeline\n",
    "from sklearn.neighbors import KNeighborsClassifier\n",
    "from sklearn.linear_model import LogisticRegression\n",
    "from sklearn.naive_bayes import BernoulliNB\n",
    "from sklearn.naive_bayes import MultinomialNB\n",
    "from sklearn.grid_search import GridSearchCV\n",
    "\n",
    "# SK-learn libraries for evaluation.\n",
    "from sklearn.metrics import confusion_matrix\n",
    "from sklearn import metrics\n",
    "from sklearn.metrics import classification_report\n",
    "\n",
    "# SK-learn library for importing the newsgroup data.\n",
    "from sklearn.datasets import fetch_20newsgroups\n",
    "\n",
    "# SK-learn libraries for feature extraction from text.\n",
    "from sklearn.feature_extraction.text import *"
   ]
  },
  {
   "cell_type": "code",
   "execution_count": 3,
   "metadata": {
    "collapsed": false,
    "scrolled": true
   },
   "outputs": [
    {
     "name": "stdout",
     "output_type": "stream",
     "text": [
      "type(X) <class 'pandas.core.frame.DataFrame'>\n",
      "train_labels\n",
      "----------\n",
      "['requester_received_pizza']\n",
      "(3975, 1)\n",
      "train_data\n",
      "----------\n",
      "['giver_username_if_known', 'in_test_set', 'number_of_downvotes_of_request_at_retrieval', 'number_of_upvotes_of_request_at_retrieval', 'post_was_edited', 'request_id', 'request_number_of_comments_at_retrieval', 'request_text', 'request_text_edit_aware', 'request_title', 'requester_account_age_in_days_at_request', 'requester_account_age_in_days_at_retrieval', 'requester_days_since_first_post_on_raop_at_request', 'requester_days_since_first_post_on_raop_at_retrieval', 'requester_number_of_comments_at_request', 'requester_number_of_comments_at_retrieval', 'requester_number_of_comments_in_raop_at_request', 'requester_number_of_comments_in_raop_at_retrieval', 'requester_number_of_posts_at_request', 'requester_number_of_posts_at_retrieval', 'requester_number_of_posts_on_raop_at_request', 'requester_number_of_posts_on_raop_at_retrieval', 'requester_number_of_subreddits_at_request', 'requester_subreddits_at_request', 'requester_upvotes_minus_downvotes_at_request', 'requester_upvotes_minus_downvotes_at_retrieval', 'requester_upvotes_plus_downvotes_at_request', 'requester_upvotes_plus_downvotes_at_retrieval', 'requester_user_flair', 'requester_username', 'unix_timestamp_of_request', 'unix_timestamp_of_request_utc']\n",
      "(3975, 32)\n",
      "dev_labels\n",
      "----------\n",
      "['requester_received_pizza']\n",
      "(1696, 1)\n",
      "dev_data\n",
      "----------\n",
      "['giver_username_if_known', 'in_test_set', 'number_of_downvotes_of_request_at_retrieval', 'number_of_upvotes_of_request_at_retrieval', 'post_was_edited', 'request_id', 'request_number_of_comments_at_retrieval', 'request_text', 'request_text_edit_aware', 'request_title', 'requester_account_age_in_days_at_request', 'requester_account_age_in_days_at_retrieval', 'requester_days_since_first_post_on_raop_at_request', 'requester_days_since_first_post_on_raop_at_retrieval', 'requester_number_of_comments_at_request', 'requester_number_of_comments_at_retrieval', 'requester_number_of_comments_in_raop_at_request', 'requester_number_of_comments_in_raop_at_retrieval', 'requester_number_of_posts_at_request', 'requester_number_of_posts_at_retrieval', 'requester_number_of_posts_on_raop_at_request', 'requester_number_of_posts_on_raop_at_retrieval', 'requester_number_of_subreddits_at_request', 'requester_subreddits_at_request', 'requester_upvotes_minus_downvotes_at_request', 'requester_upvotes_minus_downvotes_at_retrieval', 'requester_upvotes_plus_downvotes_at_request', 'requester_upvotes_plus_downvotes_at_retrieval', 'requester_user_flair', 'requester_username', 'unix_timestamp_of_request', 'unix_timestamp_of_request_utc']\n",
      "(1696, 32)\n",
      "train labels\n",
      "----------\n",
      "requester_received_pizza    0.241006\n",
      "dtype: float64\n",
      "dev labels\n",
      "----------\n",
      "requester_received_pizza    0.258844\n",
      "dtype: float64\n"
     ]
    }
   ],
   "source": [
    "# http://pandas.pydata.org/pandas-docs/stable/generated/pandas.read_json.html\n",
    "# Convert a JSON string to pandas object\n",
    "\n",
    "X = pd.read_json('./pizza_request_dataset.json')\n",
    "print (\"type(X)\", type(X))\n",
    "print\n",
    "\n",
    "# set random seed\n",
    "np.random.seed(0)\n",
    "\n",
    "# randomly assign 70% to train_data, and 30% to dev_data\n",
    "msk = np.random.rand(len(X)) <= 0.7\n",
    "train_data = X[msk]\n",
    "dev_data = X[~msk]\n",
    "\n",
    "# create output dataframe Y of train_labels\n",
    "train_labels = train_data[[\"requester_received_pizza\"]]\n",
    "\n",
    "# delete train_labels from input dataframe of train_data\n",
    "del train_data[\"requester_received_pizza\"]\n",
    "\n",
    "# create output dataframe of dev_labels\n",
    "dev_labels = dev_data[[\"requester_received_pizza\"]]\n",
    "\n",
    "# delete dev_labels from input dataframe of dev_data\n",
    "del dev_data[\"requester_received_pizza\"]\n",
    "\n",
    "# print (labels, shapes, and feature names\n",
    "print (\"train_labels\" )\n",
    "print (\"----------\")\n",
    "print (list(train_labels))\n",
    "print (train_labels.shape), \"/n\"\n",
    "print (\"train_data\" )\n",
    "print (\"----------\")\n",
    "print (list(train_data))\n",
    "print (train_data.shape), \"/n\"\n",
    "\n",
    "\n",
    "print (\"dev_labels\") \n",
    "print (\"----------\")\n",
    "print (list(dev_labels))\n",
    "print (dev_labels.shape), \"/n\"\n",
    "\n",
    "print (\"dev_data\")\n",
    "print (\"----------\")\n",
    "print (list(dev_data))\n",
    "print (dev_data.shape), \"/n\"\n",
    "\n",
    "# print (percent of train_data and dev_data whose posts led to receipt of pizza\n",
    "print (\"train labels\")\n",
    "print (\"----------\")\n",
    "print (np.mean(train_labels)), \"/n\"\n",
    "print (\"dev labels\")\n",
    "print (\"----------\")\n",
    "print (np.mean(dev_labels))"
   ]
  },
  {
   "cell_type": "markdown",
   "metadata": {},
   "source": [
    "##Extract text and tile for train and dev"
   ]
  },
  {
   "cell_type": "code",
   "execution_count": 4,
   "metadata": {
    "collapsed": false
   },
   "outputs": [],
   "source": [
    "train_text=train_data['request_text'].as_matrix()\n",
    "train_title=train_data['request_title'].as_matrix()\n",
    "# train_all = train_text+train_title\n",
    "\n",
    "dev_text=dev_data['request_text'].as_matrix()\n",
    "dev_title=dev_data['request_title'].as_matrix()\n",
    "# dev_all = dev_text+dev_title\n",
    "\n",
    "# train_all=train_all.reshape(3975,1)\n",
    "# dev_all=dev_all.reshape(len(dev_all),1)"
   ]
  },
  {
   "cell_type": "code",
   "execution_count": 6,
   "metadata": {
    "collapsed": false
   },
   "outputs": [],
   "source": [
    "# print(train_all.shape)\n",
    "# print(dev_all.shape)\n",
    "# print(train_all[1])\n",
    "# print(train_text.shape)\n",
    "train_all=np.empty((len(train_text),2),dtype=str)\n",
    "train_all[:,0]=train_text\n",
    "train_all[:,1]=train_title\n",
    "\n",
    "dev_all=np.empty((len(dev_text),2),dtype=str)\n",
    "dev_all[:,0]=dev_text\n",
    "dev_all[:,1]=dev_title\n"
   ]
  },
  {
   "cell_type": "code",
   "execution_count": 7,
   "metadata": {
    "collapsed": false
   },
   "outputs": [
    {
     "name": "stdout",
     "output_type": "stream",
     "text": [
      "(3975, 2)\n",
      "(1696, 2)\n",
      "I'm not in College, or a starving artist or anything like that. I've just been a bit unlucky lately. I'm a 36 year old single guy with a job. But rent, and other bills killed me this month. I thought I had enough funds in my account to at least keep me set with Mr. Noodles, I forgot about my monthly banking fee.\n",
      "\n",
      "I had a small bag of chips Wednesday afternoon, and I get paid Monday, so I'll be fine then.. It's just really painful at this point and food is something I'm constantly thinking about.\n",
      "\n",
      "I've got a few bucks to get on the bus to work on Saturday, so I can't really use that.\n",
      "\n",
      "I'm really embarrassed to even be asking like this and I'm not sure how it works, so please be patient with me.\n",
      "\n",
      "I guess that covers it. Thank you in advance.\n",
      "\n",
      "Cheers folks.\n"
     ]
    }
   ],
   "source": [
    "print(train_all.shape)\n",
    "print(dev_all.shape)\n",
    "print(train_text[0])"
   ]
  },
  {
   "cell_type": "markdown",
   "metadata": {},
   "source": [
    "####helper method"
   ]
  },
  {
   "cell_type": "code",
   "execution_count": 8,
   "metadata": {
    "collapsed": true
   },
   "outputs": [],
   "source": [
    "#Roc curve:\n",
    "from sklearn.metrics import roc_curve, auc\n",
    "\n",
    "def model_output(pred_probas, F_Score, preds):\n",
    "\n",
    "    print (\"Logistic regression on numeric data: F-Score = %0.4f: \"%(F_Score) ) #Sum up Squared Weights\n",
    "    accuracy = np.where(preds==np.ravel(dev_labels), 1, 0).sum() / float(len(dev_labels))\n",
    "    print (\"Accuracy = %0.4f\" % (accuracy))\n",
    "    print ('accuracy_score: %f' %metrics.precision_score(dev_labels, preds))\n",
    "    print ('recall_score: %f' %metrics.recall_score(dev_labels, preds))\n",
    "    print (\"roc_auc_score:\", metrics.roc_auc_score(dev_labels, preds))\n",
    "\n",
    "#Create ROC Curve\n",
    "\n",
    "    fpr,tpr,_ = roc_curve(dev_labels, pred_probas[:,1])\n",
    "    roc_auc = metrics.auc(fpr,tpr)\n",
    "    plt.plot(fpr,tpr,label='area = %.2f' %roc_auc)\n",
    "    plt.plot([0, 1], [0, 1], 'k--')\n",
    "    plt.xlim([0.0, 1.0])\n",
    "    plt.ylim([0.0, 1.05])\n",
    "    plt.legend(loc='lower right')\n",
    "    print('auc: %.2f' %roc_auc)\n",
    "    \n",
    "    plt.show()"
   ]
  },
  {
   "cell_type": "markdown",
   "metadata": {},
   "source": [
    "###Test the base model"
   ]
  },
  {
   "cell_type": "markdown",
   "metadata": {},
   "source": [
    "##Text"
   ]
  },
  {
   "cell_type": "code",
   "execution_count": 10,
   "metadata": {
    "collapsed": true
   },
   "outputs": [],
   "source": [
    "\n",
    "def first_preprocessor(s):\n",
    "    #convert to lowercase\n",
    "    s=s.lower()\n",
    "    s=re.sub(\"[,.!?:;/~*]\",\" \",s)\n",
    "    #remove duplicated 0s and 1s\n",
    "    s=re.sub(\"[0-9]*\",\"\",s)\n",
    "    #remove number longer than 5 digit\n",
    "    s=re.sub(\"[0-9]{5,}\",\"\",s)\n",
    "    #remove stem end with 'ly'\n",
    "    s=re.sub(\"ly\\s\",\" \",s)\n",
    "    #remove plural form\n",
    "    s=re.sub(\"s\\s\",\" \",s)\n",
    "    s=re.sub(\"s\\Z\",\" \",s)\n",
    "    #remove _ as the end of word\n",
    "    s=re.sub(\"[_]+\",\" \",s)\n",
    "    #remove _ as start of the word\n",
    "    s=re.sub(\"\\s[_]+\",\" \",s)\n",
    "    #remove stem end with 'ness'\n",
    "    s=re.sub(\"ness\\s\",\" \",s)\n",
    "    s=re.sub(\"ing\\s\",\" \",s)\n",
    "    #remove words that are too short\n",
    "    s=re.sub(\"\\s[0-9a-z]{1,2}\\s\",\" \",s)\n",
    "    s=re.sub(\"\\s[0-9a-z]{1,2}\\Z\",\" \",s)\n",
    "\n",
    "    return s"
   ]
  },
  {
   "cell_type": "code",
   "execution_count": 11,
   "metadata": {
    "collapsed": true
   },
   "outputs": [],
   "source": [
    "def train_log(train,dev):\n",
    "    \n",
    "    model_LG_func = LogisticRegression(penalty ='l2',C=13)\n",
    "    model_LG_func.fit(train, np.ravel(train_labels))\n",
    "\n",
    "#     print('f1_score: %f' %metrics.f1_score(dev_labels,train.predict(dev),average='binary'))\n",
    "#     print('precision_score: %f' %metrics.precision_score(dev_labels,train.predict(dev)))\n",
    "#     print('recall_score: %f' %metrics.recall_score(dev_labels,model_LG.predict(dev)))\n",
    "#     print('accuracy_score: %f' %metrics.accuracy_score(dev_labels,model_LG.predict(dev_matrix_process_text)))\n",
    "\n",
    "    preds = model_LG_func.predict(dev)\n",
    "    F_Score = metrics.f1_score(dev_labels, preds, average='binary')\n",
    "    pred_probas = model_LG_func.predict_proba(dev)\n",
    "\n",
    "    #Call to display outputs\n",
    "    model_output(pred_probas, F_Score, preds)\n",
    "    fpr,tpr,_ = roc_curve(dev_labels, pred_probas[:,1])\n",
    "    roc_auc = metrics.auc(fpr,tpr)\n",
    "    print(roc_auc)"
   ]
  },
  {
   "cell_type": "markdown",
   "metadata": {},
   "source": [
    "###CountVector"
   ]
  },
  {
   "cell_type": "code",
   "execution_count": 77,
   "metadata": {
    "collapsed": false,
    "scrolled": true
   },
   "outputs": [
    {
     "name": "stdout",
     "output_type": "stream",
     "text": [
      "WIth word prprocessing:\n",
      "\n",
      "Logistic regression on numeric data: F-Score = 0.2842: \n",
      "Accuracy = 0.6733\n",
      "accuracy_score: 0.328358\n",
      "recall_score: 0.250569\n",
      "roc_auc_score: 0.535785931358\n",
      "auc: 0.53\n"
     ]
    },
    {
     "data": {
      "image/png": "[encoded data removed]",
      "text/plain": [
       "<matplotlib.figure.Figure at 0x2b093c8>"
      ]
     },
     "metadata": {},
     "output_type": "display_data"
    },
    {
     "name": "stdout",
     "output_type": "stream",
     "text": [
      "0.52550546099\n",
      "WIthout word prprocessing:\n",
      "\n",
      "Logistic regression on numeric data: F-Score = 0.2816: \n",
      "Accuracy = 0.6781\n",
      "accuracy_score: 0.333333\n",
      "recall_score: 0.243736\n",
      "roc_auc_score: 0.536744572082\n",
      "auc: 0.53\n"
     ]
    },
    {
     "data": {
      "image/png": "[encoded data removed]",
      "text/plain": [
       "<matplotlib.figure.Figure at 0xec297b8>"
      ]
     },
     "metadata": {},
     "output_type": "display_data"
    },
    {
     "name": "stdout",
     "output_type": "stream",
     "text": [
      "0.528345139655\n"
     ]
    }
   ],
   "source": [
    "def empty_preprocessor(s):\n",
    "    return s\n",
    "\n",
    "\n",
    "vectorizer_process = CountVectorizer(preprocessor =first_preprocessor,analyzer='word',stop_words='english' )\n",
    "train_matrix_process_text= vectorizer_process.fit_transform(train_text)\n",
    "dev_matrix_process_text = vectorizer_process.transform(dev_text)\n",
    "print('WIth word prprocessing:\\n')\n",
    "train_log(train_matrix_process_text,dev_matrix_process_text)\n",
    "\n",
    "vectorizer_process = CountVectorizer(preprocessor =empty_preprocessor,analyzer='word',stop_words='english' )\n",
    "train_matrix_process_text= vectorizer_process.fit_transform(train_text)\n",
    "dev_matrix_process_text = vectorizer_process.transform(dev_text)\n",
    "print('WIthout word prprocessing:\\n')\n",
    "train_log(train_matrix_process_text,dev_matrix_process_text)\n",
    "\n",
    "# model_LG = LogisticRegression(penalty ='l2',C=12)\n",
    "# model_LG.fit(train_matrix_process_text, np.ravel(train_labels))\n",
    "\n",
    "# print('f1_score: %f' %metrics.f1_score(dev_labels,model_LG.predict(dev_matrix_process_text),average='binary'))\n",
    "# print('precision_score: %f' %metrics.precision_score(dev_labels,model_LG.predict(dev_matrix_process_text)))\n",
    "# print('recall_score: %f' %metrics.recall_score(dev_labels,model_LG.predict(dev_matrix_process_text)))\n",
    "# print('accuracy_score: %f' %metrics.accuracy_score(dev_labels,model_LG.predict(dev_matrix_process_text)))\n",
    "\n",
    "# preds = model_LG.predict(dev_matrix_process_text)\n",
    "# F_Score = metrics.f1_score(dev_labels, preds, average='binary')\n",
    "# pred_probas = model_LG.predict_proba(dev_matrix_process_text)\n",
    "\n",
    "# #Call to display outputs\n",
    "# model_output(pred_probas, F_Score, preds)\n",
    "\n"
   ]
  },
  {
   "cell_type": "markdown",
   "metadata": {},
   "source": [
    "##TF-IDF"
   ]
  },
  {
   "cell_type": "code",
   "execution_count": 78,
   "metadata": {
    "collapsed": false,
    "scrolled": true
   },
   "outputs": [
    {
     "name": "stdout",
     "output_type": "stream",
     "text": [
      "Logistic regression on numeric data: F-Score = 0.2036: \n",
      "Accuracy = 0.6910\n",
      "accuracy_score: 0.305936\n",
      "recall_score: 0.152620\n",
      "roc_auc_score: 0.515848378919\n",
      "auc: 0.58\n"
     ]
    },
    {
     "data": {
      "image/png": "[encoded data removed]",
      "text/plain": [
       "<matplotlib.figure.Figure at 0x46c5860>"
      ]
     },
     "metadata": {},
     "output_type": "display_data"
    },
    {
     "name": "stdout",
     "output_type": "stream",
     "text": [
      "0.577458714117\n"
     ]
    },
    {
     "data": {
      "text/plain": [
       "LogisticRegression(C=1, class_weight=None, dual=False, fit_intercept=True,\n",
       "          intercept_scaling=1, max_iter=100, multi_class='ovr',\n",
       "          penalty='l2', random_state=None, solver='liblinear', tol=0.0001,\n",
       "          verbose=0)"
      ]
     },
     "execution_count": 78,
     "metadata": {},
     "output_type": "execute_result"
    }
   ],
   "source": [
    "def empty_preprocessor(s):\n",
    "    return s\n",
    "\n",
    "\n",
    "vectorizer_process = TfidfVectorizer(preprocessor =first_preprocessor,analyzer='word',stop_words='english' )\n",
    "train_matrix_process_text= vectorizer_process.fit_transform(train_text)\n",
    "dev_matrix_process_text = vectorizer_process.transform(dev_text)\n",
    "\n",
    "train_log(train_matrix_process_text,dev_matrix_process_text)\n",
    "\n",
    "# vectorizer_process = TfidfVectorizer(preprocessor =empty_preprocessor,analyzer='word',stop_words='english' )\n",
    "# train_matrix_process_text= vectorizer_process.fit_transform(train_text)\n",
    "# dev_matrix_process_text = vectorizer_process.transform(dev_text)\n",
    "\n",
    "# train_log(train_matrix_process_text,dev_matrix_process_text)\n",
    "\n",
    "\n",
    "model_LG = LogisticRegression(penalty ='l2',C=1)\n",
    "model_LG.fit(train_matrix_process_text, np.ravel(train_labels))\n",
    "\n",
    "# print('f1_score: %f' %metrics.f1_score(dev_labels,model_LG.predict(dev_matrix_process_text),average='binary'))\n",
    "# print('precision_score: %f' %metrics.precision_score(dev_labels,model_LG.predict(dev_matrix_process_text)))\n",
    "# print('recall_score: %f' %metrics.recall_score(dev_labels,model_LG.predict(dev_matrix_process_text)))\n",
    "# print('accuracy_score: %f' %metrics.accuracy_score(dev_labels,model_LG.predict(dev_matrix_process_text)))\n",
    "\n",
    "# preds = model_LG.predict(dev_matrix_process_text)\n",
    "# F_Score = metrics.f1_score(dev_labels, preds, average='binary')\n",
    "# pred_probas = model_LG.predict_proba(dev_matrix_process_text)\n",
    "\n",
    "# #Call to display outputs\n",
    "# model_output(pred_probas, F_Score, preds)\n",
    "# fpr,tpr,_ = roc_curve(dev_labels, pred_probas[:,1])\n",
    "# roc_auc = metrics.auc(fpr,tpr)\n",
    "# print(roc_auc)"
   ]
  },
  {
   "cell_type": "markdown",
   "metadata": {},
   "source": [
    "###take a look at the top cofficient words\n"
   ]
  },
  {
   "cell_type": "code",
   "execution_count": 19,
   "metadata": {
    "collapsed": false,
    "scrolled": true
   },
   "outputs": [
    {
     "name": "stdout",
     "output_type": "stream",
     "text": [
      "(1, 10164)\n",
      "         Feature      coef\n",
      "0        promise  0.062162\n",
      "1            ish  0.062471\n",
      "2           hunt  0.062534\n",
      "3         havent  0.062573\n",
      "4          tried  0.063643\n",
      "5            sav  0.064160\n",
      "6         butter  0.065006\n",
      "7            add  0.065180\n",
      "8             lt  0.065316\n",
      "9        comment  0.065417\n",
      "10       kindnes  0.066223\n",
      "11         payed  0.066655\n",
      "12         quick  0.066863\n",
      "13           isn  0.067062\n",
      "14   anniversary  0.067067\n",
      "15            ca  0.067622\n",
      "16        wonder  0.067628\n",
      "17     community  0.067666\n",
      "18        receiv  0.067939\n",
      "19         super  0.068247\n",
      "20          hurt  0.068444\n",
      "21         couch  0.068521\n",
      "22        guilty  0.068556\n",
      "23         needy  0.068684\n",
      "24      absolute  0.068742\n",
      "25       fiancee  0.068972\n",
      "26        dinner  0.069209\n",
      "27            gt  0.069228\n",
      "28        school  0.069246\n",
      "29          drop  0.069408\n",
      "..           ...       ...\n",
      "170       recent  0.164451\n",
      "171        great  0.166282\n",
      "172       dollar  0.166326\n",
      "173          car  0.167082\n",
      "174         best  0.177056\n",
      "175          got  0.180094\n",
      "176      current  0.180625\n",
      "177         able  0.181552\n",
      "178         like  0.184302\n",
      "179         come  0.196226\n",
      "180      forward  0.198178\n",
      "181         nice  0.200762\n",
      "182          day  0.203254\n",
      "183          job  0.205371\n",
      "184          son  0.205562\n",
      "185      request  0.212724\n",
      "186        check  0.222401\n",
      "187          pay  0.243585\n",
      "188     surprise  0.248911\n",
      "189        ramen  0.255219\n",
      "190         week  0.272208\n",
      "191        month  0.275207\n",
      "192          jpg  0.282213\n",
      "193           ve  0.287033\n",
      "194     paycheck  0.317820\n",
      "195        imgur  0.387717\n",
      "196          com  0.408915\n",
      "197         http  0.441604\n",
      "198        thank  0.460035\n",
      "199         edit  0.482933\n",
      "\n",
      "[200 rows x 2 columns]\n",
      "        Feature      coef\n",
      "0        friend -0.301155\n",
      "1          love -0.214563\n",
      "2        hungry -0.207682\n",
      "3           eat -0.205711\n",
      "4         house -0.180725\n",
      "5          sitt -0.151849\n",
      "6        little -0.140835\n",
      "7          free -0.138951\n",
      "8         broke -0.135779\n",
      "9       started -0.113032\n",
      "10      brother -0.109809\n",
      "11         live -0.105242\n",
      "12         real -0.103810\n",
      "13         noth -0.103354\n",
      "14      college -0.100557\n",
      "15        pizza -0.100481\n",
      "16         crav -0.099486\n",
      "17          bed -0.098737\n",
      "18         area -0.096035\n",
      "19         ohio -0.093004\n",
      "20           ha -0.091813\n",
      "21        sleep -0.089929\n",
      "22        study -0.088583\n",
      "23          don -0.087294\n",
      "24          won -0.086571\n",
      "25         test -0.085201\n",
      "26         play -0.082390\n",
      "27         left -0.082317\n",
      "28         morn -0.078876\n",
      "29   girlfriend -0.078532\n",
      "..          ...       ...\n",
      "170   throwaway -0.036171\n",
      "171   spaghetti -0.036143\n",
      "172   necessary -0.035967\n",
      "173       prove -0.035916\n",
      "174       kinda -0.035870\n",
      "175     closest -0.035595\n",
      "176       apple -0.035366\n",
      "177      animal -0.035129\n",
      "178       shall -0.035118\n",
      "179       sweet -0.035034\n",
      "180        sibl -0.035017\n",
      "181    pathetic -0.034948\n",
      "182       dream -0.034918\n",
      "183        cold -0.034845\n",
      "184   exhausted -0.034726\n",
      "185        fish -0.034688\n",
      "186    username -0.034634\n",
      "187       crash -0.034511\n",
      "188        wake -0.034480\n",
      "189    homework -0.034319\n",
      "190     funeral -0.034267\n",
      "191       event -0.034239\n",
      "192      turkey -0.034215\n",
      "193        navy -0.034197\n",
      "194    computer -0.034129\n",
      "195        grub -0.034118\n",
      "196        sale -0.034038\n",
      "197        pull -0.033930\n",
      "198       lucky -0.033786\n",
      "199     explain -0.033770\n",
      "\n",
      "[200 rows x 2 columns]\n"
     ]
    }
   ],
   "source": [
    "print(model_LG.coef_.shape)\n",
    "# print( abs(model_LG.coef_ [0]))\n",
    "# print(len(vectorizer_process.vocabulary_))\n",
    "# print(vectorizer_process.vocabulary_)\n",
    "\n",
    "model_LG = LogisticRegression(penalty ='l2',C=0.08)\n",
    "model_LG.fit(train_matrix_process_text, np.ravel(train_labels))\n",
    "\n",
    "index_good=np.argsort((model_LG.coef_ [0]))[-200:]\n",
    "\n",
    "df = pd.DataFrame({'Feature': np.array(vectorizer_process.get_feature_names())[index_good], 'coef': np.array(model_LG.coef_ [0])[index_good]})\n",
    "print(df)\n",
    "\n",
    "index_bad=np.argsort((model_LG.coef_ [0]))[:200]\n",
    "\n",
    "df = pd.DataFrame({'Feature': np.array(vectorizer_process.get_feature_names())[index_bad], 'coef': np.array(model_LG.coef_ [0])[index_bad]})\n",
    "print(df)\n",
    "\n",
    "\n",
    "# a=np.concatenate((np.array(vectorizer_process.get_feature_names())[index],np.array(model_LG.coef_ [0])[index]), axis=0)\n",
    "# a= np.array(vectorizer_process.get_feature_names())[index]+np.array(model_LG.coef_ [0])[index]\n",
    "# print(a)"
   ]
  },
  {
   "cell_type": "markdown",
   "metadata": {},
   "source": [
    "##Try to find the best number of words to include in the model"
   ]
  },
  {
   "cell_type": "code",
   "execution_count": 20,
   "metadata": {
    "collapsed": false
   },
   "outputs": [],
   "source": [
    "def empty_preprocessor(s):\n",
    "    return s\n",
    "\n",
    "def train_tf_idf(dicts):\n",
    "    \n",
    "    vectorizer_process_limit = TfidfVectorizer(preprocessor =first_preprocessor,analyzer='word',stop_words='english',vocabulary=dicts )\n",
    "    train_matrix_process_text= vectorizer_process_limit.fit_transform(train_text)\n",
    "    dev_matrix_process_text = vectorizer_process_limit.transform(dev_text)\n",
    "\n",
    "\n",
    "    model_LG_limit = LogisticRegression(penalty ='l2',C=13)\n",
    "    model_LG_limit.fit(train_matrix_process_text, np.ravel(train_labels))\n",
    "\n",
    "    # print('f1_score: %f' %metrics.f1_score(dev_labels,model_LG.predict(dev_matrix_process_text),average='binary'))\n",
    "    # print('precision_score: %f' %metrics.precision_score(dev_labels,model_LG.predict(dev_matrix_process_text)))\n",
    "    # print('recall_score: %f' %metrics.recall_score(dev_labels,model_LG.predict(dev_matrix_process_text)))\n",
    "    # print('accuracy_score: %f' %metrics.accuracy_score(dev_labels,model_LG.predict(dev_matrix_process_text)))\n",
    "\n",
    "    preds = model_LG_limit.predict(dev_matrix_process_text)\n",
    "    F_Score = metrics.f1_score(dev_labels, preds, average='binary')\n",
    "    pred_probas = model_LG_limit.predict_proba(dev_matrix_process_text)\n",
    "\n",
    "    #Call to display outputs\n",
    "#     model_output(pred_probas, F_Score, preds)\n",
    "    fpr,tpr,_ = roc_curve(dev_labels, pred_probas[:,1])\n",
    "    roc_auc = metrics.auc(fpr,tpr)\n",
    "    return roc_auc"
   ]
  },
  {
   "cell_type": "code",
   "execution_count": 21,
   "metadata": {
    "collapsed": false,
    "scrolled": true
   },
   "outputs": [],
   "source": [
    "auc=[]\n",
    "idx=[]\n",
    "for i in range(100,4000,40):\n",
    "    index_good=np.argsort((model_LG.coef_ [0]))[-i:]\n",
    "    index_bad=np.argsort((model_LG.coef_ [0]))[:i]\n",
    "    dicts=[]\n",
    "    dicts=list(np.array(vectorizer_process.get_feature_names())[index_good])+list(np.array(vectorizer_process.get_feature_names())[index_bad])\n",
    "    auc.append(train_tf_idf(dicts))\n",
    "    idx.append(i)\n",
    "\n",
    "\n",
    " \n",
    "    \n"
   ]
  },
  {
   "cell_type": "code",
   "execution_count": 22,
   "metadata": {
    "collapsed": false
   },
   "outputs": [
    {
     "name": "stdout",
     "output_type": "stream",
     "text": [
      "[50 56 30 55 57 51 31 52 54 86 81 58 80 87 85 60 84 38 36 65 82 32 53 49 89\n",
      " 29 59 88 61 66 62 63 83 79 37 41 67 78 64 39 33 34 68 46 35 40 74 44 70 76\n",
      " 73 77 72 71 90 45 43 75 18 69 48 95 42 92 96 28 91 47 27 16 20 93 94 17 14\n",
      " 97 19 24 21 25 23 15 26 22 13 12 10 11  9  8  7  6  2  5  1  4  0  3]\n",
      "220\n",
      "0.603130895233\n"
     ]
    },
    {
     "data": {
      "image/png": "[encoded data removed]",
      "text/plain": [
       "<matplotlib.figure.Figure at 0xf145668>"
      ]
     },
     "metadata": {},
     "output_type": "display_data"
    }
   ],
   "source": [
    "plt.plot(idx,auc)\n",
    "# plt.show()\n",
    "print(np.argsort(auc))\n",
    "print(idx[3])\n",
    "print(auc[3])\n"
   ]
  },
  {
   "cell_type": "markdown",
   "metadata": {},
   "source": [
    "####given the best number of words to include is 220, i picked the top 220 words from each side"
   ]
  },
  {
   "cell_type": "code",
   "execution_count": 23,
   "metadata": {
    "collapsed": true
   },
   "outputs": [],
   "source": [
    "for i in [220]:\n",
    "    index_good=np.argsort((model_LG.coef_ [0]))[-i:]\n",
    "    index_bad=np.argsort((model_LG.coef_ [0]))[:i]\n",
    "    dicts=[]\n",
    "    dicts=list(np.array(vectorizer_process.get_feature_names())[index_good])+list(np.array(vectorizer_process.get_feature_names())[index_bad])\n",
    "    vectorizer_process_limit = TfidfVectorizer(preprocessor =first_preprocessor,analyzer='word',stop_words='english',vocabulary=dicts )\n",
    "    train_matrix_process_text= vectorizer_process_limit.fit_transform(train_text)\n",
    "    dev_matrix_process_text = vectorizer_process_limit.transform(dev_text)"
   ]
  },
  {
   "cell_type": "code",
   "execution_count": 24,
   "metadata": {
    "collapsed": false,
    "scrolled": false
   },
   "outputs": [
    {
     "name": "stdout",
     "output_type": "stream",
     "text": [
      "Logistic regression on numeric data: F-Score = 0.2538: \n",
      "Accuracy = 0.7123\n",
      "accuracy_score: 0.386047\n",
      "recall_score: 0.189066\n",
      "roc_auc_score: 0.542027063026\n",
      "auc: 0.62\n"
     ]
    },
    {
     "data": {
      "image/png": "[encoded data removed]",
      "text/plain": [
       "<matplotlib.figure.Figure at 0xe0ebfd0>"
      ]
     },
     "metadata": {},
     "output_type": "display_data"
    },
    {
     "name": "stdout",
     "output_type": "stream",
     "text": [
      "0.616356150432\n"
     ]
    }
   ],
   "source": [
    "np.random.seed(0)\n",
    "\n",
    "# vectorizer_process = CountVectorizer(analyzer='word',stop_words='english',preprocessor = empty_preprocessor)\n",
    "# word_matrix_process= vectorizer_process.fit_transform(train_all_balance)\n",
    "# dev_matrix_process = vectorizer_process.transform(dev_all)\n",
    "\n",
    "a=train_matrix_process_text\n",
    "b=dev_matrix_process_text\n",
    "\n",
    "model_LG_L1 = LogisticRegression(penalty ='l1',C=1)#C from the above test\n",
    "model_LG_L1.fit(a, np.ravel(train_labels))\n",
    "\n",
    "#Update the new index\n",
    "index=[]\n",
    "for i,z in enumerate(np.sum(np.abs(model_LG_L1.coef_),axis=0) ):\n",
    "    if z!=0:\n",
    "        index.append(i)\n",
    "            \n",
    "model_LG = LogisticRegression(penalty ='l2',C=13)#C from the above test\n",
    "model_LG.fit(a[:,index], np.ravel(train_labels))\n",
    "\n",
    "preds = model_LG.predict(b[:,index])\n",
    "F_Score = metrics.f1_score(np.ravel(dev_labels), preds, average='binary')\n",
    "pred_probas = model_LG.predict_proba(b[:,index])\n",
    "\n",
    "#Call to display outputs\n",
    "model_output(pred_probas, F_Score, preds) #Please input pred_probas, F_Score, and prediction(preds)\n",
    "fpr,tpr,_ = roc_curve(dev_labels, pred_probas[:,1])\n",
    "roc_auc = metrics.auc(fpr,tpr)\n",
    "print (roc_auc)"
   ]
  },
  {
   "cell_type": "markdown",
   "metadata": {},
   "source": [
    "##Narrative"
   ]
  },
  {
   "cell_type": "code",
   "execution_count": 25,
   "metadata": {
    "collapsed": true
   },
   "outputs": [],
   "source": [
    "desire = re.compile(r'(friend|party|birthday|boyfriend|girlfriend|date|drinks|drunk|wasted|invite|invited|celebrate|celebrating|game|games|movie|beer|crave|craving|gf)', re.IGNORECASE)\n",
    "family = re.compile(r'(husband|wife|family|parent|parents|mother|father|mom|mum|son|dad|daughter|firstborn|Pregnancy  )', re.IGNORECASE)\n",
    "job = re.compile(r'(job|unemployment|employment|hire|hired|fired|interview|work)', re.IGNORECASE)\n",
    "money = re.compile(r'(money|bill|bills|rent|bank|account|paycheck|due|broke|bills|deposit|cash|dollar|dollars|bucks|paid|payed|buy|check|spent|financial|poor|loan|\\\n",
    "credit|budget|day|now|time|week|until|last|month|tonight|today|next|night|when|tomorrow|first|after|while|before|long|hour|Friday|ago|still|due|past|soon|current|years|never|till|yesterday|morning|evening)', re.IGNORECASE)\n",
    "student = re.compile(r'(college|student|university|finals|study|studying|class|semester|school|roommate|project|tuition|dorm)', re.IGNORECASE)\n",
    "mood = re.compile(r'(thank|thanks|thankful|appreciate|grateful|gratitude|advance)', re.IGNORECASE) \n",
    "holiday = re.compile(r'(anniversary|chirstmas)', re.IGNORECASE)   \n"
   ]
  },
  {
   "cell_type": "code",
   "execution_count": 26,
   "metadata": {
    "collapsed": true
   },
   "outputs": [],
   "source": [
    "def myfunc(a,b):\n",
    "    if len(a)==0:\n",
    "        return 0 \n",
    "    else:\n",
    "        return len(b.findall(a))/float(len(a))\n"
   ]
  },
  {
   "cell_type": "code",
   "execution_count": 27,
   "metadata": {
    "collapsed": false
   },
   "outputs": [],
   "source": [
    "narrative_all=np.ndarray(shape=(len(train_text),7),dtype=int)\n",
    "narrative_all_dev=np.ndarray(shape=(len(dev_text),7),dtype=int)\n",
    "\n",
    "for index,i in enumerate([desire,family,job,money,student,mood,holiday]):\n",
    "    \n",
    "    vfunc = np.vectorize(myfunc)\n",
    "    narrative=vfunc(train_title,i)\n",
    "    narrative_dev=vfunc(dev_title,i)\n",
    "    med=np.median(narrative)\n",
    "    narrative_all[:,index]=np.where(narrative>med,1,0)\n",
    "    narrative_all_dev[:,index]=np.where(narrative_dev>med,1,0)\n",
    "#     narrative_all[:,index]=narrative\n",
    "#     narrative_all_dev[:,index]=narrative_dev"
   ]
  },
  {
   "cell_type": "code",
   "execution_count": 28,
   "metadata": {
    "collapsed": false
   },
   "outputs": [
    {
     "name": "stdout",
     "output_type": "stream",
     "text": [
      "[[0 0 0 ..., 0 0 0]\n",
      " [0 0 0 ..., 1 0 0]\n",
      " [0 0 0 ..., 0 0 0]\n",
      " ..., \n",
      " [0 0 0 ..., 0 0 0]\n",
      " [0 0 0 ..., 0 0 0]\n",
      " [0 0 0 ..., 0 0 0]]\n"
     ]
    }
   ],
   "source": [
    "print(narrative_all)"
   ]
  },
  {
   "cell_type": "code",
   "execution_count": 29,
   "metadata": {
    "collapsed": false,
    "scrolled": false
   },
   "outputs": [
    {
     "name": "stdout",
     "output_type": "stream",
     "text": [
      "(3975, 447)\n",
      "Logistic regression on numeric data: F-Score = 0.2731: \n",
      "Accuracy = 0.7176\n",
      "accuracy_score: 0.409091\n",
      "recall_score: 0.205011\n",
      "roc_auc_score: 0.550795273122\n",
      "auc: 0.62\n"
     ]
    },
    {
     "data": {
      "image/png": "[encoded data removed]",
      "text/plain": [
       "<matplotlib.figure.Figure at 0x963ce80>"
      ]
     },
     "metadata": {},
     "output_type": "display_data"
    },
    {
     "name": "stdout",
     "output_type": "stream",
     "text": [
      "0.618752752241\n"
     ]
    }
   ],
   "source": [
    "train_narrative=np.concatenate((train_matrix_process_text.toarray(), narrative_all), axis=1)\n",
    "dev_narrative=np.concatenate((dev_matrix_process_text.toarray(), narrative_all_dev), axis=1)\n",
    "\n",
    "print(train_narrative.shape)\n",
    "# train_log(train_matrix_process_text,dev_matrix_process_text)\n",
    "# train_log(train_narrative,dev_narrative)\n",
    "np.random.seed(0)\n",
    "\n",
    "# vectorizer_process = CountVectorizer(analyzer='word',stop_words='english',preprocessor = empty_preprocessor)\n",
    "# word_matrix_process= vectorizer_process.fit_transform(train_all_balance)\n",
    "# dev_matrix_process = vectorizer_process.transform(dev_all)\n",
    "\n",
    "a=train_narrative\n",
    "b=dev_narrative\n",
    "\n",
    "model_LG_L1 = LogisticRegression(penalty ='l1',C=1)#C from the above test\n",
    "model_LG_L1.fit(a, np.ravel(train_labels))\n",
    "\n",
    "#Update the new index\n",
    "index=[]\n",
    "for i,z in enumerate(np.sum(np.abs(model_LG_L1.coef_),axis=0) ):\n",
    "    if z!=0:\n",
    "        index.append(i)\n",
    "            \n",
    "model_LG = LogisticRegression(penalty ='l2',C=13)#C from the above test\n",
    "model_LG.fit(a[:,index], np.ravel(train_labels))\n",
    "\n",
    "preds = model_LG.predict(b[:,index])\n",
    "F_Score = metrics.f1_score(np.ravel(dev_labels), preds, average='binary')\n",
    "pred_probas = model_LG.predict_proba(b[:,index])\n",
    "\n",
    "#Call to display outputs\n",
    "model_output(pred_probas, F_Score, preds) #Please input pred_probas, F_Score, and prediction(preds)\n",
    "fpr,tpr,_ = roc_curve(dev_labels, pred_probas[:,1])\n",
    "roc_auc = metrics.auc(fpr,tpr)\n",
    "print (roc_auc)"
   ]
  },
  {
   "cell_type": "markdown",
   "metadata": {},
   "source": [
    "##excl_marks\n"
   ]
  },
  {
   "cell_type": "code",
   "execution_count": 30,
   "metadata": {
    "collapsed": false
   },
   "outputs": [],
   "source": [
    "exclmarks = re.compile(r'(!)', re.M)\n",
    "# holiday    = re.compile(r'(anniversary|chirstmas)', re.IGNORECASE)   \n",
    "excl_marks=np.ndarray(shape=(len(train_text),1),dtype=int)\n",
    "excl_marks_dev=np.ndarray(shape=(len(dev_text),1),dtype=int)\n",
    "\n",
    "for index,i in enumerate([exclmarks]):\n",
    "    \n",
    "    vfunc = np.vectorize(myfunc)\n",
    "    narrative=vfunc(train_title+train_text,i)\n",
    "    narrative_dev=vfunc(dev_title+dev_text,i)\n",
    "#     med=np.median(narrative)\n",
    "    excl_marks[:,index]=np.where(narrative>0,1,0)\n",
    "    excl_marks_dev[:,index]=np.where(narrative_dev>0,1,0)"
   ]
  },
  {
   "cell_type": "code",
   "execution_count": 31,
   "metadata": {
    "collapsed": false
   },
   "outputs": [
    {
     "name": "stdout",
     "output_type": "stream",
     "text": [
      "(3975, 448)\n",
      "Logistic regression on numeric data: F-Score = 0.2770: \n",
      "Accuracy = 0.7199\n",
      "accuracy_score: 0.417431\n",
      "recall_score: 0.207289\n",
      "roc_auc_score: 0.553127542708\n",
      "auc: 0.62\n"
     ]
    },
    {
     "data": {
      "image/png": "[encoded data removed]",
      "text/plain": [
       "<matplotlib.figure.Figure at 0xe0ebb38>"
      ]
     },
     "metadata": {},
     "output_type": "display_data"
    },
    {
     "name": "stdout",
     "output_type": "stream",
     "text": [
      "0.619042700286\n"
     ]
    }
   ],
   "source": [
    "train_narrative_excl=np.concatenate((train_narrative, excl_marks), axis=1)\n",
    "dev_narrative_excl=np.concatenate((dev_narrative, excl_marks_dev), axis=1)\n",
    "print(train_narrative_excl.shape)\n",
    "# train_log(train_matrix_process_text,dev_matrix_process_text)\n",
    "# train_log(train_narrative,dev_narrative)\n",
    "np.random.seed(0)\n",
    "\n",
    "# vectorizer_process = CountVectorizer(analyzer='word',stop_words='english',preprocessor = empty_preprocessor)\n",
    "# word_matrix_process= vectorizer_process.fit_transform(train_all_balance)\n",
    "# dev_matrix_process = vectorizer_process.transform(dev_all)\n",
    "\n",
    "a=train_narrative_excl\n",
    "b=dev_narrative_excl\n",
    "\n",
    "model_LG_L1 = LogisticRegression(penalty ='l1',C=1)#C from the above test\n",
    "model_LG_L1.fit(a, np.ravel(train_labels))\n",
    "\n",
    "#Update the new index\n",
    "index=[]\n",
    "for i,z in enumerate(np.sum(np.abs(model_LG_L1.coef_),axis=0) ):\n",
    "    if z!=0:\n",
    "        index.append(i)\n",
    "            \n",
    "model_LG = LogisticRegression(penalty ='l2',C=13)#C from the above test\n",
    "model_LG.fit(a[:,index], np.ravel(train_labels))\n",
    "\n",
    "preds = model_LG.predict(b[:,index])\n",
    "F_Score = metrics.f1_score(np.ravel(dev_labels), preds, average='binary')\n",
    "pred_probas = model_LG.predict_proba(b[:,index])\n",
    "\n",
    "#Call to display outputs\n",
    "model_output(pred_probas, F_Score, preds) #Please input pred_probas, F_Score, and prediction(preds)\n",
    "fpr,tpr,_ = roc_curve(dev_labels, pred_probas[:,1])\n",
    "roc_auc = metrics.auc(fpr,tpr)\n",
    "print (roc_auc)"
   ]
  },
  {
   "cell_type": "code",
   "execution_count": 32,
   "metadata": {
    "collapsed": false
   },
   "outputs": [],
   "source": [
    "train_caps = train_data['request_title'].apply(lambda x: np.where(sum(1 for c in re.split('\\W+',x) if c.isupper() and len(c) > 5) > 0, 1,0)).as_matrix()\n",
    "dev_caps = dev_data['request_title'].apply(lambda x: np.where(sum(1 for c in re.split('\\W+',x) if c.isupper() and len(c) > 5) > 0, 1,0)).as_matrix()\n"
   ]
  },
  {
   "cell_type": "code",
   "execution_count": 33,
   "metadata": {
    "collapsed": false
   },
   "outputs": [],
   "source": [
    "train_caps=train_caps.reshape(len(train_caps),1) \n",
    "dev_caps=dev_caps.reshape(len(dev_caps),1) \n",
    "# train_narrative_excl_cap.shape\n",
    "# train_cap.shape\n",
    "# train_narrative_excl_cap.shape"
   ]
  },
  {
   "cell_type": "code",
   "execution_count": 34,
   "metadata": {
    "collapsed": false
   },
   "outputs": [
    {
     "name": "stdout",
     "output_type": "stream",
     "text": [
      "(3975, 449)\n",
      "Logistic regression on numeric data: F-Score = 0.2774: \n",
      "Accuracy = 0.7205\n",
      "accuracy_score: 0.419355\n",
      "recall_score: 0.207289\n",
      "roc_auc_score: 0.553525315183\n",
      "auc: 0.62\n"
     ]
    },
    {
     "data": {
      "image/png": "[encoded data removed]",
      "text/plain": [
       "<matplotlib.figure.Figure at 0xdd30ba8>"
      ]
     },
     "metadata": {},
     "output_type": "display_data"
    },
    {
     "name": "stdout",
     "output_type": "stream",
     "text": [
      "0.619158679504\n"
     ]
    }
   ],
   "source": [
    "train_narrative_excl_cap=np.concatenate((train_narrative_excl, train_caps), axis=1)\n",
    "dev_narrative_excl_cap=np.concatenate((dev_narrative_excl, dev_caps), axis=1)\n",
    "print(train_narrative_excl_cap.shape)\n",
    "# train_log(train_matrix_process_text,dev_matrix_process_text)\n",
    "# train_log(train_narrative,dev_narrative)\n",
    "np.random.seed(0)\n",
    "\n",
    "# vectorizer_process = CountVectorizer(analyzer='word',stop_words='english',preprocessor = empty_preprocessor)\n",
    "# word_matrix_process= vectorizer_process.fit_transform(train_all_balance)\n",
    "# dev_matrix_process = vectorizer_process.transform(dev_all)\n",
    "\n",
    "a=train_narrative_excl_cap\n",
    "b=dev_narrative_excl_cap\n",
    "\n",
    "model_LG_L1 = LogisticRegression(penalty ='l1',C=1)#C from the above test\n",
    "model_LG_L1.fit(a, np.ravel(train_labels))\n",
    "\n",
    "#Update the new index\n",
    "index=[]\n",
    "for i,z in enumerate(np.sum(np.abs(model_LG_L1.coef_),axis=0) ):\n",
    "    if z!=0:\n",
    "        index.append(i)\n",
    "            \n",
    "model_LG = LogisticRegression(penalty ='l2',C=13)#C from the above test\n",
    "model_LG.fit(a[:,index], np.ravel(train_labels))\n",
    "\n",
    "preds = model_LG.predict(b[:,index])\n",
    "F_Score = metrics.f1_score(np.ravel(dev_labels), preds, average='binary')\n",
    "pred_probas = model_LG.predict_proba(b[:,index])\n",
    "\n",
    "#Call to display outputs\n",
    "model_output(pred_probas, F_Score, preds) #Please input pred_probas, F_Score, and prediction(preds)\n",
    "fpr,tpr,_ = roc_curve(dev_labels, pred_probas[:,1])\n",
    "roc_auc = metrics.auc(fpr,tpr)\n",
    "print (roc_auc)"
   ]
  },
  {
   "cell_type": "code",
   "execution_count": 73,
   "metadata": {
    "collapsed": false
   },
   "outputs": [
    {
     "name": "stdout",
     "output_type": "stream",
     "text": [
      "(3975, 449)\n",
      "0.644384159413\n",
      "Logistic regression on numeric data: F-Score = 0.0393: \n",
      "Accuracy = 0.7406\n",
      "accuracy_score: 0.473684\n",
      "recall_score: 0.020501\n",
      "roc_auc_score: 0.506272844735\n",
      "auc: 0.64\n"
     ]
    },
    {
     "data": {
      "image/png": "[encoded data removed]",
      "text/plain": [
       "<matplotlib.figure.Figure at 0xe4c8438>"
      ]
     },
     "metadata": {},
     "output_type": "display_data"
    }
   ],
   "source": [
    "train_narrative_excl_cap=np.concatenate((train_narrative_excl, train_caps), axis=1)\n",
    "dev_narrative_excl_cap=np.concatenate((dev_narrative_excl, dev_caps), axis=1)\n",
    "print(train_narrative_excl_cap.shape)\n",
    "# train_log(train_matrix_process_text,dev_matrix_process_text)\n",
    "# train_log(train_narrative,dev_narrative)\n",
    "np.random.seed(0)\n",
    "\n",
    "# vectorizer_process = CountVectorizer(analyzer='word',stop_words='english',preprocessor = empty_preprocessor)\n",
    "# word_matrix_process= vectorizer_process.fit_transform(train_all_balance)\n",
    "# dev_matrix_process = vectorizer_process.transform(dev_all)\n",
    "\n",
    "a=train_narrative_excl_cap\n",
    "b=dev_narrative_excl_cap\n",
    "\n",
    "model_LG_L1 = LogisticRegression(penalty ='l1',C=1)#C from the above test\n",
    "model_LG_L1.fit(a, np.ravel(train_labels))\n",
    "\n",
    "#Update the new index\n",
    "index=[]\n",
    "for i,z in enumerate(np.sum(np.abs(model_LG_L1.coef_),axis=0) ):\n",
    "    if z!=0:\n",
    "        index.append(i)\n",
    "            \n",
    "model_LG = LogisticRegression(penalty ='l2',C=0.26)#C from the above test\n",
    "model_LG.fit(a[:,index], np.ravel(train_labels))\n",
    "\n",
    "preds = model_LG.predict(b[:,index])\n",
    "F_Score = metrics.f1_score(np.ravel(dev_labels), preds, average='binary')\n",
    "pred_probas = model_LG.predict_proba(b[:,index])\n",
    "\n",
    "#Call to display outputs\n",
    "\n",
    "fpr,tpr,_ = roc_curve(dev_labels, pred_probas[:,1])\n",
    "roc_auc = metrics.auc(fpr,tpr)\n",
    "print (roc_auc)\n",
    "model_output(pred_probas, F_Score, preds) #Please input pred_probas, F_Score, and prediction(preds)\n"
   ]
  },
  {
   "cell_type": "code",
   "execution_count": 38,
   "metadata": {
    "collapsed": false,
    "scrolled": true
   },
   "outputs": [
    {
     "name": "stdout",
     "output_type": "stream",
     "text": [
      "(3975, 449)\n"
     ]
    }
   ],
   "source": [
    "train_narrative_excl_cap=np.concatenate((train_narrative_excl, train_caps), axis=1)\n",
    "dev_narrative_excl_cap=np.concatenate((dev_narrative_excl, dev_caps), axis=1)\n",
    "print(train_narrative_excl_cap.shape)\n",
    "# train_log(train_matrix_process_text,dev_matrix_process_text)\n",
    "# train_log(train_narrative,dev_narrative)\n",
    "np.random.seed(0)\n",
    "\n",
    "# vectorizer_process = CountVectorizer(analyzer='word',stop_words='english',preprocessor = empty_preprocessor)\n",
    "# word_matrix_process= vectorizer_process.fit_transform(train_all_balance)\n",
    "# dev_matrix_process = vectorizer_process.transform(dev_all)\n",
    "\n",
    "a=train_narrative_excl_cap\n",
    "b=dev_narrative_excl_cap\n",
    "\n",
    "auc=[]\n",
    "c1=[]\n",
    "c2=[]\n",
    "for i in np.arange(0.1,3,0.1):\n",
    "    for j in np.arange(0.1,5,0.1):\n",
    "        \n",
    "        model_LG_L1 = LogisticRegression(penalty ='l1',C=i)#C from the above test 0.7\n",
    "        model_LG_L1.fit(a, np.ravel(train_labels))\n",
    "\n",
    "        #Update the new index\n",
    "        index=[]\n",
    "        for i,z in enumerate(np.sum(np.abs(model_LG_L1.coef_),axis=0) ):\n",
    "            if z!=0:\n",
    "                index.append(i)\n",
    "\n",
    "        model_LG = LogisticRegression(penalty ='l2',C=j)#C from the above test 0.3\n",
    "        model_LG.fit(a[:,index], np.ravel(train_labels))\n",
    "\n",
    "        preds = model_LG.predict(b[:,index])\n",
    "        F_Score = metrics.f1_score(np.ravel(dev_labels), preds, average='binary')\n",
    "        pred_probas = model_LG.predict_proba(b[:,index])\n",
    "\n",
    "        #Call to display outputs\n",
    "    #     model_output(pred_probas, F_Score, preds) #Please input pred_probas, F_Score, and prediction(preds)\n",
    "        fpr,tpr,_ = roc_curve(dev_labels, pred_probas[:,1])\n",
    "        roc_auc = metrics.auc(fpr,tpr)\n",
    "        auc.append(roc_auc)\n",
    "        c1.append(i)\n",
    "        c2.append(j)"
   ]
  },
  {
   "cell_type": "markdown",
   "metadata": {},
   "source": [
    "#PLEASE STOP HERE\n",
    "\n",
    "###The below code is only an appendix of what I have tested previously"
   ]
  },
  {
   "cell_type": "markdown",
   "metadata": {},
   "source": [
    "##Title"
   ]
  },
  {
   "cell_type": "code",
   "execution_count": null,
   "metadata": {
    "collapsed": false
   },
   "outputs": [],
   "source": [
    "def empty_preprocessor(s):\n",
    "    return s\n",
    "\n",
    "\n",
    "    \n",
    "vectorizer_process_title = TfidfVectorizer(preprocessor =first_preprocessor,analyzer='word',stop_words='english' )\n",
    "train_matrix_process_title= vectorizer_process_title.fit_transform(train_title)\n",
    "dev_matrix_process_title = vectorizer_process_title.transform(dev_title)\n",
    "\n",
    "\n",
    "model_LG_title = LogisticRegression(penalty ='l2',C=12)\n",
    "model_LG_title.fit(train_matrix_process_title, np.ravel(train_labels))\n",
    "\n",
    "# print('f1_score: %f' %metrics.f1_score(dev_labels,model_LG.predict(dev_matrix_process_text),average='binary'))\n",
    "# print('precision_score: %f' %metrics.precision_score(dev_labels,model_LG.predict(dev_matrix_process_text)))\n",
    "# print('recall_score: %f' %metrics.recall_score(dev_labels,model_LG.predict(dev_matrix_process_text)))\n",
    "# print('accuracy_score: %f' %metrics.accuracy_score(dev_labels,model_LG.predict(dev_matrix_process_text)))\n",
    "\n",
    "preds = model_LG_title.predict(dev_matrix_process_title)\n",
    "F_Score = metrics.f1_score(dev_labels, preds, average='binary')\n",
    "pred_probas = model_LG_title.predict_proba(dev_matrix_process_title)\n",
    "\n",
    "#Call to display outputs\n",
    "model_output(pred_probas, F_Score, preds)\n",
    "fpr,tpr,_ = roc_curve(dev_labels, pred_probas[:,1])\n",
    "roc_auc = metrics.auc(fpr,tpr)\n",
    "\n",
    "\n"
   ]
  },
  {
   "cell_type": "code",
   "execution_count": 199,
   "metadata": {
    "collapsed": false,
    "scrolled": true
   },
   "outputs": [
    {
     "name": "stdout",
     "output_type": "stream",
     "text": [
      "(1, 5325)\n",
      "<class 'numpy.ndarray'>\n",
      "(200,)\n",
      "         Feature      coef\n",
      "0     variations  2.599917\n",
      "1           woke  2.607606\n",
      "2          plain  2.609249\n",
      "3      Shoreline  2.614414\n",
      "4        suppose  2.616475\n",
      "5           Laid  2.617343\n",
      "6      northwest  2.618045\n",
      "7        Madison  2.621659\n",
      "8         Paypal  2.625995\n",
      "9          spend  2.629419\n",
      "10            15  2.629707\n",
      "11          Bday  2.631496\n",
      "12      provider  2.637658\n",
      "13            Be  2.638079\n",
      "14        Lonely  2.638260\n",
      "15          city  2.640188\n",
      "16         layed  2.645624\n",
      "17       cooking  2.645841\n",
      "18           PTO  2.646531\n",
      "19      northern  2.649818\n",
      "20        Castle  2.653504\n",
      "21            26  2.661185\n",
      "22         Round  2.663817\n",
      "23       Midland  2.665807\n",
      "24           Ann  2.667911\n",
      "25         Arbor  2.667911\n",
      "26         Porto  2.669798\n",
      "27      Portugal  2.669798\n",
      "28        lights  2.677325\n",
      "29    roundabout  2.678541\n",
      "..           ...       ...\n",
      "170           10  3.654849\n",
      "171        Cloud  3.664586\n",
      "172          ago  3.705891\n",
      "173      spoiled  3.706620\n",
      "174     shoulder  3.712545\n",
      "175     romantic  3.717713\n",
      "176    Pregnancy  3.728579\n",
      "177    Flagstaff  3.737665\n",
      "178      cookout  3.740247\n",
      "179       author  3.749126\n",
      "180         Late  3.767739\n",
      "181     Kentucky  3.773863\n",
      "182         didn  3.812494\n",
      "183      Arizona  3.829988\n",
      "184    southwest  3.831196\n",
      "185          lot  3.937967\n",
      "186     Kingston  3.979451\n",
      "187        sucks  3.995835\n",
      "188         hang  4.012302\n",
      "189        Metro  4.025928\n",
      "190        Ranch  4.098611\n",
      "191    firstborn  4.163086\n",
      "192        awful  4.368223\n",
      "193       return  4.382844\n",
      "194  anniversary  4.476987\n",
      "195          ask  4.641234\n",
      "196          Kid  4.754698\n",
      "197       asking  4.810765\n",
      "198    Christmas  4.929290\n",
      "199         flat  5.206817\n",
      "\n",
      "[200 rows x 2 columns]\n",
      "          Feature      coef\n",
      "0           slice -3.516080\n",
      "1            want -3.400609\n",
      "2            Post -3.330826\n",
      "3              11 -3.297453\n",
      "4          Thanks -3.294538\n",
      "5            soon -3.292787\n",
      "6         Houston -3.141558\n",
      "7          school -3.133844\n",
      "8          Please -3.122065\n",
      "9         thought -3.014083\n",
      "10         Wallet -2.946016\n",
      "11       Colorado -2.919777\n",
      "12      Extremely -2.893392\n",
      "13           Been -2.845344\n",
      "14           date -2.820761\n",
      "15         reason -2.797535\n",
      "16           Want -2.779207\n",
      "17             gf -2.735369\n",
      "18            fed -2.719921\n",
      "19          extra -2.711640\n",
      "20          times -2.699260\n",
      "21             BC -2.689099\n",
      "22            Car -2.650275\n",
      "23          debit -2.645467\n",
      "24          weird -2.621900\n",
      "25            cat -2.613294\n",
      "26   unemployment -2.604553\n",
      "27          short -2.595652\n",
      "28          order -2.585211\n",
      "29           hope -2.581482\n",
      "..            ...       ...\n",
      "170  marshmallows -1.765419\n",
      "171          Days -1.764921\n",
      "172          step -1.764089\n",
      "173       filling -1.762599\n",
      "174       Shorted -1.759990\n",
      "175     koreatown -1.751347\n",
      "176          eggs -1.750441\n",
      "177         state -1.745033\n",
      "178            RI -1.735183\n",
      "179       midterm -1.730971\n",
      "180       wanting -1.730603\n",
      "181      verified -1.729738\n",
      "182        Dakota -1.729261\n",
      "183       started -1.728615\n",
      "184          Reno -1.724034\n",
      "185        fuckin -1.722632\n",
      "186           EST -1.717956\n",
      "187            ky -1.712705\n",
      "188     hopefully -1.709972\n",
      "189      Auckland -1.709246\n",
      "190       Canadia -1.706694\n",
      "191       Bothell -1.704909\n",
      "192            AK -1.690912\n",
      "193       bedrest -1.687720\n",
      "194      homework -1.682915\n",
      "195        Dexter -1.681367\n",
      "196   miscarriage -1.675299\n",
      "197           Son -1.671853\n",
      "198          Cold -1.666993\n",
      "199         uncle -1.661580\n",
      "\n",
      "[200 rows x 2 columns]\n"
     ]
    }
   ],
   "source": [
    "print(model_LG_limit_title.coef_.shape)\n",
    "# print( abs(model_LG.coef_ [0]))\n",
    "# print(len(vectorizer_process.vocabulary_))\n",
    "# print(vectorizer_process.vocabulary_)\n",
    "index_good=np.argsort((model_LG_limit_title.coef_ [0]))[-200:]\n",
    "print(type(index_good))\n",
    "print(index_good.shape)\n",
    "df = pd.DataFrame({'Feature': np.array(vectorizer_process_title.get_feature_names())[index_good], 'coef': np.array(model_LG_limit_title.coef_ [0])[index_good]})\n",
    "print(df)\n",
    "\n",
    "index_bad=np.argsort((model_LG_limit_title.coef_ [0]))[:200]\n",
    "\n",
    "df = pd.DataFrame({'Feature': np.array(vectorizer_process_title.get_feature_names())[index_bad], 'coef': np.array(model_LG_limit_title.coef_ [0])[index_bad]})\n",
    "print(df)"
   ]
  },
  {
   "cell_type": "code",
   "execution_count": 195,
   "metadata": {
    "collapsed": false,
    "scrolled": true
   },
   "outputs": [
    {
     "name": "stdout",
     "output_type": "stream",
     "text": [
      "[[1322 1696 1788 1975 2266 2394 2449 2693 3169 3273 3478]\n",
      " [   0    0    0    0    0    0    0    0    0    0    0]]\n",
      "[ '[Request] Boise Idaho security guy, sure would like a slice of pepperoni. :)'\n",
      " '[REQUEST] Melting in Phoenix,AZ; Could use a slice or two as relief :D '\n",
      " \"[Request] - It's the last day of finals and I've been up for 3 days. A slice of pizza could be the extra motivation I need to finish this 20 page religion paper. Help a girl out in the Chicago area! \"\n",
      " '[REQUEST] WA USA, would like a celebratory slice while working on finals.'\n",
      " '[Request] UK, Salivating student seeks special slice'\n",
      " \"[Request] Long time lurker, plenty of sob stories but none that need to be shared. I know it's hard to get a pizza randomly but I can do things that many people might be afraid to do. I'm hoping for a slice.\"\n",
      " '[Request] Will trade professional graphic design for a tasty slice of love :)'\n",
      " '[request] Florida, would murder for a slice. '\n",
      " '[Request] Syracuse, NY.broke college student dying for a slice of cheesy tastiness.'\n",
      " '(REQUEST) St. Louis Missouri. Unemployed and could use a slice'\n",
      " '[Request] Nice cool day here in San Diego, a hot slice of pizza sounds great!']\n",
      "[[False]\n",
      " [False]\n",
      " [False]\n",
      " [False]\n",
      " [False]\n",
      " [False]\n",
      " [False]\n",
      " [False]\n",
      " [False]\n",
      " [False]\n",
      " [False]]\n"
     ]
    }
   ],
   "source": [
    "i=vectorizer_process_limit_title.vocabulary_['slice']\n",
    "a=np.array(np.nonzero(train_matrix_process_title[:,i].toarray()))\n",
    "print(a)\n",
    "print(np.array(train_title)[a[0]])\n",
    "print(np.array(train_labels)[a[0]])"
   ]
  },
  {
   "cell_type": "code",
   "execution_count": 202,
   "metadata": {
    "collapsed": false
   },
   "outputs": [],
   "source": [
    "def empty_preprocessor(s):\n",
    "    return s\n",
    "\n",
    "def train_tf_idf_title(dicts):\n",
    "    \n",
    "    vectorizer_process_limit_title = TfidfVectorizer(preprocessor =empty_preprocessor,analyzer='word',stop_words='english',vocabulary=dicts )\n",
    "    train_matrix_process_limit_title= vectorizer_process_limit_title.fit_transform(train_title)\n",
    "    dev_matrix_process_limit_title = vectorizer_process_limit_title.transform(dev_title)\n",
    "\n",
    "\n",
    "    model_LG_limit_title = LogisticRegression(penalty ='l2',C=12)\n",
    "    model_LG_limit_title.fit(train_matrix_process_limit_title, np.ravel(train_labels))\n",
    "\n",
    "    # print('f1_score: %f' %metrics.f1_score(dev_labels,model_LG.predict(dev_matrix_process_text),average='binary'))\n",
    "    # print('precision_score: %f' %metrics.precision_score(dev_labels,model_LG.predict(dev_matrix_process_text)))\n",
    "    # print('recall_score: %f' %metrics.recall_score(dev_labels,model_LG.predict(dev_matrix_process_text)))\n",
    "    # print('accuracy_score: %f' %metrics.accuracy_score(dev_labels,model_LG.predict(dev_matrix_process_text)))\n",
    "\n",
    "    preds = model_LG_limit_title.predict(dev_matrix_process_limit_title)\n",
    "    F_Score = metrics.f1_score(dev_labels, preds, average='binary')\n",
    "    pred_probas = model_LG_limit_title.predict_proba(dev_matrix_process_limit_title)\n",
    "\n",
    "    #Call to display outputs\n",
    "#     model_output(pred_probas, F_Score, preds)\n",
    "    fpr,tpr,_ = roc_curve(dev_labels, pred_probas[:,1])\n",
    "    roc_auc = metrics.auc(fpr,tpr)\n",
    "    return roc_auc\n",
    "\n",
    "\n"
   ]
  },
  {
   "cell_type": "code",
   "execution_count": 203,
   "metadata": {
    "collapsed": false
   },
   "outputs": [],
   "source": [
    "auc=[]\n",
    "idx=[]\n",
    "for i in range(50,1500,20):\n",
    "    index_good=np.argsort((model_LG_limit_title.coef_ [0]))[-i:]\n",
    "    index_bad=np.argsort((model_LG_limit_title.coef_ [0]))[:i]\n",
    "    dicts=[]\n",
    "    dicts=list(np.array(vectorizer_process_title.get_feature_names())[index_good])+list(np.array(vectorizer_process_title.get_feature_names())[index_bad])\n",
    "    auc.append(train_tf_idf_title(dicts))\n",
    "    idx.append(i)\n"
   ]
  },
  {
   "cell_type": "code",
   "execution_count": null,
   "metadata": {
    "collapsed": false
   },
   "outputs": [],
   "source": [
    "plt.plot(idx,auc)\n",
    "# plt.show()\n",
    "np.argsort(auc)\n",
    "print(idx[22])\n",
    "print(auc[22])"
   ]
  },
  {
   "cell_type": "code",
   "execution_count": null,
   "metadata": {
    "collapsed": true
   },
   "outputs": [],
   "source": []
  },
  {
   "cell_type": "markdown",
   "metadata": {},
   "source": [
    "##Combine"
   ]
  },
  {
   "cell_type": "code",
   "execution_count": 262,
   "metadata": {
    "collapsed": true
   },
   "outputs": [],
   "source": [
    "index_good=np.argsort((model_LG_limit_title.coef_ [0]))[-490:]\n",
    "index_bad=np.argsort((model_LG_limit_title.coef_ [0]))[:490]\n",
    "dicts_title=[]\n",
    "dicts_title=list(np.array(vectorizer_process_title.get_feature_names())[index_good])+list(np.array(vectorizer_process_title.get_feature_names())[index_bad])\n",
    "index_good=np.argsort((model_LG.coef_ [0]))[-2740:]\n",
    "index_bad=np.argsort((model_LG.coef_ [0]))[:2740]\n",
    "dicts_text=[]\n",
    "dicts_text=list(np.array(vectorizer_process.get_feature_names())[index_good])+list(np.array(vectorizer_process.get_feature_names())[index_bad])\n",
    "\n",
    "\n",
    "\n",
    "    "
   ]
  },
  {
   "cell_type": "code",
   "execution_count": 263,
   "metadata": {
    "collapsed": true
   },
   "outputs": [],
   "source": [
    "vectorizer_process_limit_title = TfidfVectorizer(preprocessor =empty_preprocessor,analyzer='word',stop_words='english',vocabulary=dicts_title )\n",
    "train_matrix_process_limit_title= vectorizer_process_limit_title.fit_transform(train_title)\n",
    "dev_matrix_process_limit_title = vectorizer_process_limit_title.transform(dev_title)\n",
    "\n",
    "vectorizer_process_limit_text = TfidfVectorizer(preprocessor =empty_preprocessor,analyzer='word',stop_words='english',vocabulary=dicts_text )\n",
    "train_matrix_process_text= vectorizer_process_limit_text.fit_transform(train_text)\n",
    "dev_matrix_process_text = vectorizer_process_limit_text.transform(dev_text)\n"
   ]
  },
  {
   "cell_type": "code",
   "execution_count": 264,
   "metadata": {
    "collapsed": false
   },
   "outputs": [
    {
     "name": "stdout",
     "output_type": "stream",
     "text": [
      "(3975, 980)\n",
      "(1696, 980)\n",
      "(3975, 5480)\n",
      "(1696, 5480)\n",
      "(1696, 6460)\n"
     ]
    }
   ],
   "source": [
    "print(train_matrix_process_limit_title.shape)\n",
    "print(dev_matrix_process_limit_title.shape)\n",
    "\n",
    "print(train_matrix_process_text.shape)\n",
    "print(dev_matrix_process_text.shape)\n",
    "\n",
    "train_combine=np.hstack( (train_matrix_process_limit_title.toarray(),train_matrix_process_text.toarray()))\n",
    "dev_combine=np.hstack( (dev_matrix_process_limit_title.toarray(),dev_matrix_process_text.toarray()))\n",
    "print(dev_combine.shape)\n",
    "# print(train_matrix_process_limit_title.toarray())"
   ]
  },
  {
   "cell_type": "code",
   "execution_count": 265,
   "metadata": {
    "collapsed": false
   },
   "outputs": [
    {
     "name": "stdout",
     "output_type": "stream",
     "text": [
      "Logistic regression on numeric data: F-Score = 0.2906: \n",
      "Accuracy = 0.7093\n",
      "accuracy_score: 0.394531\n",
      "recall_score: 0.230068\n",
      "roc_auc_score: 0.553379435072\n",
      "auc: 0.58\n"
     ]
    },
    {
     "data": {
      "image/png": "[encoded data removed]",
      "text/plain": [
       "<matplotlib.figure.Figure at 0xe55f710>"
      ]
     },
     "metadata": {},
     "output_type": "display_data"
    },
    {
     "name": "stdout",
     "output_type": "stream",
     "text": [
      "0.581291464836\n"
     ]
    }
   ],
   "source": [
    "model_LG_all= LogisticRegression(penalty ='l2',C=12)\n",
    "model_LG_all.fit(train_combine, np.ravel(train_labels))\n",
    "\n",
    "# print('f1_score: %f' %metrics.f1_score(dev_labels,model_LG.predict(dev_matrix_process_text),average='binary'))\n",
    "# print('precision_score: %f' %metrics.precision_score(dev_labels,model_LG.predict(dev_matrix_process_text)))\n",
    "# print('recall_score: %f' %metrics.recall_score(dev_labels,model_LG.predict(dev_matrix_process_text)))\n",
    "# print('accuracy_score: %f' %metrics.accuracy_score(dev_labels,model_LG.predict(dev_matrix_process_text)))\n",
    "\n",
    "preds = model_LG_all.predict(dev_combine)\n",
    "F_Score = metrics.f1_score(dev_labels, preds, average='binary')\n",
    "pred_probas = model_LG_all.predict_proba(dev_combine)\n",
    "\n",
    "#Call to display outputs\n",
    "model_output(pred_probas, F_Score, preds)\n",
    "fpr,tpr,_ = roc_curve(dev_labels, pred_probas[:,1])\n",
    "roc_auc = metrics.auc(fpr,tpr)\n",
    "print (roc_auc)"
   ]
  },
  {
   "cell_type": "markdown",
   "metadata": {},
   "source": [
    "###narrative"
   ]
  },
  {
   "cell_type": "code",
   "execution_count": 272,
   "metadata": {
    "collapsed": true
   },
   "outputs": [],
   "source": [
    "\n",
    "train_all = train_text+train_title\n",
    "dev_all = dev_text+dev_title"
   ]
  },
  {
   "cell_type": "code",
   "execution_count": 266,
   "metadata": {
    "collapsed": true
   },
   "outputs": [],
   "source": [
    "desire = re.compile(r'(friend|party|birthday|boyfriend|girlfriend|date|drinks|drunk|wasted|invite|invited|celebrate|celebrating|game|games|movie|beer|crave|craving)', re.IGNORECASE)\n",
    "family = re.compile(r'(husband|wife|family|parent|parents|mother|father|mom|mum|son|dad|daughter)', re.IGNORECASE)\n",
    "job = re.compile(r'(job|unemployment|employment|hire|hired|fired|interview|work|paycheck)', re.IGNORECASE)\n",
    "money = re.compile(r'(money|bill|bills|rent|bank|account|paycheck|due|broke|bills|deposit|cash|dollar|dollars|bucks|paid|payed|buy|check|spent|financial|poor|loan|\\\n",
    "credit|budget|day|now|time|week|until|last|month|tonight|today|next|night|when|tomorrow|first|after|while|before|long|hour|Friday|ago|still|due|past|soon|current|years|never|till|yesterday|morning|evening)', re.IGNORECASE)\n",
    "student = re.compile(r'(college|student|university|finals|study|studying|class|semester|school|roommate|project|tuition|dorm)', re.IGNORECASE)\n",
    "mood = re.compile(r'(thank|nice|like|best|great|surprise)', re.IGNORECASE) \n",
    "\n",
    "\n"
   ]
  },
  {
   "cell_type": "code",
   "execution_count": 269,
   "metadata": {
    "collapsed": false
   },
   "outputs": [],
   "source": [
    "def myfunc(a,b):\n",
    "    if len(a)==0:\n",
    "        return 0 \n",
    "    else:\n",
    "        return len(b.findall(a))/float(len(a))\n",
    "\n"
   ]
  },
  {
   "cell_type": "code",
   "execution_count": 273,
   "metadata": {
    "collapsed": false
   },
   "outputs": [],
   "source": [
    "narrative_all=np.ndarray(shape=(len(train_text),5),dtype=int)\n",
    "narrative_all_dev=np.ndarray(shape=(len(dev_text),5),dtype=int)\n",
    "\n",
    "for index,i in enumerate([desire,family,job,money,student]):\n",
    "    \n",
    "    vfunc = np.vectorize(myfunc)\n",
    "    narrative=vfunc(train_all,i)\n",
    "    narrative_dev=vfunc(dev_all,i)\n",
    "    med=np.median(narrative)\n",
    "    narrative_all[:,index]=np.where(narrative>med,1,0)\n",
    "    narrative_all_dev[:,index]=np.where(narrative_dev>med,1,0)\n",
    "    \n"
   ]
  },
  {
   "cell_type": "code",
   "execution_count": 286,
   "metadata": {
    "collapsed": false
   },
   "outputs": [],
   "source": [
    "\n",
    "\n",
    "# np.hstack((word_matrix_process, narrative_all))\n",
    "# word_matrix_process+narrative_all\n",
    "a=np.concatenate((train_matrix_process_text.toarray(), narrative_all), axis=1)\n",
    "b=np.concatenate((dev_matrix_process_text.toarray(), narrative_all_dev), axis=1)"
   ]
  },
  {
   "cell_type": "code",
   "execution_count": 276,
   "metadata": {
    "collapsed": false
   },
   "outputs": [
    {
     "name": "stdout",
     "output_type": "stream",
     "text": [
      "(3975, 5480)\n",
      "(1696, 5480)\n",
      "(3975, 5485)\n",
      "(1696, 5485)\n"
     ]
    }
   ],
   "source": [
    "print(train_matrix_process_text.shape) \n",
    "print(dev_matrix_process_text.shape) \n",
    "print(a.shape) \n",
    "print(b.shape) "
   ]
  },
  {
   "cell_type": "code",
   "execution_count": 317,
   "metadata": {
    "collapsed": false
   },
   "outputs": [
    {
     "name": "stdout",
     "output_type": "stream",
     "text": [
      "Logistic regression on numeric data: F-Score = 0.0223: \n",
      "Accuracy = 0.7417\n",
      "accuracy_score: 0.555556\n",
      "recall_score: 0.011390\n",
      "roc_auc_score: 0.504103670923\n",
      "auc: 0.63\n"
     ]
    },
    {
     "data": {
      "image/png": "[encoded data removed]",
      "text/plain": [
       "<matplotlib.figure.Figure at 0xc082ef0>"
      ]
     },
     "metadata": {},
     "output_type": "display_data"
    },
    {
     "name": "stdout",
     "output_type": "stream",
     "text": [
      "0.630541858531\n"
     ]
    }
   ],
   "source": [
    "def empty_preprocessor(s):\n",
    "    return s\n",
    "\n",
    "\n",
    "# vectorizer_process = CountVectorizer(preprocessor =empty_preprocessor,analyzer='word',stop_words='english' )\n",
    "# word_matrix_process= vectorizer_process.fit_transform(train_all_balance)\n",
    "# dev_matrix_process = vectorizer_process.transform(dev_all)\n",
    "\n",
    "# a=np.concatenate((word_matrix_process.toarray(), narrative_all), axis=1)\n",
    "# b=np.concatenate((dev_matrix_process.toarray(), narrative_all_dev), axis=1)\n",
    "\n",
    "model_LG = LogisticRegression(penalty ='l2',C=0.3)\n",
    "model_LG.fit(a, np.ravel(train_labels))\n",
    "\n",
    "preds = model_LG.predict(b)\n",
    "F_Score = metrics.f1_score(dev_labels, preds, average='binary')\n",
    "pred_probas = model_LG.predict_proba(b)\n",
    "\n",
    "#Call to display outputs\n",
    "model_output(pred_probas, F_Score, preds)\n",
    "fpr,tpr,_ = roc_curve(dev_labels, pred_probas[:,1])\n",
    "roc_auc = metrics.auc(fpr,tpr)\n",
    "print (roc_auc)"
   ]
  },
  {
   "cell_type": "code",
   "execution_count": 326,
   "metadata": {
    "collapsed": false
   },
   "outputs": [
    {
     "name": "stdout",
     "output_type": "stream",
     "text": [
      "Logistic regression on numeric data: F-Score = 0.0090: \n",
      "Accuracy = 0.7412\n",
      "accuracy_score: 0.500000\n",
      "recall_score: 0.004556\n",
      "roc_auc_score: 0.50148235938\n",
      "auc: 0.63\n"
     ]
    },
    {
     "data": {
      "image/png": "[encoded data removed]",
      "text/plain": [
       "<matplotlib.figure.Figure at 0x9183a20>"
      ]
     },
     "metadata": {},
     "output_type": "display_data"
    },
    {
     "name": "stdout",
     "output_type": "stream",
     "text": [
      "0.630142273881\n"
     ]
    }
   ],
   "source": [
    "np.random.seed(0)\n",
    "\n",
    "# vectorizer_process = CountVectorizer(analyzer='word',stop_words='english',preprocessor = empty_preprocessor)\n",
    "# word_matrix_process= vectorizer_process.fit_transform(train_all_balance)\n",
    "# dev_matrix_process = vectorizer_process.transform(dev_all)\n",
    "\n",
    "# a=np.concatenate((word_matrix_process.toarray(), narrative_all), axis=1)\n",
    "# b=np.concatenate((dev_matrix_process.toarray(), narrative_all_dev), axis=1)\n",
    "\n",
    "model_LG_L1 = LogisticRegression(penalty ='l1',C=14)#C from the above test\n",
    "model_LG_L1.fit(a, np.ravel(train_labels))\n",
    "\n",
    "#Update the new index\n",
    "index=[]\n",
    "for i,z in enumerate(np.sum(np.abs(model_LG_L1.coef_),axis=0) ):\n",
    "    if z!=0:\n",
    "        index.append(i)\n",
    "            \n",
    "model_LG = LogisticRegression(penalty ='l2',C=0.3)#C from the above test\n",
    "model_LG.fit(a[:,index], np.ravel(train_labels))\n",
    "\n",
    "preds = model_LG.predict(b[:,index])\n",
    "F_Score = metrics.f1_score(np.ravel(dev_labels), preds, average='binary')\n",
    "pred_probas = model_LG.predict_proba(b[:,index])\n",
    "\n",
    "#Call to display outputs\n",
    "model_output(pred_probas, F_Score, preds) #Please input pred_probas, F_Score, and prediction(preds)\n",
    "fpr,tpr,_ = roc_curve(dev_labels, pred_probas[:,1])\n",
    "roc_auc = metrics.auc(fpr,tpr)\n",
    "print (roc_auc)"
   ]
  }
 ],
 "metadata": {
  "kernelspec": {
   "display_name": "Python 3",
   "language": "python",
   "name": "python3"
  },
  "language_info": {
   "codemirror_mode": {
    "name": "ipython",
    "version": 3
   },
   "file_extension": ".py",
   "mimetype": "text/x-python",
   "name": "python",
   "nbconvert_exporter": "python",
   "pygments_lexer": "ipython3",
   "version": "3.3.5"
  }
 },
 "nbformat": 4,
 "nbformat_minor": 0
}
