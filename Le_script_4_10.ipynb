{
 "cells": [
  {
   "cell_type": "markdown",
   "metadata": {},
   "source": [
    "###Load Data\n"
   ]
  },
  {
   "cell_type": "code",
   "execution_count": 1,
   "metadata": {
    "collapsed": true
   },
   "outputs": [],
   "source": [
    "# This tells matplotlib not to try opening a new window for each plot.\n",
    "%matplotlib inline\n",
    "\n",
    "# General libraries.\n",
    "import os\n",
    "import codecs\n",
    "import json\n",
    "import csv\n",
    "\n",
    "import re\n",
    "import numpy as np\n",
    "import pandas as pd\n",
    "import matplotlib.pyplot as plt\n",
    "\n",
    "# SK-learn libraries for learning.\n",
    "from sklearn.pipeline import Pipeline\n",
    "from sklearn.neighbors import KNeighborsClassifier\n",
    "from sklearn.linear_model import LogisticRegression\n",
    "from sklearn.naive_bayes import BernoulliNB\n",
    "from sklearn.naive_bayes import MultinomialNB\n",
    "from sklearn.grid_search import GridSearchCV\n",
    "\n",
    "# SK-learn libraries for evaluation.\n",
    "from sklearn.metrics import confusion_matrix\n",
    "from sklearn import metrics\n",
    "from sklearn.metrics import classification_report\n",
    "\n",
    "# SK-learn library for importing the newsgroup data.\n",
    "from sklearn.datasets import fetch_20newsgroups\n",
    "\n",
    "# SK-learn libraries for feature extraction from text.\n",
    "from sklearn.feature_extraction.text import *"
   ]
  },
  {
   "cell_type": "code",
   "execution_count": 11,
   "metadata": {
    "collapsed": false,
    "scrolled": true
   },
   "outputs": [
    {
     "name": "stdout",
     "output_type": "stream",
     "text": [
      "type(X) <class 'pandas.core.frame.DataFrame'>\n",
      "train_labels\n",
      "----------\n",
      "['requester_received_pizza']\n",
      "(3975, 1)\n",
      "train_data\n",
      "----------\n",
      "['giver_username_if_known', 'in_test_set', 'number_of_downvotes_of_request_at_retrieval', 'number_of_upvotes_of_request_at_retrieval', 'post_was_edited', 'request_id', 'request_number_of_comments_at_retrieval', 'request_text', 'request_text_edit_aware', 'request_title', 'requester_account_age_in_days_at_request', 'requester_account_age_in_days_at_retrieval', 'requester_days_since_first_post_on_raop_at_request', 'requester_days_since_first_post_on_raop_at_retrieval', 'requester_number_of_comments_at_request', 'requester_number_of_comments_at_retrieval', 'requester_number_of_comments_in_raop_at_request', 'requester_number_of_comments_in_raop_at_retrieval', 'requester_number_of_posts_at_request', 'requester_number_of_posts_at_retrieval', 'requester_number_of_posts_on_raop_at_request', 'requester_number_of_posts_on_raop_at_retrieval', 'requester_number_of_subreddits_at_request', 'requester_subreddits_at_request', 'requester_upvotes_minus_downvotes_at_request', 'requester_upvotes_minus_downvotes_at_retrieval', 'requester_upvotes_plus_downvotes_at_request', 'requester_upvotes_plus_downvotes_at_retrieval', 'requester_user_flair', 'requester_username', 'unix_timestamp_of_request', 'unix_timestamp_of_request_utc']\n",
      "(3975, 32)\n",
      "dev_labels\n",
      "----------\n",
      "['requester_received_pizza']\n",
      "(1696, 1)\n",
      "dev_data\n",
      "----------\n",
      "['giver_username_if_known', 'in_test_set', 'number_of_downvotes_of_request_at_retrieval', 'number_of_upvotes_of_request_at_retrieval', 'post_was_edited', 'request_id', 'request_number_of_comments_at_retrieval', 'request_text', 'request_text_edit_aware', 'request_title', 'requester_account_age_in_days_at_request', 'requester_account_age_in_days_at_retrieval', 'requester_days_since_first_post_on_raop_at_request', 'requester_days_since_first_post_on_raop_at_retrieval', 'requester_number_of_comments_at_request', 'requester_number_of_comments_at_retrieval', 'requester_number_of_comments_in_raop_at_request', 'requester_number_of_comments_in_raop_at_retrieval', 'requester_number_of_posts_at_request', 'requester_number_of_posts_at_retrieval', 'requester_number_of_posts_on_raop_at_request', 'requester_number_of_posts_on_raop_at_retrieval', 'requester_number_of_subreddits_at_request', 'requester_subreddits_at_request', 'requester_upvotes_minus_downvotes_at_request', 'requester_upvotes_minus_downvotes_at_retrieval', 'requester_upvotes_plus_downvotes_at_request', 'requester_upvotes_plus_downvotes_at_retrieval', 'requester_user_flair', 'requester_username', 'unix_timestamp_of_request', 'unix_timestamp_of_request_utc']\n",
      "(1696, 32)\n",
      "train labels\n",
      "----------\n",
      "requester_received_pizza    0.241006\n",
      "dtype: float64\n",
      "dev labels\n",
      "----------\n",
      "requester_received_pizza    0.258844\n",
      "dtype: float64\n"
     ]
    }
   ],
   "source": [
    "# http://pandas.pydata.org/pandas-docs/stable/generated/pandas.read_json.html\n",
    "# Convert a JSON string to pandas object\n",
    "\n",
    "X = pd.read_json('./pizza_request_dataset.json')\n",
    "print (\"type(X)\", type(X))\n",
    "print\n",
    "\n",
    "# set random seed\n",
    "np.random.seed(0)\n",
    "\n",
    "# randomly assign 70% to train_data, and 30% to dev_data\n",
    "msk = np.random.rand(len(X)) <= 0.7\n",
    "train_data = X[msk]\n",
    "dev_data = X[~msk]\n",
    "\n",
    "# create output dataframe Y of train_labels\n",
    "train_labels = train_data[[\"requester_received_pizza\"]]\n",
    "\n",
    "# delete train_labels from input dataframe of train_data\n",
    "del train_data[\"requester_received_pizza\"]\n",
    "\n",
    "# create output dataframe of dev_labels\n",
    "dev_labels = dev_data[[\"requester_received_pizza\"]]\n",
    "\n",
    "# delete dev_labels from input dataframe of dev_data\n",
    "del dev_data[\"requester_received_pizza\"]\n",
    "\n",
    "# print (labels, shapes, and feature names\n",
    "print (\"train_labels\" )\n",
    "print (\"----------\")\n",
    "print (list(train_labels))\n",
    "print (train_labels.shape), \"/n\"\n",
    "print (\"train_data\" )\n",
    "print (\"----------\")\n",
    "print (list(train_data))\n",
    "print (train_data.shape), \"/n\"\n",
    "\n",
    "\n",
    "print (\"dev_labels\") \n",
    "print (\"----------\")\n",
    "print (list(dev_labels))\n",
    "print (dev_labels.shape), \"/n\"\n",
    "\n",
    "print (\"dev_data\")\n",
    "print (\"----------\")\n",
    "print (list(dev_data))\n",
    "print (dev_data.shape), \"/n\"\n",
    "\n",
    "# print (percent of train_data and dev_data whose posts led to receipt of pizza\n",
    "print (\"train labels\")\n",
    "print (\"----------\")\n",
    "print (np.mean(train_labels)), \"/n\"\n",
    "print (\"dev labels\")\n",
    "print (\"----------\")\n",
    "print (np.mean(dev_labels))"
   ]
  },
  {
   "cell_type": "markdown",
   "metadata": {},
   "source": [
    "##Prepare original and balanced training and dev data"
   ]
  },
  {
   "cell_type": "code",
   "execution_count": 63,
   "metadata": {
    "collapsed": false
   },
   "outputs": [],
   "source": [
    "train_text=train_data['request_text'].as_matrix()\n",
    "train_title=train_data['request_title'].as_matrix()\n",
    "train_all = train_text+train_title\n",
    "\n",
    "dev_text=dev_data['request_text'].as_matrix()\n",
    "dev_title=dev_data['request_title'].as_matrix()\n",
    "dev_all = dev_text+dev_title\n",
    "\n",
    "# train_all=train_all.reshape(3975,1)\n",
    "# dev_all=dev_all.reshape(len(dev_all),1)"
   ]
  },
  {
   "cell_type": "code",
   "execution_count": 65,
   "metadata": {
    "collapsed": false
   },
   "outputs": [
    {
     "name": "stdout",
     "output_type": "stream",
     "text": [
      "(3975,)\n",
      "(1696,)\n"
     ]
    }
   ],
   "source": [
    "print(train_all.shape)\n",
    "print(dev_all.shape)"
   ]
  },
  {
   "cell_type": "code",
   "execution_count": 74,
   "metadata": {
    "collapsed": true
   },
   "outputs": [],
   "source": [
    "train_no_pizza=train_all[np.ravel(train_labels)==False] \n",
    "train_pizza=train_all[np.ravel(train_labels)==True] \n",
    "train_no_pizza_labels=train_labels[np.ravel(train_labels)==False] \n",
    "train_pizza_labels=train_labels[np.ravel(train_labels)==True] \n",
    "\n",
    "train_all_balance=np.concatenate((train_no_pizza, train_pizza,train_pizza,train_pizza), axis=0)\n",
    "train_labels_balance =np.concatenate((train_no_pizza_labels, train_pizza_labels,train_pizza_labels,train_pizza_labels), axis=0)\n",
    "\n",
    "# train_all_balance=train_all_balance.reshape(len(train_all_balance),1)"
   ]
  },
  {
   "cell_type": "markdown",
   "metadata": {},
   "source": [
    "####helper method"
   ]
  },
  {
   "cell_type": "code",
   "execution_count": 66,
   "metadata": {
    "collapsed": true
   },
   "outputs": [],
   "source": [
    "#Roc curve:\n",
    "from sklearn.metrics import roc_curve, auc\n",
    "\n",
    "def model_output(pred_probas, F_Score, preds):\n",
    "\n",
    "    print (\"Logistic regression on numeric data: F-Score = %0.4f: \"%(F_Score) ) #Sum up Squared Weights\n",
    "    accuracy = np.where(preds==np.ravel(dev_labels), 1, 0).sum() / float(len(dev_labels))\n",
    "    print (\"Accuracy = %0.4f\" % (accuracy))\n",
    "    print ('accuracy_score: %f' %metrics.precision_score(dev_labels, preds))\n",
    "    print ('recall_score: %f' %metrics.recall_score(dev_labels, preds))\n",
    "    print (\"roc_auc_score:\", metrics.roc_auc_score(dev_labels, preds))\n",
    "\n",
    "#Create ROC Curve\n",
    "\n",
    "    fpr,tpr,_ = roc_curve(dev_labels, pred_probas[:,1])\n",
    "    roc_auc = auc(fpr,tpr)\n",
    "    plt.plot(fpr,tpr,label='area = %.2f' %roc_auc)\n",
    "    plt.plot([0, 1], [0, 1], 'k--')\n",
    "    plt.xlim([0.0, 1.0])\n",
    "    plt.ylim([0.0, 1.05])\n",
    "    plt.legend(loc='lower right')\n",
    "    \n",
    "    plt.show()"
   ]
  },
  {
   "cell_type": "markdown",
   "metadata": {},
   "source": [
    "###Test the base model with imbalanced and balanced dataset"
   ]
  },
  {
   "cell_type": "code",
   "execution_count": 68,
   "metadata": {
    "collapsed": false,
    "scrolled": false
   },
   "outputs": [
    {
     "name": "stdout",
     "output_type": "stream",
     "text": [
      "f1_score: 0.301158\n",
      "precision_score: 0.346154\n",
      "recall_score: 0.266515\n",
      "accuracy_score: 0.679835\n",
      "Logistic regression on numeric data: F-Score = 0.3012: \n",
      "Accuracy = 0.6798\n",
      "accuracy_score: 0.346154\n",
      "recall_score: 0.266515\n",
      "roc_auc_score: 0.545349686403\n"
     ]
    },
    {
     "data": {
      "image/png": "[encoded data removed]",
      "text/plain": [
       "<matplotlib.figure.Figure at 0x9453d68>"
      ]
     },
     "metadata": {},
     "output_type": "display_data"
    }
   ],
   "source": [
    "def empty_preprocessor(s):\n",
    "    return s\n",
    "\n",
    "\n",
    "vectorizer_process = CountVectorizer(preprocessor =empty_preprocessor,analyzer='word',stop_words='english' )\n",
    "word_matrix_process= vectorizer_process.fit_transform(train_all)\n",
    "dev_matrix_process = vectorizer_process.transform(dev_all)\n",
    "\n",
    "\n",
    "model_LG = LogisticRegression(penalty ='l2',C=12)\n",
    "model_LG.fit(word_matrix_process, np.ravel(train_labels))\n",
    "\n",
    "print('f1_score: %f' %metrics.f1_score(dev_labels,model_LG.predict(dev_matrix_process),average='binary'))\n",
    "print('precision_score: %f' %metrics.precision_score(dev_labels,model_LG.predict(dev_matrix_process)))\n",
    "print('recall_score: %f' %metrics.recall_score(dev_labels,model_LG.predict(dev_matrix_process)))\n",
    "print('accuracy_score: %f' %metrics.accuracy_score(dev_labels,model_LG.predict(dev_matrix_process)))\n",
    "\n",
    "preds = model_LG.predict(dev_matrix_process)\n",
    "F_Score = metrics.f1_score(dev_labels, preds, average='binary')\n",
    "pred_probas = model_LG.predict_proba(dev_matrix_process)\n",
    "\n",
    "#Call to display outputs\n",
    "model_output(pred_probas, F_Score, preds)\n"
   ]
  },
  {
   "cell_type": "code",
   "execution_count": 141,
   "metadata": {
    "collapsed": false
   },
   "outputs": [
    {
     "name": "stdout",
     "output_type": "stream",
     "text": [
      "f1_score: 0.314319\n",
      "precision_score: 0.321429\n",
      "recall_score: 0.307517\n",
      "accuracy_score: 0.652712\n",
      "Logistic regression on numeric data: F-Score = 0.3143: \n",
      "Accuracy = 0.6527\n",
      "accuracy_score: 0.321429\n",
      "recall_score: 0.307517\n",
      "roc_auc_score: 0.54039338701\n"
     ]
    },
    {
     "data": {
      "image/png": "[encoded data removed]",
      "text/plain": [
       "<matplotlib.figure.Figure at 0x6d6f5f8>"
      ]
     },
     "metadata": {},
     "output_type": "display_data"
    }
   ],
   "source": [
    "def empty_preprocessor(s):\n",
    "    return s\n",
    "\n",
    "\n",
    "vectorizer_process = CountVectorizer(preprocessor =empty_preprocessor,analyzer='word',stop_words='english' )\n",
    "word_matrix_process= vectorizer_process.fit_transform(train_all_balance)\n",
    "dev_matrix_process = vectorizer_process.transform(dev_all)\n",
    "\n",
    "\n",
    "model_LG = LogisticRegression(penalty ='l2',C=12)\n",
    "model_LG.fit(word_matrix_process, np.ravel(train_labels_balance))\n",
    "\n",
    "print('f1_score: %f' %metrics.f1_score(dev_labels,model_LG.predict(dev_matrix_process),average='binary'))\n",
    "print('precision_score: %f' %metrics.precision_score(dev_labels,model_LG.predict(dev_matrix_process)))\n",
    "print('recall_score: %f' %metrics.recall_score(dev_labels,model_LG.predict(dev_matrix_process)))\n",
    "print('accuracy_score: %f' %metrics.accuracy_score(dev_labels,model_LG.predict(dev_matrix_process)))\n",
    "\n",
    "preds = model_LG.predict(dev_matrix_process)\n",
    "F_Score = metrics.f1_score(dev_labels, preds, average='binary')\n",
    "pred_probas = model_LG.predict_proba(dev_matrix_process)\n",
    "\n",
    "#Call to display outputs\n",
    "model_output(pred_probas, F_Score, preds)"
   ]
  },
  {
   "cell_type": "markdown",
   "metadata": {},
   "source": [
    "###narrative"
   ]
  },
  {
   "cell_type": "code",
   "execution_count": 137,
   "metadata": {
    "collapsed": true
   },
   "outputs": [],
   "source": [
    "desire = re.compile(r'(friend|party|birthday|boyfriend|girlfriend|date|drinks|drunk|wasted|invite|invited|celebrate|celebrating|game|games|movie|beer|crave|craving)', re.IGNORECASE)\n",
    "family = re.compile(r'(husband|wife|family|parent|parents|mother|father|mom|mum|son|dad|daughter)', re.IGNORECASE)\n",
    "job = re.compile(r'(job|unemployment|employment|hire|hired|fired|interview|work|paycheck)', re.IGNORECASE)\n",
    "money = re.compile(r'(money|bill|bills|rent|bank|account|paycheck|due|broke|bills|deposit|cash|dollar|dollars|bucks|paid|payed|buy|check|spent|financial|poor|loan|\\\n",
    "credit|budget|day|now|time|week|until|last|month|tonight|today|next|night|when|tomorrow|first|after|while|before|long|hour|Friday|ago|still|due|past|soon|current|years|never|till|yesterday|morning|evening)', re.IGNORECASE)\n",
    "student = re.compile(r'(college|student|university|finals|study|studying|class|semester|school|roommate|project|tuition|dorm)', re.IGNORECASE)\n",
    "\n",
    "\n"
   ]
  },
  {
   "cell_type": "code",
   "execution_count": 166,
   "metadata": {
    "collapsed": false
   },
   "outputs": [],
   "source": [
    "def myfunc(a,b):\n",
    "    return len(b.findall(a))/float(len(a))\n",
    "\n"
   ]
  },
  {
   "cell_type": "code",
   "execution_count": 185,
   "metadata": {
    "collapsed": false
   },
   "outputs": [],
   "source": [
    "narrative_all=np.ndarray(shape=(len(train_all_balance),5),dtype=int)\n",
    "narrative_all_dev=np.ndarray(shape=(len(dev_all),5),dtype=int)\n",
    "\n",
    "for index,i in enumerate([desire,family,job,money,student]):\n",
    "    \n",
    "    vfunc = np.vectorize(myfunc)\n",
    "    narrative=vfunc(train_all_balance,i)\n",
    "    narrative_dev=vfunc(dev_all,i)\n",
    "    med=np.median(narrative)\n",
    "    narrative_all[:,index]=np.where(narrative>med,1,0)\n",
    "    narrative_all_dev[:,index]=np.where(narrative_dev>med,1,0)\n",
    "    \n"
   ]
  },
  {
   "cell_type": "code",
   "execution_count": 242,
   "metadata": {
    "collapsed": false
   },
   "outputs": [],
   "source": [
    "\n",
    "\n",
    "# np.hstack((word_matrix_process, narrative_all))\n",
    "# word_matrix_process+narrative_all\n",
    "a=np.concatenate((word_matrix_process.toarray(), narrative_all), axis=1)\n",
    "b=np.concatenate((dev_matrix_process.toarray(), narrative_all_dev), axis=1)"
   ]
  },
  {
   "cell_type": "code",
   "execution_count": 203,
   "metadata": {
    "collapsed": false
   },
   "outputs": [
    {
     "name": "stdout",
     "output_type": "stream",
     "text": [
      "(5891, 16083)\n",
      "(1696, 16083)\n",
      "(5891, 16088)\n",
      "(1696, 16088)\n"
     ]
    }
   ],
   "source": [
    "print(word_matrix_process.shape) \n",
    "print(dev_matrix_process.shape) \n",
    "print(a.shape) \n",
    "print(b.shape) "
   ]
  },
  {
   "cell_type": "code",
   "execution_count": 243,
   "metadata": {
    "collapsed": false
   },
   "outputs": [
    {
     "name": "stdout",
     "output_type": "stream",
     "text": [
      "Logistic regression on numeric data: F-Score = 0.3302: \n",
      "Accuracy = 0.6627\n",
      "accuracy_score: 0.339759\n",
      "recall_score: 0.321185\n",
      "roc_auc_score: 0.55160259721\n"
     ]
    },
    {
     "data": {
      "image/png": "[encoded data removed]",
      "text/plain": [
       "<matplotlib.figure.Figure at 0x102045f8>"
      ]
     },
     "metadata": {},
     "output_type": "display_data"
    }
   ],
   "source": [
    "def empty_preprocessor(s):\n",
    "    return s\n",
    "\n",
    "\n",
    "vectorizer_process = CountVectorizer(preprocessor =empty_preprocessor,analyzer='word',stop_words='english' )\n",
    "word_matrix_process= vectorizer_process.fit_transform(train_all_balance)\n",
    "dev_matrix_process = vectorizer_process.transform(dev_all)\n",
    "\n",
    "a=np.concatenate((word_matrix_process.toarray(), narrative_all), axis=1)\n",
    "b=np.concatenate((dev_matrix_process.toarray(), narrative_all_dev), axis=1)\n",
    "\n",
    "model_LG = LogisticRegression(penalty ='l2',C=13)\n",
    "model_LG.fit(a, np.ravel(train_labels_balance))\n",
    "\n",
    "preds = model_LG.predict(b)\n",
    "F_Score = metrics.f1_score(dev_labels, preds, average='binary')\n",
    "pred_probas = model_LG.predict_proba(b)\n",
    "\n",
    "#Call to display outputs\n",
    "model_output(pred_probas, F_Score, preds)"
   ]
  },
  {
   "cell_type": "code",
   "execution_count": 245,
   "metadata": {
    "collapsed": false
   },
   "outputs": [
    {
     "name": "stdout",
     "output_type": "stream",
     "text": [
      "Logistic regression on numeric data: F-Score = 0.3435: \n",
      "Accuracy = 0.6686\n",
      "accuracy_score: 0.352518\n",
      "recall_score: 0.334852\n",
      "roc_auc_score: 0.56002740009\n"
     ]
    },
    {
     "data": {
      "image/png": "[encoded data removed]",
      "text/plain": [
       "<matplotlib.figure.Figure at 0xef337b8>"
      ]
     },
     "metadata": {},
     "output_type": "display_data"
    }
   ],
   "source": [
    "np.random.seed(0)\n",
    "\n",
    "vectorizer_process = CountVectorizer(analyzer='word',stop_words='english',preprocessor = empty_preprocessor)\n",
    "word_matrix_process= vectorizer_process.fit_transform(train_all_balance)\n",
    "dev_matrix_process = vectorizer_process.transform(dev_all)\n",
    "\n",
    "a=np.concatenate((word_matrix_process.toarray(), narrative_all), axis=1)\n",
    "b=np.concatenate((dev_matrix_process.toarray(), narrative_all_dev), axis=1)\n",
    "\n",
    "model_LG_L1 = LogisticRegression(penalty ='l1',C=400)#C from the above test\n",
    "model_LG_L1.fit(a, np.ravel(train_labels_balance))\n",
    "\n",
    "#Update the new index\n",
    "index=[]\n",
    "for i,z in enumerate(np.sum(np.abs(model_LG_L1.coef_),axis=0) ):\n",
    "    if z!=0:\n",
    "        index.append(i)\n",
    "            \n",
    "model_LG = LogisticRegression(penalty ='l2',C=13)#C from the above test\n",
    "model_LG.fit(a[:,index], np.ravel(train_labels_balance))\n",
    "\n",
    "preds = model_LG.predict(b[:,index])\n",
    "F_Score = metrics.f1_score(np.ravel(dev_labels), preds, average='binary')\n",
    "pred_probas = model_LG.predict_proba(b[:,index])\n",
    "\n",
    "#Call to display outputs\n",
    "model_output(pred_probas, F_Score, preds) #Please input pred_probas, F_Score, and prediction(preds)"
   ]
  }
 ],
 "metadata": {
  "kernelspec": {
   "display_name": "Python 3",
   "language": "python",
   "name": "python3"
  },
  "language_info": {
   "codemirror_mode": {
    "name": "ipython",
    "version": 3
   },
   "file_extension": ".py",
   "mimetype": "text/x-python",
   "name": "python",
   "nbconvert_exporter": "python",
   "pygments_lexer": "ipython3",
   "version": "3.3.5"
  }
 },
 "nbformat": 4,
 "nbformat_minor": 0
}
