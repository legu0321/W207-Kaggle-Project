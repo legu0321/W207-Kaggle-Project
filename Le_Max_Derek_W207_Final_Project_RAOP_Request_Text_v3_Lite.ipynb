{
 "cells": [
  {
   "cell_type": "markdown",
   "metadata": {},
   "source": [
    "# Random Acts of Pizza (RAOP) Notes\n"
   ]
  },
  {
   "cell_type": "code",
   "execution_count": 1,
   "metadata": {
    "collapsed": false
   },
   "outputs": [
    {
     "name": "stderr",
     "output_type": "stream",
     "text": [
      "/Users/Maximus/anaconda/lib/python2.7/site-packages/sklearn/cross_validation.py:42: DeprecationWarning: This module has been deprecated in favor of the model_selection module into which all the refactored classes and functions are moved. Also note that the interface of the new CV iterators are different from that of this module. This module will be removed in 0.19.\n",
      "  \"This module will be removed in 0.19.\", DeprecationWarning)\n",
      "/Users/Maximus/anaconda/lib/python2.7/site-packages/sklearn/grid_search.py:43: DeprecationWarning: This module has been deprecated in favor of the model_selection module into which all the refactored classes and functions are moved. This module will be removed in 0.19.\n",
      "  DeprecationWarning)\n"
     ]
    }
   ],
   "source": [
    "# This tells matplotlib not to try opening a new window for each plot.\n",
    "%matplotlib inline\n",
    "\n",
    "# General libraries.\n",
    "import os\n",
    "import codecs\n",
    "import json\n",
    "import csv\n",
    "\n",
    "import re\n",
    "import numpy as np\n",
    "import pandas as pd\n",
    "import matplotlib.pyplot as plt\n",
    "from pandas.tseries.holiday import USFederalHolidayCalendar\n",
    "\n",
    "# SK-learn libraries for learning.\n",
    "from sklearn.pipeline import Pipeline\n",
    "from sklearn.neighbors import KNeighborsClassifier\n",
    "from sklearn.linear_model import LogisticRegression\n",
    "from sklearn.naive_bayes import BernoulliNB\n",
    "from sklearn.naive_bayes import MultinomialNB\n",
    "from sklearn.grid_search import GridSearchCV\n",
    "\n",
    "# SK-learn libraries for evaluation.\n",
    "from sklearn.metrics import confusion_matrix\n",
    "from sklearn import metrics\n",
    "from sklearn.metrics import classification_report\n",
    "\n",
    "# SK-learn library for importing the newsgroup data.\n",
    "from sklearn.datasets import fetch_20newsgroups\n",
    "\n",
    "# SK-learn libraries for feature extraction from text.\n",
    "from sklearn.feature_extraction.text import *"
   ]
  },
  {
   "cell_type": "markdown",
   "metadata": {},
   "source": [
    "# Data Exploration"
   ]
  },
  {
   "cell_type": "code",
   "execution_count": 2,
   "metadata": {
    "collapsed": false
   },
   "outputs": [],
   "source": [
    "X = pd.read_json('./pizza_request_dataset.json')\n",
    "\n",
    "# set random seed\n",
    "np.random.seed(0)\n",
    "\n",
    "# randomly assign 70% to train_data, and 30% to dev_data\n",
    "msk = np.random.rand(len(X)) <= 0.7\n",
    "train_data = X[msk]\n",
    "dev_data = X[~msk]\n",
    "\n",
    "# create output dataframe Y of train_labels\n",
    "train_labels = train_data[[\"requester_received_pizza\"]]\n",
    "\n",
    "# delete train_labels from input dataframe of train_data\n",
    "del train_data[\"requester_received_pizza\"]\n",
    "\n",
    "# create output dataframe of dev_labels\n",
    "dev_labels = dev_data[[\"requester_received_pizza\"]]\n",
    "\n",
    "# delete dev_labels from input dataframe of dev_data\n",
    "del dev_data[\"requester_received_pizza\"]\n"
   ]
  },
  {
   "cell_type": "code",
   "execution_count": 3,
   "metadata": {
    "collapsed": false
   },
   "outputs": [
    {
     "name": "stdout",
     "output_type": "stream",
     "text": [
      "('type(train_text)', <class 'pandas.core.series.Series'>)\n",
      "('type(train_labels)', <class 'pandas.core.frame.DataFrame'>)\n",
      "('type(dev_text)', <class 'pandas.core.series.Series'>)\n",
      "('type(dev_labels)', <class 'pandas.core.frame.DataFrame'>) /n\n",
      "('train_labels.shape:', (3975,))\n",
      "('dev_labels.shape:', (1696,))\n"
     ]
    }
   ],
   "source": [
    "# prepare data\n",
    "# transform X to numpy array, and Y to 1-D numpy array\n",
    "# view actual text and labels\n",
    "\n",
    "train_text = train_data[\"request_text\"]\n",
    "dev_text = dev_data[\"request_text\"]\n",
    "\n",
    "print (\"type(train_text)\", type(train_text))\n",
    "print (\"type(train_labels)\", type(train_labels))\n",
    "print (\"type(dev_text)\", type(dev_text))\n",
    "print (\"type(dev_labels)\", type(dev_labels)), \"/n\"\n",
    "\n",
    "\n",
    "def to_np(d):\n",
    "\n",
    "    d = np.array(d)\n",
    "    d = d.flatten()\n",
    "\n",
    "    return d\n",
    "\n",
    "train_text = to_np(train_text)\n",
    "train_labels = to_np(train_labels)\n",
    "dev_text = to_np(dev_text)\n",
    "dev_labels = to_np(dev_labels)\n",
    "\n",
    "# convert to list\n",
    "\n",
    "def to_list(d):\n",
    "\n",
    "    #print (\"list:\")\n",
    "    d = list(d)\n",
    "    return d\n",
    "\n",
    "\n",
    "print (\"train_labels.shape:\", train_labels.shape)\n",
    "print (\"dev_labels.shape:\", dev_labels.shape)"
   ]
  },
  {
   "cell_type": "markdown",
   "metadata": {},
   "source": [
    "# Model Exploration"
   ]
  },
  {
   "cell_type": "code",
   "execution_count": 15,
   "metadata": {
    "collapsed": false,
    "scrolled": true
   },
   "outputs": [
    {
     "name": "stdout",
     "output_type": "stream",
     "text": [
      "('train_vectors.shape:', (3975, 12313))\n",
      "('dev_vectors.shape:', (1696, 12313))\n",
      "\n",
      "------------------------------\n",
      "K Nearest Neighbors (K-NN)\n",
      "------------------------------\n",
      "K-NN: f1_score = 0.4133, k = 1\n",
      "K-NN: f1_score = 0.0259, k = 5\n",
      "K-NN: f1_score = 0.0, k = 15\n",
      "K-NN: f1_score = 0.0, k = 16\n",
      "K-NN: f1_score = 0.0, k = 17\n",
      "K-NN: f1_score = 0.0, k = 18\n",
      "K-NN: f1_score = 0.0, k = 19\n",
      "K-NN: f1_score = 0.0, k = 20\n",
      "K-NN: f1_score = 0.0, k = 28\n",
      "K-NN: f1_score = 0.0, k = 29\n",
      "K-NN: f1_score = 0.0, k = 30\n",
      "K-NN: f1_score = 0.0, k = 31\n",
      "K-NN: f1_score = 0.0, k = 32\n",
      "K-NN: f1_score = 0.0, k = 150\n",
      "K-NN: f1_score = 0.0, k = 300\n",
      "\n",
      "('K-NN: optimal k =', 1)\n",
      "\n",
      "-----------------------------\n",
      "Bernoulli Naive Bayes (BNB)\n",
      "-----------------------------\n",
      "BNB: f1_score = 0.0, alpha = 0.0\n",
      "BNB: f1_score = 0.0844, alpha = 1e-05\n",
      "BNB: f1_score = 0.0844, alpha = 0.0001\n",
      "BNB: f1_score = 0.0844, alpha = 0.001\n",
      "BNB: f1_score = 0.0125, alpha = 0.01\n",
      "BNB: f1_score = 0.0126, alpha = 0.094\n",
      "BNB: f1_score = 0.0126, alpha = 0.095\n",
      "BNB: f1_score = 0.0126, alpha = 0.096\n",
      "BNB: f1_score = 0.0126, alpha = 0.1\n",
      "BNB: f1_score = 0.0126, alpha = 0.105\n",
      "BNB: f1_score = 0.0044, alpha = 0.2\n",
      "BNB: f1_score = 0.0045, alpha = 0.3\n",
      "BNB: f1_score = 0.0, alpha = 0.4\n",
      "BNB: f1_score = 0.0, alpha = 0.5\n",
      "BNB: f1_score = 0.0, alpha = 0.6\n",
      "BNB: f1_score = 0.0, alpha = 0.7\n",
      "BNB: f1_score = 0.0, alpha = 1.0\n",
      "BNB: f1_score = 0.0, alpha = 10.0\n",
      "\n",
      "('Bernoulli Naive Bayes: optimal alpha =', 1e-05)\n",
      "\n",
      "------------------------\n",
      "Logistic Regression (LR)\n",
      "------------------------\n",
      "\n",
      "-------------------------------\n",
      "LR: f1_score = 0.0, C = 0.01\n",
      "-------------------------------\n",
      "Label = 1, sum of squared weights = 0.109621390162\n",
      "\n",
      "-------------------------------\n",
      "LR: f1_score = 0.0, C = 0.1\n",
      "-------------------------------\n",
      "Label = 1, sum of squared weights = 9.52499225203\n",
      "\n",
      "-------------------------------\n",
      "LR: f1_score = 0.0045, C = 0.2\n",
      "-------------------------------\n",
      "Label = 1, sum of squared weights = 31.7216994044\n",
      "\n",
      "-------------------------------\n",
      "LR: f1_score = 0.0135, C = 0.3\n",
      "-------------------------------\n",
      "Label = 1, sum of squared weights = 61.681429626\n",
      "\n",
      "-------------------------------\n",
      "LR: f1_score = 0.0178, C = 0.4\n",
      "-------------------------------\n",
      "Label = 1, sum of squared weights = 97.3726951815\n",
      "\n",
      "-------------------------------\n",
      "LR: f1_score = 0.0177, C = 0.5\n",
      "-------------------------------\n",
      "Label = 1, sum of squared weights = 137.63336072\n",
      "\n",
      "-------------------------------\n",
      "LR: f1_score = 0.0177, C = 0.54\n",
      "-------------------------------\n",
      "Label = 1, sum of squared weights = 154.8503557\n",
      "\n",
      "-------------------------------\n",
      "LR: f1_score = 0.0221, C = 0.55\n",
      "-------------------------------\n",
      "Label = 1, sum of squared weights = 159.243434292\n",
      "\n",
      "-------------------------------\n",
      "LR: f1_score = 0.0221, C = 0.56\n",
      "-------------------------------\n",
      "Label = 1, sum of squared weights = 163.672952271\n",
      "\n",
      "-------------------------------\n",
      "LR: f1_score = 0.022, C = 0.57\n",
      "-------------------------------\n",
      "Label = 1, sum of squared weights = 168.137600962\n",
      "\n",
      "-------------------------------\n",
      "LR: f1_score = 0.022, C = 0.58\n",
      "-------------------------------\n",
      "Label = 1, sum of squared weights = 172.636591088\n",
      "\n",
      "-------------------------------\n",
      "LR: f1_score = 0.0263, C = 0.59\n",
      "-------------------------------\n",
      "Label = 1, sum of squared weights = 177.169370513\n",
      "\n",
      "-------------------------------\n",
      "LR: f1_score = 0.0306, C = 0.6\n",
      "-------------------------------\n",
      "Label = 1, sum of squared weights = 181.735454014\n",
      "\n",
      "-------------------------------\n",
      "LR: f1_score = 0.0475, C = 0.7\n",
      "-------------------------------\n",
      "Label = 1, sum of squared weights = 229.126241576\n",
      "\n",
      "-------------------------------\n",
      "LR: f1_score = 0.0641, C = 0.8\n",
      "-------------------------------\n",
      "Label = 1, sum of squared weights = 279.382526253\n",
      "\n",
      "-------------------------------\n",
      "LR: f1_score = 0.0761, C = 0.9\n",
      "-------------------------------\n",
      "Label = 1, sum of squared weights = 332.181148169\n",
      "\n",
      "-------------------------------\n",
      "LR: f1_score = 0.0795, C = 1.0\n",
      "-------------------------------\n",
      "Label = 1, sum of squared weights = 387.340589083\n",
      "\n",
      "-------------------------------\n",
      "LR: f1_score = 0.0828, C = 1.1\n",
      "-------------------------------\n",
      "Label = 1, sum of squared weights = 444.464888316\n",
      "\n",
      "-------------------------------\n",
      "LR: f1_score = 0.2324, C = 10\n",
      "-------------------------------\n",
      "Label = 1, sum of squared weights = 7103.77336434\n",
      "\n",
      "-------------------------------\n",
      "LR: f1_score = 0.2319, C = 12\n",
      "-------------------------------\n",
      "Label = 1, sum of squared weights = 8552.28197252\n",
      "\n",
      "-------------------------------\n",
      "LR: f1_score = 0.2415, C = 20\n",
      "-------------------------------\n",
      "Label = 1, sum of squared weights = 13863.7323633\n",
      "\n",
      "-------------------------------\n",
      "LR: f1_score = 0.2541, C = 30\n",
      "-------------------------------\n",
      "Label = 1, sum of squared weights = 19607.8460883\n",
      "\n",
      "-------------------------------\n",
      "LR: f1_score = 0.2638, C = 40\n",
      "-------------------------------\n",
      "Label = 1, sum of squared weights = 24623.210914\n",
      "\n",
      "-------------------------------\n",
      "LR: f1_score = 0.2701, C = 50\n",
      "-------------------------------\n",
      "Label = 1, sum of squared weights = 29109.2238671\n",
      "\n",
      "-------------------------------\n",
      "LR: f1_score = 0.2739, C = 100\n",
      "-------------------------------\n",
      "Label = 1, sum of squared weights = 46626.217287\n",
      "\n",
      "-------------------------------\n",
      "LR: f1_score = 0.2755, C = 1000\n",
      "-------------------------------\n",
      "Label = 1, sum of squared weights = 151950.673399\n",
      "\n",
      "('Logistic Regression: optimal C =', 1000)\n",
      "\n",
      "('max accuracy =', 74.233490566037744)\n"
     ]
    },
    {
     "name": "stderr",
     "output_type": "stream",
     "text": [
      "/Users/dschan/anaconda2/lib/python2.7/site-packages/ipykernel/__main__.py:51: DeprecationWarning: Passing additional arguments to the metric function as **kwargs is deprecated and will no longer be supported in 0.18. Use metric_params instead.\n"
     ]
    }
   ],
   "source": [
    "import operator\n",
    "\n",
    "# Notes\n",
    "# Classifier precision--when a positive value is predicted, proportion of time the prediction is correct--equals (TP) / (TP + FP)\n",
    "# Classifier recall--when the actual value is positive, the proportion of time the prediction is correct--equals (TP) / (TP + FN)\n",
    "\n",
    "def explore_models():\n",
    "\n",
    "    # create empty vector\n",
    "    accuracies = []\n",
    "\n",
    "    # Source: http://scikit-learn.org/stable/modules/generated/sklearn.metrics.f1_score.html\n",
    "    # The F1 score can be interpreted as a weighted average of the precision and recall, \n",
    "    # where an F1 score reaches its best value at 1 and worst score at 0. \n",
    "    # The relative contribution of precision and recall to the F1 score are equal. \n",
    "    # The formula for the F1 score is: F1 = 2 * (precision * recall) / (precision + recall)\n",
    "    \n",
    "    vectorizer = TfidfVectorizer(min_df=1, stop_words='english')\n",
    "    #vectorizer = CountVectorizer(min_df=1, stop_words='english')\n",
    "    train_vectors = vectorizer.fit_transform(train_text)\n",
    "    print (\"train_vectors.shape:\", train_vectors.shape)\n",
    "    \n",
    "    dev_vectors = vectorizer.transform(dev_text)\n",
    "    print (\"dev_vectors.shape:\", dev_vectors.shape)\n",
    "    print\n",
    "    \n",
    "    #------------------------\n",
    "    # K Nearest Neighbors\n",
    "    #------------------------\n",
    "    \n",
    "    print (\"------------------------------\")\n",
    "    print (\"K Nearest Neighbors (K-NN)\")\n",
    "    print (\"------------------------------\")\n",
    "    \n",
    "    # Euclidean distance, when you go to 10 to 20+ dimensions, too many examples can be close to each other\n",
    "    # With K-NN on text, Cosine or Manhattan distance might be better. Cosine distance measures the angle between examples,\n",
    "    # more robust for high-dimensional problems. \n",
    "    # Dot product measures length of vectors AND angle between these vectors. \n",
    "    # With Cosine distance, you can get a value 0 to 1.\n",
    "    \n",
    "    # create two vectors\n",
    "    # ks refers to a vector of k nearest neighbor values\n",
    "    \n",
    "    ks = [1, 5, 15, 16, 17, 18, 19, 20, 28, 29, 30, 31, 32, 150, 300]\n",
    "    f1_scores = []\n",
    "    \n",
    "    for k in ks:\n",
    "        knn = KNeighborsClassifier(n_neighbors=k, distance='cosine', algorithm='brute')\n",
    "        knn.fit(train_vectors, train_labels)\n",
    "        pred_1 = knn.predict(dev_vectors)\n",
    "        \n",
    "        # http://scikit-learn.org/stable/modules/generated/sklearn.metrics.f1_score.html\n",
    "        # f1_score(y_true, y_pred, labels=None, pos_label=1, average='binary', sample_weight=None)[source]¶\n",
    "            # y_true = Ground truth (correct) target values \n",
    "            # y_pred = Estimated targets as returned by a classifier.\n",
    "            # average = required for multiclass/multilabel targets.\n",
    "                # 'weighted': Calculate metrics for each label, and find their average, weighted by \n",
    "                # the number of true instances for each label. This alters ‘macro’ to account for label imbalance; \n",
    "                # it can result in an F-score that is not between precision and recall.\n",
    "            \n",
    "        print (\"K-NN: f1_score = %s, k = %s\" %(round(metrics.f1_score(dev_labels, pred_1, average='binary'),4), k))\n",
    "\n",
    "        # append f1_scores to vector\n",
    "        f1_scores.append(metrics.f1_score(dev_labels, pred_1))\n",
    "    \n",
    "    print\n",
    "    \n",
    "    # map two vectors into a dictionary\n",
    "    results_knn = dict(zip(ks, f1_scores))\n",
    "    #print (results_knn)\n",
    "    \n",
    "    # print (the key with the max fl_score\n",
    "    print (\"K-NN: optimal k =\", max(results_knn.items(), key=operator.itemgetter(1))[0])\n",
    "    print\n",
    "\n",
    "    \n",
    "    #------------------------\n",
    "    # Bernoulli Naive Bayes\n",
    "    #------------------------\n",
    "    \n",
    "    print (\"-----------------------------\")\n",
    "    print (\"Bernoulli Naive Bayes (BNB)\")\n",
    "    print (\"-----------------------------\")\n",
    "    \n",
    "    # create two vectors\n",
    "    \n",
    "    alphas = [0.0, 0.00001, 0.0001, 0.001, 0.01, 0.094, 0.095, 0.096, 0.1, 0.105, 0.2, 0.3, 0.4, 0.5, 0.6, 0.7, 1.0, 10.0]\n",
    "    f1_scores = []\n",
    "    \n",
    "    for a in alphas:\n",
    "        bnb = BernoulliNB(alpha=a,binarize=0.5)\n",
    "        bnb.fit(train_vectors, train_labels)\n",
    "        pred_2 = bnb.predict(dev_vectors)\n",
    "        print (\"BNB: f1_score = %s, alpha = %s\" % (round(metrics.f1_score(dev_labels, pred_2, average='binary'), 4), a))\n",
    "        \n",
    "        # append f1_scores to vector\n",
    "        f1_scores.append(metrics.f1_score(dev_labels, pred_2))\n",
    "        \n",
    "    print\n",
    "    \n",
    "    # map two vectors into a dictionary\n",
    "    results_bnb = dict(zip(alphas, f1_scores))\n",
    "    #print (results_mnb)\n",
    "    \n",
    "    # print (the key wit)h the max fl_score\n",
    "    print (\"Bernoulli Naive Bayes: optimal alpha =\", max(results_bnb.items(), key=operator.itemgetter(1))[0])\n",
    "    print\n",
    "    \n",
    "    #------------------------\n",
    "    # Logistic Regression\n",
    "    #------------------------\n",
    "    \n",
    "    print (\"------------------------\")\n",
    "    print (\"Logistic Regression (LR)\")\n",
    "    print (\"------------------------\")\n",
    "    print\n",
    "    \n",
    "    # create two vectors\n",
    "    # cs refers to the vector of C (inverse of regularization strength) values\n",
    "    \n",
    "    cs = [0.01, 0.1, 0.2, 0.3, 0.4, 0.5, 0.54, 0.55, 0.56, 0.57, 0.58, 0.59, 0.6, 0.7, 0.8, 0.9, 1.0, 1.1, \\\n",
    "          10, 12, 20, 30, 40, 50, 100, 1000]\n",
    "    f1_scores = []\n",
    "    \n",
    "    for c in cs:\n",
    "        \n",
    "        # logistic regression fits a line like linear regression, but instead of predicting any number, \n",
    "        # it predicts a number between 0 and 1 (sigmoid function).\n",
    "        \n",
    "        # http://scikit-learn.org/stable/modules/generated/sklearn.linear_model.LogisticRegression.html\n",
    "        # C (inverse of regularization strength) controls how much the weights influence the loss, and\n",
    "        # penalizes the sum of squared weights if very different weights exist between different tokens.\n",
    "  \n",
    "        # use l2 regularization, per instructions\n",
    "        lr = LogisticRegression(penalty='l2',C=c)\n",
    "        lr.fit(train_vectors, train_labels)\n",
    "        pred_3 = lr.predict(dev_vectors)\n",
    "        \n",
    "        print (\"-------------------------------\")\n",
    "        print (\"LR: f1_score = %s, C = %s\" % (round(metrics.f1_score(dev_labels, pred_3, average='binary'),4), c))\n",
    "        print (\"-------------------------------\")\n",
    "        \n",
    "        # append f1_scores to vector\n",
    "        f1_scores.append(metrics.f1_score(dev_labels, pred_3, average='binary'))\n",
    "        \n",
    "        accuracies.append((lr.score(dev_vectors, dev_labels))*100) \n",
    "\n",
    "        #print (lr.coef_.shape)\n",
    "        \n",
    "        # first define function that squares a given value, for later use in the 'for loop' below\n",
    "        fun_sq_wts = lambda x: x**2\n",
    "        \n",
    "        # use map function, likely faster (because written in C) than list comprehension.\n",
    "        # map function itself applies a function, specifically the first argument on the second argument.\n",
    "        # from coef_, take raw weights (coefficient of the features in the decision function), \n",
    "        # and sum the squares of these weights.\n",
    "\n",
    "        # note: averege=weight vs. average=default should be about same score if similar number of examples across classes\n",
    "        sq_wts = map(fun_sq_wts, lr.coef_[0])\n",
    "        sum_sq_wts =  sum(sq_wts)\n",
    "        print (\"Label = 1, sum of squared weights = %s\" % (sum_sq_wts))\n",
    "\n",
    "        print\n",
    "        \n",
    "    # map two vectors into a dictionary\n",
    "    results_lr = dict(zip(cs, f1_scores))\n",
    "    #print (results_lr)\n",
    "    \n",
    "    # print (the key with the max fl_score\n",
    "    print (\"Logistic Regression: optimal C =\", max(results_lr.items(), key=operator.itemgetter(1))[0])\n",
    "    print\n",
    "    print (\"max accuracy =\", max(accuracies))\n",
    "        \n",
    "explore_models()"
   ]
  },
  {
   "cell_type": "markdown",
   "metadata": {},
   "source": [
    "# Based on initial results above, proceed with Logistic Regression "
   ]
  },
  {
   "cell_type": "code",
   "execution_count": 110,
   "metadata": {
    "collapsed": false
   },
   "outputs": [
    {
     "name": "stdout",
     "output_type": "stream",
     "text": [
      "\n",
      "----------\n",
      "unigram\n",
      "----------\n",
      "\n",
      "('train_vectors.shape:', (3975, 12313))\n",
      "\n",
      "lr.coef_:\n",
      "[[-1.48092905 -0.39311615 -0.12825177 ...,  0.44453487  1.63180069\n",
      "  -0.87946286]]\n",
      "top 20:\n",
      "[3697, 4147, 6786, 8221, 1039, 6858, 3236, 1286, 6712, 10159, 1523, 10688, 4918, 10689, 9907, 7050, 3901, 2573, 2155, 9349]\n",
      "       Feature      word\n",
      "0         edit  4.824324\n",
      "1       father  4.627494\n",
      "2         mean  4.376547\n",
      "3      pockets  4.057164\n",
      "4          ass  3.995387\n",
      "5    mentioned  3.977975\n",
      "6          die  3.930683\n",
      "7        basic  3.899384\n",
      "8      married  3.850098\n",
      "9     southern -3.846223\n",
      "10       bloke  3.807984\n",
      "11    surprise  3.805289\n",
      "12   graveyard  3.749854\n",
      "13   surprised  3.697465\n",
      "14     sitting -3.697393\n",
      "15       mommy  3.658543\n",
      "16  especially  3.627059\n",
      "17  constantly  3.593246\n",
      "18      cheesy  3.548595\n",
      "19     running  3.539010\n",
      "\n",
      "----------\n",
      "bigram\n",
      "----------\n",
      "\n",
      "('train_vectors.shape:', (3975, 90693))\n",
      "\n",
      "lr.coef_:\n",
      "[[-0.31775435  0.42001296 -0.29407174 ..., -0.26401881 -0.22234693\n",
      "   0.57766744]]\n",
      "top 20:\n",
      "[23002, 38997, 37806, 32065, 28212, 73029, 33880, 44381, 54471, 23001, 81228, 41801, 77046, 2781, 47597, 9433, 84630, 16480, 57349, 59245]\n",
      "                Feature      word\n",
      "0           edit thanks  3.882043\n",
      "1             imgur com  3.879634\n",
      "2            http imgur  3.547851\n",
      "3             got pizza  3.038731\n",
      "4         forward money  2.984111\n",
      "5        sounds amazing  2.960338\n",
      "6        happy birthday  2.947813\n",
      "7   letsfytinglove best  2.947813\n",
      "8        north carolina  2.936326\n",
      "9            edit thank  2.927036\n",
      "10      tonight greatly  2.813269\n",
      "11           just spent  2.809594\n",
      "12         surprise son  2.768559\n",
      "13         afford ramen  2.674511\n",
      "14             love pie  2.633101\n",
      "15         broke payday  2.627687\n",
      "16               ve got  2.625031\n",
      "17        craving pizza -2.599092\n",
      "18          pay forward  2.518712\n",
      "19       pizza actually  2.512937\n"
     ]
    }
   ],
   "source": [
    "from sklearn.feature_selection import *\n",
    "\n",
    "# Feature Selection Notes:\n",
    "'''\n",
    "These objects take as input a scoring function that returns univariate p-values:\n",
    "-For regression: f_regression\n",
    "-For classification: chi2 or f_classif\n",
    "\n",
    "Feature selection with sparse data:\n",
    "-If you use sparse data (i.e. data represented as sparse matrices), \n",
    "only chi2 will deal with the data without making it dense.\n",
    "-Warning: Beware not to use a regression scoring function with a classification problem, \n",
    "you will get useless results.\n",
    "\n",
    "With SVMs and logistic-regression, the parameter C controls the sparsity: \n",
    "the smaller C the less features selected. \n",
    "'''\n",
    "def top20(type):\n",
    "\n",
    "    if type == \"unigram\":\n",
    "        \n",
    "        # use stop_words='english' to remove less meaningful words. \n",
    "        # only applies if default analyzer='word'.\n",
    "        vectorizer = TfidfVectorizer(min_df=1, stop_words='english')\n",
    "        #vectorizer = CountVectorizer(min_df=1, stop_words='english')\n",
    "        train_vectors = vectorizer.fit_transform(train_text)\n",
    "        print\n",
    "        print (\"----------\")\n",
    "        print (\"unigram\")\n",
    "        print (\"----------\")\n",
    "        print\n",
    "        print (\"train_vectors.shape:\", train_vectors.shape)\n",
    "        print\n",
    "        \n",
    "    elif type == \"bigram\":\n",
    "        \n",
    "        # use stop_words='english' to remove less meaningful words from the resulting tokens. \n",
    "        # only applies if default analyzer='word'.\n",
    "        # set bigrams to be 2 words only\n",
    "        vectorizer = TfidfVectorizer(min_df=1, stop_words='english', ngram_range=(2, 2))\n",
    "        #vectorizer = CountVectorizer(min_df=1, stop_words='english', ngram_range=(2, 2))\n",
    "        train_vectors = vectorizer.fit_transform(train_text)\n",
    "        print\n",
    "        print (\"----------\")\n",
    "        print (\"bigram\")\n",
    "        print (\"----------\")\n",
    "        print\n",
    "        print (\"train_vectors.shape:\", train_vectors.shape)\n",
    "        print\n",
    "      \n",
    "    # use C=12\n",
    "    for c in [12]:\n",
    "        \n",
    "        # in the multiclass case, the training algorithm uses the one-vs-rest (OvR) scheme if the default ‘multi_class’ option is set to ‘ovr’ \n",
    "        lr = LogisticRegression(penalty='l2',C=c)\n",
    "        #print (lr)\n",
    "        \n",
    "        # fit the model and generate coef_\n",
    "        lr.fit(train_vectors, train_labels)\n",
    "         \n",
    "        # interested in magnitude of the weights (coefficients), so take absolute value.\n",
    "        # sort absolute values in descending order.\n",
    "        # important to know if negative or positive weight, so still output the positive/negative sign.\n",
    "        # after fitting logistic regression for class vs. all other classes, negative weight of a token \n",
    "        # indicates a class other than class of interest.\n",
    "        # (visual example of negative and positive on a sigmoid function helps) \n",
    "        \n",
    "        print (\"lr.coef_:\")\n",
    "        print (lr.coef_)\n",
    "\n",
    "        # for each label, store the column indices of the top 5 weights \n",
    "        top20 = sorted(range(len(lr.coef_[0])), key=lambda i: abs(lr.coef_[0][i]), reverse=True)[:20]\n",
    "       \n",
    "        col_1 = []\n",
    "        \n",
    "        # for each label, access and store weights via column indices\n",
    "        for index in (top20):\n",
    "\n",
    "            col_1.append(lr.coef_[0][index])\n",
    "           \n",
    "        print (\"top 20:\" )\n",
    "        print (top20)\n",
    "        \n",
    "        # store feature names, after converting to an array\n",
    "        feature_names = np.asarray(vectorizer.get_feature_names())\n",
    "       \n",
    "        # create a Pandas dataframe with 20 rows and 4 columns, plus descriptive headers\n",
    "        df = pd.DataFrame({'Feature': feature_names[top20], 'word': col_1})\n",
    "        print (df    )\n",
    "\n",
    "top20(\"unigram\")\n",
    "top20(\"bigram\")"
   ]
  },
  {
   "cell_type": "markdown",
   "metadata": {},
   "source": [
    "# Error Analysis"
   ]
  },
  {
   "cell_type": "markdown",
   "metadata": {},
   "source": [
    "# Numerical Analysis\n",
    "This section is the numerical part of the model: utilize all numeric information from the dataset to \n",
    "predict the labels.  This model will be combined the text based model to improve predictive power. "
   ]
  },
  {
   "cell_type": "code",
   "execution_count": 90,
   "metadata": {
    "collapsed": false
   },
   "outputs": [
    {
     "name": "stdout",
     "output_type": "stream",
     "text": [
      "<pandas.tseries.holiday.USFederalHolidayCalendar object at 0x114d47a90>\n",
      "1341601084\n",
      "2012-07-06 11:58:04\n",
      "<type 'str'>\n",
      "2012-07-06 06:58:04-05:00\n"
     ]
    }
   ],
   "source": [
    "print USFederalHolidayCalendar()\n",
    "import datetime\n",
    "from pytz import timezone\n",
    "from dateutil import tz\n",
    "\n",
    "from_zone = tz.gettz('UTC')\n",
    "to_zone = tz.gettz('America/Chicago')\n",
    "\n",
    "\n",
    "temp =  train_data['unix_timestamp_of_request_utc'][0]\n",
    "print temp\n",
    "temp2 = datetime.datetime.fromtimestamp(temp).strftime('%Y-%m-%d %H:%M:%S')\n",
    "print temp2\n",
    "print type(temp2)\n",
    "\n",
    "# utc = datetime.utcnow()\n",
    "utc = datetime.datetime.strptime(temp2, '%Y-%m-%d %H:%M:%S')\n",
    "utc = utc.replace(tzinfo=from_zone)\n",
    "central = utc.astimezone(to_zone)\n",
    "print central\n",
    "\n"
   ]
  },
  {
   "cell_type": "code",
   "execution_count": 197,
   "metadata": {
    "collapsed": false
   },
   "outputs": [
    {
     "name": "stdout",
     "output_type": "stream",
     "text": [
      "6\n"
     ]
    }
   ],
   "source": [
    "import datetime\n",
    "from pytz import timezone\n",
    "from dateutil import tz\n",
    "\n",
    "from_zone = tz.gettz('UTC')\n",
    "to_zone = tz.gettz('America/Chicago')\n",
    "\n",
    "temp =  train_data['unix_timestamp_of_request_utc']\n",
    "temp =  temp.apply(lambda x: datetime.datetime.fromtimestamp(x).strftime('%Y-%m-%d %H:%M:%S'))\n",
    "temp =  temp.apply(lambda x: datetime.datetime.strptime(x, '%Y-%m-%d %H:%M:%S'))\n",
    "utc =   temp.apply(lambda x: x.replace(tzinfo=from_zone))\n",
    "#central =  utc.apply(lambda x: x.astimezone(to_zone))\n",
    "\n",
    "temp = [] \n",
    "for i in utc:\n",
    "    temp.append(i.astimezone(to_zone))\n",
    "\n",
    "temp = pd.DataFrame(temp, columns=[\"State\"])\n",
    "a = temp.iloc[0,0]\n",
    "print a.day\n"
   ]
  },
  {
   "cell_type": "code",
   "execution_count": 240,
   "metadata": {
    "collapsed": false
   },
   "outputs": [
    {
     "name": "stdout",
     "output_type": "stream",
     "text": [
      "93\n"
     ]
    }
   ],
   "source": [
    "from pandas.tseries.holiday import USFederalHolidayCalendar as calendar\n",
    "\n",
    "df = pd.DataFrame()\n",
    "\n",
    "t = train_data['unix_timestamp_of_request_utc'][0]\n",
    "t = datetime.datetime.fromtimestamp(t).strftime('%Y-%m-%d %H:%M:%S')\n",
    "t = datetime.datetime.strptime(t, '%Y-%m-%d %H:%M:%S')\n",
    "\n",
    "\n",
    "\n",
    "ut = train_data['unix_timestamp_of_request_utc']\n",
    "temp =  ut.apply(lambda x: datetime.datetime.fromtimestamp(x).strftime('%Y-%m-%d'))\n",
    "#temp =  temp.apply(lambda x: datetime.datetime.strptime(x, '%Y-%m-%d %H:%M:%S'))\n",
    "\n",
    "cal = calendar()\n",
    "holidays = cal.holidays(start='2011-04-07', end='2013-10-11')\n",
    "#print holidays\n",
    "\n",
    "\n",
    "#for i in temp:\n",
    "    #if i in holidays:\n",
    "       # print i\n",
    "\n",
    "df['test'] = temp\n",
    "#print temp\n",
    "df['out'] = df['test'].apply(lambda x: 1 if x in holidays else 0)\n",
    "print sum(df['out'])\n"
   ]
  },
  {
   "cell_type": "code",
   "execution_count": 248,
   "metadata": {
    "collapsed": false
   },
   "outputs": [
    {
     "name": "stdout",
     "output_type": "stream",
     "text": [
      "93\n",
      "93\n"
     ]
    }
   ],
   "source": [
    "df = pd.DataFrame()\n",
    "\n",
    "ut = train_data['unix_timestamp_of_request_utc']\n",
    "temp =  train_data['unix_timestamp_of_request_utc'].apply(lambda x: datetime.datetime.fromtimestamp(x).strftime('%Y-%m-%d'))\n",
    "\n",
    "cal = calendar()\n",
    "holidays = cal.holidays(start='2011-04-07', end='2013-10-11')\n",
    "#print holidays\n",
    "\n",
    "b=(train_data['unix_timestamp_of_request_utc'] \n",
    ".apply(lambda x: datetime.datetime.fromtimestamp(x).strftime('%Y-%m-%d')) \n",
    ".apply(lambda x: 1 if x in holidays else 0))\n",
    "\n",
    "a =  temp.apply(lambda x: 1 if x in holidays else 0)\n",
    "print sum(a)\n",
    "print sum(b)"
   ]
  },
  {
   "cell_type": "code",
   "execution_count": 6,
   "metadata": {
    "collapsed": false
   },
   "outputs": [
    {
     "name": "stdout",
     "output_type": "stream",
     "text": [
      "31\n",
      "[[  9.84616156e-03   3.03890940e-03  -9.46517897e-03  -1.31230362e-01\n",
      "   -3.30905650e-01   2.52707265e-05   7.01602863e-04  -5.00071783e-02\n",
      "    7.42002797e-01   1.02120762e-01]]\n",
      "Model F-Score = 0.0638 \n",
      "Accuracy = 0.7406\n",
      "precision_score: 0.483871\n",
      "recall_score: 0.0342\n",
      "roc_auc_score: 0.5107\n"
     ]
    },
    {
     "data": {
      "image/png": "[encoded data removed]",
      "text/plain": [
       "<matplotlib.figure.Figure at 0x113aef190>"
      ]
     },
     "metadata": {},
     "output_type": "display_data"
    }
   ],
   "source": [
    "import datetime\n",
    "from pytz import timezone\n",
    "from dateutil import tz\n",
    "from pandas.tseries.holiday import USFederalHolidayCalendar as calendar\n",
    "np.random.seed(0)\n",
    "\n",
    "#Setting up logic to identify timezone, weekend, and holidays\n",
    "from_zone = tz.gettz('UTC')\n",
    "to_zone = tz.gettz('America/Chicago')\n",
    "weekend = set([5, 6])\n",
    "cal = calendar()\n",
    "holidays = cal.holidays(start='2011-04-07', end='2013-10-11')\n",
    " \n",
    "#Created new df for training data(numeric only)\n",
    "train_data_numeric = np.zeros((len(train_data), 10))\n",
    "dev_data_numeric =  np.zeros((len(dev_data), 10))\n",
    "\n",
    "find_image = re.compile(r'(imgur\\.com|\\.jpg)')  #compile this to combine with other function\n",
    "\n",
    "#####Process train data set##############\n",
    "ut = train_data['unix_timestamp_of_request_utc']\n",
    "temp =  ut.apply(lambda x: datetime.datetime.fromtimestamp(x).strftime('%Y-%m-%d %H:%M:%S'))\n",
    "temp =  temp.apply(lambda x: datetime.datetime.strptime(x, '%Y-%m-%d %H:%M:%S'))\n",
    "utc =   temp.apply(lambda x: x.replace(tzinfo=from_zone))\n",
    "\n",
    "temp = [] \n",
    "for i in utc:\n",
    "    temp.append(i.astimezone(to_zone))\n",
    "temp = pd.DataFrame(temp, columns=[\"T\"])\n",
    "    \n",
    "train_data_numeric[:,0] = train_data['request_title'].apply(lambda x: len(x.split(' ')))  #Title length\n",
    "train_data_numeric[:,1] = train_data['request_text'].apply(lambda x: len(x.split(' ')))   #Text length\n",
    "train_data_numeric[:,2] = temp['T'].dt.month      #Month in integer\n",
    "train_data_numeric[:,3] = temp['T'].dt.day > 15   #2nd 1/2 month\n",
    "train_data_numeric[:,4] = temp['T'].dt.hour > 12  #Passed noon\n",
    "train_data_numeric[:,5] = train_data['requester_upvotes_minus_downvotes_at_retrieval']\n",
    "train_data_numeric[:,6] = train_data['requester_account_age_in_days_at_retrieval']\n",
    "#Request during weekend\n",
    "train_data_numeric[:,7] = ut.apply(lambda x: datetime.datetime.fromtimestamp(x).weekday() in weekend)\n",
    "#Has Image\n",
    "train_data_numeric[:,8] = train_data['request_text_edit_aware'].apply(lambda x: 1 if find_image.findall(x) else 0 )\n",
    "#Requested date a holiday\n",
    "train_data_numeric[:,9] = (train_data['unix_timestamp_of_request_utc']\n",
    "                           .apply(lambda x: datetime.datetime.fromtimestamp(x).strftime('%Y-%m-%d')) \n",
    "                           .apply(lambda x: 1 if x in holidays else 0))\n",
    "\n",
    "\n",
    "#######process dev dataset#############\n",
    "ut = dev_data['unix_timestamp_of_request_utc']\n",
    "temp = ut.apply(lambda x: datetime.datetime.fromtimestamp(x).strftime('%Y-%m-%d %H:%M:%S'))\n",
    "temp = temp.apply(lambda x: datetime.datetime.strptime(x, '%Y-%m-%d %H:%M:%S'))\n",
    "utc =  temp.apply(lambda x: x.replace(tzinfo=from_zone))\n",
    "\n",
    "temp = [] \n",
    "for i in utc:\n",
    "    temp.append(i.astimezone(to_zone))\n",
    "temp = pd.DataFrame(temp, columns=[\"T\"])\n",
    "\n",
    "dev_data_numeric[:,0] = dev_data['request_title'].apply(lambda x: len(x.split(' '))) \n",
    "dev_data_numeric[:,1] = dev_data['request_text'].apply(lambda x: len(x.split(' ')))\n",
    "dev_data_numeric[:,2] = temp['T'].dt.month\n",
    "dev_data_numeric[:,3] = temp['T'].dt.day > 15\n",
    "dev_data_numeric[:,4] = temp['T'].dt.hour > 12 \n",
    "dev_data_numeric[:,5] = dev_data['requester_upvotes_minus_downvotes_at_retrieval']\n",
    "dev_data_numeric[:,6] = dev_data['requester_account_age_in_days_at_retrieval']\n",
    "#Request during weekend\n",
    "dev_data_numeric[:,7] = ut.apply(lambda x: datetime.datetime.fromtimestamp(x).weekday() in weekend) \n",
    "#Include Image\n",
    "dev_data_numeric[:,8] =  dev_data['request_text_edit_aware'].apply(lambda x: 1 if find_image.findall(x) else 0 )\n",
    "dev_data_numeric[:,9] = (dev_data['unix_timestamp_of_request_utc']\n",
    "                         .apply(lambda x: datetime.datetime.fromtimestamp(x).strftime('%Y-%m-%d')) \n",
    "                         .apply(lambda x: 1 if x in holidays else 0))\n",
    "\n",
    "#[:, [0,1,2,3,4,7,8, 9]]\n",
    "###Start Logistic Regresson on numeric data\n",
    "logit = LogisticRegression(C=1, penalty = 'l2')\n",
    "result = logit.fit(train_data_numeric, train_labels)\n",
    "\n",
    "preds = logit.predict(dev_data_numeric)\n",
    "F_Score = metrics.f1_score(dev_labels, preds, average='binary')\n",
    "pred_probas = logit.predict_proba(dev_data_numeric)\n",
    "\n",
    "#How many positive case\n",
    "print preds.sum()\n",
    "\n",
    "#accuracy = np.where(preds==dev_labels, 1, 0).sum() / float(len(dev_labels))\n",
    "#print \"Accuracy = %0.4f\" % (accuracy)\n",
    "print result.coef_\n",
    "\n",
    "model_output(pred_probas, F_Score, preds)"
   ]
  },
  {
   "cell_type": "code",
   "execution_count": 26,
   "metadata": {
    "collapsed": false
   },
   "outputs": [
    {
     "name": "stdout",
     "output_type": "stream",
     "text": [
      "3\n"
     ]
    }
   ],
   "source": [
    "from datetime import date\n",
    "\n",
    "# define functions for subsequent cell\n",
    "\n",
    "def avgNumWords(post):\n",
    "    sentences = [x.strip() for x in post.split('.')]\n",
    "    num_words = len(post.split(' '))\n",
    "    num_sentences = len([x.strip() for x in post.split('.')])\n",
    "\n",
    "    return num_words / num_sentences\n",
    "\n",
    "print avgNumWords(\"yo. i am here on the call. where are you?\")\n",
    "\n",
    "def monthsFrom2010(col):\n",
    "\n",
    "    temp =  col.apply(lambda x: datetime.datetime.fromtimestamp(x).strftime('%Y-%m-%d'))\n",
    "    temp =  temp.apply(lambda x: datetime.datetime.strptime(x, '%Y-%m-%d'))\n",
    "    \n",
    "    raop_create_date = datetime.datetime(2010, 12, 1)\n",
    "    raop_create_date = raop_create_date.date()\n",
    "    \n",
    "    #print (\"dates\", temp[:5])\n",
    "    #print (raop_create_date)\n",
    "\n",
    "    temp = [x.date() for x in temp]\n",
    "    # comment out days, and use months for better results\n",
    "    #temp = [(x - raop_create_date).days for x in temp]\n",
    "    temp = [((x - raop_create_date).days)/30 for x in temp]\n",
    "    \n",
    "    #print (\"months\", temp[:5])\n",
    "    \n",
    "    return temp\n"
   ]
  },
  {
   "cell_type": "code",
   "execution_count": 41,
   "metadata": {
    "collapsed": false
   },
   "outputs": [
    {
     "name": "stdout",
     "output_type": "stream",
     "text": [
      "218\n",
      "[[  1.09880554e-03   4.72461155e-04  -2.05569012e-02  -1.72850720e-01\n",
      "   -3.75911608e-01   1.93116880e-05   2.30028084e-04  -1.14022670e-02\n",
      "    6.51454600e-01   1.24658780e-01   3.71571333e-01   1.81120034e+00\n",
      "    2.73524811e+00   3.09863963e-01   2.30693042e-01  -2.40228533e-02]]\n",
      "Model F-Score = 0.5693 \n",
      "Accuracy = 0.8331\n",
      "precision_score: 0.857798\n",
      "recall_score: 0.4260\n",
      "roc_auc_score: 0.7007\n"
     ]
    },
    {
     "data": {
      "image/png": "[encoded data removed]",
      "text/plain": [
       "<matplotlib.figure.Figure at 0x1131ba1d0>"
      ]
     },
     "metadata": {},
     "output_type": "display_data"
    }
   ],
   "source": [
    "import datetime\n",
    "from pytz import timezone\n",
    "from dateutil import tz\n",
    "from pandas.tseries.holiday import USFederalHolidayCalendar as calendar\n",
    "np.random.seed(0)\n",
    "\n",
    "#Setting up logic to identify timezone, weekend, and holidays\n",
    "from_zone = tz.gettz('UTC')\n",
    "to_zone = tz.gettz('America/Chicago')\n",
    "weekend = set([5, 6])\n",
    "cal = calendar()\n",
    "holidays = cal.holidays(start='2011-04-07', end='2013-10-11')\n",
    "\n",
    "'''\n",
    "print (\"from_zone:\", from_zone)\n",
    "print (\"to_zone:\", to_zone)\n",
    "print (\"weekend:\", weekend)\n",
    "print (\"cal:\", to_zone)\n",
    "print (\"holidays:\", holidays)\n",
    "'''\n",
    "\n",
    "#Created new df for training data(numeric only)\n",
    "train_data_numeric = np.zeros((len(train_data), 16))\n",
    "dev_data_numeric =  np.zeros((len(dev_data), 16))\n",
    "\n",
    "find_image = re.compile(r'(imgur\\.com|\\.jpg)')  #compile this to combine with other function\n",
    "\n",
    "#####Process train data set###########################################################\n",
    "ut = train_data['unix_timestamp_of_request_utc']\n",
    "temp =  ut.apply(lambda x: datetime.datetime.fromtimestamp(x).strftime('%Y-%m-%d %H:%M:%S'))\n",
    "temp =  temp.apply(lambda x: datetime.datetime.strptime(x, '%Y-%m-%d %H:%M:%S'))\n",
    "utc =   temp.apply(lambda x: x.replace(tzinfo=from_zone))\n",
    "\n",
    "'''\n",
    "print (\"ut:\", ut[:5])\n",
    "print (\"temp:\", temp[:5])\n",
    "print (\"utc:\", utc[:5])\n",
    "'''\n",
    "\n",
    "temp = [] \n",
    "for i in utc:\n",
    "    temp.append(i.astimezone(to_zone))\n",
    "temp = pd.DataFrame(temp, columns=[\"T\"])\n",
    "    \n",
    "train_data_numeric[:,0] = train_data['request_title'].apply(lambda x: len(x.split(' ')))  #Title length\n",
    "train_data_numeric[:,1] = train_data['request_text'].apply(lambda x: len(x.split(' ')))   #Text length\n",
    "train_data_numeric[:,2] = temp['T'].dt.month      #Month in integer\n",
    "train_data_numeric[:,3] = temp['T'].dt.day > 15   #2nd 1/2 month\n",
    "train_data_numeric[:,4] = temp['T'].dt.hour > 12  #Passed noon\n",
    "train_data_numeric[:,5] = train_data['requester_upvotes_minus_downvotes_at_retrieval']\n",
    "train_data_numeric[:,6] = train_data['requester_account_age_in_days_at_retrieval']\n",
    "#Request during weekend\n",
    "train_data_numeric[:,7] = ut.apply(lambda x: datetime.datetime.fromtimestamp(x).weekday() in weekend)\n",
    "#Has Image\n",
    "#experiment with request_text over request_text_edit_aware, and use post_was_edited below it\n",
    "#train_data_numeric[:,8] = train_data['request_text_edit_aware'].apply(lambda x: 1 if find_image.findall(x) else 0 )\n",
    "train_data_numeric[:,8] = train_data['request_text'].apply(lambda x: 1 if find_image.findall(x) else 0 )\n",
    "#Requested date a holiday\n",
    "train_data_numeric[:,9] = (train_data['unix_timestamp_of_request_utc']\n",
    "                           .apply(lambda x: datetime.datetime.fromtimestamp(x).strftime('%Y-%m-%d')) \n",
    "                           .apply(lambda x: 1 if x in holidays else 0))\n",
    "\n",
    "train_data_numeric[:,10] = train_data['post_was_edited']==1\n",
    "train_data_numeric[:,11] = train_data['request_number_of_comments_at_retrieval']>1\n",
    "train_data_numeric[:,12] = train_data['requester_number_of_posts_on_raop_at_retrieval']>1\n",
    "# dont split on ; or ?, as it lowers the result\n",
    "train_data_numeric[:,13] = train_data['request_text'].apply(lambda x: len(re.split(r'[.]',x)))>3 #proxy num sentences\n",
    "train_data_numeric[:,14] = train_data['request_text'].apply(lambda x: avgNumWords(x))>15 #proxy avg num words per sentence\n",
    "train_data_numeric[:,15] = monthsFrom2010(train_data['unix_timestamp_of_request_utc']) #months from raop creation in 12/2010\n",
    "\n",
    "#train_data_numeric[:,11] = train_data['requester_number_of_comments_in_raop_at_retrieval']>1\n",
    "#train_data_numeric[:,12] = train_data['requester_number_of_posts_at_retrieval']>1\n",
    "\n",
    "#######process dev dataset######################################################\n",
    "ut = dev_data['unix_timestamp_of_request_utc']\n",
    "temp = ut.apply(lambda x: datetime.datetime.fromtimestamp(x).strftime('%Y-%m-%d %H:%M:%S'))\n",
    "temp = temp.apply(lambda x: datetime.datetime.strptime(x, '%Y-%m-%d %H:%M:%S'))\n",
    "utc =  temp.apply(lambda x: x.replace(tzinfo=from_zone))\n",
    "\n",
    "temp = [] \n",
    "for i in utc:\n",
    "    temp.append(i.astimezone(to_zone))\n",
    "temp = pd.DataFrame(temp, columns=[\"T\"])\n",
    "\n",
    "dev_data_numeric[:,0] = dev_data['request_title'].apply(lambda x: len(x.split(' '))) \n",
    "dev_data_numeric[:,1] = dev_data['request_text'].apply(lambda x: len(x.split(' ')))\n",
    "dev_data_numeric[:,2] = temp['T'].dt.month\n",
    "dev_data_numeric[:,3] = temp['T'].dt.day > 15\n",
    "dev_data_numeric[:,4] = temp['T'].dt.hour > 12 \n",
    "dev_data_numeric[:,5] = dev_data['requester_upvotes_minus_downvotes_at_retrieval']\n",
    "dev_data_numeric[:,6] = dev_data['requester_account_age_in_days_at_retrieval']>1\n",
    "#Request during weekend\n",
    "dev_data_numeric[:,7] = ut.apply(lambda x: datetime.datetime.fromtimestamp(x).weekday() in weekend) \n",
    "#Include Image\n",
    "#experiment with request_text over request_text_edit_aware, and use post_was_edited below it\n",
    "#dev_data_numeric[:,8] =  dev_data['request_text_edit_aware'].apply(lambda x: 1 if find_image.findall(x) else 0 )\n",
    "dev_data_numeric[:,8] =  dev_data['request_text'].apply(lambda x: 1 if find_image.findall(x) else 0 )\n",
    "dev_data_numeric[:,9] = (dev_data['unix_timestamp_of_request_utc']\n",
    "                         .apply(lambda x: datetime.datetime.fromtimestamp(x).strftime('%Y-%m-%d')) \n",
    "                         .apply(lambda x: 1 if x in holidays else 0))\n",
    "\n",
    "dev_data_numeric[:,10] = dev_data['post_was_edited']==1\n",
    "dev_data_numeric[:,11] = dev_data['request_number_of_comments_at_retrieval']>1\n",
    "dev_data_numeric[:,12] = dev_data['requester_number_of_posts_on_raop_at_retrieval']>1\n",
    "# dont split on ; or ?, as it lowers the result\n",
    "dev_data_numeric[:,13] = dev_data['request_text'].apply(lambda x: len(re.split(r'[.]',x)))>3  #proxy num sentences\n",
    "dev_data_numeric[:,14] = dev_data['request_text'].apply(lambda x: avgNumWords(x))>15  #proxy avg num words per sentence\n",
    "dev_data_numeric[:,15] = monthsFrom2010(dev_data['unix_timestamp_of_request_utc'])  #months from raop creation in 12/2010\n",
    "\n",
    "#dev_data_numeric[:,11] = dev_data['requester_number_of_comments_in_raop_at_retrieval']>1\n",
    "#dev_data_numeric[:,12] = dev_data['requester_number_of_posts_at_retrieval']>1\n",
    "\n",
    "#[:, [0,1,2,3,4,7,8, 9]]\n",
    "###Start Logistic Regresson on numeric data\n",
    "logit = LogisticRegression(C=1, penalty = 'l2')\n",
    "result = logit.fit(train_data_numeric, train_labels)\n",
    "\n",
    "preds = logit.predict(dev_data_numeric)\n",
    "F_Score = metrics.f1_score(dev_labels, preds, average='binary')\n",
    "pred_probas = logit.predict_proba(dev_data_numeric)\n",
    "\n",
    "#How many positive case\n",
    "print preds.sum()\n",
    "print result.coef_\n",
    "\n",
    "model_output(pred_probas, F_Score, preds)"
   ]
  },
  {
   "cell_type": "code",
   "execution_count": 31,
   "metadata": {
    "collapsed": false
   },
   "outputs": [],
   "source": [
    "from scipy import sparse\n",
    "from scipy.sparse import csr_matrix \n",
    "from scipy.sparse import coo_matrix, hstack\n",
    "from bs4 import BeautifulSoup\n",
    "\n",
    "def first_preprocessor(s):\n",
    "    #convert to lowercase\n",
    "    s=s.lower()\n",
    "    s=re.sub(\"[,.!?:;/~*]\",\" \",s)\n",
    "    #remove duplicated 0s and 1s\n",
    "    s=re.sub(\"[0-9]*\",\"\",s)\n",
    "    #remove number longer than 5 digit\n",
    "    s=re.sub(\"[0-9]{5,}\",\"\",s)\n",
    "    #remove stem end with 'ly'\n",
    "    s=re.sub(\"ly\\s\",\" \",s)\n",
    "    #remove plural form\n",
    "    s=re.sub(\"s\\s\",\" \",s)\n",
    "    s=re.sub(\"s\\Z\",\" \",s)\n",
    "    #remove _ as the end of word\n",
    "    s=re.sub(\"[_]+\",\" \",s)\n",
    "    #remove _ as start of the word\n",
    "    s=re.sub(\"\\s[_]+\",\" \",s)\n",
    "    #remove stem end with 'ness'\n",
    "    s=re.sub(\"ness\\s\",\" \",s)\n",
    "    s=re.sub(\"ing\\s\",\" \",s)\n",
    "    #remove words that are too short\n",
    "    s=re.sub(\"\\s[0-9a-z]{1,2}\\s\",\" \",s)\n",
    "    s=re.sub(\"\\s[0-9a-z]{1,2}\\Z\",\" \",s)\n",
    "    s = BeautifulSoup(s).get_text() # Newly addition\n",
    "\n",
    "    return s\n",
    "\n",
    "def empty_preprocessor(s):\n",
    "    return s\n",
    "\n",
    "\n",
    "def tune_para(L1,L2):\n",
    "    model_LG_L1 = LogisticRegression(penalty ='l1',C=L1)\n",
    "    model_LG_L1.fit(word_matrix_process, train_labels)\n",
    "\n",
    "    index=[]\n",
    "    for i,z in enumerate(np.sum(np.abs(model_LG_L1.coef_),axis=0) ):\n",
    "        if z!=0:\n",
    "            index.append(i)\n",
    "\n",
    "    model_LG_L2 = LogisticRegression(penalty ='l2',C=L2 )\n",
    "    model_LG_L2.fit(word_matrix_process[:,index], train_labels)\n",
    "    \n",
    "    f1_score=metrics.f1_score(dev_labels,model_LG_L2.predict(dev_matrix_process[:,index]),average='binary')\n",
    "    \n",
    "    return f1_score\n"
   ]
  },
  {
   "cell_type": "code",
   "execution_count": 11,
   "metadata": {
    "collapsed": false
   },
   "outputs": [
    {
     "name": "stdout",
     "output_type": "stream",
     "text": [
      "212\n",
      "giver_username_if_known\n",
      "in_test_set\n",
      "number_of_downvotes_of_request_at_retrieval\n",
      "number_of_upvotes_of_request_at_retrieval\n",
      "post_was_edited\n",
      "request_id\n",
      "request_number_of_comments_at_retrieval\n",
      "request_text\n",
      "request_text_edit_aware\n",
      "request_title\n",
      "requester_account_age_in_days_at_request\n",
      "requester_account_age_in_days_at_retrieval\n",
      "requester_days_since_first_post_on_raop_at_request\n",
      "requester_days_since_first_post_on_raop_at_retrieval\n",
      "requester_number_of_comments_at_request\n",
      "requester_number_of_comments_at_retrieval\n",
      "requester_number_of_comments_in_raop_at_request\n",
      "requester_number_of_comments_in_raop_at_retrieval\n",
      "requester_number_of_posts_at_request\n",
      "requester_number_of_posts_at_retrieval\n",
      "requester_number_of_posts_on_raop_at_request\n",
      "requester_number_of_posts_on_raop_at_retrieval\n",
      "requester_number_of_subreddits_at_request\n",
      "requester_subreddits_at_request\n",
      "requester_upvotes_minus_downvotes_at_request\n",
      "requester_upvotes_minus_downvotes_at_retrieval\n",
      "requester_upvotes_plus_downvotes_at_request\n",
      "requester_upvotes_plus_downvotes_at_retrieval\n",
      "requester_user_flair\n",
      "requester_username\n",
      "unix_timestamp_of_request\n",
      "unix_timestamp_of_request_utc\n",
      "32\n"
     ]
    }
   ],
   "source": [
    "print train_data.loc[0,'requester_upvotes_minus_downvotes_at_retrieval']\n",
    "c = 0\n",
    "for i in list(train_data):\n",
    "    c = c +1\n",
    "    print i\n",
    "print len(list(train_data))"
   ]
  },
  {
   "cell_type": "markdown",
   "metadata": {
    "collapsed": true
   },
   "source": [
    "# Text Analysis"
   ]
  },
  {
   "cell_type": "code",
   "execution_count": 32,
   "metadata": {
    "collapsed": false
   },
   "outputs": [],
   "source": [
    "train_text=train_data['request_text'].as_matrix()\n",
    "train_title=train_data['request_title'].as_matrix()\n",
    "train_all = train_text+train_title\n",
    "\n",
    "dev_text=dev_data['request_text'].as_matrix()\n",
    "dev_title=dev_data['request_title'].as_matrix()\n",
    "dev_all = dev_text+dev_title\n"
   ]
  },
  {
   "cell_type": "markdown",
   "metadata": {},
   "source": [
    "###1)Baseline: no reprocess, no feature selection"
   ]
  },
  {
   "cell_type": "code",
   "execution_count": 267,
   "metadata": {
    "collapsed": false
   },
   "outputs": [
    {
     "name": "stdout",
     "output_type": "stream",
     "text": [
      "f1_score: 0.301158\n",
      "precision_score: 0.346154\n",
      "recall_score: 0.266515\n"
     ]
    }
   ],
   "source": [
    "def empty_preprocessor(s):\n",
    "    return s\n",
    "\n",
    "\n",
    "vectorizer_process = CountVectorizer(preprocessor =empty_preprocessor,analyzer='word',stop_words='english' )\n",
    "word_matrix_process= vectorizer_process.fit_transform(train_all)\n",
    "dev_matrix_process = vectorizer_process.transform(dev_all)\n",
    "\n",
    "\n",
    "model_LG = LogisticRegression(penalty ='l2',C=12)\n",
    "model_LG.fit(word_matrix_process, train_labels)\n",
    "\n",
    "print('f1_score: %f' %metrics.f1_score(dev_labels,model_LG.predict(dev_matrix_process),average='binary'))\n",
    "print('precision_score: %f' %metrics.precision_score(dev_labels,model_LG.predict(dev_matrix_process)))\n",
    "print('recall_score: %f' %metrics.recall_score(dev_labels,model_LG.predict(dev_matrix_process)))"
   ]
  },
  {
   "cell_type": "markdown",
   "metadata": {},
   "source": [
    "###2)Add preprocessing and L1 feature selection"
   ]
  },
  {
   "cell_type": "markdown",
   "metadata": {},
   "source": [
    "===>>Add Preprocessing"
   ]
  },
  {
   "cell_type": "code",
   "execution_count": 4,
   "metadata": {
    "collapsed": true
   },
   "outputs": [],
   "source": [
    "#Roc curve:\n",
    "from sklearn.metrics import roc_curve, auc\n",
    "\n",
    "def model_output(pred_probas, F_Score, preds):\n",
    "\n",
    "    print (\"Model F-Score = %0.4f \"%(F_Score))  #Sum up Squared Weights\n",
    "    accuracy = np.where(preds==dev_labels, 1, 0).sum() / float(len(dev_labels))\n",
    "    print (\"Accuracy = %0.4f\"    % (accuracy))\n",
    "    print ('precision_score: %f'  % metrics.precision_score(dev_labels, preds))\n",
    "    print ('recall_score: %0.4f' % metrics.recall_score(dev_labels, preds))\n",
    "    print ('roc_auc_score: %0.4f'% metrics.roc_auc_score(dev_labels, preds))\n",
    "\n",
    "#Create ROC Curve\n",
    "\n",
    "    fpr,tpr,_ = roc_curve(dev_labels, pred_probas[:,1])\n",
    "    roc_auc = auc(fpr,tpr)\n",
    "    plt.plot(fpr,tpr,label='area = %.4f' %roc_auc)\n",
    "    plt.plot([0, 1], [0, 1], 'k--')\n",
    "    plt.xlim([0.0, 1.0])\n",
    "    plt.ylim([0.0, 1.05])\n",
    "    plt.legend(loc='lower right')"
   ]
  },
  {
   "cell_type": "code",
   "execution_count": 25,
   "metadata": {
    "collapsed": false
   },
   "outputs": [
    {
     "name": "stdout",
     "output_type": "stream",
     "text": [
      "When l1=580 ,l2=47 , f1 score is 0.336075\n"
     ]
    }
   ],
   "source": [
    "# train_data_array=train_data['request_text'].as_matrix()\n",
    "vectorizer_process = CountVectorizer(preprocessor = first_preprocessor,analyzer='word',stop_words='english', tokenizer=tokenize)\n",
    "word_matrix_process= vectorizer_process.fit_transform(train_all)\n",
    "dev_matrix_process = vectorizer_process.transform(dev_all)\n",
    "\n",
    "max=0\n",
    "l1=0\n",
    "l2=0\n",
    "for i in range(500,600,10):\n",
    "    for j in range(1,50,2):\n",
    "        acc=tune_para(i,j)\n",
    "        if acc>max:\n",
    "            max=acc\n",
    "            l1=i\n",
    "            l2=j\n",
    "print('When l1=%i ,l2=%i , f1 score is %f' %(l1,l2,max))"
   ]
  },
  {
   "cell_type": "markdown",
   "metadata": {},
   "source": [
    "# Random Forest"
   ]
  },
  {
   "cell_type": "code",
   "execution_count": 46,
   "metadata": {
    "collapsed": false
   },
   "outputs": [
    {
     "name": "stdout",
     "output_type": "stream",
     "text": [
      "Number of positive predictions: 211\n",
      "Model F-Score = 0.5662 \n",
      "Accuracy = 0.8337\n",
      "precision_score: 0.872038\n",
      "recall_score: 0.4191\n",
      "roc_auc_score: 0.6988\n"
     ]
    },
    {
     "data": {
      "image/png": "[encoded data removed]",
      "text/plain": [
       "<matplotlib.figure.Figure at 0x1133815d0>"
      ]
     },
     "metadata": {},
     "output_type": "display_data"
    }
   ],
   "source": [
    "# Import the random forest package\n",
    "from sklearn.ensemble import RandomForestClassifier \n",
    "\n",
    "#Best non-ensemble method so far\n",
    "np.random.seed(0)\n",
    "\n",
    "vectorizer_process = CountVectorizer(analyzer='word',stop_words='english',preprocessor = first_preprocessor)\n",
    "word_matrix_process= vectorizer_process.fit_transform(train_all)\n",
    "dev_matrix_process = vectorizer_process.transform(dev_all)\n",
    "\n",
    "model_LG_L1 = LogisticRegression(penalty ='l1',C=0.1)#C from the above test\n",
    "model_LG_L1.fit(word_matrix_process, train_labels)\n",
    "\n",
    "#Update the new index\n",
    "index=[]\n",
    "for i,z in enumerate(np.sum(np.abs(model_LG_L1.coef_),axis=0) ):\n",
    "    if z!=0:\n",
    "        index.append(i)\n",
    "\n",
    "all_data_train = np.append(word_matrix_process[:,index].toarray(), train_data_numeric, 1)\n",
    "\n",
    "# Create the random forest object which will include all the parameters\n",
    "forest = RandomForestClassifier(n_estimators = 7000)\n",
    "\n",
    "# Fit RandomForest\n",
    "forest = forest.fit(all_data_train, train_labels)\n",
    "\n",
    "all_data_dev = np.append(dev_matrix_process[:,index].toarray(), dev_data_numeric, 1)\n",
    "\n",
    "# Take the same decision trees and run it on the test data\n",
    "preds = forest.predict(all_data_dev)\n",
    "\n",
    "#preds = model_LG.predict(all_data_dev)\n",
    "F_Score = metrics.f1_score(dev_labels, preds, average='binary')\n",
    "pred_probas = forest.predict_proba(all_data_dev)\n",
    "\n",
    "print \"Number of positive predictions: %d\" % (sum(preds))\n",
    "#Call to display outputs\n",
    "model_output(pred_probas, F_Score, preds) #Please input pred_probas, F_Score, and prediction(preds)"
   ]
  },
  {
   "cell_type": "code",
   "execution_count": 50,
   "metadata": {
    "collapsed": false
   },
   "outputs": [
    {
     "name": "stdout",
     "output_type": "stream",
     "text": [
      "Number of positive predictions: 182\n",
      "Model F-Score = 0.5217 \n",
      "Accuracy = 0.8249\n",
      "precision_score: 0.890110\n",
      "recall_score: 0.3690\n",
      "roc_auc_score: 0.6766\n"
     ]
    },
    {
     "data": {
      "image/png": "[encoded data removed]",
      "text/plain": [
       "<matplotlib.figure.Figure at 0x1141e6850>"
      ]
     },
     "metadata": {},
     "output_type": "display_data"
    }
   ],
   "source": [
    "#Big Model II: Run L1 after combine\n",
    "\n",
    "# Import the random forest package\n",
    "from sklearn.ensemble import RandomForestClassifier \n",
    "\n",
    "#Best non-ensemble method so far\n",
    "np.random.seed(0)\n",
    "\n",
    "vectorizer_process = CountVectorizer(analyzer='word',stop_words='english',preprocessor = first_preprocessor)\n",
    "word_matrix_process= vectorizer_process.fit_transform(train_all)\n",
    "dev_matrix_process = vectorizer_process.transform(dev_all)\n",
    "\n",
    "all_data_train = np.append(word_matrix_process.toarray(), train_data_numeric, 1)\n",
    "\n",
    "model_LG_L1 = LogisticRegression(penalty ='l1',C=0.01)#C from the above test\n",
    "model_LG_L1.fit(all_data_train, train_labels)\n",
    "\n",
    "#Update the new index\n",
    "index=[]\n",
    "for i,z in enumerate(np.sum(np.abs(model_LG_L1.coef_),axis=0) ):\n",
    "    if z!=0:\n",
    "        index.append(i)\n",
    "\n",
    "#all_data_train = np.append(word_matrix_process[:,index].toarray(), train_data_numeric, 1)\n",
    "\n",
    "# Create the random forest object which will include all the parameters\n",
    "forest = RandomForestClassifier(n_estimators = 7000)\n",
    "\n",
    "# Fit RandomForest\n",
    "forest = forest.fit(all_data_train[:,index], train_labels)\n",
    "\n",
    "all_data_dev = np.append(dev_matrix_process.toarray(), dev_data_numeric, 1)\n",
    "\n",
    "# Take the same decision trees and run it on the test data\n",
    "preds = forest.predict(all_data_dev[:,index])\n",
    "\n",
    "#preds = model_LG.predict(all_data_dev)\n",
    "F_Score = metrics.f1_score(dev_labels, preds, average='binary')\n",
    "pred_probas = forest.predict_proba(all_data_dev[:,index])\n",
    "\n",
    "print \"Number of positive predictions: %d\" % (sum(preds))\n",
    "#Call to display outputs\n",
    "model_output(pred_probas, F_Score, preds) #Please input pred_probas, F_Score, and prediction(preds)"
   ]
  },
  {
   "cell_type": "markdown",
   "metadata": {
    "collapsed": true
   },
   "source": [
    "#Best Model so far:"
   ]
  },
  {
   "cell_type": "code",
   "execution_count": 51,
   "metadata": {
    "collapsed": false
   },
   "outputs": [
    {
     "name": "stdout",
     "output_type": "stream",
     "text": [
      "Number of positive predictions: 242\n",
      "Model F-Score = 0.5962 \n",
      "Accuracy = 0.8379\n",
      "precision_score: 0.838843\n",
      "recall_score: 0.4624\n",
      "roc_auc_score: 0.7157\n"
     ]
    },
    {
     "data": {
      "image/png": "[encoded data removed]",
      "text/plain": [
       "<matplotlib.figure.Figure at 0x115c2cf10>"
      ]
     },
     "metadata": {},
     "output_type": "display_data"
    }
   ],
   "source": [
    "#Best non-ensemble method so far\n",
    "np.random.seed(0)\n",
    "\n",
    "vectorizer_process = CountVectorizer(analyzer='word',stop_words='english',preprocessor = first_preprocessor)\n",
    "word_matrix_process= vectorizer_process.fit_transform(train_all)\n",
    "dev_matrix_process = vectorizer_process.transform(dev_all)\n",
    "\n",
    "model_LG_L1 = LogisticRegression(penalty ='l1',C=0.01)#C from the above test\n",
    "model_LG_L1.fit(word_matrix_process, train_labels)\n",
    "\n",
    "#Update the new index\n",
    "index=[]\n",
    "for i,z in enumerate(np.sum(np.abs(model_LG_L1.coef_),axis=0) ):\n",
    "    if z!=0:\n",
    "        index.append(i)\n",
    "\n",
    "all_data_train = np.append(word_matrix_process[:,index].toarray(), train_data_numeric, 1)\n",
    "\n",
    "model_LG = LogisticRegression(penalty ='l2',C=0.1)#C from the above test\n",
    "model_LG.fit(all_data_train, train_labels)\n",
    "\n",
    "all_data_dev = np.append(dev_matrix_process[:,index].toarray(), dev_data_numeric, 1)\n",
    "\n",
    "LG_preds = model_LG.predict(all_data_dev)\n",
    "F_Score = metrics.f1_score(dev_labels, LG_preds, average='binary')\n",
    "pred_probas = model_LG.predict_proba(all_data_dev)\n",
    "\n",
    "print \"Number of positive predictions: %d\" % (sum(LG_preds))\n",
    "#Call to display outputs\n",
    "model_output(pred_probas, F_Score, LG_preds) #Please input pred_probas, F_Score, and prediction(preds)"
   ]
  },
  {
   "cell_type": "code",
   "execution_count": 114,
   "metadata": {
    "collapsed": false
   },
   "outputs": [
    {
     "name": "stdout",
     "output_type": "stream",
     "text": [
      "Number of positive predictions: 234\n",
      "Model F-Score = 0.5944 \n",
      "Accuracy = 0.8390\n",
      "precision_score: 0.854701\n",
      "recall_score: 0.4556\n",
      "roc_auc_score: 0.7143\n"
     ]
    },
    {
     "data": {
      "image/png": "[encoded data removed]",
      "text/plain": [
       "<matplotlib.figure.Figure at 0x10faa4110>"
      ]
     },
     "metadata": {},
     "output_type": "display_data"
    }
   ],
   "source": [
    "#Basic Ensemble\n",
    "#Best Model\n",
    "# Import the random forest package\n",
    "from sklearn.ensemble import RandomForestClassifier \n",
    "\n",
    "#Best non-ensemble method so far\n",
    "np.random.seed(0)\n",
    "\n",
    "vectorizer_process = CountVectorizer(analyzer='word',stop_words='english',preprocessor = first_preprocessor)\n",
    "word_matrix_process= vectorizer_process.fit_transform(train_all)\n",
    "dev_matrix_process = vectorizer_process.transform(dev_all)\n",
    "\n",
    "model_LG_L1 = LogisticRegression(penalty ='l1',C=0.1)#C from the above test\n",
    "model_LG_L1.fit(word_matrix_process, train_labels)\n",
    "\n",
    "#Update the new index\n",
    "index=[]\n",
    "for i,z in enumerate(np.sum(np.abs(model_LG_L1.coef_),axis=0) ):\n",
    "    if z!=0:\n",
    "        index.append(i)\n",
    "all_data_train = 0\n",
    "all_data_train = np.append(word_matrix_process[:,index].toarray(), train_data_numeric, 1)\n",
    "all_data_train = np.insert(all_data_train, all_data_train.shape[1], LG_t[:,1], axis=1)  #LG output\n",
    "#all_data_train = np.insert(all_data_train, all_data_train.shape[1], NB_t[:,1], axis=1)\n",
    "\n",
    "# Create the random forest object which will include all the parameters\n",
    "forest = RandomForestClassifier(n_estimators = 10000)\n",
    "\n",
    "# Fit the training data to the Survived labels and create the decision trees\n",
    "forest = forest.fit(all_data_train, train_labels)\n",
    "\n",
    "all_data_dev = 0\n",
    "all_data_dev = np.append(dev_matrix_process[:,index].toarray(), dev_data_numeric, 1)\n",
    "all_data_dev = np.insert(all_data_dev, all_data_dev.shape[1], LG_d[:,1], axis=1)\n",
    "#all_data_dev = np.insert(all_data_dev, all_data_dev.shape[1], NB_d[:,1], axis=1)\n",
    "\n",
    "# Take the same decision trees and run it on the test data\n",
    "preds = forest.predict(all_data_dev)\n",
    "\n",
    "#preds = model_LG.predict(all_data_dev)\n",
    "F_Score = metrics.f1_score(dev_labels, preds, average='binary')\n",
    "pred_probas = forest.predict_proba(all_data_dev)\n",
    "\n",
    "print \"Number of positive predictions: %d\" % (sum(preds))\n",
    "#Call to display outputs\n",
    "model_output(pred_probas, F_Score, preds) #Please input pred_probas, F_Score, and prediction(preds)"
   ]
  },
  {
   "cell_type": "code",
   "execution_count": 111,
   "metadata": {
    "collapsed": false
   },
   "outputs": [
    {
     "name": "stdout",
     "output_type": "stream",
     "text": [
      "nano\n"
     ]
    }
   ],
   "source": [
    "print 'nano'"
   ]
  },
  {
   "cell_type": "code",
   "execution_count": 112,
   "metadata": {
    "collapsed": false
   },
   "outputs": [
    {
     "name": "stdout",
     "output_type": "stream",
     "text": [
      "nano\n"
     ]
    }
   ],
   "source": [
    "#Ensemble Input one\n",
    "np.random.seed(0)\n",
    "\n",
    "vectorizer_process = CountVectorizer(analyzer='word',stop_words='english',preprocessor = first_preprocessor)\n",
    "word_matrix_process= vectorizer_process.fit_transform(train_all)\n",
    "dev_matrix_process = vectorizer_process.transform(dev_all)\n",
    "\n",
    "model_LG_L1 = LogisticRegression(penalty ='l1',C=0.01)#C from the above test\n",
    "model_LG_L1.fit(word_matrix_process, train_labels)\n",
    "\n",
    "#Update the new index\n",
    "index=[]\n",
    "for i,z in enumerate(np.sum(np.abs(model_LG_L1.coef_),axis=0) ):\n",
    "    if z!=0:\n",
    "        index.append(i)\n",
    "\n",
    "all_data_train = 0\n",
    "all_data_dev = 0\n",
    "\n",
    "all_data_train = np.append(word_matrix_process[:,index].toarray(), train_data_numeric, 1)\n",
    "\n",
    "\n",
    "model_LG = LogisticRegression(penalty ='l2',C=0.1)#C from the above test\n",
    "model_LG.fit(all_data_train, train_labels)\n",
    "all_data_dev = np.append(dev_matrix_process[:,index].toarray(), dev_data_numeric, 1)\n",
    "\n",
    "LG_t = model_LG.predict_proba(all_data_train)\n",
    "LG_d = model_LG.predict_proba(all_data_dev)\n",
    "\n",
    "print 'nano'"
   ]
  },
  {
   "cell_type": "markdown",
   "metadata": {},
   "source": [
    "#Adding Naive Bayes Does not Help overall performance\n",
    "#Best model currently is Ensemble of LG + randomforest"
   ]
  },
  {
   "cell_type": "code",
   "execution_count": 106,
   "metadata": {
    "collapsed": false
   },
   "outputs": [
    {
     "name": "stdout",
     "output_type": "stream",
     "text": [
      "Number of positive predictions: 1646\n",
      "Model F-Score = 0.4201 \n",
      "Accuracy = 0.2871\n",
      "precision_score: 0.266100\n",
      "recall_score: 0.9977\n",
      "roc_auc_score: 0.5184\n"
     ]
    },
    {
     "data": {
      "image/png": "[encoded data removed]",
      "text/plain": [
       "<matplotlib.figure.Figure at 0x113391810>"
      ]
     },
     "metadata": {},
     "output_type": "display_data"
    }
   ],
   "source": [
    "#AdaBoost\n",
    "from sklearn.ensemble import AdaBoostClassifier\n",
    "from sklearn.tree import DecisionTreeClassifier\n",
    "\n",
    "#Best non-ensemble method so far\n",
    "np.random.seed(0)\n",
    "\n",
    "vectorizer_process = CountVectorizer(analyzer='word',stop_words='english',preprocessor = first_preprocessor)\n",
    "word_matrix_process= vectorizer_process.fit_transform(train_all)\n",
    "dev_matrix_process = vectorizer_process.transform(dev_all)\n",
    "\n",
    "model_LG_L1 = LogisticRegression(penalty ='l1',C=0.008)#C from the above test\n",
    "model_LG_L1.fit(word_matrix_process, train_labels)\n",
    "\n",
    "#Update the new index\n",
    "index=[]\n",
    "for i,z in enumerate(np.sum(np.abs(model_LG_L1.coef_),axis=0) ):\n",
    "    if z!=0:\n",
    "        index.append(i)\n",
    "        \n",
    "bdt = AdaBoostClassifier(DecisionTreeClassifier(max_depth=1),\n",
    "                         algorithm=\"SAMME\",\n",
    "                         n_estimators=10000)\n",
    "\n",
    "all_data_train = np.append(word_matrix_process[:,index].toarray(), train_data_numeric, 1)\n",
    "# Fit AdaBoost\n",
    "ada = bdt.fit(all_data_train, train_labels)\n",
    "\n",
    "all_data_dev = np.append(dev_matrix_process[:,index].toarray(), dev_data_numeric, 1)\n",
    "\n",
    "# Take the same decision trees and run it on the test data\n",
    "preds = ada.predict(all_data_dev)\n",
    "\n",
    "#preds = model_LG.predict(all_data_dev)\n",
    "F_Score = metrics.f1_score(dev_labels, preds, average='binary')\n",
    "pred_probas = ada.predict_proba(all_data_dev)\n",
    "\n",
    "print \"Number of positive predictions: %d\" % (sum(preds))\n",
    "#Call to display outputs\n",
    "model_output(pred_probas, F_Score, preds) #Please input pred_probas, F_Score, and prediction(preds)"
   ]
  },
  {
   "cell_type": "code",
   "execution_count": 89,
   "metadata": {
    "collapsed": false
   },
   "outputs": [
    {
     "name": "stdout",
     "output_type": "stream",
     "text": [
      "Number of positive predictions: 289\n",
      "Model F-Score = 0.3516 \n",
      "Accuracy = 0.7217\n",
      "precision_score: 0.442907\n",
      "recall_score: 0.2916\n",
      "roc_auc_score: 0.5817\n"
     ]
    },
    {
     "data": {
      "image/png": "[encoded data removed]",
      "text/plain": [
       "<matplotlib.figure.Figure at 0x115e1f190>"
      ]
     },
     "metadata": {},
     "output_type": "display_data"
    }
   ],
   "source": [
    "#Naive Bayes\n",
    "np.random.seed(0)\n",
    "\n",
    "vectorizer_process = CountVectorizer(analyzer='word',stop_words='english',preprocessor = first_preprocessor)\n",
    "word_matrix_process= vectorizer_process.fit_transform(train_all)\n",
    "dev_matrix_process = vectorizer_process.transform(dev_all)\n",
    "\n",
    "model_LG_L1 = LogisticRegression(penalty ='l1',C=0.1)#C from the above test\n",
    "model_LG_L1.fit(word_matrix_process, train_labels)\n",
    "\n",
    "#Update the new index\n",
    "index=[]\n",
    "for i,z in enumerate(np.sum(np.abs(model_LG_L1.coef_),axis=0) ):\n",
    "    if z!=0:\n",
    "        index.append(i)\n",
    "\n",
    "bnb = BernoulliNB(alpha=0.001, binarize=0.5)\n",
    "bnb.fit(word_matrix_process[:,index].toarray(), train_labels)\n",
    "NB_t = bnb.predict_proba(word_matrix_process[:,index].toarray())\n",
    "NB_d = bnb.predict_proba(dev_matrix_process[:,index].toarray())\n",
    "#Update the new index\n",
    "# Take the same decision trees and run it on the test data\n",
    "preds = bnb.predict(dev_matrix_process[:,index].toarray())\n",
    "\n",
    "#preds = model_LG.predict(all_data_dev)\n",
    "F_Score = metrics.f1_score(dev_labels, preds, average='binary')\n",
    "pred_probas = bnb.predict_proba(dev_matrix_process[:,index].toarray())\n",
    "\n",
    "print \"Number of positive predictions: %d\" % (sum(preds))\n",
    "#Call to display outputs\n",
    "model_output(pred_probas, F_Score, preds)"
   ]
  },
  {
   "cell_type": "code",
   "execution_count": 80,
   "metadata": {
    "collapsed": false
   },
   "outputs": [
    {
     "name": "stdout",
     "output_type": "stream",
     "text": [
      "Number of positive predictions: 280\n",
      "Model F-Score = 0.4757 \n",
      "Accuracy = 0.7777\n",
      "precision_score: 0.610714\n",
      "recall_score: 0.3895\n",
      "roc_auc_score: 0.6514\n"
     ]
    },
    {
     "data": {
      "image/png": "[encoded data removed]",
      "text/plain": [
       "<matplotlib.figure.Figure at 0x113d3c3d0>"
      ]
     },
     "metadata": {},
     "output_type": "display_data"
    }
   ],
   "source": [
    "#LG numeric + RF_text ensemble\n",
    "from sklearn.ensemble import RandomForestClassifier \n",
    "#Best non-ensemble method so far\n",
    "np.random.seed(0)\n",
    "\n",
    "vectorizer_process = CountVectorizer(analyzer='word',stop_words='english',preprocessor = first_preprocessor)\n",
    "word_matrix_process= vectorizer_process.fit_transform(train_all)\n",
    "dev_matrix_process = vectorizer_process.transform(dev_all)\n",
    "\n",
    "model_LG_L1 = LogisticRegression(penalty ='l1',C=0.1)#C from the above test\n",
    "model_LG_L1.fit(word_matrix_process, train_labels)\n",
    "\n",
    "#Update the new index\n",
    "index=[]\n",
    "for i,z in enumerate(np.sum(np.abs(model_LG_L1.coef_),axis=0) ):\n",
    "    if z!=0:\n",
    "        index.append(i)\n",
    "\n",
    "word_matrix_process[:,index].toarray()\n",
    "\n",
    "# Create the random forest object which will include all the parameters\n",
    "forest = RandomForestClassifier(n_estimators = 7000)\n",
    "\n",
    "# Fit RandomForest\n",
    "forest = forest.fit(word_matrix_process[:,index].toarray(), train_labels)\n",
    "\n",
    "RF_t = forest.predict_proba(word_matrix_process[:,index].toarray())\n",
    "RF_d = forest.predict_proba(dev_matrix_process[:,index].toarray())\n",
    "########################################################################\n",
    "########################################Training LG models#############\n",
    "\n",
    "all_data_train = np.insert(train_data_numeric, train_data_numeric.shape[1], RF_t[:,1], axis=1)\n",
    "all_data_dev   = np.insert(dev_data_numeric, dev_data_numeric.shape[1], RF_d[:,1], axis=1)\n",
    "\n",
    "model_LG = LogisticRegression(penalty ='l2',C=1)#C from the above test\n",
    "model_LG.fit(all_data_train, train_labels)\n",
    "\n",
    "LG_preds = model_LG.predict(all_data_dev)\n",
    "F_Score = metrics.f1_score(dev_labels, LG_preds, average='binary')\n",
    "pred_probas = model_LG.predict_proba(all_data_dev)\n",
    "\n",
    "print \"Number of positive predictions: %d\" % (sum(LG_preds))\n",
    "#Call to display outputs\n",
    "model_output(pred_probas, F_Score, LG_preds) #Please input pred_probas, F_Score, and prediction(preds)"
   ]
  },
  {
   "cell_type": "code",
   "execution_count": 332,
   "metadata": {
    "collapsed": false
   },
   "outputs": [
    {
     "name": "stdout",
     "output_type": "stream",
     "text": [
      "3975\n",
      "(3975, 11018)\n",
      "(3975,)\n",
      "(3975, 11019)\n"
     ]
    }
   ],
   "source": [
    "all_data = np.append(word_matrix_process.toarray(), train_data_numeric, 1)\n",
    "print all_data_train.shape[1]\n",
    "print all_data.shape\n",
    "b = np.array(LG_t)\n",
    "print b.shape\n",
    "#print LG_d.shape\n",
    "#np.concatenate((my_data, new_col), 1)\n",
    "a = np.insert(all_data, 11018, LG_t, axis=1)\n",
    "#a = np.concatenate((all_data, b.T), axis = 1)\n",
    "print a.shape"
   ]
  },
  {
   "cell_type": "code",
   "execution_count": null,
   "metadata": {
    "collapsed": true
   },
   "outputs": [],
   "source": [
    "#Basic Ensemble Method:\n",
    "np.random.seed(0)\n",
    "vectorizer_process = CountVectorizer(analyzer='word',stop_words='english',preprocessor = first_preprocessor)\n",
    "word_matrix_process= vectorizer_process.fit_transform(train_all)\n",
    "dev_matrix_process = vectorizer_process.transform(dev_all)\n",
    "\n",
    "\n",
    "model_LG_L1 = LogisticRegression(penalty ='l1',C=510)#C from the above test\n",
    "model_LG_L1.fit(word_matrix_process.toarray(), train_labels)\n",
    "\n",
    "#Update the new index\n",
    "index=[]\n",
    "for i,z in enumerate(np.sum(np.abs(model_LG_L1.coef_),axis=0) ):\n",
    "    if z!=0:\n",
    "        index.append(i)\n",
    "            \n",
    "all_data = np.append(word_matrix_process[:,index], train_data_numeric, 1)\n",
    "model_LG = LogisticRegression(penalty ='l2',C=11)#C from the above test\n",
    "\n",
    "\n",
    "model_LG.fit(word_matrix_process[:,index], train_labels)\n",
    "\n",
    "\n",
    "preds = model_LG.predict(dev_matrix_process[:,index])\n",
    "F_Score = metrics.f1_score(dev_labels, preds, average='binary')\n",
    "pred_probas = model_LG.predict_proba(dev_matrix_process[:,index])\n",
    "\n",
    "\n",
    "#Call to display outputs\n",
    "model_output(pred_probas, F_Score, preds) #Please input pred_probas, F_Score, and prediction(preds)\n"
   ]
  },
  {
   "cell_type": "code",
   "execution_count": 276,
   "metadata": {
    "collapsed": false
   },
   "outputs": [
    {
     "name": "stdout",
     "output_type": "stream",
     "text": [
      "<type 'numpy.ndarray'>\n",
      "394\n",
      "Model F-Score = 0.3289 \n",
      "Accuracy = 0.6704\n",
      "precision_score: 0.347716\n",
      "recall_score: 0.3121\n",
      "roc_auc_score: 0.5538\n"
     ]
    },
    {
     "data": {
      "image/png": "[encoded data removed]",
      "text/plain": [
       "<matplotlib.figure.Figure at 0x1154e9cd0>"
      ]
     },
     "metadata": {},
     "output_type": "display_data"
    }
   ],
   "source": [
    "#Basic Ensemble Method:\n",
    "np.random.seed(0)\n",
    "vectorizer_process = CountVectorizer(analyzer='word',stop_words='english',preprocessor = first_preprocessor)\n",
    "word_matrix_process= vectorizer_process.fit_transform(train_all)\n",
    "dev_matrix_process = vectorizer_process.transform(dev_all)\n",
    "\n",
    "print type(word_matrix_process.toarray())\n",
    "\n",
    "model_LG_L1 = LogisticRegression(penalty ='l1',C=510)#C from the above test\n",
    "model_LG_L1.fit(word_matrix_process.toarray(), train_labels)\n",
    "\n",
    "#Update the new index\n",
    "index=[]\n",
    "for i,z in enumerate(np.sum(np.abs(model_LG_L1.coef_),axis=0) ):\n",
    "    if z!=0:\n",
    "        index.append(i)\n",
    "            \n",
    "model_LG = LogisticRegression(penalty ='l2',C=11)#C from the above test\n",
    "model_LG.fit(word_matrix_process[:,index], train_labels)\n",
    "\n",
    "\n",
    "#######Ensemble Method Starts###################################\n",
    "logit = LogisticRegression()\n",
    "logit_en = LogisticRegression()\n",
    "logit.fit(train_data_numeric[:,:], train_labels)\n",
    "\n",
    "#Create a new set of step 2 logistic regression based on step 1 probability outputs\n",
    "#X1: predicted prob. of positive labels with text-based model\n",
    "#X2: predicted prob. of positive labels with text-based model\n",
    "En_X1_train = logit.predict_proba(train_data_numeric[:,:])[:,1]\n",
    "En_X2_train = model_LG.predict_proba(word_matrix_process[:,index])[:,1]\n",
    "En_X1_dev = logit.predict_proba(dev_data_numeric[:,:])[:,1]\n",
    "En_X2_dev = model_LG.predict_proba(dev_matrix_process[:,index])[:,1]\n",
    "\n",
    "t_size = len(En_X1_train)\n",
    "d_size = len(En_X1_dev)\n",
    "En_train = np.zeros((t_size, 2))\n",
    "En_dev = np.zeros((d_size, 2))\n",
    "\n",
    "En_train[:,0] = np.round(En_X1_train, 2)\n",
    "En_train[:,1] = np.round(En_X2_train, 2)\n",
    "En_dev[:,0] =   np.round(En_X1_dev, 2)\n",
    "En_dev[:,1] =   np.round(En_X2_dev, 2)\n",
    "\n",
    "logit_en.fit(En_train, train_labels)\n",
    "\n",
    "preds = logit_en.predict(En_dev)\n",
    "F_Score = metrics.f1_score(dev_labels, preds, average='binary')\n",
    "pred_probas = logit_en.predict_proba(En_dev)\n",
    "\n",
    "print preds.sum()\n",
    "\n",
    "#Call to display outputs\n",
    "model_output(pred_probas, F_Score, preds) #Please input pred_probas, F_Score, and prediction(preds)\n"
   ]
  },
  {
   "cell_type": "markdown",
   "metadata": {},
   "source": [
    "###3)NLTK"
   ]
  },
  {
   "cell_type": "code",
   "execution_count": 35,
   "metadata": {
    "collapsed": false
   },
   "outputs": [
    {
     "name": "stdout",
     "output_type": "stream",
     "text": [
      "Logistic regression on numeric data: F-Score = 0.3224: \n",
      "Accuracy = 0.6604\n",
      "accuracy_score: 0.333333\n",
      "recall_score: 0.312073\n",
      "roc_auc_score: 0.547046788554\n"
     ]
    }
   ],
   "source": [
    "import nltk\n",
    "import string\n",
    "import os\n",
    "\n",
    "from nltk.stem.porter import PorterStemmer\n",
    "from nltk.stem.snowball import SnowballStemmer\n",
    "path = '/opt/datacourse/data/parts'\n",
    "token_dict = {}\n",
    "stemmer = SnowballStemmer(\"english\", ignore_stopwords=True)\n",
    "\n",
    "def stem_tokens(tokens, stemmer):\n",
    "    stemmed = []\n",
    "    for item in tokens:\n",
    "        stemmed.append(stemmer.stem(item))\n",
    "    return stemmed\n",
    "\n",
    "def tokenize(text):\n",
    "    tokens = nltk.word_tokenize(text)\n",
    "    stems = stem_tokens(tokens, stemmer)\n",
    "    return stems\n",
    "\n",
    "vectorizer_process = CountVectorizer(analyzer='word',stop_words='english',preprocessor = first_preprocessor,tokenizer=tokenize)\n",
    "word_matrix_process= vectorizer_process.fit_transform(train_all)\n",
    "dev_matrix_process = vectorizer_process.transform(dev_all)\n",
    "\n",
    "model_LG_L1 = LogisticRegression(penalty ='l1',C=580)#C from the above test\n",
    "model_LG_L1.fit(word_matrix_process, train_labels)\n",
    "\n",
    "#Update the new index\n",
    "index=[]\n",
    "for i,z in enumerate(np.sum(np.abs(model_LG_L1.coef_),axis=0) ):\n",
    "    if z!=0:\n",
    "        index.append(i)\n",
    "            \n",
    "model_LG = LogisticRegression(penalty ='l2',C=47)#C from the above test\n",
    "model_LG.fit(word_matrix_process[:,index], train_labels)\n",
    "\n",
    "preds = model_LG.predict(dev_matrix_process[:,index])\n",
    "F_Score = metrics.f1_score(dev_labels, preds, average='binary')\n",
    "\n",
    "\n",
    "print \"Logistic regression on numeric data: F-Score = %0.4f: \"%(F_Score)  #Sum up Squared Weights\n",
    "accuracy = np.where(preds==dev_labels, 1, 0).sum() / float(len(dev_labels))\n",
    "print (\"Accuracy = %0.4f\" % (accuracy))\n",
    "print 'accuracy_score: %f' %metrics.precision_score(dev_labels, preds)\n",
    "print 'recall_score: %f' %metrics.recall_score(dev_labels, preds)\n",
    "print \"roc_auc_score:\", metrics.roc_auc_score(dev_labels, preds)"
   ]
  },
  {
   "cell_type": "code",
   "execution_count": 15,
   "metadata": {
    "collapsed": false
   },
   "outputs": [
    {
     "name": "stdout",
     "output_type": "stream",
     "text": [
      "('dates', 0   2012-07-06\n",
      "2   2011-07-02\n",
      "3   2011-08-22\n",
      "4   2013-04-24\n",
      "5   2013-02-25\n",
      "Name: unix_timestamp_of_request_utc, dtype: datetime64[ns])\n",
      "('months', [19, 7, 8, 29, 27])\n",
      "('dates', 1    2012-03-15\n",
      "7    2012-05-15\n",
      "8    2012-11-06\n",
      "10   2011-08-02\n",
      "13   2011-06-29\n",
      "Name: unix_timestamp_of_request_utc, dtype: datetime64[ns])\n",
      "('months', [15, 17, 23, 8, 7])\n",
      "192\n",
      "[[  5.85999578e-03   6.33915043e-04   4.21054771e-03  -1.25148019e-01\n",
      "   -3.21774527e-01   1.65036704e-05   6.29830755e-04   2.17077756e-02\n",
      "    5.22745828e-01   3.05107899e-01   4.53967835e-01   1.81963336e+00\n",
      "    2.79980864e+00   4.35645686e-01   3.05886106e-01  -8.86487693e-03]]\n",
      "Model F-Score = 0.5293 \n",
      "Accuracy = 0.8249\n",
      "precision_score: 0.869792\n",
      "recall_score: 0.3804\n",
      "roc_auc_score: 0.6803\n"
     ]
    },
    {
     "data": {
      "image/png": "[encoded data removed]",
      "text/plain": [
       "<matplotlib.figure.Figure at 0x113e27f10>"
      ]
     },
     "metadata": {},
     "output_type": "display_data"
    }
   ],
   "source": [
    "import datetime\n",
    "from pytz import timezone\n",
    "from dateutil import tz\n",
    "from pandas.tseries.holiday import USFederalHolidayCalendar as calendar\n",
    "np.random.seed(0)\n",
    "\n",
    "#Setting up logic to identify timezone, weekend, and holidays\n",
    "from_zone = tz.gettz('UTC')\n",
    "to_zone = tz.gettz('America/Chicago')\n",
    "weekend = set([5, 6])\n",
    "cal = calendar()\n",
    "holidays = cal.holidays(start='2011-04-07', end='2013-10-11')\n",
    "\n",
    "#Created new df for training data(numeric only)\n",
    "train_data_numeric = np.zeros((len(train_data), 16))\n",
    "dev_data_numeric =  np.zeros((len(dev_data), 16))\n",
    "\n",
    "find_image = re.compile(r'(imgur\\.com|\\.jpg)')  #compile this to combine with other function\n",
    "\n",
    "#####Process train data set###########################################################\n",
    "ut = train_data['unix_timestamp_of_request_utc']\n",
    "temp =  ut.apply(lambda x: datetime.datetime.fromtimestamp(x).strftime('%Y-%m-%d %H:%M:%S'))\n",
    "temp =  temp.apply(lambda x: datetime.datetime.strptime(x, '%Y-%m-%d %H:%M:%S'))\n",
    "utc =   temp.apply(lambda x: x.replace(tzinfo=from_zone))\n",
    "\n",
    "temp = [] \n",
    "for i in utc:\n",
    "    temp.append(i.astimezone(to_zone))\n",
    "temp = pd.DataFrame(temp, columns=[\"T\"])\n",
    "    \n",
    "train_data_numeric[:,0] = train_data['request_title'].apply(lambda x: len(x.split(' ')))  #Title length\n",
    "train_data_numeric[:,1] = train_data['request_text'].apply(lambda x: len(x.split(' ')))   #Text length\n",
    "train_data_numeric[:,2] = temp['T'].dt.month      #Month in integer\n",
    "train_data_numeric[:,3] = temp['T'].dt.day > 15   #2nd 1/2 month\n",
    "train_data_numeric[:,4] = temp['T'].dt.hour > 12  #Passed noon\n",
    "train_data_numeric[:,5] = train_data['requester_upvotes_minus_downvotes_at_retrieval']\n",
    "train_data_numeric[:,6] = train_data['requester_account_age_in_days_at_retrieval']\n",
    "#Request during weekend\n",
    "train_data_numeric[:,7] = ut.apply(lambda x: datetime.datetime.fromtimestamp(x).weekday() in weekend)\n",
    "#Has Image\n",
    "#experiment with request_text over request_text_edit_aware, and use post_was_edited below it\n",
    "#train_data_numeric[:,8] = train_data['request_text_edit_aware'].apply(lambda x: 1 if find_image.findall(x) else 0 )\n",
    "train_data_numeric[:,8] = train_data['request_text'].apply(lambda x: 1 if find_image.findall(x) else 0 )\n",
    "#Requested date a holiday\n",
    "train_data_numeric[:,9] = (train_data['unix_timestamp_of_request_utc']\n",
    "                           .apply(lambda x: datetime.datetime.fromtimestamp(x).strftime('%Y-%m-%d')) \n",
    "                           .apply(lambda x: 1 if x in holidays else 0))\n",
    "\n",
    "train_data_numeric[:,10] = train_data['post_was_edited']==1\n",
    "train_data_numeric[:,11] = train_data['request_number_of_comments_at_retrieval']>1\n",
    "train_data_numeric[:,12] = train_data['requester_number_of_posts_on_raop_at_retrieval']>1\n",
    "# dont split on ; or ?, as it lowers the result\n",
    "train_data_numeric[:,13] = train_data['request_text'].apply(lambda x: len(re.split(r'[.]',x)))>3 #proxy num sentences\n",
    "train_data_numeric[:,14] = train_data['request_text'].apply(lambda x: avgNumWords(x))>15 #proxy avg num words per sentence\n",
    "train_data_numeric[:,15] = monthsFrom2010(train_data['unix_timestamp_of_request_utc']) #months from raop creation in 12/2010\n",
    "\n",
    "#######process dev dataset######################################################\n",
    "ut = dev_data['unix_timestamp_of_request_utc']\n",
    "temp = ut.apply(lambda x: datetime.datetime.fromtimestamp(x).strftime('%Y-%m-%d %H:%M:%S'))\n",
    "temp = temp.apply(lambda x: datetime.datetime.strptime(x, '%Y-%m-%d %H:%M:%S'))\n",
    "utc =  temp.apply(lambda x: x.replace(tzinfo=from_zone))\n",
    "\n",
    "temp = [] \n",
    "for i in utc:\n",
    "    temp.append(i.astimezone(to_zone))\n",
    "temp = pd.DataFrame(temp, columns=[\"T\"])\n",
    "\n",
    "dev_data_numeric[:,0] = dev_data['request_title'].apply(lambda x: len(x.split(' '))) \n",
    "dev_data_numeric[:,1] = dev_data['request_text'].apply(lambda x: len(x.split(' ')))\n",
    "dev_data_numeric[:,2] = temp['T'].dt.month\n",
    "dev_data_numeric[:,3] = temp['T'].dt.day > 15\n",
    "dev_data_numeric[:,4] = temp['T'].dt.hour > 12 \n",
    "dev_data_numeric[:,5] = dev_data['requester_upvotes_minus_downvotes_at_retrieval']\n",
    "dev_data_numeric[:,6] = dev_data['requester_account_age_in_days_at_retrieval']>1\n",
    "#Request during weekend\n",
    "dev_data_numeric[:,7] = ut.apply(lambda x: datetime.datetime.fromtimestamp(x).weekday() in weekend) \n",
    "#Include Image\n",
    "#experiment with request_text over request_text_edit_aware, and use post_was_edited below it\n",
    "#dev_data_numeric[:,8] =  dev_data['request_text_edit_aware'].apply(lambda x: 1 if find_image.findall(x) else 0 )\n",
    "dev_data_numeric[:,8] =  dev_data['request_text'].apply(lambda x: 1 if find_image.findall(x) else 0 )\n",
    "dev_data_numeric[:,9] = (dev_data['unix_timestamp_of_request_utc']\n",
    "                         .apply(lambda x: datetime.datetime.fromtimestamp(x).strftime('%Y-%m-%d')) \n",
    "                         .apply(lambda x: 1 if x in holidays else 0))\n",
    "\n",
    "dev_data_numeric[:,10] = dev_data['post_was_edited']==1\n",
    "dev_data_numeric[:,11] = dev_data['request_number_of_comments_at_retrieval']>1\n",
    "dev_data_numeric[:,12] = dev_data['requester_number_of_posts_on_raop_at_retrieval']>1\n",
    "# dont split on ; or ?, as it lowers the result\n",
    "dev_data_numeric[:,13] = dev_data['request_text'].apply(lambda x: len(re.split(r'[.]',x)))>3  #proxy num sentences\n",
    "dev_data_numeric[:,14] = dev_data['request_text'].apply(lambda x: avgNumWords(x))>15  #proxy avg num words per sentence\n",
    "dev_data_numeric[:,15] = monthsFrom2010(dev_data['unix_timestamp_of_request_utc'])  #months from raop creation in 12/2010\n",
    "\n",
    "#dev_data_numeric[:,11] = dev_data['requester_number_of_comments_in_raop_at_retrieval']>1\n",
    "#dev_data_numeric[:,12] = dev_data['requester_number_of_posts_at_retrieval']>1\n",
    "\n",
    "#[:, [0,1,2,3,4,7,8, 9]]\n",
    "###Start Logistic Regresson on numeric data\n",
    "logit = LogisticRegression(C=1, penalty = 'l2')\n",
    "result = logit.fit(train_data_numeric, train_labels)\n",
    "\n",
    "preds = logit.predict(dev_data_numeric)\n",
    "F_Score = metrics.f1_score(dev_labels, preds, average='binary')\n",
    "pred_probas = logit.predict_proba(dev_data_numeric)\n",
    "\n",
    "#How many positive case\n",
    "print preds.sum()\n",
    "print result.coef_\n",
    "\n",
    "model_output(pred_probas, F_Score, preds)"
   ]
  },
  {
   "cell_type": "markdown",
   "metadata": {},
   "source": [
    "###4)PCA"
   ]
  },
  {
   "cell_type": "code",
   "execution_count": null,
   "metadata": {
    "collapsed": true
   },
   "outputs": [],
   "source": [
    "#get a list of features based on the L1 regularization, instead of inputting all words into PCA to improve the speed\n",
    "vectorizer_process = CountVectorizer(preprocessor = empty_preprocessor,analyzer='word',stop_words='english' )\n",
    "word_matrix_process= vectorizer_process.fit_transform(train_all)\n",
    "dev_matrix_process = vectorizer_process.transform(dev_all)\n",
    "\n",
    "model_LG_L1 = LogisticRegression(penalty ='l1',C=560) #C from the above test\n",
    "model_LG_L1.fit(word_matrix_process, train_labels)\n",
    "\n",
    "index=[]\n",
    "for i,z in enumerate(np.sum(np.abs(model_LG_L1.coef_),axis=0) ):\n",
    "    if z!=0:\n",
    "        index.append(i)\n"
   ]
  },
  {
   "cell_type": "code",
   "execution_count": null,
   "metadata": {
    "collapsed": false
   },
   "outputs": [],
   "source": [
    "from sklearn.decomposition import PCA\n",
    "\n",
    "i=1000\n",
    "pca_mod = PCA(n_components = i)\n",
    "word_matrix_process_pca=pca_mod.fit_transform(word_matrix_process.toarray()[:,index])\n",
    "print('For the first %i element, %f of the total variance in the training data is explained ' %(i,sum(pca_mod.explained_variance_ratio_)) )\n",
    "plt.plot(pca_mod.explained_variance_ratio_)"
   ]
  },
  {
   "cell_type": "code",
   "execution_count": 47,
   "metadata": {
    "collapsed": false
   },
   "outputs": [
    {
     "name": "stdout",
     "output_type": "stream",
     "text": [
      "f1_score: 0.316069\n",
      "recall_score: 0.271071\n",
      "precision_score: 0.378981\n"
     ]
    }
   ],
   "source": [
    "dev_matrix_process_pca=pca_mod.transform(dev_matrix_process.toarray()[:,index])\n",
    "\n",
    "model_LG_L2 = LogisticRegression(penalty ='l2',C=19 )#C from the above test\n",
    "model_LG_L2.fit(word_matrix_process_pca, train_labels)\n",
    "\n",
    "print('f1_score: %f' %metrics.f1_score(dev_labels,model_LG_L2.predict(dev_matrix_process_pca),average='binary'))\n",
    "print('recall_score: %f' %metrics.recall_score(dev_labels,model_LG_L2.predict(dev_matrix_process_pca)))\n",
    "print('precision_score: %f' %metrics.precision_score(dev_labels,model_LG_L2.predict(dev_matrix_process_pca)))"
   ]
  }
 ],
 "metadata": {
  "kernelspec": {
   "display_name": "Python 2",
   "language": "python",
   "name": "python2"
  },
  "language_info": {
   "codemirror_mode": {
    "name": "ipython",
    "version": 2
   },
   "file_extension": ".py",
   "mimetype": "text/x-python",
   "name": "python",
   "nbconvert_exporter": "python",
   "pygments_lexer": "ipython2",
   "version": "2.7.11"
  }
 },
 "nbformat": 4,
 "nbformat_minor": 0
}
