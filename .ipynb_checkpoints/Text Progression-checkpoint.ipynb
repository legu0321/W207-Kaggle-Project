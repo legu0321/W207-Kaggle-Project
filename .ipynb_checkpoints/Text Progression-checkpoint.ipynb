{
 "cells": [
  {
   "cell_type": "markdown",
   "metadata": {},
   "source": [
    "##Text Analysis Progressions"
   ]
  },
  {
   "cell_type": "markdown",
   "metadata": {
    "collapsed": true
   },
   "source": [
    "#####Below parts are the progressions we've made before the final model. Multiple iterations and attemps are mades during the process. However, we excluded from the final model the ones that are not helpful for improving the auc, and we list them here for future refereence."
   ]
  },
  {
   "cell_type": "code",
   "execution_count": 1,
   "metadata": {
    "collapsed": false
   },
   "outputs": [],
   "source": [
    "# This tells matplotlib not to try opening a new window for each plot.\n",
    "%matplotlib inline\n",
    "\n",
    "# General libraries.\n",
    "import os\n",
    "import codecs\n",
    "import json\n",
    "import csv\n",
    "\n",
    "import re\n",
    "import numpy as np\n",
    "import pandas as pd\n",
    "import matplotlib.pyplot as plt\n",
    "\n",
    "# SK-learn libraries for learning.\n",
    "from sklearn.pipeline import Pipeline\n",
    "from sklearn.neighbors import KNeighborsClassifier\n",
    "from sklearn.linear_model import LogisticRegression\n",
    "from sklearn.naive_bayes import BernoulliNB\n",
    "from sklearn.naive_bayes import MultinomialNB\n",
    "from sklearn.grid_search import GridSearchCV\n",
    "\n",
    "# SK-learn libraries for evaluation.\n",
    "from sklearn.metrics import confusion_matrix\n",
    "from sklearn import metrics\n",
    "from sklearn.metrics import classification_report\n",
    "\n",
    "# SK-learn library for importing the newsgroup data.\n",
    "from sklearn.datasets import fetch_20newsgroups\n",
    "\n",
    "# SK-learn libraries for feature extraction from text.\n",
    "from sklearn.feature_extraction.text import *\n",
    "np.random.seed(0)"
   ]
  },
  {
   "cell_type": "code",
   "execution_count": 2,
   "metadata": {
    "collapsed": false
   },
   "outputs": [
    {
     "name": "stdout",
     "output_type": "stream",
     "text": [
      "type(X) <class 'pandas.core.frame.DataFrame'>\n"
     ]
    }
   ],
   "source": [
    "# http://pandas.pydata.org/pandas-docs/stable/generated/pandas.read_json.html\n",
    "# Convert a JSON string to pandas object\n",
    "\n",
    "X = pd.read_json('./pizza_request_dataset.json')\n",
    "print (\"type(X)\", type(X))\n",
    "print\n",
    "\n",
    "# set random seed\n",
    "np.random.seed(0)\n",
    "\n",
    "# randomly assign 70% to train_data, and 30% to dev_data\n",
    "msk = np.random.rand(len(X)) <= 0.7\n",
    "train_data = X[msk]\n",
    "dev_data = X[~msk]\n",
    "\n",
    "# create output dataframe Y of train_labels\n",
    "train_labels = train_data[[\"requester_received_pizza\"]]\n",
    "\n",
    "# delete train_labels from input dataframe of train_data\n",
    "del train_data[\"requester_received_pizza\"]\n",
    "\n",
    "# create output dataframe of dev_labels\n",
    "dev_labels = dev_data[[\"requester_received_pizza\"]]\n",
    "\n",
    "# delete dev_labels from input dataframe of dev_data\n",
    "del dev_data[\"requester_received_pizza\"]\n"
   ]
  },
  {
   "cell_type": "code",
   "execution_count": 3,
   "metadata": {
    "collapsed": true
   },
   "outputs": [],
   "source": [
    "train_text=train_data['request_text'].as_matrix()\n",
    "train_title=train_data['request_title'].as_matrix()\n",
    "\n",
    "dev_text=dev_data['request_text'].as_matrix()\n",
    "dev_title=dev_data['request_title'].as_matrix()\n"
   ]
  },
  {
   "cell_type": "markdown",
   "metadata": {},
   "source": [
    "####Helper Method"
   ]
  },
  {
   "cell_type": "code",
   "execution_count": 4,
   "metadata": {
    "collapsed": false
   },
   "outputs": [],
   "source": [
    "#Roc curve:\n",
    "from sklearn.metrics import roc_curve, auc\n",
    "\n",
    "def model_output(pred_probas, F_Score, preds):\n",
    "\n",
    "    print (\"Model F-Score = %0.4f \"%(F_Score))  #Sum up Squared Weights\n",
    "#     accuracy = np.where(preds==dev_labels, 1, 0).sum() / float(len(dev_labels))\n",
    "#     print (\"Accuracy = %0.4f\"    % (accuracy))\n",
    "    print ('accuracy_score: %f'  % metrics.precision_score(dev_labels, preds))\n",
    "    print ('recall_score: %0.4f' % metrics.recall_score(dev_labels, preds))\n",
    "    \n",
    "    # http://scikit-learn.org/stable/modules/generated/sklearn.metrics.roc_auc_score.html#sklearn.metrics.roc_auc_score\n",
    "    \n",
    "    # 'macro':\n",
    "    # Calculate metrics for each label, and find their unweighted mean. This does not take label imbalance into account.\n",
    "    # 'weighted':\n",
    "    # Calculate metrics for each label, and find their average, weighted by support (the number of true instances for each label).\n",
    "    \n",
    "    print ('roc_auc_score: %0.4f'% metrics.roc_auc_score(dev_labels, preds, 'weighted'))\n",
    "\n",
    "#Create ROC Curve (to visualize and evaluate classifer output quality)\n",
    "\n",
    "    # http://scikit-learn.org/stable/modules/generated/sklearn.metrics.roc_curve.html\n",
    "    # Decreasing thresholds on decision function used to compute fpr and tpr. \n",
    "    # thresholds[0] represents no instances being predicted and is arbitrarily \n",
    "    # set to max(y_score) + 1.\n",
    "    \n",
    "    # “A receiver operating characteristic (ROC), or simply ROC curve, is a \n",
    "    # graphical plot which illustrates the performance of a binary classifier \n",
    "    # system as its discrimination threshold is varied. It is created by plotting \n",
    "    # the fraction of true positives out of the positives (TPR = true positive rate) \n",
    "    # vs. the fraction of false positives out of the negatives \n",
    "    # (FPR = false positive rate), at various threshold settings. \n",
    "    # TPR is also known as sensitivity, and FPR is one minus the specificity \n",
    "    # or true negative rate.”\n",
    "    \n",
    "    print (\"pred_probas:\", pred_probas[:,1])\n",
    "    \n",
    "    fpr,tpr,_ = roc_curve(dev_labels, pred_probas[:,1])\n",
    "    roc_auc = metrics.auc(fpr,tpr)\n",
    "    plt.plot(fpr,tpr,label='area = %.4f' %roc_auc)\n",
    "    plt.plot([0, 1], [0, 1], 'k--')\n",
    "    plt.xlim([0.0, 1.0])\n",
    "    plt.ylim([0.0, 1.05])\n",
    "    plt.xlabel('False Positive Rate')\n",
    "    plt.ylabel('True Positive Rate')\n",
    "    plt.legend(loc='lower right')"
   ]
  },
  {
   "cell_type": "markdown",
   "metadata": {},
   "source": [
    "###1.Feature Extraction Models"
   ]
  },
  {
   "cell_type": "markdown",
   "metadata": {},
   "source": [
    "#####We tested both CountVectorizer and TF-IDF for text feature extraction. Some statistics:\n",
    "#####Count Vectorizer: analyzer='word', auc=0.52; analyzer='char', auc=0.58"
   ]
  },
  {
   "cell_type": "code",
   "execution_count": 5,
   "metadata": {
    "collapsed": false
   },
   "outputs": [],
   "source": [
    "def empty_preprocessor(s):\n",
    "    return s\n",
    "\n",
    "\n",
    "def first_preprocessor(s):\n",
    "    #convert to lowercase\n",
    "    s=s.lower()\n",
    "    s=re.sub(\"[,.!?:;/~*]\",\" \",s)\n",
    "    #remove duplicated 0s and 1s\n",
    "    s=re.sub(\"[0-9]*\",\"\",s)\n",
    "    #remove number longer than 5 digit\n",
    "    s=re.sub(\"[0-9]{5,}\",\"\",s)\n",
    "    #remove stem end with 'ly'\n",
    "    s=re.sub(\"ly\\s\",\" \",s)\n",
    "    #remove plural form\n",
    "    s=re.sub(\"s\\s\",\" \",s)\n",
    "    s=re.sub(\"s\\Z\",\" \",s)\n",
    "    #remove _ as the end of word\n",
    "    s=re.sub(\"[_]+\",\" \",s)\n",
    "    #remove _ as start of the word\n",
    "    s=re.sub(\"\\s[_]+\",\" \",s)\n",
    "    #remove stem end with 'ness'\n",
    "    s=re.sub(\"ness\\s\",\" \",s)\n",
    "    s=re.sub(\"ing\\s\",\" \",s)\n",
    "    #remove words that are too short\n",
    "    s=re.sub(\"\\s[0-9a-z]{1,2}\\s\",\" \",s)\n",
    "    s=re.sub(\"\\s[0-9a-z]{1,2}\\Z\",\" \",s)\n",
    "\n",
    "    return s\n"
   ]
  },
  {
   "cell_type": "code",
   "execution_count": 6,
   "metadata": {
    "collapsed": false
   },
   "outputs": [
    {
     "name": "stdout",
     "output_type": "stream",
     "text": [
      "Model F-Score = 0.0463 \n",
      "accuracy_score: 0.305556\n",
      "recall_score: 0.0251\n",
      "roc_auc_score: 0.5026\n",
      "pred_probas: [ 0.20292013  0.21367779  0.16583092 ...,  0.29012287  0.29173339\n",
      "  0.22202949]\n"
     ]
    },
    {
     "data": {
      "image/png": "[encoded data removed]",
      "text/plain": [
       "<matplotlib.figure.Figure at 0x2a2b860>"
      ]
     },
     "metadata": {},
     "output_type": "display_data"
    }
   ],
   "source": [
    "def empty_preprocessor(s):\n",
    "    return s\n",
    "\n",
    "\n",
    "vectorizer_process = CountVectorizer(preprocessor =first_preprocessor,analyzer='char',stop_words='english' )\n",
    "word_matrix_process= vectorizer_process.fit_transform(train_text)\n",
    "dev_matrix_process = vectorizer_process.transform(dev_text)\n",
    "\n",
    "\n",
    "logistic = LogisticRegression(penalty ='l2',C=12)\n",
    "logistic.fit(word_matrix_process, np.ravel(train_labels))\n",
    "\n",
    "preds = logistic.predict(dev_matrix_process)\n",
    "pred_probas = logistic.predict_proba(dev_matrix_process)\n",
    "F_Score = metrics.f1_score(dev_labels, preds, average='binary')\n",
    "\n",
    "#Call to display outputs\n",
    "model_output(pred_probas, F_Score, preds)\n",
    "\n"
   ]
  },
  {
   "cell_type": "code",
   "execution_count": 7,
   "metadata": {
    "collapsed": false
   },
   "outputs": [
    {
     "name": "stdout",
     "output_type": "stream",
     "text": [
      "Model F-Score = 0.2596 \n",
      "accuracy_score: 0.437838\n",
      "recall_score: 0.1845\n",
      "roc_auc_score: 0.5509\n",
      "pred_probas: [ 0.33249711  0.17261758  0.12535661 ...,  0.17779308  0.1155176\n",
      "  0.28916478]\n"
     ]
    },
    {
     "data": {
      "image/png": "[encoded data removed]",
      "text/plain": [
       "<matplotlib.figure.Figure at 0x351ba20>"
      ]
     },
     "metadata": {},
     "output_type": "display_data"
    }
   ],
   "source": [
    "vectorizer_process_tfidf = TfidfVectorizer(preprocessor =first_preprocessor,analyzer='word',stop_words='english',ngram_range=(1, 8) )\n",
    "train_matrix_process_text_tfidf= vectorizer_process_tfidf.fit_transform(train_text)\n",
    "dev_matrix_process_text_tfidf = vectorizer_process_tfidf.transform(dev_text)\n",
    "\n",
    "logistic = LogisticRegression(penalty ='l2',C=12)\n",
    "logistic.fit(train_matrix_process_text_tfidf, np.ravel(train_labels))\n",
    "\n",
    "preds = logistic.predict(dev_matrix_process_text_tfidf)\n",
    "F_Score = metrics.f1_score(dev_labels, preds, average='binary')\n",
    "pred_probas = logistic.predict_proba(dev_matrix_process_text_tfidf)\n",
    "\n",
    "#Call to display outputs\n",
    "model_output(pred_probas, F_Score, preds)\n"
   ]
  },
  {
   "cell_type": "markdown",
   "metadata": {},
   "source": [
    "####<font color='green'>Given the above comparison, we believe TF-IDF performs better and chose it as the method for feature selection</font>"
   ]
  },
  {
   "cell_type": "markdown",
   "metadata": {},
   "source": [
    "###2.NLP "
   ]
  },
  {
   "cell_type": "markdown",
   "metadata": {},
   "source": [
    "#####We tried NLTK package in order to process/clean text features"
   ]
  },
  {
   "cell_type": "code",
   "execution_count": 8,
   "metadata": {
    "collapsed": true
   },
   "outputs": [],
   "source": [
    "import nltk\n",
    "import string\n",
    "import os\n",
    "\n",
    "from nltk.stem.porter import PorterStemmer\n",
    "from nltk.stem.snowball import SnowballStemmer\n",
    "path = '/opt/datacourse/data/parts'\n",
    "token_dict = {}\n",
    "stemmer = SnowballStemmer(\"english\", ignore_stopwords=True)\n",
    "\n",
    "def stem_tokens(tokens, stemmer):\n",
    "    stemmed = []\n",
    "    for item in tokens:\n",
    "        stemmed.append(stemmer.stem(item))\n",
    "    return stemmed\n",
    "\n",
    "def tokenize(text):\n",
    "    tokens = nltk.word_tokenize(text)\n",
    "    stems = stem_tokens(tokens, stemmer)\n",
    "    return stems\n"
   ]
  },
  {
   "cell_type": "code",
   "execution_count": 9,
   "metadata": {
    "collapsed": false
   },
   "outputs": [
    {
     "name": "stdout",
     "output_type": "stream",
     "text": [
      "Model F-Score = 0.2798 \n",
      "accuracy_score: 0.320588\n",
      "recall_score: 0.2483\n",
      "roc_auc_score: 0.5323\n",
      "pred_probas: [  6.37003208e-01   4.33863561e-05   8.38554569e-02 ...,   1.46469574e-02\n",
      "   5.91135076e-02   7.38628905e-01]\n"
     ]
    },
    {
     "name": "stderr",
     "output_type": "stream",
     "text": [
      "C:\\Users\\lgu\\AppData\\Local\\Continuum\\Anaconda\\envs\\mpl33\\lib\\site-packages\\sklearn\\utils\\validation.py:449: DataConversionWarning: A column-vector y was passed when a 1d array was expected. Please change the shape of y to (n_samples, ), for example using ravel().\n",
      "  y = column_or_1d(y, warn=True)\n"
     ]
    },
    {
     "data": {
      "image/png": "[encoded data removed]",
      "text/plain": [
       "<matplotlib.figure.Figure at 0xf84c4a8>"
      ]
     },
     "metadata": {},
     "output_type": "display_data"
    }
   ],
   "source": [
    "vectorizer_process = CountVectorizer(analyzer='word',stop_words='english',preprocessor = empty_preprocessor,tokenizer=tokenize)\n",
    "word_matrix_process= vectorizer_process.fit_transform(train_text)\n",
    "dev_matrix_process = vectorizer_process.transform(dev_text)\n",
    "            \n",
    "logistic = LogisticRegression(penalty ='l2',C=12)#C from the above test\n",
    "logistic.fit(word_matrix_process, train_labels)\n",
    "\n",
    "preds = logistic.predict(dev_matrix_process)\n",
    "pred_probas = logistic.predict_proba(dev_matrix_process)\n",
    "F_Score = metrics.f1_score(dev_labels, preds, average='binary')\n",
    "\n",
    "\n",
    "#Call to display outputs\n",
    "model_output(pred_probas, F_Score, preds)"
   ]
  },
  {
   "cell_type": "markdown",
   "metadata": {},
   "source": [
    "####<font color='green'>The NLTK processing did not help to improve the auc.</font>"
   ]
  },
  {
   "cell_type": "markdown",
   "metadata": {},
   "source": [
    "###3.Feature Selection "
   ]
  },
  {
   "cell_type": "markdown",
   "metadata": {},
   "source": [
    "#####We tried to select the top XX words from the two polars for feature selection. The number of words to include is based on test set auc"
   ]
  },
  {
   "cell_type": "code",
   "execution_count": 10,
   "metadata": {
    "collapsed": false
   },
   "outputs": [
    {
     "name": "stdout",
     "output_type": "stream",
     "text": [
      "                        Feature      coef\n",
      "0                 thank katzmcn  0.230428\n",
      "1    received big thank katzmcn  0.230428\n",
      "2                     just need  0.230520\n",
      "3                      christma  0.232250\n",
      "4                    week thank  0.233358\n",
      "5                     don money  0.234063\n",
      "6                           dur  0.234073\n",
      "7                          late  0.234643\n",
      "8                     papa john  0.234803\n",
      "9                  couple month  0.234900\n",
      "10                         pack  0.235910\n",
      "11                        chain  0.236302\n",
      "12                        usual  0.237340\n",
      "13                         papa  0.237419\n",
      "14               thi sub reddit  0.238029\n",
      "15                   sub reddit  0.238029\n",
      "16                        lunch  0.238726\n",
      "17                        saucy  0.238787\n",
      "18                       person  0.238969\n",
      "19                tonight great  0.239382\n",
      "20                           ca  0.240420\n",
      "21                         soon  0.242986\n",
      "22                   reddit com  0.244662\n",
      "23                        payed  0.246845\n",
      "24                    month ago  0.248190\n",
      "25                pizza tonight  0.248957\n",
      "26                thank lexical  0.249868\n",
      "27          pizza thank lexical  0.249868\n",
      "28                      lexical  0.249868\n",
      "29      got pizza thank lexical  0.249868\n",
      "..                          ...       ...\n",
      "170                        like  0.518691\n",
      "171              happy birthday  0.534626\n",
      "172                     forward  0.538735\n",
      "173                        come  0.540365\n",
      "174                        nice  0.563122\n",
      "175                         day  0.570978\n",
      "176                     request  0.572105\n",
      "177                       check  0.583400\n",
      "178                  edit thank  0.591951\n",
      "179                      closed  0.599272\n",
      "180                         got  0.604108\n",
      "181                         son  0.640202\n",
      "182                         job  0.640851\n",
      "183                        best  0.646752\n",
      "184                         pay  0.690430\n",
      "185                       thank  0.750156\n",
      "186                         jpg  0.752019\n",
      "187                       ramen  0.774381\n",
      "188                    surprise  0.779878\n",
      "189                          ve  0.791485\n",
      "190                       month  0.814252\n",
      "191                        week  0.825686\n",
      "192                    paycheck  0.852225\n",
      "193                  http imgur  0.853006\n",
      "194              http imgur com  0.853006\n",
      "195                   imgur com  0.886743\n",
      "196                       imgur  0.903999\n",
      "197                         com  0.993538\n",
      "198                        http  1.046434\n",
      "199                        edit  1.299711\n",
      "\n",
      "[200 rows x 2 columns]\n",
      "                   Feature      coef\n",
      "0                   friend -0.750507\n",
      "1                   hungry -0.641644\n",
      "2                      eat -0.582647\n",
      "3                     love -0.554769\n",
      "4               love pizza -0.503416\n",
      "5                    house -0.452865\n",
      "6                     ohio -0.408453\n",
      "7                    pizza -0.397241\n",
      "8                     sitt -0.397215\n",
      "9                     test -0.353054\n",
      "10                thi work -0.344742\n",
      "11              crav pizza -0.334493\n",
      "12                    free -0.325474\n",
      "13                  little -0.324076\n",
      "14                   broke -0.303965\n",
      "15               buy pizza -0.301851\n",
      "16               eat pizza -0.301489\n",
      "17                 brother -0.299240\n",
      "18                 college -0.297733\n",
      "19               use pizza -0.297490\n",
      "20                    area -0.281399\n",
      "21         real appreciate -0.271715\n",
      "22                     bed -0.269461\n",
      "23                    live -0.268367\n",
      "24         started new job -0.264808\n",
      "25          real use pizza -0.259527\n",
      "26            broke hungry -0.258602\n",
      "27                     buy -0.258105\n",
      "28           broke college -0.256244\n",
      "29   broke college student -0.252269\n",
      "..                     ...       ...\n",
      "170          stuffed crust -0.129042\n",
      "171                forever -0.128608\n",
      "172              desperate -0.128196\n",
      "173                  floor -0.128068\n",
      "174                   cash -0.127832\n",
      "175               michigan -0.127760\n",
      "176        girlfriend year -0.127315\n",
      "177                    thx -0.127099\n",
      "178           little pizza -0.126954\n",
      "179                 lovely -0.126921\n",
      "180           pizza lovely -0.126921\n",
      "181                   cool -0.126133\n",
      "182            friday real -0.126072\n",
      "183                    far -0.125653\n",
      "184                   left -0.125365\n",
      "185                   fami -0.125360\n",
      "186                ontario -0.125152\n",
      "187                   city -0.124974\n",
      "188              idk write -0.124919\n",
      "189         forward friday -0.124914\n",
      "190   pizza forward sunday -0.124572\n",
      "191         forward sunday -0.124572\n",
      "192                 parent -0.123803\n",
      "193                   near -0.123762\n",
      "194      make happy person -0.123479\n",
      "195                 hunger -0.123065\n",
      "196                  write -0.122910\n",
      "197                   head -0.122850\n",
      "198             dont money -0.122302\n",
      "199             canada way -0.122256\n",
      "\n",
      "[200 rows x 2 columns]\n"
     ]
    }
   ],
   "source": [
    "vectorizer_process_tfidf = TfidfVectorizer(preprocessor =first_preprocessor,analyzer='word',stop_words='english',ngram_range=(1, 8) )\n",
    "train_matrix_process_text_tfidf= vectorizer_process_tfidf.fit_transform(train_text)\n",
    "\n",
    "logistic = LogisticRegression(penalty ='l2',C=1)\n",
    "logistic.fit(train_matrix_process_text_tfidf, np.ravel(train_labels))\n",
    "\n",
    "index_good=np.argsort((logistic.coef_ [0]))[-200:]\n",
    "\n",
    "df = pd.DataFrame({'Feature': np.array(vectorizer_process_tfidf.get_feature_names())[index_good], 'coef': np.array(logistic.coef_ [0])[index_good]})\n",
    "print(df)\n",
    "\n",
    "index_bad=np.argsort((logistic.coef_ [0]))[:200]\n",
    "\n",
    "df = pd.DataFrame({'Feature': np.array(vectorizer_process_tfidf.get_feature_names())[index_bad], 'coef': np.array(logistic.coef_ [0])[index_bad]})\n",
    "print(df)\n"
   ]
  },
  {
   "cell_type": "code",
   "execution_count": null,
   "metadata": {
    "collapsed": true
   },
   "outputs": [],
   "source": [
    "def empty_preprocessor(s):\n",
    "    return s\n",
    "\n",
    "def train_tf_idf(dicts):\n",
    "    \n",
    "    vectorizer_process_limit = TfidfVectorizer(preprocessor =first_preprocessor,analyzer='word',stop_words='english',vocabulary=dicts,ngram_range=(1, 8) )\n",
    "    train_matrix_process_text= vectorizer_process_limit.fit_transform(train_text)\n",
    "    dev_matrix_process_text = vectorizer_process_limit.transform(dev_text)\n",
    "\n",
    "\n",
    "    model_LG_limit = LogisticRegression(penalty ='l2',C=13)\n",
    "    model_LG_limit.fit(train_matrix_process_text, np.ravel(train_labels))\n",
    "\n",
    "    preds = model_LG_limit.predict(dev_matrix_process_text)\n",
    "    pred_probas = model_LG_limit.predict_proba(dev_matrix_process_text)\n",
    "\n",
    "    fpr,tpr,_ = roc_curve(dev_labels, pred_probas[:,1])\n",
    "    roc_auc = metrics.auc(fpr,tpr)\n",
    "    return roc_auc\n",
    "\n",
    "auc=[]\n",
    "idx=[]\n",
    "for i in range(100,4000,40):\n",
    "    index_good=np.argsort((logistic.coef_ [0]))[-i:]\n",
    "    index_bad=np.argsort((logistic.coef_ [0]))[:i]\n",
    "    dicts=[]\n",
    "    dicts=list(np.array(vectorizer_process_tfidf.get_feature_names())[index_good])+list(np.array(vectorizer_process_tfidf.get_feature_names())[index_bad])\n",
    "    auc.append(train_tf_idf(dicts))\n",
    "    idx.append(i)"
   ]
  },
  {
   "cell_type": "code",
   "execution_count": 68,
   "metadata": {
    "collapsed": false,
    "scrolled": true
   },
   "outputs": [],
   "source": [
    "for i in [idx[np.argsort(auc)[-1:]]]:\n",
    "\n",
    "    index_good=np.argsort((logistic.coef_ [0]))[-i:]\n",
    "    index_bad=np.argsort((logistic.coef_ [0]))[:i]\n",
    "\n",
    "    dicts=[]\n",
    "    dicts=list(np.array(vectorizer_process_tfidf.get_feature_names())[index_good])+list(np.array(vectorizer_process_tfidf.get_feature_names())[index_bad])\n",
    "    \n",
    "    vectorizer_process_limit = TfidfVectorizer(preprocessor =first_preprocessor,analyzer='word',stop_words='english',vocabulary=dicts ,ngram_range=(1, 8) )\n",
    "    train_matrix_process_text= vectorizer_process_limit.fit_transform(train_text)\n",
    "    dev_matrix_process_text = vectorizer_process_limit.transform(dev_text)\n",
    "\n",
    "logistic_limit = LogisticRegression(penalty ='l2',C=13)#C from the above test\n",
    "logistic_limit.fit(train_matrix_process_text, np.ravel(train_labels))\n",
    "\n",
    "preds = logistic_limit.predict(dev_matrix_process_text)\n",
    "pred_probas = logistic_limit.predict_proba(dev_matrix_process_text)\n",
    "\n",
    "\n",
    "\n",
    "#Call to display outputs\n",
    "model_output(pred_probas, F_Score, preds) #Please input pred_probas, F_Score, and prediction(preds)\n",
    "fpr,tpr,_ = roc_curve(dev_labels, pred_probas[:,1])\n",
    "roc_auc = metrics.auc(fpr,tpr)\n",
    "print (roc_auc)"
   ]
  },
  {
   "cell_type": "code",
   "execution_count": 74,
   "metadata": {
    "collapsed": false
   },
   "outputs": [
    {
     "name": "stdout",
     "output_type": "stream",
     "text": [
      "Model F-Score = 0.0889 \n",
      "accuracy_score: 0.438356\n",
      "recall_score: 0.1458\n",
      "roc_auc_score: 0.5403\n",
      "pred_probas: [ 0.34962822  0.07666045  0.08691687 ...,  0.10695049  0.08870063\n",
      "  0.18251554]\n",
      "0.61850357814\n"
     ]
    },
    {
     "data": {
      "image/png": "[encoded data removed]",
      "text/plain": [
       "<matplotlib.figure.Figure at 0x1cdcd240>"
      ]
     },
     "metadata": {},
     "output_type": "display_data"
    }
   ],
   "source": [
    "           \n",
    "\n"
   ]
  },
  {
   "cell_type": "markdown",
   "metadata": {},
   "source": [
    "###4.Feature Engineering "
   ]
  },
  {
   "cell_type": "markdown",
   "metadata": {},
   "source": [
    "#####We tried to add new features such as whethere there is exclamation marks, but it did not imrpove the model auc"
   ]
  },
  {
   "cell_type": "code",
   "execution_count": 76,
   "metadata": {
    "collapsed": true
   },
   "outputs": [],
   "source": [
    "def myfunc(a,b):\n",
    "    if len(a)==0:\n",
    "        return 0 \n",
    "    else:\n",
    "        return len(b.findall(a))/float(len(a))"
   ]
  },
  {
   "cell_type": "code",
   "execution_count": 77,
   "metadata": {
    "collapsed": false
   },
   "outputs": [],
   "source": [
    "exclmarks = re.compile(r'(!)', re.M)\n",
    " \n",
    "excl_marks=np.zeros(shape=(len(train_text),1),dtype=int)\n",
    "excl_marks_dev=np.zeros(shape=(len(dev_text),1),dtype=int)\n",
    "\n",
    "for index,i in enumerate([exclmarks]):\n",
    "    \n",
    "    vfunc = np.vectorize(myfunc)\n",
    "    narrative=vfunc(train_title,i)\n",
    "    narrative_dev=vfunc(dev_title,i)\n",
    "    excl_marks[:,index]=np.where(narrative>0,1,0)\n",
    "    excl_marks_dev[:,index]=np.where(narrative_dev>0,1,0)"
   ]
  },
  {
   "cell_type": "code",
   "execution_count": 1,
   "metadata": {
    "collapsed": false
   },
   "outputs": [
    {
     "ename": "NameError",
     "evalue": "name 'np' is not defined",
     "output_type": "error",
     "traceback": [
      "\u001b[1;31m---------------------------------------------------------------------------\u001b[0m",
      "\u001b[1;31mNameError\u001b[0m                                 Traceback (most recent call last)",
      "\u001b[1;32m<ipython-input-1-9ddc56ec153d>\u001b[0m in \u001b[0;36m<module>\u001b[1;34m()\u001b[0m\n\u001b[1;32m----> 1\u001b[1;33m \u001b[0mtrain_narrative_excl\u001b[0m\u001b[1;33m=\u001b[0m\u001b[0mnp\u001b[0m\u001b[1;33m.\u001b[0m\u001b[0mconcatenate\u001b[0m\u001b[1;33m(\u001b[0m\u001b[1;33m(\u001b[0m\u001b[0mtrain_matrix_process_text\u001b[0m\u001b[1;33m.\u001b[0m\u001b[0mtoarray\u001b[0m\u001b[1;33m(\u001b[0m\u001b[1;33m)\u001b[0m\u001b[1;33m,\u001b[0m \u001b[0mexcl_marks\u001b[0m\u001b[1;33m)\u001b[0m\u001b[1;33m,\u001b[0m \u001b[0maxis\u001b[0m\u001b[1;33m=\u001b[0m\u001b[1;36m1\u001b[0m\u001b[1;33m)\u001b[0m\u001b[1;33m\u001b[0m\u001b[0m\n\u001b[0m\u001b[0;32m      2\u001b[0m \u001b[0mdev_narrative_excl\u001b[0m\u001b[1;33m=\u001b[0m\u001b[0mnp\u001b[0m\u001b[1;33m.\u001b[0m\u001b[0mconcatenate\u001b[0m\u001b[1;33m(\u001b[0m\u001b[1;33m(\u001b[0m\u001b[0mdev_matrix_process_text\u001b[0m\u001b[1;33m.\u001b[0m\u001b[0mtoarray\u001b[0m\u001b[1;33m(\u001b[0m\u001b[1;33m)\u001b[0m\u001b[1;33m,\u001b[0m \u001b[0mexcl_marks_dev\u001b[0m\u001b[1;33m)\u001b[0m\u001b[1;33m,\u001b[0m \u001b[0maxis\u001b[0m\u001b[1;33m=\u001b[0m\u001b[1;36m1\u001b[0m\u001b[1;33m)\u001b[0m\u001b[1;33m\u001b[0m\u001b[0m\n\u001b[0;32m      3\u001b[0m \u001b[0mprint\u001b[0m\u001b[1;33m(\u001b[0m\u001b[0mtrain_narrative_excl\u001b[0m\u001b[1;33m.\u001b[0m\u001b[0mshape\u001b[0m\u001b[1;33m)\u001b[0m\u001b[1;33m\u001b[0m\u001b[0m\n\u001b[0;32m      4\u001b[0m \u001b[1;33m\u001b[0m\u001b[0m\n\u001b[0;32m      5\u001b[0m \u001b[1;33m\u001b[0m\u001b[0m\n",
      "\u001b[1;31mNameError\u001b[0m: name 'np' is not defined"
     ]
    }
   ],
   "source": [
    "train_narrative_excl=np.concatenate((train_matrix_process_text.toarray(), excl_marks), axis=1)\n",
    "dev_narrative_excl=np.concatenate((dev_matrix_process_text.toarray(), excl_marks_dev), axis=1)\n",
    "print(train_narrative_excl.shape)\n",
    "\n",
    "\n",
    "logistic = LogisticRegression(penalty ='l2',C=1)#C from the above test\n",
    "logistic.fit(train_narrative_excl, train_labels.values.flatten())\n",
    "\n",
    "\n",
    "preds = logistic.predict(dev_narrative_excl)\n",
    "pred_probas = logistic.predict_proba(dev_narrative_excl)\n",
    "F_Score = metrics.f1_score(dev_labels, preds, average='binary')\n",
    "\n",
    "\n",
    "# Call to display outputs\n",
    "model_output(pred_probas, F_Score, preds)\n",
    "fpr,tpr,_ = roc_curve(dev_labels, pred_probas[:,1])\n",
    "roc_auc = metrics.auc(fpr,tpr)\n"
   ]
  },
  {
   "cell_type": "markdown",
   "metadata": {},
   "source": [
    "###5.Grid Search and Model Selection"
   ]
  },
  {
   "cell_type": "code",
   "execution_count": null,
   "metadata": {
    "collapsed": true
   },
   "outputs": [],
   "source": []
  }
 ],
 "metadata": {
  "kernelspec": {
   "display_name": "Python 3",
   "language": "python",
   "name": "python3"
  },
  "language_info": {
   "codemirror_mode": {
    "name": "ipython",
    "version": 3
   },
   "file_extension": ".py",
   "mimetype": "text/x-python",
   "name": "python",
   "nbconvert_exporter": "python",
   "pygments_lexer": "ipython3",
   "version": "3.3.5"
  }
 },
 "nbformat": 4,
 "nbformat_minor": 0
}
