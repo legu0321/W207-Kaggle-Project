{
 "cells": [
  {
   "cell_type": "code",
   "execution_count": null,
   "metadata": {
    "collapsed": true
   },
   "outputs": [],
   "source": [
    "import os\n",
    "import numpy as np\n",
    "os.chdir('C:\\\\Users\\\\lgu\\\\Downloads\\\\pizza_request_dataset.tar\\\\pizza_request_dataset\\\\pizza_request_dataset' )"
   ]
  },
  {
   "cell_type": "code",
   "execution_count": null,
   "metadata": {
    "collapsed": true
   },
   "outputs": [],
   "source": [
    "import pandas, json\n",
    "from sklearn.feature_extraction.text import *\n",
    "import re\n",
    "import numpy as np\n",
    "\n",
    "\n",
    "# SK-learn libraries for learning.\n",
    "from sklearn.pipeline import Pipeline\n",
    "from sklearn.neighbors import KNeighborsClassifier\n",
    "from sklearn.linear_model import LogisticRegression\n",
    "from sklearn.naive_bayes import BernoulliNB\n",
    "from sklearn.naive_bayes import MultinomialNB\n",
    "from sklearn.grid_search import GridSearchCV\n",
    "\n",
    "# SK-learn libraries for evaluation.\n",
    "from sklearn.metrics import confusion_matrix\n",
    "from sklearn import metrics\n",
    "from sklearn.metrics import classification_report\n",
    "\n",
    "\n",
    "json_data = json.load(open('pizza_request_dataset.json'))\n",
    "df=pandas.io.json.json_normalize(json_data)\n",
    "print(df.columns.values)\n",
    "print(df.shape)"
   ]
  },
  {
   "cell_type": "code",
   "execution_count": null,
   "metadata": {
    "collapsed": true
   },
   "outputs": [],
   "source": [
    "import matplotlib.pyplot as plt\n",
    "%matplotlib inline\n",
    "np.random.seed(0)\n",
    "# data=df\n",
    "# data.drop([\"requester_received_pizza\"]axis=1)\n",
    "# data_labels=df[\"requester_received_pizza\"]\n",
    "\n",
    "from sklearn.cross_validation import train_test_split\n",
    "\n",
    "train, test = train_test_split(df, test_size = 0.3)\n",
    "\n",
    "train_labels=train[\"requester_received_pizza\"]\n",
    "train_data \n",
    "# train.drop([\"requester_received_pizza\"],axis=1)\n",
    "\n",
    "test_labels=test[\"requester_received_pizza\"]\n",
    "test_data \n",
    "# test_data.drop([\"requester_received_pizza\"],axis=1)\n",
    "\n",
    "print ('training label shape:', train_labels.shape)\n",
    "print ('test shape:', train_data.shape)\n",
    "print ('test label shape:', test_labels.shape)\n",
    "print ('test shape:', test_data.shape)\n"
   ]
  }
 ],
 "metadata": {
  "kernelspec": {
   "display_name": "Python 3",
   "language": "python",
   "name": "python3"
  },
  "language_info": {
   "codemirror_mode": {
    "name": "ipython",
    "version": 3
   },
   "file_extension": ".py",
   "mimetype": "text/x-python",
   "name": "python",
   "nbconvert_exporter": "python",
   "pygments_lexer": "ipython3",
   "version": "3.3.5"
  }
 },
 "nbformat": 4,
 "nbformat_minor": 0
}
