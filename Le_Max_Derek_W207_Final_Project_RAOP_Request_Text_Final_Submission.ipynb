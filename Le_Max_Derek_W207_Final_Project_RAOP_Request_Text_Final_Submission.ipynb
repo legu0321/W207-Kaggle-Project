{
 "cells": [
  {
   "cell_type": "markdown",
   "metadata": {},
   "source": [
    "# Final Project Random Act of Pizza: \n",
    "Delivered by Le Gu, Derek Chan, and Max(Sungtai) Shen\n",
    "\n",
    "Sunday, April 24, 2016\n",
    "\n",
    "Table of Contents\n",
    "\n",
    "    Background description\n",
    "    \n",
    "    Data Exploration\n",
    "    Initial Model Exploration\n",
    "    Baseline Results\n",
    "    Numerical Feature Engineering: Process and Results\n",
    "    Text Feature Engineering: Process and Results\n",
    "    Model Optimization\n",
    "    Summary of best predictors\n",
    "    Ensemble Method and Final Prediction\n",
    "    \n",
    "    Appendix\n",
    "    \n",
    "Background Description"
   ]
  },
  {
   "cell_type": "code",
   "execution_count": 3,
   "metadata": {
    "collapsed": false
   },
   "outputs": [],
   "source": [
    "# This tells matplotlib not to try opening a new window for each plot.\n",
    "%matplotlib inline\n",
    "\n",
    "# General libraries.\n",
    "import os\n",
    "import codecs\n",
    "import json\n",
    "import csv\n",
    "\n",
    "import re\n",
    "import numpy as np\n",
    "import pandas as pd\n",
    "import matplotlib.pyplot as plt\n",
    "\n",
    "# SK-learn libraries for learning.\n",
    "from sklearn.pipeline import Pipeline\n",
    "from sklearn.neighbors import KNeighborsClassifier\n",
    "from sklearn.linear_model import LogisticRegression\n",
    "from sklearn.naive_bayes import BernoulliNB\n",
    "from sklearn.naive_bayes import MultinomialNB\n",
    "from sklearn.grid_search import GridSearchCV\n",
    "\n",
    "# SK-learn libraries for evaluation.\n",
    "from sklearn.metrics import confusion_matrix\n",
    "from sklearn import metrics\n",
    "from sklearn.metrics import classification_report\n",
    "\n",
    "# SK-learn library for importing the newsgroup data.\n",
    "from sklearn.datasets import fetch_20newsgroups\n",
    "\n",
    "# SK-learn libraries for feature extraction from text.\n",
    "from sklearn.feature_extraction.text import *"
   ]
  },
  {
   "cell_type": "markdown",
   "metadata": {},
   "source": [
    "# Data Exploration"
   ]
  },
  {
   "cell_type": "code",
   "execution_count": 4,
   "metadata": {
    "collapsed": false
   },
   "outputs": [
    {
     "name": "stdout",
     "output_type": "stream",
     "text": [
      "Input Type after pd.read_jason:  <class 'pandas.core.frame.DataFrame'> \n",
      "\n",
      "train_labels\n",
      "----------\n",
      "[u'requester_received_pizza']\n",
      "(3975, 1) \n",
      "\n",
      "train_data\n",
      "----------\n",
      "[u'giver_username_if_known', u'in_test_set', u'number_of_downvotes_of_request_at_retrieval', u'number_of_upvotes_of_request_at_retrieval', u'post_was_edited', u'request_id', u'request_number_of_comments_at_retrieval', u'request_text', u'request_text_edit_aware', u'request_title', u'requester_account_age_in_days_at_request', u'requester_account_age_in_days_at_retrieval', u'requester_days_since_first_post_on_raop_at_request', u'requester_days_since_first_post_on_raop_at_retrieval', u'requester_number_of_comments_at_request', u'requester_number_of_comments_at_retrieval', u'requester_number_of_comments_in_raop_at_request', u'requester_number_of_comments_in_raop_at_retrieval', u'requester_number_of_posts_at_request', u'requester_number_of_posts_at_retrieval', u'requester_number_of_posts_on_raop_at_request', u'requester_number_of_posts_on_raop_at_retrieval', u'requester_number_of_subreddits_at_request', u'requester_subreddits_at_request', u'requester_upvotes_minus_downvotes_at_request', u'requester_upvotes_minus_downvotes_at_retrieval', u'requester_upvotes_plus_downvotes_at_request', u'requester_upvotes_plus_downvotes_at_retrieval', u'requester_user_flair', u'requester_username', u'unix_timestamp_of_request', u'unix_timestamp_of_request_utc']\n",
      "(3975, 32) \n",
      "\n",
      "dev_labels\n",
      "----------\n",
      "[u'requester_received_pizza']\n",
      "(1696, 1) \n",
      "\n",
      "dev_data\n",
      "----------\n",
      "[u'giver_username_if_known', u'in_test_set', u'number_of_downvotes_of_request_at_retrieval', u'number_of_upvotes_of_request_at_retrieval', u'post_was_edited', u'request_id', u'request_number_of_comments_at_retrieval', u'request_text', u'request_text_edit_aware', u'request_title', u'requester_account_age_in_days_at_request', u'requester_account_age_in_days_at_retrieval', u'requester_days_since_first_post_on_raop_at_request', u'requester_days_since_first_post_on_raop_at_retrieval', u'requester_number_of_comments_at_request', u'requester_number_of_comments_at_retrieval', u'requester_number_of_comments_in_raop_at_request', u'requester_number_of_comments_in_raop_at_retrieval', u'requester_number_of_posts_at_request', u'requester_number_of_posts_at_retrieval', u'requester_number_of_posts_on_raop_at_request', u'requester_number_of_posts_on_raop_at_retrieval', u'requester_number_of_subreddits_at_request', u'requester_subreddits_at_request', u'requester_upvotes_minus_downvotes_at_request', u'requester_upvotes_minus_downvotes_at_retrieval', u'requester_upvotes_plus_downvotes_at_request', u'requester_upvotes_plus_downvotes_at_retrieval', u'requester_user_flair', u'requester_username', u'unix_timestamp_of_request', u'unix_timestamp_of_request_utc']\n",
      "(1696, 32) \n",
      "\n",
      "train labels\n",
      "----------\n",
      "requester_received_pizza    0.241006\n",
      "dtype: float64 \n",
      "\n",
      "dev labels\n",
      "----------\n",
      "requester_received_pizza    0.258844\n",
      "dtype: float64\n"
     ]
    }
   ],
   "source": [
    "# set random seed\n",
    "np.random.seed(0)\n",
    "#Input data\n",
    "X = pd.read_json('./pizza_request_dataset.json')\n",
    "print (\"Input Type after pd.read_jason: \"), type(X), \"\\n\" \n",
    "\n",
    "# randomly assign 70% to train_data, and 30% to dev_data\n",
    "msk = np.random.rand(len(X)) <= 0.7\n",
    "train_data = X[msk]\n",
    "dev_data = X[~msk]\n",
    "\n",
    "# create output dataframe Y of train_labels\n",
    "train_labels = train_data[[\"requester_received_pizza\"]]\n",
    "\n",
    "# delete train_labels from input dataframe of train_data\n",
    "del train_data[\"requester_received_pizza\"]\n",
    "\n",
    "# create output dataframe of dev_labels\n",
    "dev_labels = dev_data[[\"requester_received_pizza\"]]\n",
    "\n",
    "# delete dev_labels from input dataframe of dev_data\n",
    "del dev_data[\"requester_received_pizza\"]\n",
    "\n",
    "# print (labels, shapes, and feature names\n",
    "print (\"train_labels\" + \"\\n\" + \"----------\")\n",
    "print (list(train_labels))\n",
    "print (train_labels.shape), \"\\n\" \n",
    "print (\"train_data\" + \"\\n\" + \"----------\") \n",
    "print (list(train_data))\n",
    "print (train_data.shape), \"\\n\"\n",
    "\n",
    "print (\"dev_labels\" + \"\\n\" + \"----------\")\n",
    "print (list(dev_labels))\n",
    "print (dev_labels.shape), \"\\n\"\n",
    "\n",
    "print (\"dev_data\" + \"\\n\" + \"----------\")\n",
    "print (list(dev_data))\n",
    "print (dev_data.shape), \"\\n\"\n",
    "\n",
    "# print (percent of train_data and dev_data whose posts led to receipt of pizza\n",
    "print (\"train labels\" + \"\\n\" + \"----------\")\n",
    "print (np.mean(train_labels)), \"\\n\"\n",
    "print (\"dev labels\" + \"\\n\" + \"----------\")\n",
    "print (np.mean(dev_labels))"
   ]
  },
  {
   "cell_type": "code",
   "execution_count": 5,
   "metadata": {
    "collapsed": false
   },
   "outputs": [
    {
     "name": "stdout",
     "output_type": "stream",
     "text": [
      "type(train_text) <class 'pandas.core.series.Series'>\n",
      "type(train_labels) <class 'pandas.core.frame.DataFrame'>\n",
      "type(dev_text) <class 'pandas.core.series.Series'>\n",
      "type(dev_labels) <class 'pandas.core.frame.DataFrame'> \n",
      "\n",
      "pandas dataframe:\n",
      "0    I'm not in College, or a starving artist or an...\n",
      "2    I'm sure there are needier people on this subr...\n",
      "3    I've been unemployed going on three months now...\n",
      "4    I ran out of money on my meal card a while bac...\n",
      "5                                                     \n",
      "Name: request_text, dtype: object \n",
      "\n",
      "numpy.ndarray:\n",
      "<type 'numpy.ndarray'>\n",
      "(3975,)\n",
      "[ u\"I'm not in College, or a starving artist or anything like that. I've just been a bit unlucky lately. I'm a 36 year old single guy with a job. But rent, and other bills killed me this month. I thought I had enough funds in my account to at least keep me set with Mr. Noodles, I forgot about my monthly banking fee.\\n\\nI had a small bag of chips Wednesday afternoon, and I get paid Monday, so I'll be fine then.. It's just really painful at this point and food is something I'm constantly thinking about.\\n\\nI've got a few bucks to get on the bus to work on Saturday, so I can't really use that.\\n\\nI'm really embarrassed to even be asking like this and I'm not sure how it works, so please be patient with me.\\n\\nI guess that covers it. Thank you in advance.\\n\\nCheers folks.\"\n",
      " u\"I'm sure there are needier people on this subreddit, but I had to borrow 30 bucks to pay the rest of my share of rent yesterday and now I'm broke until next friday.  Pizza for me and my housemate that lent me the 30 bucks would be much appreciated for dinner.  Thanks in advance, it's subreddits like this that make Reddit such an awesome place.\\nEDIT:CayucosKid got me covered, 2 pizzas, breadsticks, and a 2 liter of coke to boot!  I'll be eating good for days!  Thanks again.  (=\"\n",
      " u\"I've been unemployed going on three months now, and unfortunately my student girlfriend's part time job at the pharmacy doesn't leave much left over for anything but rice. Here's hoping for a hot pizza.\"]\n",
      "\n",
      "numpy.ndarray:\n",
      "<type 'numpy.ndarray'>\n",
      "(3975,)\n",
      "[ True  True  True]\n",
      "\n",
      "numpy.ndarray:\n",
      "<type 'numpy.ndarray'>\n",
      "(1696,)\n",
      "[ u\"Hello! It's been a hard 2 months with money and I listed some goodies on craigslist so I could make some food money for my family and the people never showed up =(  The cupboards are empty, no bread or P&amp;J. Is there anyone that wouldn't mind helping me out tonight? My family would appreciate it so very much. Thank you for your time in reading our plea. \\n\\nEdit: Tarn33 Came to are rescue and soon my family will be enjoying some much needed pizza!\"\n",
      " u\"I have a couple babysitting gigs lined up next week, but I won't have a single dollar until next week. I'm trying to figure something out until then, but a pizza would last me the rest of the week. I'm in Missouri. Please, for the love of pizza, show me the good side of reddit! You all have saved me in so many ways, but this is my first time asking for a real life helping hand. Thank You!\"\n",
      " u'']\n",
      "\n",
      "numpy.ndarray:\n",
      "<type 'numpy.ndarray'>\n",
      "(1696,)\n",
      "[ True  True  True]\n",
      "\n",
      "train_labels.shape:  (3975,)\n",
      "dev_labels.shape:  (1696,)\n"
     ]
    }
   ],
   "source": [
    "# prepare data\n",
    "# transform X to numpy array, and Y to 1-D numpy array\n",
    "# view actual text and labels\n",
    "train_text = train_data[\"request_text\"]\n",
    "dev_text = dev_data[\"request_text\"]\n",
    "\n",
    "print (\"type(train_text)\"), type(train_text)\n",
    "print (\"type(train_labels)\"), type(train_labels)\n",
    "print (\"type(dev_text)\"), type(dev_text)\n",
    "print (\"type(dev_labels)\"), type(dev_labels), \"\\n\"\n",
    "\n",
    "# View as pandas dataframe\n",
    "print (\"pandas dataframe:\")\n",
    "print (train_text[:5]), \"\\n\"\n",
    "\n",
    "# convert to numpy (np) array\n",
    "def to_np(d):\n",
    "\n",
    "    print (\"numpy.ndarray:\")\n",
    "    d = np.array(d)\n",
    "    d = d.flatten()\n",
    "    print (type(d))\n",
    "    print (d.shape)\n",
    "    print (d[:3])\n",
    "    print\n",
    "    return d\n",
    "\n",
    "train_text = to_np(train_text)\n",
    "train_labels = to_np(train_labels)\n",
    "dev_text = to_np(dev_text)\n",
    "dev_labels = to_np(dev_labels)\n",
    "\n",
    "print (\"train_labels.shape: \"), train_labels.shape\n",
    "print (\"dev_labels.shape: \"), dev_labels.shape"
   ]
  },
  {
   "cell_type": "markdown",
   "metadata": {},
   "source": [
    "##a) Test Different Models"
   ]
  },
  {
   "cell_type": "code",
   "execution_count": 6,
   "metadata": {
    "collapsed": false,
    "scrolled": true
   },
   "outputs": [
    {
     "name": "stdout",
     "output_type": "stream",
     "text": [
      "('train_vectors.shape:', (3975, 12313))\n",
      "('dev_vectors.shape:', (1696, 12313)) \n",
      "\n",
      "------------------------------\n",
      "K Nearest Neighbors (K-NN)\n",
      "------------------------------\n",
      "K-NN: f1_score = 0.4133, k = 1\n",
      "K-NN: f1_score = 0.0259, k = 5\n",
      "K-NN: f1_score = 0.0, k = 15\n",
      "K-NN: f1_score = 0.0, k = 16\n",
      "K-NN: f1_score = 0.0, k = 17\n",
      "K-NN: f1_score = 0.0, k = 18\n",
      "K-NN: f1_score = 0.0, k = 19\n",
      "K-NN: f1_score = 0.0, k = 20\n",
      "K-NN: f1_score = 0.0, k = 28\n",
      "K-NN: f1_score = 0.0, k = 29\n",
      "K-NN: f1_score = 0.0, k = 30\n",
      "K-NN: f1_score = 0.0, k = 31\n",
      "K-NN: f1_score = 0.0, k = 32\n",
      "K-NN: f1_score = 0.0, k = 150\n",
      "K-NN: f1_score = 0.0, k = 300\n",
      "\n",
      "('K-NN: optimal k =', 1) \n",
      "\n",
      "-----------------------------\n",
      "Bernoulli Naive Bayes (BNB)\n",
      "-----------------------------\n",
      "BNB: f1_score = 0.0, alpha = 0.0\n",
      "BNB: f1_score = 0.0844, alpha = 1e-05\n",
      "BNB: f1_score = 0.0844, alpha = 0.0001\n",
      "BNB: f1_score = 0.0844, alpha = 0.001\n",
      "BNB: f1_score = 0.0125, alpha = 0.01\n",
      "BNB: f1_score = 0.0126, alpha = 0.094\n",
      "BNB: f1_score = 0.0126, alpha = 0.095\n",
      "BNB: f1_score = 0.0126, alpha = 0.096\n",
      "BNB: f1_score = 0.0126, alpha = 0.1\n",
      "BNB: f1_score = 0.0126, alpha = 0.105\n",
      "BNB: f1_score = 0.0044, alpha = 0.2\n",
      "BNB: f1_score = 0.0045, alpha = 0.3\n",
      "BNB: f1_score = 0.0, alpha = 0.4\n",
      "BNB: f1_score = 0.0, alpha = 0.5\n",
      "BNB: f1_score = 0.0, alpha = 0.6\n",
      "BNB: f1_score = 0.0, alpha = 0.7\n",
      "BNB: f1_score = 0.0, alpha = 1.0\n",
      "BNB: f1_score = 0.0, alpha = 10.0\n",
      "\n",
      "('Bernoulli Naive Bayes: optimal alpha =', 1e-05) \n",
      "\n",
      "------------------------\n",
      "Logistic Regression (LR)\n",
      "------------------------ \n",
      "\n",
      "-------------------------------\n",
      "LR: f1_score = 0.0, C = 0.01\n",
      "-------------------------------\n",
      "Label = 1, sum of squared weights = 0.109621390162 \n",
      "\n",
      "-------------------------------\n",
      "LR: f1_score = 0.0, C = 0.1\n",
      "-------------------------------\n",
      "Label = 1, sum of squared weights = 9.52499225203 \n",
      "\n",
      "-------------------------------\n",
      "LR: f1_score = 0.0045, C = 0.2\n",
      "-------------------------------\n",
      "Label = 1, sum of squared weights = 31.7216994044 \n",
      "\n",
      "-------------------------------\n",
      "LR: f1_score = 0.0135, C = 0.3\n",
      "-------------------------------\n",
      "Label = 1, sum of squared weights = 61.681429626 \n",
      "\n",
      "-------------------------------\n",
      "LR: f1_score = 0.0178, C = 0.4\n",
      "-------------------------------\n",
      "Label = 1, sum of squared weights = 97.3726951815 \n",
      "\n",
      "-------------------------------\n",
      "LR: f1_score = 0.0177, C = 0.5\n",
      "-------------------------------\n",
      "Label = 1, sum of squared weights = 137.63336072 \n",
      "\n",
      "-------------------------------\n",
      "LR: f1_score = 0.0177, C = 0.54\n",
      "-------------------------------\n",
      "Label = 1, sum of squared weights = 154.8503557 \n",
      "\n",
      "-------------------------------\n",
      "LR: f1_score = 0.0221, C = 0.55\n",
      "-------------------------------\n",
      "Label = 1, sum of squared weights = 159.243434292 \n",
      "\n",
      "-------------------------------\n",
      "LR: f1_score = 0.0221, C = 0.56\n",
      "-------------------------------\n",
      "Label = 1, sum of squared weights = 163.672952271 \n",
      "\n",
      "-------------------------------\n",
      "LR: f1_score = 0.022, C = 0.57\n",
      "-------------------------------\n",
      "Label = 1, sum of squared weights = 168.137600962 \n",
      "\n",
      "-------------------------------\n",
      "LR: f1_score = 0.022, C = 0.58\n",
      "-------------------------------\n",
      "Label = 1, sum of squared weights = 172.636591088 \n",
      "\n",
      "-------------------------------\n",
      "LR: f1_score = 0.0263, C = 0.59\n",
      "-------------------------------\n",
      "Label = 1, sum of squared weights = 177.169370513 \n",
      "\n",
      "-------------------------------\n",
      "LR: f1_score = 0.0306, C = 0.6\n",
      "-------------------------------\n",
      "Label = 1, sum of squared weights = 181.735454014 \n",
      "\n",
      "-------------------------------\n",
      "LR: f1_score = 0.0475, C = 0.7\n",
      "-------------------------------\n",
      "Label = 1, sum of squared weights = 229.126241576 \n",
      "\n",
      "-------------------------------\n",
      "LR: f1_score = 0.0641, C = 0.8\n",
      "-------------------------------\n",
      "Label = 1, sum of squared weights = 279.382526253 \n",
      "\n",
      "-------------------------------\n",
      "LR: f1_score = 0.0761, C = 0.9\n",
      "-------------------------------\n",
      "Label = 1, sum of squared weights = 332.181148169 \n",
      "\n",
      "-------------------------------\n",
      "LR: f1_score = 0.0795, C = 1.0\n",
      "-------------------------------\n",
      "Label = 1, sum of squared weights = 387.340589083 \n",
      "\n",
      "-------------------------------\n",
      "LR: f1_score = 0.0828, C = 1.1\n",
      "-------------------------------\n",
      "Label = 1, sum of squared weights = 444.464888316 \n",
      "\n",
      "-------------------------------\n",
      "LR: f1_score = 0.2324, C = 10\n",
      "-------------------------------\n",
      "Label = 1, sum of squared weights = 7103.77336434 \n",
      "\n",
      "-------------------------------\n",
      "LR: f1_score = 0.2319, C = 12\n",
      "-------------------------------\n",
      "Label = 1, sum of squared weights = 8552.28197252 \n",
      "\n",
      "-------------------------------\n",
      "LR: f1_score = 0.2415, C = 20\n",
      "-------------------------------\n",
      "Label = 1, sum of squared weights = 13863.7323633 \n",
      "\n",
      "-------------------------------\n",
      "LR: f1_score = 0.2541, C = 30\n",
      "-------------------------------\n",
      "Label = 1, sum of squared weights = 19607.8460883 \n",
      "\n",
      "-------------------------------\n",
      "LR: f1_score = 0.2638, C = 40\n",
      "-------------------------------\n",
      "Label = 1, sum of squared weights = 24623.210914 \n",
      "\n",
      "-------------------------------\n",
      "LR: f1_score = 0.2701, C = 50\n",
      "-------------------------------\n",
      "Label = 1, sum of squared weights = 29109.2238671 \n",
      "\n",
      "-------------------------------\n",
      "LR: f1_score = 0.2739, C = 100\n",
      "-------------------------------\n",
      "Label = 1, sum of squared weights = 46626.217287 \n",
      "\n",
      "-------------------------------\n",
      "LR: f1_score = 0.2755, C = 1000\n",
      "-------------------------------\n",
      "Label = 1, sum of squared weights = 151950.673399 \n",
      "\n",
      "('Logistic Regression: optimal C =', 1000) \n",
      "\n",
      "('max accuracy =', 74.233490566037744)\n"
     ]
    },
    {
     "name": "stderr",
     "output_type": "stream",
     "text": [
      "/Users/Maximus/anaconda/lib/python2.7/site-packages/sklearn/metrics/classification.py:1075: UndefinedMetricWarning: F-score is ill-defined and being set to 0.0 due to no predicted samples.\n",
      "  'precision', 'predicted', average, warn_for)\n"
     ]
    }
   ],
   "source": [
    "import operator\n",
    "\n",
    "def explore_models():\n",
    "    \n",
    "    # create empty vector\n",
    "    accuracies = []\n",
    "    \n",
    "    vectorizer = TfidfVectorizer(min_df=1, stop_words='english')\n",
    "    #vectorizer = CountVectorizer(min_df=1, stop_words='english')\n",
    "    train_vectors = vectorizer.fit_transform(train_text)\n",
    "    print (\"train_vectors.shape:\", train_vectors.shape)\n",
    "    \n",
    "    dev_vectors = vectorizer.transform(dev_text)\n",
    "    print (\"dev_vectors.shape:\", dev_vectors.shape), '\\n'\n",
    "    \n",
    "    #------------------------\n",
    "    # K Nearest Neighbors\n",
    "    #------------------------\n",
    "    \n",
    "    print (\"------------------------------\")\n",
    "    print (\"K Nearest Neighbors (K-NN)\")\n",
    "    print (\"------------------------------\")\n",
    "    \n",
    "    ks = [1, 5, 15, 16, 17, 18, 19, 20, 28, 29, 30, 31, 32, 150, 300]\n",
    "    f1_scores = []\n",
    "    \n",
    "    for k in ks:\n",
    "        knn = KNeighborsClassifier(n_neighbors=k, algorithm='brute')\n",
    "        knn.fit(train_vectors, train_labels)\n",
    "        pred_1 = knn.predict(dev_vectors)\n",
    "            \n",
    "        print (\"K-NN: f1_score = %s, k = %s\" %(round(metrics.f1_score(dev_labels, pred_1, average='binary'),4), k))\n",
    "\n",
    "        # append f1_scores to vector\n",
    "        f1_scores.append(metrics.f1_score(dev_labels, pred_1))\n",
    "    \n",
    "    print\n",
    "    \n",
    "    # map two vectors into a dictionary\n",
    "    results_knn = dict(zip(ks, f1_scores))\n",
    "    #print (results_knn)\n",
    "    \n",
    "    # print (the key with the max fl_score\n",
    "    print (\"K-NN: optimal k =\", max(results_knn.items(), key=operator.itemgetter(1))[0]), '\\n'\n",
    "\n",
    "    \n",
    "    #------------------------\n",
    "    # Bernoulli Naive Bayes\n",
    "    #------------------------\n",
    "    \n",
    "    print (\"-----------------------------\")\n",
    "    print (\"Bernoulli Naive Bayes (BNB)\")\n",
    "    print (\"-----------------------------\")\n",
    "    \n",
    "    # create two vectors\n",
    "    \n",
    "    alphas = [0.0, 0.00001, 0.0001, 0.001, 0.01, 0.094, 0.095, 0.096, 0.1, 0.105, 0.2, 0.3, 0.4, 0.5, 0.6, 0.7, 1.0, 10.0]\n",
    "    f1_scores = []\n",
    "    \n",
    "    for a in alphas:\n",
    "        bnb = BernoulliNB(alpha=a,binarize=0.5)\n",
    "        bnb.fit(train_vectors, train_labels)\n",
    "        pred_2 = bnb.predict(dev_vectors)\n",
    "        print (\"BNB: f1_score = %s, alpha = %s\" % (round(metrics.f1_score(dev_labels, pred_2, average='binary'), 4), a))\n",
    "        \n",
    "        # append f1_scores to vector\n",
    "        f1_scores.append(metrics.f1_score(dev_labels, pred_2))\n",
    "        \n",
    "    print\n",
    "    \n",
    "    # map two vectors into a dictionary\n",
    "    results_bnb = dict(zip(alphas, f1_scores))\n",
    "    #print (results_mnb)\n",
    "    \n",
    "    # print (the key wit)h the max fl_score\n",
    "    print (\"Bernoulli Naive Bayes: optimal alpha =\", max(results_bnb.items(), key=operator.itemgetter(1))[0]), '\\n'\n",
    "    \n",
    "    #------------------------\n",
    "    # Logistic Regression\n",
    "    #------------------------\n",
    "    \n",
    "    print (\"------------------------\")\n",
    "    print (\"Logistic Regression (LR)\")\n",
    "    print (\"------------------------\"), '\\n'\n",
    "\n",
    "    \n",
    "    # create two vectors\n",
    "    # cs refers to the vector of C (inverse of regularization strength) values\n",
    "    \n",
    "    cs = [0.01, 0.1, 0.2, 0.3, 0.4, 0.5, 0.54, 0.55, 0.56, 0.57, 0.58, 0.59, 0.6, 0.7, 0.8, 0.9, 1.0, 1.1, \\\n",
    "          10, 12, 20, 30, 40, 50, 100, 1000]\n",
    "    f1_scores = []\n",
    "    \n",
    "    for c in cs:\n",
    "        \n",
    "        # use l2 regularization, per instructions\n",
    "        lr = LogisticRegression(penalty='l2',C=c)\n",
    "        lr.fit(train_vectors, train_labels)\n",
    "        pred_3 = lr.predict(dev_vectors)\n",
    "        \n",
    "        print (\"-------------------------------\")\n",
    "        print (\"LR: f1_score = %s, C = %s\" % (round(metrics.f1_score(dev_labels, pred_3, average='binary'),4), c))\n",
    "        print (\"-------------------------------\")\n",
    "        \n",
    "        # append f1_scores to vector\n",
    "        f1_scores.append(metrics.f1_score(dev_labels, pred_3, average='binary'))\n",
    "        \n",
    "        accuracies.append((lr.score(dev_vectors, dev_labels))*100) \n",
    "\n",
    "        #print (lr.coef_.shape)\n",
    "        \n",
    "        # first define function that squares a given value, for later use in the 'for loop' below\n",
    "        fun_sq_wts = lambda x: x**2\n",
    "        \n",
    "        # use map function, likely faster (because written in C) than list comprehension.\n",
    "        # map function itself applies a function, specifically the first argument on the second argument.\n",
    "        # from coef_, take raw weights (coefficient of the features in the decision function), \n",
    "        # and sum the squares of these weights.\n",
    "\n",
    "        # note: averege=weight vs. average=default should be about same score if similar number of examples across classes\n",
    "        sq_wts = map(fun_sq_wts, lr.coef_[0])\n",
    "        sum_sq_wts =  sum(sq_wts)\n",
    "        print (\"Label = 1, sum of squared weights = %s\" % (sum_sq_wts)), '\\n'\n",
    "        \n",
    "    # map two vectors into a dictionary\n",
    "    results_lr = dict(zip(cs, f1_scores))\n",
    "    #print (results_lr)\n",
    "    \n",
    "    # print (the key with the max fl_score\n",
    "    print (\"Logistic Regression: optimal C =\", max(results_lr.items(), key=operator.itemgetter(1))[0]), '\\n'\n",
    "    print (\"max accuracy =\", max(accuracies))\n",
    "\n",
    "explore_models()"
   ]
  },
  {
   "cell_type": "markdown",
   "metadata": {},
   "source": [
    "# Baseline Results\n",
    "Based on inital results, we proceeded with Logistic Regression as the "
   ]
  },
  {
   "cell_type": "code",
   "execution_count": 7,
   "metadata": {
    "collapsed": false
   },
   "outputs": [
    {
     "name": "stdout",
     "output_type": "stream",
     "text": [
      "\n",
      "----------\n",
      "unigram\n",
      "----------\n",
      "\n",
      "('train_vectors.shape:', (3975, 12313))\n",
      "\n",
      "lr.coef_:\n",
      "[[-1.48092905 -0.39311615 -0.12825177 ...,  0.44453487  1.63180069\n",
      "  -0.87946286]] \n",
      "\n",
      "       Feature      word\n",
      "0         edit  4.824324\n",
      "1       father  4.627494\n",
      "2         mean  4.376547\n",
      "3      pockets  4.057164\n",
      "4          ass  3.995387\n",
      "5    mentioned  3.977975\n",
      "6          die  3.930683\n",
      "7        basic  3.899384\n",
      "8      married  3.850098\n",
      "9     southern -3.846223\n",
      "10       bloke  3.807984\n",
      "11    surprise  3.805289\n",
      "12   graveyard  3.749854\n",
      "13   surprised  3.697465\n",
      "14     sitting -3.697393\n",
      "15       mommy  3.658543\n",
      "16  especially  3.627059\n",
      "17  constantly  3.593246\n",
      "18      cheesy  3.548595\n",
      "19     running  3.539010\n",
      "\n",
      "----------\n",
      "bigram\n",
      "----------\n",
      "\n",
      "('train_vectors.shape:', (3975, 90693))\n",
      "\n",
      "lr.coef_:\n",
      "[[-0.31775435  0.42001296 -0.29407174 ..., -0.26401881 -0.22234693\n",
      "   0.57766744]] \n",
      "\n",
      "                Feature      word\n",
      "0           edit thanks  3.882043\n",
      "1             imgur com  3.879634\n",
      "2            http imgur  3.547851\n",
      "3             got pizza  3.038731\n",
      "4         forward money  2.984111\n",
      "5        sounds amazing  2.960338\n",
      "6        happy birthday  2.947813\n",
      "7   letsfytinglove best  2.947813\n",
      "8        north carolina  2.936326\n",
      "9            edit thank  2.927036\n",
      "10      tonight greatly  2.813269\n",
      "11           just spent  2.809594\n",
      "12         surprise son  2.768559\n",
      "13         afford ramen  2.674511\n",
      "14             love pie  2.633101\n",
      "15         broke payday  2.627687\n",
      "16               ve got  2.625031\n",
      "17        craving pizza -2.599092\n",
      "18          pay forward  2.518712\n",
      "19       pizza actually  2.512937\n"
     ]
    }
   ],
   "source": [
    "from sklearn.feature_selection import *\n",
    "\n",
    "def top20(type):\n",
    "    if type == \"unigram\":\n",
    "        \n",
    "        # use stop_words='english' to remove less meaningful words. \n",
    "        # only applies if default analyzer='word'.\n",
    "        vectorizer = TfidfVectorizer(min_df=1, stop_words='english')\n",
    "        #vectorizer = CountVectorizer(min_df=1, stop_words='english')\n",
    "        train_vectors = vectorizer.fit_transform(train_text)\n",
    "        print\n",
    "        print (\"----------\")\n",
    "        print (\"unigram\")\n",
    "        print (\"----------\")\n",
    "        print\n",
    "        print (\"train_vectors.shape:\", train_vectors.shape)\n",
    "        print\n",
    "        \n",
    "    elif type == \"bigram\":\n",
    "        \n",
    "        # use stop_words='english' to remove less meaningful words from the resulting tokens. \n",
    "        # only applies if default analyzer='word'.\n",
    "        # set bigrams to be 2 words only\n",
    "        vectorizer = TfidfVectorizer(min_df=1, stop_words='english', ngram_range=(2, 2))\n",
    "        #vectorizer = CountVectorizer(min_df=1, stop_words='english', ngram_range=(2, 2))\n",
    "        train_vectors = vectorizer.fit_transform(train_text)\n",
    "        print\n",
    "        print (\"----------\")\n",
    "        print (\"bigram\")\n",
    "        print (\"----------\")\n",
    "        print\n",
    "        print (\"train_vectors.shape:\", train_vectors.shape)\n",
    "        print\n",
    "      \n",
    "    # use C=12\n",
    "    for c in [12]:\n",
    "        \n",
    "        # in the multiclass case, the training algorithm uses the one-vs-rest (OvR) scheme if the default ‘multi_class’ option is set to ‘ovr’ \n",
    "        lr = LogisticRegression(penalty='l2',C=c)\n",
    "        #print (lr)\n",
    "        \n",
    "        # fit the model and generate coef_\n",
    "        lr.fit(train_vectors, train_labels)\n",
    "         \n",
    "        # interested in magnitude of the weights (coefficients), so take absolute value.\n",
    "        # sort absolute values in descending order.\n",
    "        # important to know if negative or positive weight, so still output the positive/negative sign.\n",
    "        # after fitting logistic regression for class vs. all other classes, negative weight of a token \n",
    "        # indicates a class other than class of interest.\n",
    "        # (visual example of negative and positive on a sigmoid function helps) \n",
    "        \n",
    "        print (\"lr.coef_:\")\n",
    "        print (lr.coef_), \"\\n\"\n",
    "        \n",
    "        # for each label, store the column indices of the top 5 weights \n",
    "        top20 = sorted(range(len(lr.coef_[0])), key=lambda i: abs(lr.coef_[0][i]), reverse=True)[:20]\n",
    "       \n",
    "        col_1 = []\n",
    "        \n",
    "        # for each label, access and store weights via column indices\n",
    "        for index in (top20):\n",
    "            col_1.append(lr.coef_[0][index])\n",
    "        # store feature names, after converting to an array\n",
    "        feature_names = np.asarray(vectorizer.get_feature_names())\n",
    "       \n",
    "        # create a Pandas dataframe with 20 rows and 4 columns, plus descriptive headers\n",
    "        df = pd.DataFrame({'Feature': feature_names[top20], 'word': col_1})\n",
    "        print (df)\n",
    "\n",
    "#-----\n",
    "top20(\"unigram\")\n",
    "top20(\"bigram\")"
   ]
  },
  {
   "cell_type": "markdown",
   "metadata": {},
   "source": [
    "# This section includes several help methods "
   ]
  },
  {
   "cell_type": "markdown",
   "metadata": {},
   "source": [
    "#Method for printing results and ROC Curve Plotting"
   ]
  },
  {
   "cell_type": "code",
   "execution_count": 129,
   "metadata": {
    "collapsed": false
   },
   "outputs": [],
   "source": [
    "def model_output(pred_probas, F_Score, preds, title=''):\n",
    "    print (\"Number of positive prediction: %d\") % (preds.sum())\n",
    "    print (\"Model F-Score = %0.4f \"%(F_Score))  #Sum up Squared Weights\n",
    "    accuracy = np.where(preds==dev_labels, 1, 0).sum() / float(len(dev_labels))\n",
    "    print (\"Accuracy = %0.4f\"    % (accuracy))\n",
    "    print ('precision_score: %f'  % metrics.precision_score(dev_labels, preds))\n",
    "    print ('recall_score: %0.4f' % metrics.recall_score(dev_labels, preds))\n",
    "    #print ('roc_auc_score: %0.4f'% metrics.roc_auc_score(dev_labels, preds, 'weighted'))\n",
    "    \n",
    "    # to reproduce from Kaggle, dont change weighted argument, just use default\n",
    "    # http://scikit-learn.org/stable/modules/generated/sklearn.metrics.roc_auc_score.html\n",
    "    # https://github.com/benhamner/Metrics/blob/master/Python/ml_metrics/auc.py\n",
    "    \n",
    "    # don't use 0 or 1, instead use the probabilities but think about it as a ranking score\n",
    "    # with auc, just want positive examples ranked over the negative examples,\n",
    "    # does not matter if .99 > .90 or .11 vs. .01\n",
    "    print ('roc_auc_score: %0.4f'% metrics.roc_auc_score(dev_labels, pred_probas[:,1]))\n",
    "\n",
    "    \n",
    "    fpr,tpr,thresholds = roc_curve(dev_labels, pred_probas[:,1])\n",
    "    table_of_thresholds = pd.DataFrame({'fpr': fpr, 'tpr': tpr, 'thresholds': thresholds})\n",
    "    roc_auc = auc(fpr,tpr)\n",
    "    plt.plot(fpr,tpr,label='area = %.4f' %roc_auc)\n",
    "    plt.plot([0, 1], [0, 1], 'k--')\n",
    "    plt.xlim([0.0, 1.0])\n",
    "    plt.ylim([0.0, 1.05])\n",
    "    plt.title(title)\n",
    "    plt.xlabel('False Positive Rate')\n",
    "    plt.ylabel('True Positive Rate')\n",
    "    plt.legend(loc='lower right')\n",
    "\n"
   ]
  },
  {
   "cell_type": "code",
   "execution_count": 9,
   "metadata": {
    "collapsed": false
   },
   "outputs": [],
   "source": [
    "#Method for tuning L1 and L2 regulations\n",
    "def Model_Tuning(in_model, in_train, in_label):\n",
    "\n",
    "    para = {'C': [100, 10, 1, 0.1, 0.01, 0.001, 0.0001, 0.00001]}\n",
    "    # create and fit a ridge regression model, testing each alpha\n",
    "    model = in_model\n",
    "    grid = GridSearchCV(estimator=model, param_grid = para)\n",
    "    grid.fit(in_train, in_label)\n",
    "    print \"The optimal hyperparameter is: \", grid.best_params_\n",
    "    return (grid.best_params_)"
   ]
  },
  {
   "cell_type": "code",
   "execution_count": 10,
   "metadata": {
    "collapsed": false
   },
   "outputs": [],
   "source": [
    "#Method for doing L1 regulation and finding most significant features\n",
    "def L1_regulation(C_parameter, in_train, in_label):\n",
    "\n",
    "    model_LG_L1 = LogisticRegression(penalty ='l1',C=C_parameter)#C from the above test\n",
    "    model_LG_L1.fit(in_train, in_label)\n",
    "\n",
    "    #Update the new index\n",
    "    index=[]\n",
    "    for i,z in enumerate(np.sum(np.abs(model_LG_L1.coef_),axis=0) ):\n",
    "        if z!=0:\n",
    "            index.append(i)\n",
    "    return(index)        "
   ]
  },
  {
   "cell_type": "markdown",
   "metadata": {},
   "source": [
    "# Numerical Feature Engineering: Process and Results\n",
    "This section is the numerical part of the model: utilize all numeric information from the dataset to \n",
    "predict the labels.  This model will be combined the text based model to improve predictive power. "
   ]
  },
  {
   "cell_type": "code",
   "execution_count": 11,
   "metadata": {
    "collapsed": false
   },
   "outputs": [],
   "source": [
    "#This is a helper method created for numerical feature extraction\n",
    "from datetime import date\n",
    "\n",
    "# define functions for subsequent cell\n",
    "def avgNumWords(post):\n",
    "    sentences = [x.strip() for x in post.split('.')]\n",
    "    num_words = len(post.split(' '))\n",
    "    num_sentences = len([x.strip() for x in post.split('.')])\n",
    "    return num_words / num_sentences\n",
    "\n",
    "def monthsFrom2010(col):\n",
    "    temp =  col.apply(lambda x: datetime.datetime.fromtimestamp(x).strftime('%Y-%m-%d'))\n",
    "    temp =  temp.apply(lambda x: datetime.datetime.strptime(x, '%Y-%m-%d'))\n",
    "    \n",
    "    raop_create_date = datetime.datetime(2010, 12, 1)\n",
    "    raop_create_date = raop_create_date.date()\n",
    "\n",
    "    temp = [x.date() for x in temp]\n",
    "    # comment out days, and use months for better results\n",
    "    #temp = [(x - raop_create_date).days for x in temp]\n",
    "    temp = [((x - raop_create_date).days)/30 for x in temp]\n",
    "    \n",
    "    return temp"
   ]
  },
  {
   "cell_type": "code",
   "execution_count": 12,
   "metadata": {
    "collapsed": false
   },
   "outputs": [
    {
     "name": "stdout",
     "output_type": "stream",
     "text": [
      "                                       Coefficients\n",
      "# words in posted title                    0.000238\n",
      "# words in posted text                     0.000711\n",
      "Month number of post (1-12)               -0.029972\n",
      "Posted 2nd half of month?                 -0.178590\n",
      "Posted past noon CST?                     -0.339503\n",
      "Upvotes minus Downvotes                    0.000021\n",
      "Requester account age                      0.000097\n",
      "Posted on weekend?                        -0.022634\n",
      "Requester included image?                  0.531343\n",
      "Posted on holiday?                         0.091636\n",
      "Post edited by Reddit?                     0.303602\n",
      "# comments on Reddit at retrieval > 1      1.525285\n",
      "# posts on RAOP at retrieval > 1           2.450680\n",
      "Number of sentences > 3                    0.230997\n",
      "Average words in sentence > 15             0.168713\n",
      "# Months since RAOP creation 12/2010      -0.029603 \n",
      "\n",
      "Number of positive prediction: 225\n",
      "Model F-Score = 0.5783 \n",
      "Accuracy = 0.8349\n",
      "accuracy_score: 0.853333\n",
      "recall_score: 0.4374\n",
      "roc_auc_score: 0.7056\n"
     ]
    },
    {
     "data": {
      "image/png": "[encoded data removed]",
      "text/plain": [
       "<matplotlib.figure.Figure at 0x113e7f510>"
      ]
     },
     "metadata": {},
     "output_type": "display_data"
    }
   ],
   "source": [
    "import datetime\n",
    "from pytz import timezone\n",
    "from dateutil import tz\n",
    "from pandas.tseries.holiday import USFederalHolidayCalendar as calendar\n",
    "np.random.seed(0)\n",
    "\n",
    "#Setting up logic to identify timezone, weekend, and holidays\n",
    "from_zone = tz.gettz('UTC')\n",
    "to_zone = tz.gettz('America/Chicago')\n",
    "weekend = set([5, 6])\n",
    "cal = calendar()\n",
    "holidays = cal.holidays(start='2011-04-07', end='2013-10-11')\n",
    "\n",
    "#Created new df for training data(numeric only)\n",
    "train_data_numeric = np.zeros((len(train_data), 16))\n",
    "dev_data_numeric =  np.zeros((len(dev_data), 16))\n",
    "\n",
    "find_image = re.compile(r'(imgur\\.com|\\.jpg)')  #compile this to combine with other function\n",
    "\n",
    "#####Process train data set###########################################################\n",
    "ut = train_data['unix_timestamp_of_request_utc']\n",
    "temp =  ut.apply(lambda x: datetime.datetime.fromtimestamp(x).strftime('%Y-%m-%d %H:%M:%S'))\n",
    "temp =  temp.apply(lambda x: datetime.datetime.strptime(x, '%Y-%m-%d %H:%M:%S'))\n",
    "utc =   temp.apply(lambda x: x.replace(tzinfo=from_zone))\n",
    "\n",
    "#For UTC and local time conversion\n",
    "temp = [] \n",
    "for i in utc:\n",
    "    temp.append(i.astimezone(to_zone))\n",
    "temp = pd.DataFrame(temp, columns=[\"T\"])\n",
    "    \n",
    "train_data_numeric[:,0] = train_data['request_title'].apply(lambda x: len(x.split(' ')))  #Title length\n",
    "train_data_numeric[:,1] = train_data['request_text'].apply(lambda x: len(x.split(' ')))   #Text length\n",
    "train_data_numeric[:,2] = temp['T'].dt.month      #Month in integer\n",
    "train_data_numeric[:,3] = temp['T'].dt.day > 15   #2nd 1/2 month\n",
    "train_data_numeric[:,4] = temp['T'].dt.hour > 12  #Passed noon\n",
    "train_data_numeric[:,5] = train_data['requester_upvotes_minus_downvotes_at_retrieval']\n",
    "train_data_numeric[:,6] = train_data['requester_account_age_in_days_at_retrieval']\n",
    "#Request during weekend\n",
    "train_data_numeric[:,7] = ut.apply(lambda x: datetime.datetime.fromtimestamp(x).weekday() in weekend)\n",
    "#Has Image: experiment with request_text over request_text_edit_aware, and use post_was_edited below it\n",
    "train_data_numeric[:,8] = train_data['request_text'].apply(lambda x: 1 if find_image.findall(x) else 0 )\n",
    "#Requested date a holiday\n",
    "train_data_numeric[:,9] = (train_data['unix_timestamp_of_request_utc']\n",
    "                           .apply(lambda x: datetime.datetime.fromtimestamp(x).strftime('%Y-%m-%d')) \n",
    "                           .apply(lambda x: 1 if x in holidays else 0))\n",
    "#Post was edited\n",
    "train_data_numeric[:,10] = train_data['post_was_edited']==1\n",
    "train_data_numeric[:,11] = train_data['request_number_of_comments_at_retrieval']>1\n",
    "train_data_numeric[:,12] = train_data['requester_number_of_posts_on_raop_at_retrieval']>1\n",
    "# dont split on ; or ?, as it lowers the result\n",
    "train_data_numeric[:,13] = train_data['request_text'].apply(lambda x: len(re.split(r'[.]',x)))>3 #proxy num sentences\n",
    "train_data_numeric[:,14] = train_data['request_text'].apply(lambda x: avgNumWords(x))>15 #proxy avg num words per sentence\n",
    "train_data_numeric[:,15] = monthsFrom2010(train_data['unix_timestamp_of_request_utc']) #months from raop creation in 12/2010\n",
    "\n",
    "######################Omitted Variables due to less significance####################\n",
    "#Is the text edited and included image: train_data['request_text_edit_aware'].apply(lambda x: 1 if find_image.findall(x) else 0 )\n",
    "#Number of comments at time of retrieval: train_data['requester_number_of_comments_in_raop_at_retrieval']>1\n",
    "#Number of posts at time of retrieval: train_data['requester_number_of_posts_at_retrieval']>1\n",
    "#Create a table to show cofficients of the key numerical features\n",
    "num_features = pd.DataFrame(index=['# words in posted title', \n",
    "                                   '# words in posted text', \n",
    "                                   'Month number of post (1-12)', \n",
    "                                   'Posted 2nd half of month?', \n",
    "                                   'Posted past noon CST?', \n",
    "                                   'Upvotes minus Downvotes', \n",
    "                                   'Requester account age', \n",
    "                                   'Posted on weekend?', \n",
    "                                   'Requester included image?', \n",
    "                                   'Posted on holiday?',\n",
    "                                   'Post edited by Reddit?', \n",
    "                                   '# comments on Reddit at retrieval > 1', \n",
    "                                   '# posts on RAOP at retrieval > 1',\n",
    "                                   'Number of sentences > 3', \n",
    "                                   'Average words in sentence > 15', \n",
    "                                   '# Months since RAOP creation 12/2010'])\n",
    "\n",
    "#######Process dev dataset, setting up the same features for dev##############################################\n",
    "ut = dev_data['unix_timestamp_of_request_utc']\n",
    "temp = ut.apply(lambda x: datetime.datetime.fromtimestamp(x).strftime('%Y-%m-%d %H:%M:%S'))\n",
    "temp = temp.apply(lambda x: datetime.datetime.strptime(x, '%Y-%m-%d %H:%M:%S'))\n",
    "utc =  temp.apply(lambda x: x.replace(tzinfo=from_zone))\n",
    "\n",
    "temp = [] \n",
    "for i in utc:\n",
    "    temp.append(i.astimezone(to_zone))\n",
    "temp = pd.DataFrame(temp, columns=[\"T\"])\n",
    "\n",
    "dev_data_numeric[:,0] = dev_data['request_title'].apply(lambda x: len(x.split(' '))) \n",
    "dev_data_numeric[:,1] = dev_data['request_text'].apply(lambda x: len(x.split(' ')))\n",
    "dev_data_numeric[:,2] = temp['T'].dt.month\n",
    "dev_data_numeric[:,3] = temp['T'].dt.day > 15\n",
    "dev_data_numeric[:,4] = temp['T'].dt.hour > 12 \n",
    "dev_data_numeric[:,5] = dev_data['requester_upvotes_minus_downvotes_at_retrieval']\n",
    "dev_data_numeric[:,6] = dev_data['requester_account_age_in_days_at_retrieval']>1\n",
    "#Request during weekend\n",
    "dev_data_numeric[:,7] = ut.apply(lambda x: datetime.datetime.fromtimestamp(x).weekday() in weekend) \n",
    "dev_data_numeric[:,8] =  dev_data['request_text'].apply(lambda x: 1 if find_image.findall(x) else 0 )\n",
    "dev_data_numeric[:,9] = (dev_data['unix_timestamp_of_request_utc']\n",
    "                         .apply(lambda x: datetime.datetime.fromtimestamp(x).strftime('%Y-%m-%d')) \n",
    "                         .apply(lambda x: 1 if x in holidays else 0))\n",
    "dev_data_numeric[:,10] = dev_data['post_was_edited']==1\n",
    "dev_data_numeric[:,11] = dev_data['request_number_of_comments_at_retrieval']>1\n",
    "dev_data_numeric[:,12] = dev_data['requester_number_of_posts_on_raop_at_retrieval']>1\n",
    "dev_data_numeric[:,13] = dev_data['request_text'].apply(lambda x: len(re.split(r'[.]',x)))>3  #proxy num sentences\n",
    "dev_data_numeric[:,14] = dev_data['request_text'].apply(lambda x: avgNumWords(x))>15  #proxy avg num words per sentence\n",
    "dev_data_numeric[:,15] = monthsFrom2010(dev_data['unix_timestamp_of_request_utc'])  #months from raop creation in 12/2010\n",
    "\n",
    "                           \n",
    "###Start Logistic Regresson on numeric data\n",
    "logit = LogisticRegression(C= 0.1, penalty = 'l2')\n",
    "result = logit.fit(train_data_numeric, train_labels)\n",
    "\n",
    "preds = logit.predict(dev_data_numeric)\n",
    "F_Score = metrics.f1_score(dev_labels, preds, average='binary')\n",
    "pred_probas = logit.predict_proba(dev_data_numeric)\n",
    "\n",
    "#Table show which numerical coefficients got higher weights\n",
    "num_features[\"Coefficients\"] = pd.Series(result.coef_[0], index=num_features.index)\n",
    "print num_features, \"\\n\"\n",
    "\n",
    "model_output(pred_probas, F_Score, preds, \"Numerical Model\")"
   ]
  },
  {
   "cell_type": "markdown",
   "metadata": {},
   "source": [
    "# Text Feature Engineering\n",
    "This section focuses on feature engineering for text features in the dataset\n",
    "\n",
    "- Top token features\n",
    "- Top narratives\n",
    "- Top grammatical symbol"
   ]
  },
  {
   "cell_type": "code",
   "execution_count": 13,
   "metadata": {
    "collapsed": true
   },
   "outputs": [],
   "source": [
    "# 0a.Extract text and tile for train and dev\n",
    "\n",
    "train_text=train_data['request_text'].as_matrix()\n",
    "train_title=train_data['request_title'].as_matrix()\n",
    "train_all = train_text+train_title\n",
    "\n",
    "dev_text=dev_data['request_text'].as_matrix()\n",
    "dev_title=dev_data['request_title'].as_matrix()\n",
    "dev_all = dev_text + dev_title"
   ]
  },
  {
   "cell_type": "code",
   "execution_count": 14,
   "metadata": {
    "collapsed": true
   },
   "outputs": [],
   "source": [
    "# 0b.Helper Method\n",
    "\n",
    "def train_log(train,dev):\n",
    "    \n",
    "    model_LG_func = LogisticRegression(penalty ='l2',C=13)\n",
    "    model_LG_func.fit(train, np.ravel(train_labels))\n",
    "    \n",
    "    preds_train = model_LG_func.predict(train)\n",
    "    F_Score_train = metrics.f1_score(train_labels, preds_train, average='binary')\n",
    "    pred_probas_train = model_LG_func.predict_proba(train)\n",
    "\n",
    "    preds = model_LG_func.predict(dev)\n",
    "    F_Score = metrics.f1_score(dev_labels, preds, average='binary')\n",
    "    pred_probas = model_LG_func.predict_proba(dev)\n",
    "\n",
    "    #Call to display outputs\n",
    "    model_output(pred_probas, F_Score, preds)\n",
    "    fpr,tpr,_ = roc_curve(dev_labels, pred_probas[:,1])\n",
    "    roc_auc_dev = metrics.auc(fpr,tpr)\n",
    "    fpr,tpr,_ = roc_curve(train_labels, pred_probas_train[:,1])\n",
    "    roc_auc_train = metrics.auc(fpr,tpr)\n",
    "    \n",
    "    print(roc_auc_train,roc_auc_dev), \"\\n\"\n"
   ]
  },
  {
   "cell_type": "markdown",
   "metadata": {},
   "source": [
    "1 - Preprocessor creation"
   ]
  },
  {
   "cell_type": "code",
   "execution_count": 15,
   "metadata": {
    "collapsed": false
   },
   "outputs": [],
   "source": [
    "from scipy import sparse\n",
    "from scipy.sparse import csr_matrix \n",
    "from scipy.sparse import coo_matrix, hstack\n",
    "from bs4 import BeautifulSoup\n",
    "\n",
    "def empty_preprocessor(s):\n",
    "    return s\n",
    "\n",
    "def first_preprocessor(s):\n",
    "    #convert to lowercase\n",
    "    s=s.lower()\n",
    "    s=re.sub(\"[,.!?:;/~*]\",\" \",s)\n",
    "    #remove duplicated 0s and 1s\n",
    "    s=re.sub(\"[0-9]*\",\"\",s)\n",
    "    #remove number longer than 5 digit\n",
    "    s=re.sub(\"[0-9]{5,}\",\"\",s)\n",
    "    #remove stem end with 'ly'\n",
    "    s=re.sub(\"ly\\s\",\" \",s)\n",
    "    #remove plural form\n",
    "    s=re.sub(\"s\\s\",\" \",s)\n",
    "    s=re.sub(\"s\\Z\",\" \",s)\n",
    "    #remove _ as the end of word\n",
    "    s=re.sub(\"[_]+\",\" \",s)\n",
    "    #remove _ as start of the word\n",
    "    s=re.sub(\"\\s[_]+\",\" \",s)\n",
    "    #remove stem end with 'ness'\n",
    "    s=re.sub(\"ness\\s\",\" \",s)\n",
    "    s=re.sub(\"ing\\s\",\" \",s)\n",
    "    #remove words that are too short\n",
    "    s=re.sub(\"\\s[0-9a-z]{1,2}\\s\",\" \",s)\n",
    "    s=re.sub(\"\\s[0-9a-z]{1,2}\\Z\",\" \",s)\n",
    "    s = BeautifulSoup(s).get_text()\n",
    "    return s\n",
    "\n",
    "def second_preprocessor(s):\n",
    "    \n",
    "    # make all text lowercase\n",
    "    s = s.lower()\n",
    "    \n",
    "    # replace digit(s) with an uncommon string,'zz'\n",
    "    s = re.sub(\"\\d+\", \"zz\", s)\n",
    "    \n",
    "    # stem words with specific endings\n",
    "    s=re.sub(\"ness\\s\",\" \",s)\n",
    "    s=re.sub(\"ing\\s\",\" \",s)\n",
    "\n",
    "    #remove _ as the end of word\n",
    "    s=re.sub(\"[_]+\",\" \",s)\n",
    "    #remove _ as start of the word\n",
    "    s=re.sub(\"\\s[_]+\",\" \",s)\n",
    "    \n",
    "    #-----\n",
    "    # write variation of code, but remove ending s (make plural words singular)\n",
    "    # http://stackoverflow.com/questions/3675318/how-to-replace-the-some-characters-from-the-end-of-a-string\n",
    "    def replace_ending_s(orig_string):\n",
    "        head, sep, tail = orig_string.rpartition(\"s\")\n",
    "        if orig_string[len(orig_string)-1] in (\"s\"):\n",
    "            return head\n",
    "        else:\n",
    "            return orig_string\n",
    "    \n",
    "    '''\n",
    "    # test out replace_ending_s\n",
    "    \n",
    "    a = \"1231s5\"\n",
    "    b = \"1231es\"\n",
    "\n",
    "    print replace_ending_s(a)\n",
    "    print replace_ending_s(b)\n",
    "    '''\n",
    "    \n",
    "    if len(s) >= 3:\n",
    "        s = replace_ending_s(s)\n",
    "    #----- \n",
    "    \n",
    "    # replace 2-3 blank spaces with 1 blank space\n",
    "    s = re.sub(\"   \", \" \", s)\n",
    "    s = re.sub(\"  \", \" \", s)\n",
    "    \n",
    "    # return preprocessed string\n",
    "    return s"
   ]
  },
  {
   "cell_type": "markdown",
   "metadata": {},
   "source": [
    "2 - Preprocessor testing and vectorizer comparision\n",
    "\n",
    "In this session, we compare different ways to turn text into feature matrix.  The results show our preprocessing effors were not very successful and the best results come from TF-IDF vectorizer with ngram_range from 1 to 8. "
   ]
  },
  {
   "cell_type": "code",
   "execution_count": 16,
   "metadata": {
    "collapsed": false
   },
   "outputs": [
    {
     "name": "stdout",
     "output_type": "stream",
     "text": [
      "Number of positive prediction: 70\n",
      "Model F-Score = 0.0982 \n",
      "Accuracy = 0.7294\n",
      "accuracy_score: 0.357143\n",
      "recall_score: 0.0569\n",
      "roc_auc_score: 0.5106\n",
      "(0.64825816545490655, 0.5818931070288843) \n",
      "\n",
      "Number of positive prediction: 36\n",
      "Model F-Score = 0.0463 \n",
      "Accuracy = 0.7329\n",
      "accuracy_score: 0.305556\n",
      "recall_score: 0.0251\n",
      "roc_auc_score: 0.5026\n",
      "(0.64062085897381782, 0.58875037829158994) \n",
      "\n",
      "Number of positive prediction: 49\n",
      "Model F-Score = 0.0615 \n",
      "Accuracy = 0.7300\n",
      "accuracy_score: 0.306122\n",
      "recall_score: 0.0342\n",
      "roc_auc_score: 0.5036\n",
      "(0.64084142538143274, 0.60405510462593981) \n",
      "\n",
      "Number of positive prediction: 179\n",
      "Model F-Score = 0.2492 \n",
      "Accuracy = 0.7264\n",
      "accuracy_score: 0.430168\n",
      "recall_score: 0.1754\n",
      "roc_auc_score: 0.5471\n",
      "(0.99972338377586156, 0.6334639911710821) \n",
      "\n",
      "Number of positive prediction: 186\n",
      "Model F-Score = 0.2592 \n",
      "Accuracy = 0.7270\n",
      "accuracy_score: 0.435484\n",
      "recall_score: 0.1845\n",
      "roc_auc_score: 0.5505\n",
      "(0.99970089465194789, 0.63114984333744695) \n",
      "\n",
      "Number of positive prediction: 187\n",
      "Model F-Score = 0.2492 \n",
      "Accuracy = 0.7229\n",
      "accuracy_score: 0.417112\n",
      "recall_score: 0.1777\n",
      "roc_auc_score: 0.5455\n",
      "(0.99970089465194778, 0.63287684638008934) \n",
      "\n"
     ]
    },
    {
     "data": {
      "image/png": "[encoded data removed]",
      "text/plain": [
       "<matplotlib.figure.Figure at 0x1048468d0>"
      ]
     },
     "metadata": {},
     "output_type": "display_data"
    }
   ],
   "source": [
    "# compare 6 alternatives of text feature enginerin\n",
    "\n",
    "vectorizer_process = CountVectorizer(preprocessor =empty_preprocessor,analyzer='char',stop_words='english')\n",
    "train_matrix_process_text= vectorizer_process.fit_transform(train_text)\n",
    "dev_matrix_process_text = vectorizer_process.transform(dev_text)\n",
    "train_log(train_matrix_process_text,dev_matrix_process_text)\n",
    "\n",
    "vectorizer_process = CountVectorizer(preprocessor =first_preprocessor,analyzer='char',stop_words='english')\n",
    "train_matrix_process_text= vectorizer_process.fit_transform(train_text)\n",
    "dev_matrix_process_text = vectorizer_process.transform(dev_text)\n",
    "train_log(train_matrix_process_text,dev_matrix_process_text)\n",
    "\n",
    "vectorizer_process = CountVectorizer(preprocessor =second_preprocessor,analyzer='char',stop_words='english')\n",
    "train_matrix_process_text= vectorizer_process.fit_transform(train_text)\n",
    "dev_matrix_process_text = vectorizer_process.transform(dev_text)\n",
    "train_log(train_matrix_process_text,dev_matrix_process_text)\n",
    "\n",
    "# 1.Convert Text to word features based on TF-IDF\n",
    "\n",
    "vectorizer_process = TfidfVectorizer(preprocessor =empty_preprocessor,analyzer='word',stop_words='english',ngram_range=(1, 8) )\n",
    "train_matrix_process_text= vectorizer_process.fit_transform(train_text)\n",
    "dev_matrix_process_text = vectorizer_process.transform(dev_text)\n",
    "train_log(train_matrix_process_text,dev_matrix_process_text)\n",
    "\n",
    "vectorizer_process = TfidfVectorizer(preprocessor =first_preprocessor,analyzer='word',stop_words='english',ngram_range=(1, 8) )\n",
    "train_matrix_process_text= vectorizer_process.fit_transform(train_text)\n",
    "dev_matrix_process_text = vectorizer_process.transform(dev_text)\n",
    "train_log(train_matrix_process_text,dev_matrix_process_text)\n",
    "\n",
    "vectorizer_process = TfidfVectorizer(preprocessor =second_preprocessor,analyzer='word',stop_words='english',ngram_range=(1, 8) )\n",
    "train_matrix_process_text= vectorizer_process.fit_transform(train_text)\n",
    "dev_matrix_process_text = vectorizer_process.transform(dev_text)\n",
    "train_log(train_matrix_process_text,dev_matrix_process_text)"
   ]
  },
  {
   "cell_type": "code",
   "execution_count": 19,
   "metadata": {
    "collapsed": false
   },
   "outputs": [
    {
     "name": "stdout",
     "output_type": "stream",
     "text": [
      "Optimal number of features : 232625\n"
     ]
    },
    {
     "data": {
      "image/png": "[encoded data removed]",
      "text/plain": [
       "<matplotlib.figure.Figure at 0x1213a2fd0>"
      ]
     },
     "metadata": {},
     "output_type": "display_data"
    },
    {
     "name": "stdout",
     "output_type": "stream",
     "text": [
      "Number of positive prediction: 0\n",
      "Model F-Score = 0.0000 \n",
      "Accuracy = 0.7412\n",
      "accuracy_score: 0.000000\n",
      "recall_score: 0.0000\n",
      "roc_auc_score: 0.5000\n"
     ]
    },
    {
     "name": "stderr",
     "output_type": "stream",
     "text": [
      "/Users/Maximus/anaconda/lib/python2.7/site-packages/sklearn/metrics/classification.py:1075: UndefinedMetricWarning: Precision is ill-defined and being set to 0.0 due to no predicted samples.\n",
      "  'precision', 'predicted', average, warn_for)\n"
     ]
    },
    {
     "data": {
      "image/png": "[encoded data removed]",
      "text/plain": [
       "<matplotlib.figure.Figure at 0x1108ecfd0>"
      ]
     },
     "metadata": {},
     "output_type": "display_data"
    }
   ],
   "source": [
    "# 2.Feature ranking with recursive feature elimination & cross-validated selection of the best number of features.\n",
    "from sklearn.svm import SVC\n",
    "from sklearn.cross_validation import StratifiedKFold\n",
    "from sklearn.feature_selection import RFECV\n",
    "from sklearn import cross_validation\n",
    "\n",
    "# Build a LogisticRegression Classifier with L2 Regularization\n",
    "\n",
    "logistic  = LogisticRegression(penalty ='l2',C=0.1)\n",
    "\n",
    "rfecv = RFECV(estimator=logistic , step= 100, cv=4,scoring='roc_auc')\n",
    "rfecv.fit(train_matrix_process_text, train_labels)\n",
    "\n",
    "print(\"Optimal number of features : %d\" % rfecv.n_features_)\n",
    "\n",
    "# Plot number of features VS. cross-validation scores\n",
    "plt.figure()\n",
    "plt.xlabel(\"Number of features selected\")\n",
    "plt.ylabel(\"Cross validation score (nb of correct classifications)\")\n",
    "plt.plot(range(1, len(rfecv.grid_scores_) + 1), rfecv.grid_scores_)\n",
    "plt.show()\n",
    "\n",
    "cv_features=train_matrix_process_text[:,rfecv.support_]\n",
    "cv_features_dev= dev_matrix_process_text[:,rfecv.support_]\n",
    "\n",
    "logistic = LogisticRegression(penalty ='l2',C=0.1)#C from the above test\n",
    "logistic.fit(cv_features, train_labels)\n",
    "\n",
    "\n",
    "preds = logistic.predict(cv_features_dev)\n",
    "pred_probas = logistic.predict_proba(cv_features_dev)\n",
    "F_Score = metrics.f1_score(dev_labels, preds, average='binary')\n",
    "\n",
    "\n",
    "# Call to display outputs\n",
    "model_output(pred_probas, F_Score, preds)"
   ]
  },
  {
   "cell_type": "code",
   "execution_count": 51,
   "metadata": {
    "collapsed": false
   },
   "outputs": [
    {
     "ename": "AttributeError",
     "evalue": "'numpy.ndarray' object has no attribute 'values'",
     "output_type": "error",
     "traceback": [
      "\u001b[0;31m---------------------------------------------------------------------------\u001b[0m",
      "\u001b[0;31mAttributeError\u001b[0m                            Traceback (most recent call last)",
      "\u001b[0;32m<ipython-input-51-b7c0665f7d0e>\u001b[0m in \u001b[0;36m<module>\u001b[0;34m()\u001b[0m\n\u001b[1;32m      3\u001b[0m \u001b[0;34m\u001b[0m\u001b[0m\n\u001b[1;32m      4\u001b[0m \u001b[0mlogistic\u001b[0m \u001b[0;34m=\u001b[0m \u001b[0mLogisticRegression\u001b[0m\u001b[0;34m(\u001b[0m\u001b[0mpenalty\u001b[0m \u001b[0;34m=\u001b[0m\u001b[0;34m'l2'\u001b[0m\u001b[0;34m,\u001b[0m\u001b[0mC\u001b[0m\u001b[0;34m=\u001b[0m\u001b[0;36m1\u001b[0m\u001b[0;34m)\u001b[0m\u001b[0;31m#C from the above test\u001b[0m\u001b[0;34m\u001b[0m\u001b[0m\n\u001b[0;32m----> 5\u001b[0;31m \u001b[0mlogistic\u001b[0m\u001b[0;34m.\u001b[0m\u001b[0mfit\u001b[0m\u001b[0;34m(\u001b[0m\u001b[0mcv_features\u001b[0m\u001b[0;34m,\u001b[0m \u001b[0mtrain_labels\u001b[0m\u001b[0;34m.\u001b[0m\u001b[0mvalues\u001b[0m\u001b[0;34m.\u001b[0m\u001b[0mflatten\u001b[0m\u001b[0;34m(\u001b[0m\u001b[0;34m)\u001b[0m\u001b[0;34m)\u001b[0m\u001b[0;34m\u001b[0m\u001b[0m\n\u001b[0m\u001b[1;32m      6\u001b[0m \u001b[0;34m\u001b[0m\u001b[0m\n\u001b[1;32m      7\u001b[0m \u001b[0;34m\u001b[0m\u001b[0m\n",
      "\u001b[0;31mAttributeError\u001b[0m: 'numpy.ndarray' object has no attribute 'values'"
     ]
    }
   ],
   "source": [
    "cv_features=train_matrix_process_text[:,rfecv.support_]\n",
    "cv_features_dev= dev_matrix_process_text[:,rfecv.support_]\n",
    "\n",
    "logistic = LogisticRegression(penalty ='l2',C= 0.1)#C from the above test\n",
    "logistic.fit(cv_features, train_labels)\n",
    "\n",
    "\n",
    "preds = logistic.predict(cv_features_dev)\n",
    "pred_probas = logistic.predict_proba(cv_features_dev)\n",
    "F_Score = metrics.f1_score(dev_labels, preds, average='binary')\n",
    "\n",
    "\n",
    "# Call to display outputs\n",
    "model_output(pred_probas, F_Score, preds)\n",
    "fpr,tpr,_ = roc_curve(dev_labels, pred_probas[:,1])\n",
    "roc_auc = metrics.auc(fpr,tpr)\n",
    "print(roc_auc)"
   ]
  },
  {
   "cell_type": "code",
   "execution_count": 20,
   "metadata": {
    "collapsed": true
   },
   "outputs": [],
   "source": [
    "# Add Narratives\n",
    "\n",
    "desire = re.compile(r'(friend|party|birthday|boyfriend|girlfriend|date|drinks|drunk|wasted|invite|invited|celebrate|celebrating|game|games|movie|beer|crave|craving|gf)', re.IGNORECASE)\n",
    "family = re.compile(r'(husband|wife|family|parent|parents|mother|father|mom|mum|son|dad|daughter|firstborn|pregnancy )', re.IGNORECASE)\n",
    "job = re.compile(r'(job|unemployment|employment|hire|hired|fired|interview|work)', re.IGNORECASE)\n",
    "money = re.compile(r'(money|bill|bills|rent|bank|account|paycheck|due|broke|bills|deposit|cash|dollar|dollars|bucks|paid|payed|buy|check|spent|financial|poor|loan|\\\n",
    "credit|budget|day|now|time|week|until|last|month|tonight|today|next|night|when|tomorrow|first|after|while|before|long|hour|Friday|ago|still|due|past|soon|current|years|never|till|yesterday|morning|evening)', re.IGNORECASE)\n",
    "student = re.compile(r'(college|student|university|finals|study|studying|class|semester|school|roommate|project|tuition|dorm)', re.IGNORECASE)\n",
    "mood = re.compile(r'(thank|thanks|thankful|appreciate|grateful|gratitude|advance)', re.IGNORECASE) \n",
    "holiday = re.compile(r'(anniversary|chirstmas)', re.IGNORECASE)   \n",
    "\n",
    "def myfunc(a,b):\n",
    "    if len(a)==0:\n",
    "        return 0 \n",
    "    else:\n",
    "        return len(b.findall(a))/float(len(a))"
   ]
  },
  {
   "cell_type": "code",
   "execution_count": 22,
   "metadata": {
    "collapsed": false
   },
   "outputs": [],
   "source": [
    "narrative_all=np.zeros(shape=(len(train_text),6),dtype=int)\n",
    "narrative_all_dev=np.zeros(shape=(len(dev_text),6),dtype=int)\n",
    "\n",
    "for index,i in enumerate([family,desire,holiday,mood,job,money]):\n",
    "    \n",
    "    vfunc = np.vectorize(myfunc)\n",
    "    narrative=vfunc(train_title+train_text,i)\n",
    "    med=np.median(narrative)\n",
    "    narrative_all[:,index]=np.where(narrative>0,1,0)\n",
    "    \n",
    "    narrative_dev=vfunc(dev_title+dev_text,i)\n",
    "    med=np.median(narrative_dev)\n",
    "    narrative_all_dev[:,index]=np.where(narrative_dev>0,1,0)"
   ]
  },
  {
   "cell_type": "markdown",
   "metadata": {},
   "source": [
    "Check results from"
   ]
  },
  {
   "cell_type": "code",
   "execution_count": 23,
   "metadata": {
    "collapsed": false
   },
   "outputs": [
    {
     "name": "stdout",
     "output_type": "stream",
     "text": [
      "Number of positive prediction: 16\n",
      "Model F-Score = 0.0264 \n",
      "Accuracy = 0.7388\n",
      "accuracy_score: 0.375000\n",
      "recall_score: 0.0137\n",
      "roc_auc_score: 0.5029\n",
      "0.652601468224\n",
      "cell ran\n"
     ]
    },
    {
     "data": {
      "image/png": "[encoded data removed]",
      "text/plain": [
       "<matplotlib.figure.Figure at 0x1108fd890>"
      ]
     },
     "metadata": {},
     "output_type": "display_data"
    }
   ],
   "source": [
    "train_narrative=np.concatenate((cv_features.toarray(), narrative_all), axis=1)\n",
    "dev_narrative=np.concatenate((cv_features_dev.toarray(), narrative_all_dev), axis=1)\n",
    "\n",
    "\n",
    "logistic = LogisticRegression(penalty ='l2',C=1)#C from the above test\n",
    "logistic.fit(train_narrative, train_labels.values.flatten())\n",
    "\n",
    "\n",
    "preds = logistic.predict(dev_narrative)\n",
    "pred_probas = logistic.predict_proba(dev_narrative)\n",
    "F_Score = metrics.f1_score(dev_labels, preds, average='binary')\n",
    "\n",
    "\n",
    "# Call to display outputs\n",
    "model_output(pred_probas, F_Score, preds)\n",
    "fpr,tpr,_ = roc_curve(dev_labels, pred_probas[:,1])\n",
    "roc_auc = metrics.auc(fpr,tpr)\n",
    "print(roc_auc)"
   ]
  },
  {
   "cell_type": "code",
   "execution_count": 26,
   "metadata": {
    "collapsed": false
   },
   "outputs": [
    {
     "name": "stdout",
     "output_type": "stream",
     "text": [
      "(3975, 232632)\n",
      "Number of positive prediction: 17\n",
      "Model F-Score = 0.0307 \n",
      "Accuracy = 0.7394\n",
      "accuracy_score: 0.411765\n",
      "recall_score: 0.0159\n",
      "roc_auc_score: 0.5040\n",
      "0.652676673499\n"
     ]
    },
    {
     "data": {
      "image/png": "[encoded data removed]",
      "text/plain": [
       "<matplotlib.figure.Figure at 0x11d1b0cd0>"
      ]
     },
     "metadata": {},
     "output_type": "display_data"
    }
   ],
   "source": [
    "# Add capitalized word on Title\n",
    "\n",
    "train_caps = train_data['request_title'].apply(lambda x: np.where(sum(1 for c in re.split('\\W+',x) if c.isupper() and len(c) > 5) > 0, 1,0)).as_matrix()\n",
    "dev_caps = dev_data['request_title'].apply(lambda x: np.where(sum(1 for c in re.split('\\W+',x) if c.isupper() and len(c) > 5) > 0, 1,0)).as_matrix()\n",
    "train_caps=train_caps.reshape(len(train_caps),1) \n",
    "dev_caps=dev_caps.reshape(len(dev_caps),1) \n",
    "\n",
    "train_narrative_excl_cap=np.concatenate((train_narrative, train_caps), axis=1)\n",
    "dev_narrative_excl_cap=np.concatenate((dev_narrative, dev_caps), axis=1)\n",
    "print(train_narrative_excl_cap.shape)\n",
    "\n",
    "\n",
    "logistic = LogisticRegression(penalty ='l2',C=1)#C from the above test\n",
    "logistic.fit(train_narrative_excl_cap, train_labels)\n",
    "\n",
    "\n",
    "preds = logistic.predict(dev_narrative_excl_cap)\n",
    "pred_probas = logistic.predict_proba(dev_narrative_excl_cap)\n",
    "F_Score = metrics.f1_score(dev_labels, preds, average='binary')\n",
    "\n",
    "\n",
    "# Call to display outputs\n",
    "model_output(pred_probas, F_Score, preds)\n",
    "fpr,tpr,_ = roc_curve(dev_labels, pred_probas[:,1])\n",
    "roc_auc = metrics.auc(fpr,tpr)\n",
    "print(roc_auc)\n"
   ]
  },
  {
   "cell_type": "code",
   "execution_count": 50,
   "metadata": {
    "collapsed": false
   },
   "outputs": [
    {
     "name": "stdout",
     "output_type": "stream",
     "text": [
      "C=0.10, auc=0.59958, 4 features selected. \n",
      "C=0.60, auc=0.61129, 8 features selected. \n",
      "C=1.10, auc=0.62673, 12 features selected. \n",
      "C=1.60, auc=0.63779, 27 features selected. \n",
      "C=2.10, auc=0.64261, 47 features selected. \n",
      "C=2.60, auc=0.64567, 75 features selected. \n",
      "C=3.10, auc=0.64721, 120 features selected. \n",
      "C=3.60, auc=0.65011, 158 features selected. \n",
      "C=4.10, auc=0.64899, 217 features selected. \n",
      "C=4.60, auc=0.64746, 269 features selected. \n",
      "C=5.10, auc=0.64705, 322 features selected. \n",
      "C=5.60, auc=0.64745, 365 features selected. \n",
      "C=6.10, auc=0.64305, 401 features selected. \n",
      "C=6.60, auc=0.64318, 477 features selected. \n",
      "C=7.10, auc=0.64316, 651 features selected. \n",
      "C=7.60, auc=0.64397, 723 features selected. \n",
      "C=8.10, auc=0.64453, 779 features selected. \n",
      "C=8.60, auc=0.64358, 982 features selected. \n",
      "C=9.10, auc=0.64394, 1060 features selected. \n",
      "C=9.60, auc=0.64316, 1446 features selected. \n",
      "C=10.10, auc=0.64311, 1561 features selected. \n",
      "C=10.60, auc=0.64403, 1650 features selected. \n",
      "C=11.10, auc=0.64313, 1706 features selected. \n",
      "C=11.60, auc=0.64331, 1856 features selected. \n",
      "C=12.10, auc=0.64292, 2032 features selected. \n",
      "C=12.60, auc=0.64308, 2146 features selected. \n",
      "C=13.10, auc=0.64403, 2337 features selected. \n",
      "C=13.60, auc=0.64491, 2497 features selected. \n",
      "C=14.10, auc=0.64463, 2593 features selected. \n",
      "C=14.60, auc=0.64391, 2779 features selected. \n",
      "C=15.10, auc=0.64424, 2922 features selected. \n",
      "C=15.60, auc=0.64466, 2969 features selected. \n",
      "C=16.10, auc=0.64516, 3019 features selected. \n",
      "C=16.60, auc=0.64487, 3272 features selected. \n",
      "C=17.10, auc=0.64629, 3557 features selected. \n",
      "C=17.60, auc=0.64635, 3757 features selected. \n",
      "C=18.10, auc=0.64648, 3923 features selected. \n",
      "C=18.60, auc=0.64708, 4058 features selected. \n",
      "C=19.10, auc=0.64729, 4302 features selected. \n",
      "C=19.60, auc=0.64760, 4363 features selected. \n"
     ]
    }
   ],
   "source": [
    "# L1 Regularization\n",
    "\n",
    "for c in np.arange(0.1,20,0.5):\n",
    "    \n",
    "    Logistic_L1 = LogisticRegression(penalty ='l1',C=c)#C from the above test\n",
    "    Logistic_L1.fit(train_narrative_excl_cap, np.ravel(train_labels))\n",
    "\n",
    "    #Update the new index\n",
    "    index=[]\n",
    "    for i,z in enumerate(np.sum(np.abs(Logistic_L1.coef_),axis=0) ):\n",
    "        if z!=0:\n",
    "            index.append(i)\n",
    "\n",
    "    train_features_final=train_narrative_excl_cap[:,index]\n",
    "    dev_features_final=dev_narrative_excl_cap[:,index]\n",
    "\n",
    "    Logistic_L2 = LogisticRegression(penalty ='l2',C=1)#C from the above test\n",
    "    Logistic_L2.fit(train_features_final, np.ravel(train_labels))\n",
    "\n",
    "    preds = Logistic_L2.predict(dev_features_final)\n",
    "    pred_probas = Logistic_L2.predict_proba(dev_features_final)\n",
    "    F_Score = metrics.f1_score(np.ravel(dev_labels), preds, average='binary')\n",
    "\n",
    "\n",
    "    #Call to display outputs\n",
    "#     model_output(pred_probas, F_Score, preds) #Please input pred_probas, F_Score, and prediction(preds)\n",
    "    fpr,tpr,_ = roc_curve(dev_labels, pred_probas[:,1])\n",
    "    roc_auc = metrics.auc(fpr,tpr)\n",
    "    print ('C=%.2f, auc=%.5f, %i features selected. ' %(c,roc_auc,len(index)))\n"
   ]
  },
  {
   "cell_type": "code",
   "execution_count": 39,
   "metadata": {
    "collapsed": false
   },
   "outputs": [
    {
     "name": "stdout",
     "output_type": "stream",
     "text": [
      "Number of positive prediction: 0\n",
      "Model F-Score = 0.0000 \n",
      "Accuracy = 0.7412\n",
      "accuracy_score: 0.000000\n",
      "recall_score: 0.0000\n",
      "roc_auc_score: 0.5000\n",
      "C=8, auc=0.59958, 4 features selected. \n"
     ]
    },
    {
     "data": {
      "image/png": "[encoded data removed]",
      "text/plain": [
       "<matplotlib.figure.Figure at 0x1175723d0>"
      ]
     },
     "metadata": {},
     "output_type": "display_data"
    }
   ],
   "source": [
    "Logistic_L1 = LogisticRegression(penalty ='l1',C=0.1)#C from the above test\n",
    "Logistic_L1.fit(train_narrative_excl_cap, np.ravel(train_labels))\n",
    "\n",
    "#Update the new index\n",
    "index=[]\n",
    "for i,z in enumerate(np.sum(np.abs(Logistic_L1.coef_),axis=0) ):\n",
    "    if z!=0:\n",
    "        index.append(i)\n",
    "\n",
    "train_features_final=train_narrative_excl_cap[:,index]\n",
    "dev_features_final=dev_narrative_excl_cap[:,index]\n",
    "\n",
    "Logistic_L2 = LogisticRegression(penalty ='l2',C=1)#C from the above test\n",
    "Logistic_L2.fit(train_features_final, np.ravel(train_labels))\n",
    "\n",
    "preds = Logistic_L2.predict(dev_features_final)\n",
    "pred_probas = Logistic_L2.predict_proba(dev_features_final)\n",
    "F_Score = metrics.f1_score(np.ravel(dev_labels), preds, average='binary')\n",
    "\n",
    "\n",
    "#Call to display outputs\n",
    "model_output(pred_probas, F_Score, preds) #Please input pred_probas, F_Score, and prediction(preds)\n",
    "fpr,tpr,_ = roc_curve(dev_labels, pred_probas[:,1])\n",
    "roc_auc = metrics.auc(fpr,tpr)\n",
    "print ('C=%i, auc=%.5f, %i features selected. ' %(8,roc_auc,len(index)))"
   ]
  },
  {
   "cell_type": "code",
   "execution_count": 49,
   "metadata": {
    "collapsed": false
   },
   "outputs": [
    {
     "name": "stdout",
     "output_type": "stream",
     "text": [
      "{'C': 0.5}\n",
      "0.582741350456\n"
     ]
    },
    {
     "data": {
      "text/plain": [
       "[<matplotlib.lines.Line2D at 0x1156de450>]"
      ]
     },
     "execution_count": 49,
     "metadata": {},
     "output_type": "execute_result"
    },
    {
     "data": {
      "image/png": "[encoded data removed]",
      "text/plain": [
       "<matplotlib.figure.Figure at 0x113e7fed0>"
      ]
     },
     "metadata": {},
     "output_type": "display_data"
    }
   ],
   "source": [
    "# Hyper-Parameter Tuning and compare models\n",
    "\n",
    "from sklearn.grid_search import GridSearchCV\n",
    "classifier = LogisticRegression(penalty ='l2')\n",
    "Cs = {'C': [ 0.0001, 0.001, 0.01, 0.1, 0.5, 1.0, 2.0, 10.0, 13.0, 15.0, 17.0, 20.0, 23.0, 27, 30, 33, 37]}\n",
    "\n",
    "clf = GridSearchCV(classifier, Cs,scoring ='roc_auc',cv=2)\n",
    "clf.fit(train_features_final, np.ravel(train_labels))\n",
    "print(clf.best_params_)\n",
    "print(clf.best_score_)\n",
    "\n",
    "score=[]\n",
    "para=[]\n",
    "for i in range(10):\n",
    "    score.append(clf.grid_scores_[i][1])\n",
    "    para.append(clf.grid_scores_[i][0]['C'])\n",
    "\n",
    "plt.plot(para,score)\n",
    "# plt.plot(para,score)"
   ]
  },
  {
   "cell_type": "code",
   "execution_count": null,
   "metadata": {
    "collapsed": false
   },
   "outputs": [],
   "source": [
    "C_best=clf.best_params_['C']\n",
    "\n",
    "\n",
    "Logistic_L2 = LogisticRegression(penalty ='l2',C=C_best)#C from the above test\n",
    "Logistic_L2.fit(train_features_final, np.ravel(train_labels))\n",
    "\n",
    "preds = Logistic_L2.predict(dev_features_final)\n",
    "pred_probas = Logistic_L2.predict_proba(dev_features_final)\n",
    "F_Score = metrics.f1_score(np.ravel(dev_labels), preds, average='binary')\n",
    "\n",
    "\n",
    "#Call to display outputs\n",
    "model_output(pred_probas, F_Score, preds) #Please input pred_probas, F_Score, and prediction(preds)\n",
    "fpr,tpr,_ = roc_curve(dev_labels, pred_probas[:,1])\n",
    "roc_auc = metrics.auc(fpr,tpr)\n",
    "print (roc_auc)"
   ]
  },
  {
   "cell_type": "code",
   "execution_count": 29,
   "metadata": {
    "collapsed": false
   },
   "outputs": [
    {
     "name": "stdout",
     "output_type": "stream",
     "text": [
      "{'kernel': 'linear', 'C': 1000}\n",
      "0.747505690232\n",
      "Number of positive prediction: 0\n",
      "Model F-Score = 0.0000 \n",
      "Accuracy = 0.7412\n",
      "accuracy_score: 0.000000\n",
      "recall_score: 0.0000\n",
      "roc_auc_score: 0.5000\n",
      "0.606725344902\n"
     ]
    },
    {
     "data": {
      "image/png": "[encoded data removed]",
      "text/plain": [
       "<matplotlib.figure.Figure at 0x1213713d0>"
      ]
     },
     "metadata": {},
     "output_type": "display_data"
    }
   ],
   "source": [
    "from sklearn.svm import SVC\n",
    "\n",
    "tuned_parameters = [\n",
    "                    {'kernel': ['rbf'], 'gamma': [1e-3, 1e-4],'C': [1, 10, 100, 1000]},\n",
    "                    {'kernel': ['linear'], 'C': [1, 10, 100, 1000]}]\n",
    "\n",
    "\n",
    "# Build a SVM Classifier with linear kernel\n",
    "classifier = SVC()\n",
    "\n",
    "clf = GridSearchCV(classifier,tuned_parameters,scoring ='roc_auc', cv=5)\n",
    "clf.fit(train_features_final, train_labels)\n",
    "print(clf.best_params_)\n",
    "print(clf.best_score_)\n",
    "\n",
    "svc= SVC(C=1000 , kernel='rbf',gamma= 0.0001,probability=True)#C from the above test\n",
    "# svc= SVC(C=1000 , kernel='linear',probability=True) ##this is too bad\n",
    "\n",
    "svc.fit(train_features_final, np.ravel(train_labels))\n",
    "\n",
    "preds = svc.predict(dev_features_final)\n",
    "pred_probas = svc.predict_proba(dev_features_final)\n",
    "F_Score = metrics.f1_score(np.ravel(dev_labels), preds, average='binary')\n",
    "\n",
    "\n",
    "#Call to display outputs\n",
    "model_output(pred_probas, F_Score, preds) #Please input pred_probas, F_Score, and prediction(preds)\n",
    "fpr,tpr,_ = roc_curve(dev_labels, pred_probas[:,1])\n",
    "roc_auc = metrics.auc(fpr,tpr)\n",
    "print (roc_auc)"
   ]
  },
  {
   "cell_type": "code",
   "execution_count": 31,
   "metadata": {
    "collapsed": false
   },
   "outputs": [
    {
     "name": "stdout",
     "output_type": "stream",
     "text": [
      "(3975, 322)\n",
      "(1696, 322)\n"
     ]
    }
   ],
   "source": [
    "print train_features_final.shape\n",
    "print dev_features_final.shape"
   ]
  },
  {
   "cell_type": "markdown",
   "metadata": {},
   "source": [
    "# Model Optimization"
   ]
  },
  {
   "cell_type": "markdown",
   "metadata": {},
   "source": [
    "Test the result with a basic logistic regression with previously determine hyperparameters c = 0.1 for both L1 and L2"
   ]
  },
  {
   "cell_type": "code",
   "execution_count": 130,
   "metadata": {
    "collapsed": false
   },
   "outputs": [
    {
     "name": "stdout",
     "output_type": "stream",
     "text": [
      "Number of positive prediction: 225\n",
      "Model F-Score = 0.5783 \n",
      "Accuracy = 0.8349\n",
      "precision_score: 0.853333\n",
      "recall_score: 0.4374\n",
      "roc_auc_score: 0.8658\n"
     ]
    },
    {
     "data": {
      "image/png": "[encoded data removed]",
      "text/plain": [
       "<matplotlib.figure.Figure at 0x13e9e9190>"
      ]
     },
     "metadata": {},
     "output_type": "display_data"
    }
   ],
   "source": [
    "#Combine text features with numerical features; text features engineering from above\n",
    "np.random.seed(0)\n",
    "#######################Transformed Text features to sparse matrix\n",
    "\n",
    "index = L1_regulation(0.1, train_features_final, train_labels)\n",
    "\n",
    "# Append along columns with axis=1. that is, append along x axis\n",
    "# Combine numerical features with text features\n",
    "all_data_train = 0\n",
    "all_data_train = np.append(word_matrix_process[:,index].toarray(), train_data_numeric, 1)\n",
    "\n",
    "model_LG = LogisticRegression(penalty ='l2', C = 0.1)#C from the above test\n",
    "model_LG.fit(all_data_train, train_labels)\n",
    "\n",
    "all_data_dev = 0\n",
    "all_data_dev = np.append(dev_matrix_process[:,index].toarray(), dev_data_numeric, 1)\n",
    "\n",
    "preds = model_LG.predict(all_data_dev)\n",
    "F_Score = metrics.f1_score(dev_labels, preds, average='binary')\n",
    "pred_probas = model_LG.predict_proba(all_data_dev)\n",
    "\n",
    "model_output(pred_probas, F_Score, preds, 'Logisitc Regression with text feature engineering')\n"
   ]
  },
  {
   "cell_type": "code",
   "execution_count": 125,
   "metadata": {
    "collapsed": false
   },
   "outputs": [
    {
     "name": "stdout",
     "output_type": "stream",
     "text": [
      "Number of positive prediction: 285\n",
      "Model F-Score = 0.6105 \n",
      "Accuracy = 0.8337\n",
      "precision_score: 0.775439\n",
      "recall_score: 0.5034\n",
      "roc_auc_score: 0.8667\n"
     ]
    },
    {
     "data": {
      "image/png": "[encoded data removed]",
      "text/plain": [
       "<matplotlib.figure.Figure at 0x1874e71d0>"
      ]
     },
     "metadata": {},
     "output_type": "display_data"
    }
   ],
   "source": [
    "#Logisitc Regression Model with basic \n",
    "np.random.seed(0)\n",
    "#######################Transformed Text features to sparse matrix\n",
    "vectorizer_process = CountVectorizer(preprocessor =first_preprocessor,analyzer='word',stop_words='english',ngram_range=(1, 8))\n",
    "word_matrix_process= vectorizer_process.fit_transform(train_all)\n",
    "dev_matrix_process = vectorizer_process.transform(dev_all)\n",
    "\n",
    "index = L1_regulation(0.1, word_matrix_process, train_labels)\n",
    "\n",
    "# Append along columns with axis=1. that is, append along x axis\n",
    "# Combine numerical features with text features\n",
    "all_data_train = 0\n",
    "all_data_train = np.append(word_matrix_process[:,index].toarray(), train_data_numeric, 1)\n",
    "\n",
    "model_LG = LogisticRegression(penalty ='l2', C = 0.1)#C from the above test\n",
    "model_LG.fit(all_data_train, train_labels)\n",
    "\n",
    "all_data_dev = 0\n",
    "all_data_dev = np.append(dev_matrix_process[:,index].toarray(), dev_data_numeric, 1)\n",
    "\n",
    "preds = model_LG.predict(all_data_dev)\n",
    "F_Score = metrics.f1_score(dev_labels, preds, average='binary')\n",
    "pred_probas = model_LG.predict_proba(all_data_dev)\n",
    "\n",
    "model_output(pred_probas, F_Score, preds, 'Logisitc Regression with basic vectorizer')\n"
   ]
  },
  {
   "cell_type": "markdown",
   "metadata": {
    "collapsed": false
   },
   "source": [
    "Due to the restrictions of linearity of logistic regression; we want to try using RandomForest to see if it yield beeter result:"
   ]
  },
  {
   "cell_type": "code",
   "execution_count": 115,
   "metadata": {
    "collapsed": false
   },
   "outputs": [
    {
     "name": "stdout",
     "output_type": "stream",
     "text": [
      "\n",
      "Number of trees in forest: 300\n",
      "Number of positive prediction: 215\n",
      "Model F-Score = 0.5688 \n",
      "Accuracy = 0.8337\n",
      "precision_score: 0.865116\n",
      "recall_score: 0.4237\n",
      "roc_auc_score: 0.8692\n"
     ]
    },
    {
     "data": {
      "image/png": "[encoded data removed]",
      "text/plain": [
       "<matplotlib.figure.Figure at 0x13c360890>"
      ]
     },
     "metadata": {},
     "output_type": "display_data"
    }
   ],
   "source": [
    "# Import the random forest package\n",
    "from sklearn.ensemble import RandomForestClassifier \n",
    "\n",
    "#Best non-ensemble method so far\n",
    "np.random.seed(0)\n",
    "\n",
    "vectorizer_process = CountVectorizer(preprocessor =first_preprocessor,analyzer='word',stop_words='english',ngram_range=(1, 8))\n",
    "word_matrix_process= vectorizer_process.fit_transform(train_all)\n",
    "dev_matrix_process = vectorizer_process.transform(dev_all)\n",
    "\n",
    "index = L1_regulation(0.1, word_matrix_process, train_labels)\n",
    "\n",
    "# Append along columns with axis=1. that is, append along x axis\n",
    "# Combine numerical features with text features\n",
    "all_data_train = 0\n",
    "all_data_dev = 0\n",
    "all_data_train = np.append(word_matrix_process[:,index].toarray(), train_data_numeric, 1)\n",
    "all_data_dev = np.append(dev_matrix_process[:,index].toarray(), dev_data_numeric, 1)\n",
    "\n",
    "for i in [300]:\n",
    "\n",
    "    # Create the random forest object which will include all the parameters\n",
    "    forest = RandomForestClassifier(n_estimators = i)\n",
    "\n",
    "    # Fit RandomForest\n",
    "    # don't use transform method (at least not yet) -- which would reduce to best features -- \n",
    "    # as we want to keep and try these\n",
    "    forest = forest.fit(all_data_train, train_labels)\n",
    "\n",
    "\n",
    "    # Take the same decision trees and run it on the test data\n",
    "    preds = forest.predict(all_data_dev)\n",
    "\n",
    "    #preds = model_LG.predict(all_data_dev)\n",
    "    F_Score = metrics.f1_score(dev_labels, preds, average='binary')\n",
    "    pred_probas = forest.predict_proba(all_data_dev)\n",
    "\n",
    "    print \"\\n\", \"Number of trees in forest: %s\" % (i)\n",
    "    #Call to display outputs\n",
    "    model_output(pred_probas, F_Score, preds) #Please input pred_probas, F_Score, and prediction(preds)"
   ]
  },
  {
   "cell_type": "markdown",
   "metadata": {},
   "source": [
    "Improve AUC with Ensemble Method "
   ]
  },
  {
   "cell_type": "code",
   "execution_count": 116,
   "metadata": {
    "collapsed": false
   },
   "outputs": [
    {
     "name": "stdout",
     "output_type": "stream",
     "text": [
      "Done\n"
     ]
    }
   ],
   "source": [
    "#Create inputs for Ensemble Method\n",
    "#Ensemble Model = RF + NB + LG\n",
    "#vectorizer_process = CountVectorizer(analyzer='word',stop_words='english',preprocessor = first_preprocessor)\n",
    "#word_matrix_process= vectorizer_process.fit_transform(train_all)\n",
    "#dev_matrix_process = vectorizer_process.transform(dev_all)\n",
    "\n",
    "#Update the new index\n",
    "#index = L1_regulation(0.1, word_matrix_process, train_labels)\n",
    "\n",
    "#all_data_train = 0\n",
    "#all_data_train = np.append(train_features_final, train_data_numeric, 1)\n",
    "#all_data_dev = 0\n",
    "#all_data_dev = np.append(dev_features_final, dev_data_numeric, 1)\n",
    "\n",
    "#Naive Bayes        \n",
    "bnb = BernoulliNB(alpha=0.001, binarize=0.5)\n",
    "bnb.fit(all_data_train, train_labels)\n",
    "NB_t = bnb.predict_proba(all_data_train)\n",
    "NB_d = bnb.predict_proba(all_data_dev)\n",
    "\n",
    "#L2 Regression\n",
    "model_LG = LogisticRegression(penalty ='l2', C=0.1)#C from the above test\n",
    "model_LG.fit(all_data_train, train_labels)\n",
    "LG_t = model_LG.predict_proba(all_data_train)\n",
    "LG_d = model_LG.predict_proba(all_data_dev)\n",
    "\n",
    "print \"Done\""
   ]
  },
  {
   "cell_type": "code",
   "execution_count": 118,
   "metadata": {
    "collapsed": false
   },
   "outputs": [
    {
     "name": "stdout",
     "output_type": "stream",
     "text": [
      "Number of positive prediction: 274\n",
      "Model F-Score = 0.6031 \n",
      "Accuracy = 0.8331\n",
      "precision_score: 0.784672\n",
      "recall_score: 0.4897\n",
      "roc_auc_score: 0.8672\n"
     ]
    },
    {
     "data": {
      "image/png": "[encoded data removed]",
      "text/plain": [
       "<matplotlib.figure.Figure at 0x13c7f3f50>"
      ]
     },
     "metadata": {},
     "output_type": "display_data"
    }
   ],
   "source": [
    "#Putting the pieces together - final Ensemble Model\n",
    "#Update the new index\n",
    "all_data_train = 0\n",
    "all_data_train = np.append(word_matrix_process[:,index].toarray(), train_data_numeric, 1)\n",
    "all_data_train = np.insert(all_data_train, all_data_train.shape[1], LG_t[:,1], axis=1)  #LG output\n",
    "#all_data_train = np.insert(all_data_train, all_data_train.shape[1], NB_t[:,1], axis=1)\n",
    "\n",
    "all_data_dev = 0\n",
    "all_data_dev = np.append(dev_matrix_process[:,index].toarray(), dev_data_numeric, 1)\n",
    "all_data_dev = np.insert(all_data_dev, all_data_dev.shape[1], LG_d[:,1], axis=1)\n",
    "#all_data_dev = np.insert(all_data_dev, all_data_dev.shape[1], NB_d[:,1], axis=1)\n",
    "\n",
    "\n",
    "for i in [7000]:\n",
    "# Create the random forest object which will include all the parameters\n",
    "    forest = RandomForestClassifier(n_estimators = i)\n",
    "\n",
    "# Fit the training data to the Survived labels and create the decision trees\n",
    "    forest = forest.fit(all_data_train, train_labels)\n",
    "\n",
    "# Take the same decision trees and run it on the test data\n",
    "    preds = forest.predict(all_data_dev)\n",
    "\n",
    "    F_Score = metrics.f1_score(dev_labels, preds, average='binary')\n",
    "    pred_probas = forest.predict_proba(all_data_dev)\n",
    "#Call to display outputs\n",
    "    model_output(pred_probas, F_Score, preds) #Please input pred_probas, F_Score, and prediction(preds)"
   ]
  },
  {
   "cell_type": "markdown",
   "metadata": {},
   "source": [
    "# Appendix"
   ]
  },
  {
   "cell_type": "markdown",
   "metadata": {},
   "source": [
    "# Random Acts of Pizza (RAOP) Notes\n",
    "\n",
    "**Source**: Althoff, T., Danescu-Niculescu-Mizil, C., & Jurafsky, D. (2014). *How to Ask for a Favor: A Case Study on the Success of Altruistic Requests*. Association for the Advancement of Artificial\n",
    "Intelligence (www.aaai.org).\n",
    "\n",
    "- \"The community only publishes which users have given or received pizzas but not which requests were successful. \n",
    "In the case of successful users posting multiple times it is unclear which of the requests was actually successful. \n",
    "Therefore, we restrict our analysis to users with a single request for which we can be certain whether or not \n",
    "it was successful, leaving us with 5728 pizza requests. We split this dataset into development (70%) and test set (30%) such that both sets mirror the average success rate in our dataset of 24.6%. All features are developed on the \n",
    "development test only while the test set is used only once to evaluate the prediction accuracy of our proposed model on held-out data. For a small number of requests (379) we further observe the identity of the benefactor through a \n",
    "'thank you' post by the beneficiary after the successful request. This enables us to reason about the impact of \n",
    "user similarity on giving.\"\n",
    "\n",
    "\n",
    "- \"It is extremely difficult to disentangle the effects of all these factors in determining what makes people satisfy requests, and what makes them select some requests over others. . . In this paper, we develop a framework for controlling for each of these potential confounds while studying the role of two aspects that characterize compelling requests: **social factors** (who is asking and how the recipient is related to the donor and community) and **linguistic factors** (how they are asking and what linguistic devices accompany successful requests). With the notable exception of Mitra and Gilbert (2014), the effect of language on the success of requests has largely been ignored thus far.\"\n",
    "\n",
    "\n",
    "- \"[Their] goal is to understand what motivates people to give when they do not receive anything tangible in return. That is, [they] focus on the important special case of altruistic requests in which the giver receives no rewards.\" **DSC**: But how do you know people don't want something in return, especially if they are more likely to help requesters who have high status or are more similar to them?\n",
    "\n",
    "-----\n",
    "\n",
    "Temporal Factors\n",
    "- Specific months\n",
    "- Weekdays\n",
    "- **Days of the month (first half of the month)**\n",
    "- Hour of the day\n",
    "- **Community age of the request (earlier the better)**\n",
    "\n",
    "Textual Factors\n",
    "- Politeness (e.g., **gratitude**)\n",
    "- **Evidentiality** (2nd largest parameter estimate)\n",
    "- Reciprocity (respond to a positive action with another positive action, **pay it forward**)\n",
    "- Sentiment (e.g., **urgency**)\n",
    "- **Length**\n",
    "\n",
    "Social Factors\n",
    "- **Status**\n",
    "    - karma points (up-votes minus down-votes) that Reddit counts on link submissions and comments,\n",
    "    - user has posted on RAOP before and thus could be considered a member of the sub-community. \n",
    "    - **user account age based on the hypothesis that “younger” accounts might be less trusted**\n",
    "\n",
    "\n",
    "- Similarity: intersection size between the set of the giver and receiver, and the Jaccard similarity (intersection\n",
    "over union) of the two. NOT included in logistic regression model.\n",
    "\n",
    "Narratives (identified through topic modeling)\n",
    "- **Desire**\n",
    "- **Family**\n",
    "- **Job**\n",
    "- **Money**\n",
    "- Student\n",
    "\n",
    "-----\n",
    "\n",
    "Conclusion\n",
    "- Drawing from social psychology literature [they] extract high-level social features from text that operationalize the relation between recipient and donor and demonstrate that these extracted relations are predictive of success. \n",
    "- [They] show that [they] can detect key narratives automatically that have significant impact on the success of the request. \n",
    "- [They] further demonstrate that linguistic indications of gratitude, evidentiality, and reciprocity, as well as the high status of the asker, all increase the likelihood of success, while neither politeness nor positive sentiment seem to be associated with success in [the] setting.\n",
    "\n",
    "Limitations\n",
    "- A shortcoming of any case study is that findings might be specific to the scenario at hand. While [they] have shown that particular linguistic and social factors differentiate between successful and unsuccessful requests [they] cannot claim a causal relationship between the proposed factors and success that would guarantee success. \n",
    "- Furthermore, the set of success factors studied in this work is likely to be incomplete as well and excludes,\n",
    "for instance, group behavior dynamics. \n",
    "- Despite these limitations, [they] hope that this work and the data [they] make available will provide a basis for further research on success factors and helping behavior in other online communities.\n",
    "\n",
    "-----"
   ]
  },
  {
   "cell_type": "code",
   "execution_count": null,
   "metadata": {
    "collapsed": true
   },
   "outputs": [],
   "source": [
    "'''Feature Selection\n",
    "http://scikit-learn.org/stable/modules/feature_selection.html\n",
    "\n",
    "These objects take as input a scoring function that returns univariate p-values:\n",
    "-For regression: f_regression\n",
    "-For classification: chi2 or f_classif\n",
    "\n",
    "Feature selection with sparse data:\n",
    "-If you use sparse data (i.e. data represented as sparse matrices), \n",
    "only chi2 will deal with the data without making it dense.\n",
    "-Warning: Beware not to use a regression scoring function with a classification problem, \n",
    "you will get useless results.\n",
    "\n",
    "With SVMs and logistic-regression, the parameter C controls the sparsity: \n",
    "the smaller C the less features selected. "
   ]
  },
  {
   "cell_type": "code",
   "execution_count": 18,
   "metadata": {
    "collapsed": true
   },
   "outputs": [],
   "source": [
    "#Create ROC Curve (to visualize and evaluate classifer output quality)\n",
    "    # http://scikit-learn.org/stable/modules/generated/sklearn.metrics.roc_curve.html\n",
    "    # Decreasing thresholds on decision function used to compute fpr and tpr. \n",
    "    # thresholds[0] represents no instances being predicted and is arbitrarily \n",
    "    # set to max(y_score) + 1.\n",
    "    \n",
    "# http://scikit-learn.org/stable/modules/generated/sklearn.metrics.roc_auc_score.html#sklearn.metrics.roc_auc_score\n",
    "    \n",
    "# 'macro':\n",
    "# Calculate metrics for each label, and find their unweighted mean. This does not take label imbalance into account.\n",
    "# 'weighted':\n",
    "# Calculate metrics for each label, and find their average, weighted by support (the number of true instances for each label).\n",
    "      \n",
    "    \n",
    "    # “A receiver operating characteristic (ROC), or simply ROC curve, is a \n",
    "    # graphical plot which illustrates the performance of a binary classifier \n",
    "    # system as its discrimination threshold is varied. It is created by plotting \n",
    "    # the fraction of true positives out of the positives (TPR = true positive rate) \n",
    "    # vs. the fraction of false positives out of the negatives \n",
    "    # (FPR = false positive rate), at various threshold settings. \n",
    "    # TPR is also known as sensitivity, and FPR is one minus the specificity \n",
    "    # or true negative rate.”\n",
    "\n",
    "# Feature Selection Notes:\n",
    "\n",
    "    #http://scikit-learn.org/stable/datasets/twenty_newsgroups.html\n",
    "    #http://scikit-learn.org/stable/modules/feature_selection.html\n",
    "    #http://scikit-learn.org/stable/auto_examples/text/document_classification_20newsgroups.html#example-text-document-classification-20newsgroups-py\n",
    "\n",
    "    #These objects take as input a scoring function that returns univariate p-values:\n",
    "    #-For regression: f_regression\n",
    "    #-For classification: chi2 or f_classif\n",
    "\n",
    "    #Feature selection with sparse data:\n",
    "    #-If you use sparse data (i.e. data represented as sparse matrices), \n",
    "    #only chi2 will deal with the data without making it dense.\n",
    "    #-Warning: Beware not to use a regression scoring function with a classification problem, \n",
    "    #you will get useless results.\n",
    "\n",
    "    #With SVMs and logistic-regression, the parameter C controls the sparsity: \n",
    "    #the smaller C the less features selected.   \n",
    "\n",
    "# Preprocessor:\n",
    "   #-----\n",
    "   # write variation of code, but remove ending s (make plural words singular)\n",
    "   # http://stackoverflow.com/questions/3675318/how-to-replace-the-some-characters-from-the-end-of-a-string"
   ]
  },
  {
   "cell_type": "code",
   "execution_count": null,
   "metadata": {
    "collapsed": true
   },
   "outputs": [],
   "source": []
  }
 ],
 "metadata": {
  "kernelspec": {
   "display_name": "Python 2",
   "language": "python",
   "name": "python2"
  },
  "language_info": {
   "codemirror_mode": {
    "name": "ipython",
    "version": 2
   },
   "file_extension": ".py",
   "mimetype": "text/x-python",
   "name": "python",
   "nbconvert_exporter": "python",
   "pygments_lexer": "ipython2",
   "version": "2.7.11"
  }
 },
 "nbformat": 4,
 "nbformat_minor": 0
}
