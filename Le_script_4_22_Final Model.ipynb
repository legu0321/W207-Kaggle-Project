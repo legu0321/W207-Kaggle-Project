{
 "cells": [
  {
   "cell_type": "markdown",
   "metadata": {},
   "source": [
    "###Load Data\n"
   ]
  },
  {
   "cell_type": "code",
   "execution_count": 1,
   "metadata": {
    "collapsed": true
   },
   "outputs": [],
   "source": [
    "# This tells matplotlib not to try opening a new window for each plot.\n",
    "%matplotlib inline\n",
    "\n",
    "# General libraries.\n",
    "import os\n",
    "import codecs\n",
    "import json\n",
    "import csv\n",
    "\n",
    "import re\n",
    "import numpy as np\n",
    "import pandas as pd\n",
    "import matplotlib.pyplot as plt\n",
    "\n",
    "# SK-learn libraries for learning.\n",
    "from sklearn.pipeline import Pipeline\n",
    "from sklearn.neighbors import KNeighborsClassifier\n",
    "from sklearn.linear_model import LogisticRegression\n",
    "from sklearn.naive_bayes import BernoulliNB\n",
    "from sklearn.naive_bayes import MultinomialNB\n",
    "from sklearn.grid_search import GridSearchCV\n",
    "\n",
    "# SK-learn libraries for evaluation.\n",
    "from sklearn.metrics import confusion_matrix\n",
    "from sklearn import metrics\n",
    "from sklearn.metrics import classification_report\n",
    "\n",
    "# SK-learn library for importing the newsgroup data.\n",
    "from sklearn.datasets import fetch_20newsgroups\n",
    "\n",
    "# SK-learn libraries for feature extraction from text.\n",
    "from sklearn.feature_extraction.text import *"
   ]
  },
  {
   "cell_type": "code",
   "execution_count": 2,
   "metadata": {
    "collapsed": false,
    "scrolled": true
   },
   "outputs": [
    {
     "name": "stdout",
     "output_type": "stream",
     "text": [
      "type(X) <class 'pandas.core.frame.DataFrame'>\n",
      "train_labels\n",
      "----------\n",
      "['requester_received_pizza']\n",
      "(3975, 1)\n",
      "train_data\n",
      "----------\n",
      "['giver_username_if_known', 'in_test_set', 'number_of_downvotes_of_request_at_retrieval', 'number_of_upvotes_of_request_at_retrieval', 'post_was_edited', 'request_id', 'request_number_of_comments_at_retrieval', 'request_text', 'request_text_edit_aware', 'request_title', 'requester_account_age_in_days_at_request', 'requester_account_age_in_days_at_retrieval', 'requester_days_since_first_post_on_raop_at_request', 'requester_days_since_first_post_on_raop_at_retrieval', 'requester_number_of_comments_at_request', 'requester_number_of_comments_at_retrieval', 'requester_number_of_comments_in_raop_at_request', 'requester_number_of_comments_in_raop_at_retrieval', 'requester_number_of_posts_at_request', 'requester_number_of_posts_at_retrieval', 'requester_number_of_posts_on_raop_at_request', 'requester_number_of_posts_on_raop_at_retrieval', 'requester_number_of_subreddits_at_request', 'requester_subreddits_at_request', 'requester_upvotes_minus_downvotes_at_request', 'requester_upvotes_minus_downvotes_at_retrieval', 'requester_upvotes_plus_downvotes_at_request', 'requester_upvotes_plus_downvotes_at_retrieval', 'requester_user_flair', 'requester_username', 'unix_timestamp_of_request', 'unix_timestamp_of_request_utc']\n",
      "(3975, 32)\n",
      "dev_labels\n",
      "----------\n",
      "['requester_received_pizza']\n",
      "(1696, 1)\n",
      "dev_data\n",
      "----------\n",
      "['giver_username_if_known', 'in_test_set', 'number_of_downvotes_of_request_at_retrieval', 'number_of_upvotes_of_request_at_retrieval', 'post_was_edited', 'request_id', 'request_number_of_comments_at_retrieval', 'request_text', 'request_text_edit_aware', 'request_title', 'requester_account_age_in_days_at_request', 'requester_account_age_in_days_at_retrieval', 'requester_days_since_first_post_on_raop_at_request', 'requester_days_since_first_post_on_raop_at_retrieval', 'requester_number_of_comments_at_request', 'requester_number_of_comments_at_retrieval', 'requester_number_of_comments_in_raop_at_request', 'requester_number_of_comments_in_raop_at_retrieval', 'requester_number_of_posts_at_request', 'requester_number_of_posts_at_retrieval', 'requester_number_of_posts_on_raop_at_request', 'requester_number_of_posts_on_raop_at_retrieval', 'requester_number_of_subreddits_at_request', 'requester_subreddits_at_request', 'requester_upvotes_minus_downvotes_at_request', 'requester_upvotes_minus_downvotes_at_retrieval', 'requester_upvotes_plus_downvotes_at_request', 'requester_upvotes_plus_downvotes_at_retrieval', 'requester_user_flair', 'requester_username', 'unix_timestamp_of_request', 'unix_timestamp_of_request_utc']\n",
      "(1696, 32)\n",
      "train labels\n",
      "----------\n",
      "requester_received_pizza    0.241006\n",
      "dtype: float64\n",
      "dev labels\n",
      "----------\n",
      "requester_received_pizza    0.258844\n",
      "dtype: float64\n"
     ]
    }
   ],
   "source": [
    "# http://pandas.pydata.org/pandas-docs/stable/generated/pandas.read_json.html\n",
    "# Convert a JSON string to pandas object\n",
    "\n",
    "X = pd.read_json('./pizza_request_dataset.json')\n",
    "print (\"type(X)\", type(X))\n",
    "print\n",
    "\n",
    "# set random seed\n",
    "np.random.seed(0)\n",
    "\n",
    "# randomly assign 70% to train_data, and 30% to dev_data\n",
    "msk = np.random.rand(len(X)) <= 0.7\n",
    "train_data = X[msk]\n",
    "dev_data = X[~msk]\n",
    "\n",
    "# create output dataframe Y of train_labels\n",
    "train_labels = train_data[[\"requester_received_pizza\"]]\n",
    "\n",
    "# delete train_labels from input dataframe of train_data\n",
    "del train_data[\"requester_received_pizza\"]\n",
    "\n",
    "# create output dataframe of dev_labels\n",
    "dev_labels = dev_data[[\"requester_received_pizza\"]]\n",
    "\n",
    "# delete dev_labels from input dataframe of dev_data\n",
    "del dev_data[\"requester_received_pizza\"]\n",
    "\n",
    "# print (labels, shapes, and feature names\n",
    "print (\"train_labels\" )\n",
    "print (\"----------\")\n",
    "print (list(train_labels))\n",
    "print (train_labels.shape), \"/n\"\n",
    "print (\"train_data\" )\n",
    "print (\"----------\")\n",
    "print (list(train_data))\n",
    "print (train_data.shape), \"/n\"\n",
    "\n",
    "\n",
    "print (\"dev_labels\") \n",
    "print (\"----------\")\n",
    "print (list(dev_labels))\n",
    "print (dev_labels.shape), \"/n\"\n",
    "\n",
    "print (\"dev_data\")\n",
    "print (\"----------\")\n",
    "print (list(dev_data))\n",
    "print (dev_data.shape), \"/n\"\n",
    "\n",
    "# print (percent of train_data and dev_data whose posts led to receipt of pizza\n",
    "print (\"train labels\")\n",
    "print (\"----------\")\n",
    "print (np.mean(train_labels)), \"/n\"\n",
    "print (\"dev labels\")\n",
    "print (\"----------\")\n",
    "print (np.mean(dev_labels))"
   ]
  },
  {
   "cell_type": "markdown",
   "metadata": {},
   "source": [
    "##Text Part\n"
   ]
  },
  {
   "cell_type": "markdown",
   "metadata": {},
   "source": [
    "#####0a.Extract text and tile for train and dev"
   ]
  },
  {
   "cell_type": "code",
   "execution_count": 3,
   "metadata": {
    "collapsed": false
   },
   "outputs": [],
   "source": [
    "train_text=train_data['request_text'].as_matrix()\n",
    "train_title=train_data['request_title'].as_matrix()\n",
    "\n",
    "dev_text=dev_data['request_text'].as_matrix()\n",
    "dev_title=dev_data['request_title'].as_matrix()\n"
   ]
  },
  {
   "cell_type": "markdown",
   "metadata": {},
   "source": [
    "#####0b.Helper Method"
   ]
  },
  {
   "cell_type": "code",
   "execution_count": 4,
   "metadata": {
    "collapsed": true
   },
   "outputs": [],
   "source": [
    "from sklearn.metrics import roc_curve, auc\n",
    "\n",
    "def model_output(pred_probas, F_Score, preds):\n",
    "\n",
    "    print (\"Logistic regression on numeric data: F-Score = %0.4f: \"%(F_Score) ) #Sum up Squared Weights\n",
    "    accuracy = np.where(preds==np.ravel(dev_labels), 1, 0).sum() / float(len(dev_labels))\n",
    "    print (\"Accuracy = %0.4f\" % (accuracy))\n",
    "    print ('accuracy_score: %f' %metrics.precision_score(dev_labels, preds))\n",
    "    print ('recall_score: %f' %metrics.recall_score(dev_labels, preds))\n",
    "    print (\"roc_auc_score:\", metrics.roc_auc_score(dev_labels, preds))\n",
    "\n",
    "    #Create ROC Curve\n",
    "\n",
    "    fpr,tpr,_ = roc_curve(dev_labels, pred_probas[:,1])\n",
    "    roc_auc = metrics.auc(fpr,tpr)\n",
    "    plt.plot(fpr,tpr,label='area = %.2f' %roc_auc)\n",
    "    plt.plot([0, 1], [0, 1], 'k--')\n",
    "    plt.xlim([0.0, 1.0])\n",
    "    plt.ylim([0.0, 1.05])\n",
    "    plt.legend(loc='lower right')\n",
    "    print('auc: %.2f' %roc_auc)\n",
    "    \n",
    "    plt.show()"
   ]
  },
  {
   "cell_type": "code",
   "execution_count": 5,
   "metadata": {
    "collapsed": true
   },
   "outputs": [],
   "source": [
    "def train_log(train,dev):\n",
    "    \n",
    "    model_LG_func = LogisticRegression(penalty ='l2',C=13)\n",
    "    model_LG_func.fit(train, np.ravel(train_labels))\n",
    "    \n",
    "    preds_train = model_LG_func.predict(train)\n",
    "    F_Score_train = metrics.f1_score(train_labels, preds_train, average='binary')\n",
    "    pred_probas_train = model_LG_func.predict_proba(train)\n",
    "\n",
    "    preds = model_LG_func.predict(dev)\n",
    "    F_Score = metrics.f1_score(dev_labels, preds, average='binary')\n",
    "    pred_probas = model_LG_func.predict_proba(dev)\n",
    "\n",
    "    #Call to display outputs\n",
    "    model_output(pred_probas, F_Score, preds)\n",
    "    fpr,tpr,_ = roc_curve(dev_labels, pred_probas[:,1])\n",
    "    roc_auc_dev = metrics.auc(fpr,tpr)\n",
    "    fpr,tpr,_ = roc_curve(train_labels, pred_probas_train[:,1])\n",
    "    roc_auc_train = metrics.auc(fpr,tpr)\n",
    "    \n",
    "    print(roc_auc_train,roc_auc_dev)"
   ]
  },
  {
   "cell_type": "code",
   "execution_count": 6,
   "metadata": {
    "collapsed": true
   },
   "outputs": [],
   "source": [
    "\n",
    "def first_preprocessor(s):\n",
    "    #convert to lowercase\n",
    "    s=s.lower()\n",
    "    s=re.sub(\"[,.!?:;/~*]\",\" \",s)\n",
    "    #remove duplicated 0s and 1s\n",
    "    s=re.sub(\"[0-9]*\",\"\",s)\n",
    "    #remove number longer than 5 digit\n",
    "    s=re.sub(\"[0-9]{5,}\",\"\",s)\n",
    "    #remove stem end with 'ly'\n",
    "    s=re.sub(\"ly\\s\",\" \",s)\n",
    "    #remove plural form\n",
    "    s=re.sub(\"s\\s\",\" \",s)\n",
    "    s=re.sub(\"s\\Z\",\" \",s)\n",
    "    #remove _ as the end of word\n",
    "    s=re.sub(\"[_]+\",\" \",s)\n",
    "    #remove _ as start of the word\n",
    "    s=re.sub(\"\\s[_]+\",\" \",s)\n",
    "    #remove stem end with 'ness'\n",
    "    s=re.sub(\"ness\\s\",\" \",s)\n",
    "    s=re.sub(\"ing\\s\",\" \",s)\n",
    "    #remove words that are too short\n",
    "    s=re.sub(\"\\s[0-9a-z]{1,2}\\s\",\" \",s)\n",
    "    s=re.sub(\"\\s[0-9a-z]{1,2}\\Z\",\" \",s)\n",
    "\n",
    "    return s"
   ]
  },
  {
   "cell_type": "markdown",
   "metadata": {},
   "source": [
    "#####1.Convert Text to word features based on TF-IDF"
   ]
  },
  {
   "cell_type": "code",
   "execution_count": 252,
   "metadata": {
    "collapsed": false,
    "scrolled": false
   },
   "outputs": [],
   "source": [
    "def empty_preprocessor(s):\n",
    "    return s\n",
    "\n",
    "\n",
    "vectorizer_process = TfidfVectorizer(preprocessor =first_preprocessor,analyzer='word',stop_words='english',ngram_range=(1, 8) )\n",
    "train_matrix_process_text= vectorizer_process.fit_transform(train_text)\n",
    "dev_matrix_process_text = vectorizer_process.transform(dev_text)\n",
    "\n",
    "# train_log(train_matrix_process_text,dev_matrix_process_text)\n",
    "\n",
    "# model_LG = LogisticRegression(penalty ='l2',C=1)\n",
    "# model_LG.fit(train_matrix_process_text, np.ravel(train_labels))\n"
   ]
  },
  {
   "cell_type": "markdown",
   "metadata": {},
   "source": [
    "#####2.Feature ranking with recursive feature elimination & cross-validated selection of the best number of features."
   ]
  },
  {
   "cell_type": "code",
   "execution_count": 253,
   "metadata": {
    "collapsed": false
   },
   "outputs": [
    {
     "name": "stdout",
     "output_type": "stream",
     "text": [
      "Optimal number of features : 31664\n"
     ]
    },
    {
     "name": "stderr",
     "output_type": "stream",
     "text": [
      "C:\\Users\\lgu\\AppData\\Local\\Continuum\\Anaconda\\envs\\mpl33\\lib\\site-packages\\sklearn\\utils\\validation.py:449: DataConversionWarning: A column-vector y was passed when a 1d array was expected. Please change the shape of y to (n_samples, ), for example using ravel().\n",
      "  y = column_or_1d(y, warn=True)\n"
     ]
    },
    {
     "data": {
      "image/png": "[encoded data removed]",
      "text/plain": [
       "<matplotlib.figure.Figure at 0xfcbb470>"
      ]
     },
     "metadata": {},
     "output_type": "display_data"
    }
   ],
   "source": [
    "import matplotlib.pyplot as plt\n",
    "from sklearn.svm import SVC\n",
    "from sklearn.cross_validation import StratifiedKFold\n",
    "from sklearn.feature_selection import RFECV\n",
    "from sklearn.datasets import make_classification\n",
    "\n",
    "# Build a LogisticRegression Classifier with L2 Regularization\n",
    "\n",
    "logistic  = LogisticRegression(penalty ='l2',C=1)\n",
    "\n",
    "rfecv = RFECV(estimator=logistic , step=0.01, cv=5,scoring='roc_auc')\n",
    "rfecv.fit(train_matrix_process_text, train_labels)\n",
    "\n",
    "print(\"Optimal number of features : %d\" % rfecv.n_features_)\n",
    "\n",
    "# Plot number of features VS. cross-validation scores\n",
    "plt.figure()\n",
    "plt.xlabel(\"Number of features selected\")\n",
    "plt.ylabel(\"Cross validation score (nb of correct classifications)\")\n",
    "plt.plot(range(1, len(rfecv.grid_scores_) + 1), rfecv.grid_scores_)\n",
    "plt.show()"
   ]
  },
  {
   "cell_type": "code",
   "execution_count": 260,
   "metadata": {
    "collapsed": false
   },
   "outputs": [
    {
     "name": "stdout",
     "output_type": "stream",
     "text": [
      "Logistic regression on numeric data: F-Score = 0.0303: \n",
      "Accuracy = 0.7358\n",
      "accuracy_score: 0.304348\n",
      "recall_score: 0.015945\n",
      "roc_auc_score: 0.501608305562\n",
      "auc: 0.64\n"
     ]
    },
    {
     "data": {
      "image/png": "[encoded data removed]",
      "text/plain": [
       "<matplotlib.figure.Figure at 0xa18c828>"
      ]
     },
     "metadata": {},
     "output_type": "display_data"
    },
    {
     "name": "stdout",
     "output_type": "stream",
     "text": [
      "0.639567397517\n"
     ]
    }
   ],
   "source": [
    "cv_features=train_matrix_process_text[:,rfecv.support_]\n",
    "cv_features_dev= dev_matrix_process_text[:,rfecv.support_]\n",
    "\n",
    "logistic = LogisticRegression(penalty ='l2',C=1)#C from the above test\n",
    "logistic.fit(cv_features, train_labels.values.flatten())\n",
    "\n",
    "\n",
    "preds = logistic.predict(cv_features_dev)\n",
    "pred_probas = logistic.predict_proba(cv_features_dev)\n",
    "F_Score = metrics.f1_score(dev_labels, preds, average='binary')\n",
    "\n",
    "\n",
    "# Call to display outputs\n",
    "model_output(pred_probas, F_Score, preds)\n",
    "fpr,tpr,_ = roc_curve(dev_labels, pred_probas[:,1])\n",
    "roc_auc = metrics.auc(fpr,tpr)\n",
    "print(roc_auc)\n",
    "\n"
   ]
  },
  {
   "cell_type": "markdown",
   "metadata": {},
   "source": [
    "#####3.Add Extra Features"
   ]
  },
  {
   "cell_type": "markdown",
   "metadata": {},
   "source": [
    "###### a)Add Narratives based on Title"
   ]
  },
  {
   "cell_type": "code",
   "execution_count": 261,
   "metadata": {
    "collapsed": true
   },
   "outputs": [],
   "source": [
    "desire = re.compile(r'(friend|party|birthday|boyfriend|girlfriend|date|drinks|drunk|wasted|invite|invited|celebrate|celebrating|game|games|movie|beer|crave|craving|gf)', re.IGNORECASE)\n",
    "family = re.compile(r'(husband|wife|family|parent|parents|mother|father|mom|mum|son|dad|daughter|firstborn|Pregnancy  )', re.IGNORECASE)\n",
    "job = re.compile(r'(job|unemployment|employment|hire|hired|fired|interview|work)', re.IGNORECASE)\n",
    "money = re.compile(r'(money|bill|bills|rent|bank|account|paycheck|due|broke|bills|deposit|cash|dollar|dollars|bucks|paid|payed|buy|check|spent|financial|poor|loan|\\\n",
    "credit|budget|day|now|time|week|until|last|month|tonight|today|next|night|when|tomorrow|first|after|while|before|long|hour|Friday|ago|still|due|past|soon|current|years|never|till|yesterday|morning|evening)', re.IGNORECASE)\n",
    "student = re.compile(r'(college|student|university|finals|study|studying|class|semester|school|roommate|project|tuition|dorm)', re.IGNORECASE)\n",
    "mood = re.compile(r'(thank|thanks|thankful|appreciate|grateful|gratitude|advance)', re.IGNORECASE) \n",
    "holiday = re.compile(r'(anniversary|chirstmas)', re.IGNORECASE)   \n"
   ]
  },
  {
   "cell_type": "code",
   "execution_count": 262,
   "metadata": {
    "collapsed": true
   },
   "outputs": [],
   "source": [
    "def myfunc(a,b):\n",
    "    if len(a)==0:\n",
    "        return 0 \n",
    "    else:\n",
    "        return len(b.findall(a))/float(len(a))\n"
   ]
  },
  {
   "cell_type": "code",
   "execution_count": 263,
   "metadata": {
    "collapsed": false
   },
   "outputs": [],
   "source": [
    "narrative_all=np.zeros(shape=(len(train_text),5),dtype=int)\n",
    "narrative_all_dev=np.zeros(shape=(len(dev_text),5),dtype=int)\n",
    "\n",
    "for index,i in enumerate([family,money,holiday,job,mood]):\n",
    "    \n",
    "    vfunc = np.vectorize(myfunc)\n",
    "    narrative=vfunc(train_title,i)\n",
    "    narrative_dev=vfunc(dev_title,i)\n",
    "    med=np.median(narrative)\n",
    "    narrative_all[:,index]=np.where(narrative>med,1,0)\n"
   ]
  },
  {
   "cell_type": "code",
   "execution_count": 264,
   "metadata": {
    "collapsed": false
   },
   "outputs": [
    {
     "name": "stdout",
     "output_type": "stream",
     "text": [
      "Logistic regression on numeric data: F-Score = 0.0261: \n",
      "Accuracy = 0.7364\n",
      "accuracy_score: 0.300000\n",
      "recall_score: 0.013667\n",
      "roc_auc_score: 0.501264898346\n",
      "auc: 0.64\n"
     ]
    },
    {
     "data": {
      "image/png": "[encoded data removed]",
      "text/plain": [
       "<matplotlib.figure.Figure at 0x1f3374a8>"
      ]
     },
     "metadata": {},
     "output_type": "display_data"
    },
    {
     "name": "stdout",
     "output_type": "stream",
     "text": [
      "0.639737741993\n"
     ]
    }
   ],
   "source": [
    "train_narrative=np.concatenate((cv_features.toarray(), narrative_all), axis=1)\n",
    "dev_narrative=np.concatenate((cv_features_dev.toarray(), narrative_all_dev), axis=1)\n",
    "\n",
    "\n",
    "logistic = LogisticRegression(penalty ='l2',C=1)#C from the above test\n",
    "logistic.fit(train_narrative, train_labels.values.flatten())\n",
    "\n",
    "\n",
    "preds = logistic.predict(dev_narrative)\n",
    "pred_probas = logistic.predict_proba(dev_narrative)\n",
    "F_Score = metrics.f1_score(dev_labels, preds, average='binary')\n",
    "\n",
    "\n",
    "# Call to display outputs\n",
    "model_output(pred_probas, F_Score, preds)\n",
    "fpr,tpr,_ = roc_curve(dev_labels, pred_probas[:,1])\n",
    "roc_auc = metrics.auc(fpr,tpr)\n",
    "print(roc_auc)\n"
   ]
  },
  {
   "cell_type": "markdown",
   "metadata": {},
   "source": [
    "###### b)Add exclamation mark based on Title"
   ]
  },
  {
   "cell_type": "code",
   "execution_count": 265,
   "metadata": {
    "collapsed": false
   },
   "outputs": [],
   "source": [
    "exclmarks = re.compile(r'(!)', re.M)\n",
    " \n",
    "excl_marks=np.zeros(shape=(len(train_text),1),dtype=int)\n",
    "excl_marks_dev=np.zeros(shape=(len(dev_text),1),dtype=int)\n",
    "\n",
    "for index,i in enumerate([exclmarks]):\n",
    "    \n",
    "    vfunc = np.vectorize(myfunc)\n",
    "    narrative=vfunc(train_title,i)\n",
    "    narrative_dev=vfunc(dev_title,i)\n",
    "    excl_marks[:,index]=np.where(narrative>0,1,0)\n",
    "    excl_marks_dev[:,index]=np.where(narrative_dev>0,1,0)"
   ]
  },
  {
   "cell_type": "code",
   "execution_count": 266,
   "metadata": {
    "collapsed": false
   },
   "outputs": [
    {
     "name": "stdout",
     "output_type": "stream",
     "text": [
      "(3975, 31670)\n",
      "Logistic regression on numeric data: F-Score = 0.0261: \n",
      "Accuracy = 0.7364\n",
      "accuracy_score: 0.300000\n",
      "recall_score: 0.013667\n",
      "roc_auc_score: 0.501264898346\n",
      "auc: 0.64\n"
     ]
    },
    {
     "data": {
      "image/png": "[encoded data removed]",
      "text/plain": [
       "<matplotlib.figure.Figure at 0x21d3f668>"
      ]
     },
     "metadata": {},
     "output_type": "display_data"
    },
    {
     "name": "stdout",
     "output_type": "stream",
     "text": [
      "0.63984284816\n"
     ]
    }
   ],
   "source": [
    "train_narrative_excl=np.concatenate((train_narrative, excl_marks), axis=1)\n",
    "dev_narrative_excl=np.concatenate((dev_narrative, excl_marks_dev), axis=1)\n",
    "print(train_narrative_excl.shape)\n",
    "\n",
    "\n",
    "logistic = LogisticRegression(penalty ='l2',C=1)#C from the above test\n",
    "logistic.fit(train_narrative_excl, train_labels.values.flatten())\n",
    "\n",
    "\n",
    "preds = logistic.predict(dev_narrative_excl)\n",
    "pred_probas = logistic.predict_proba(dev_narrative_excl)\n",
    "F_Score = metrics.f1_score(dev_labels, preds, average='binary')\n",
    "\n",
    "\n",
    "# Call to display outputs\n",
    "model_output(pred_probas, F_Score, preds)\n",
    "fpr,tpr,_ = roc_curve(dev_labels, pred_probas[:,1])\n",
    "roc_auc = metrics.auc(fpr,tpr)\n",
    "print(roc_auc)\n"
   ]
  },
  {
   "cell_type": "markdown",
   "metadata": {},
   "source": [
    "###### c)Add capitalized word on Title"
   ]
  },
  {
   "cell_type": "code",
   "execution_count": 267,
   "metadata": {
    "collapsed": false
   },
   "outputs": [],
   "source": [
    "train_caps = train_data['request_title'].apply(lambda x: np.where(sum(1 for c in re.split('\\W+',x) if c.isupper() and len(c) > 4) > 0, 1,0)).as_matrix()\n",
    "dev_caps = dev_data['request_title'].apply(lambda x: np.where(sum(1 for c in re.split('\\W+',x) if c.isupper() and len(c) > 4) > 0, 1,0)).as_matrix()\n",
    "train_caps=train_caps.reshape(len(train_caps),1) \n",
    "dev_caps=dev_caps.reshape(len(dev_caps),1) \n"
   ]
  },
  {
   "cell_type": "code",
   "execution_count": 278,
   "metadata": {
    "collapsed": false
   },
   "outputs": [
    {
     "name": "stdout",
     "output_type": "stream",
     "text": [
      "(3975, 31671)\n",
      "Logistic regression on numeric data: F-Score = 0.0262: \n",
      "Accuracy = 0.7370\n",
      "accuracy_score: 0.315789\n",
      "recall_score: 0.013667\n",
      "roc_auc_score: 0.50166267082\n",
      "auc: 0.64\n"
     ]
    },
    {
     "data": {
      "image/png": "[encoded data removed]",
      "text/plain": [
       "<matplotlib.figure.Figure at 0x1eeaf710>"
      ]
     },
     "metadata": {},
     "output_type": "display_data"
    },
    {
     "name": "stdout",
     "output_type": "stream",
     "text": [
      "0.640037657002\n"
     ]
    }
   ],
   "source": [
    "train_narrative_excl_cap=np.concatenate((train_narrative_excl, train_caps), axis=1)\n",
    "dev_narrative_excl_cap=np.concatenate((dev_narrative_excl, dev_caps), axis=1)\n",
    "print(train_narrative_excl_cap.shape)\n",
    "\n",
    "\n",
    "logistic = LogisticRegression(penalty ='l2',C=1)#C from the above test\n",
    "logistic.fit(train_narrative_excl_cap, train_labels.values.flatten())\n",
    "\n",
    "\n",
    "preds = logistic.predict(dev_narrative_excl_cap)\n",
    "pred_probas = logistic.predict_proba(dev_narrative_excl_cap)\n",
    "F_Score = metrics.f1_score(dev_labels, preds, average='binary')\n",
    "\n",
    "\n",
    "# Call to display outputs\n",
    "model_output(pred_probas, F_Score, preds)\n",
    "fpr,tpr,_ = roc_curve(dev_labels, pred_probas[:,1])\n",
    "roc_auc = metrics.auc(fpr,tpr)\n",
    "print(roc_auc)\n"
   ]
  },
  {
   "cell_type": "markdown",
   "metadata": {},
   "source": [
    "#####4.L1 Regularization"
   ]
  },
  {
   "cell_type": "code",
   "execution_count": 283,
   "metadata": {
    "collapsed": false,
    "scrolled": false
   },
   "outputs": [
    {
     "name": "stdout",
     "output_type": "stream",
     "text": [
      "C=1, auc=0.61800, 16 features selected. \n",
      "C=2, auc=0.61980, 56 features selected. \n",
      "C=3, auc=0.63172, 108 features selected. \n",
      "C=4, auc=0.63781, 205 features selected. \n",
      "C=5, auc=0.63892, 344 features selected. \n",
      "C=6, auc=0.63943, 458 features selected. \n",
      "C=7, auc=0.63972, 611 features selected. \n",
      "C=8, auc=0.64077, 821 features selected. \n",
      "C=9, auc=0.63629, 1078 features selected. \n",
      "C=10, auc=0.63493, 1556 features selected. \n",
      "C=11, auc=0.63432, 1709 features selected. \n",
      "C=12, auc=0.63455, 1892 features selected. \n",
      "C=13, auc=0.63217, 2222 features selected. \n",
      "C=14, auc=0.63219, 2763 features selected. \n",
      "C=15, auc=0.63264, 3044 features selected. \n",
      "C=16, auc=0.63297, 3161 features selected. \n",
      "C=17, auc=0.63137, 3317 features selected. \n",
      "C=18, auc=0.63221, 3536 features selected. \n",
      "C=19, auc=0.63247, 3859 features selected. \n"
     ]
    }
   ],
   "source": [
    "\n",
    "for c in np.arange(1,20,1):\n",
    "    \n",
    "    Logistic_L1 = LogisticRegression(penalty ='l1',C=c)#C from the above test\n",
    "    Logistic_L1.fit(train_narrative_excl_cap, np.ravel(train_labels))\n",
    "\n",
    "    #Update the new index\n",
    "    index=[]\n",
    "    for i,z in enumerate(np.sum(np.abs(Logistic_L1.coef_),axis=0) ):\n",
    "        if z!=0:\n",
    "            index.append(i)\n",
    "\n",
    "    train_features_final=train_narrative_excl_cap[:,index]\n",
    "    dev_features_final=dev_narrative_excl_cap[:,index]\n",
    "\n",
    "    Logistic_L2 = LogisticRegression(penalty ='l2',C=1)#C from the above test\n",
    "    Logistic_L2.fit(train_features_final, np.ravel(train_labels))\n",
    "\n",
    "    preds = Logistic_L2.predict(dev_features_final)\n",
    "    pred_probas = Logistic_L2.predict_proba(dev_features_final)\n",
    "    F_Score = metrics.f1_score(np.ravel(dev_labels), preds, average='binary')\n",
    "\n",
    "\n",
    "    #Call to display outputs\n",
    "#     model_output(pred_probas, F_Score, preds) #Please input pred_probas, F_Score, and prediction(preds)\n",
    "    fpr,tpr,_ = roc_curve(dev_labels, pred_probas[:,1])\n",
    "    roc_auc = metrics.auc(fpr,tpr)\n",
    "    print ('C=%i, auc=%.5f, %i features selected. ' %(c,roc_auc,len(index)))\n"
   ]
  },
  {
   "cell_type": "code",
   "execution_count": 287,
   "metadata": {
    "collapsed": false
   },
   "outputs": [
    {
     "name": "stdout",
     "output_type": "stream",
     "text": [
      "Logistic regression on numeric data: F-Score = 0.0045: \n",
      "Accuracy = 0.7406\n",
      "accuracy_score: 0.333333\n",
      "recall_score: 0.002278\n",
      "roc_auc_score: 0.500343407216\n",
      "auc: 0.64\n"
     ]
    },
    {
     "data": {
      "image/png": "[encoded data removed]",
      "text/plain": [
       "<matplotlib.figure.Figure at 0x21cc49b0>"
      ]
     },
     "metadata": {},
     "output_type": "display_data"
    },
    {
     "name": "stdout",
     "output_type": "stream",
     "text": [
      "C=8, auc=0.64076, 817 features selected. \n"
     ]
    }
   ],
   "source": [
    "Logistic_L1 = LogisticRegression(penalty ='l1',C=8)#C from the above test\n",
    "Logistic_L1.fit(train_narrative_excl_cap, np.ravel(train_labels))\n",
    "\n",
    "#Update the new index\n",
    "index=[]\n",
    "for i,z in enumerate(np.sum(np.abs(Logistic_L1.coef_),axis=0) ):\n",
    "    if z!=0:\n",
    "        index.append(i)\n",
    "\n",
    "train_features_final=train_narrative_excl_cap[:,index]\n",
    "dev_features_final=dev_narrative_excl_cap[:,index]\n",
    "\n",
    "Logistic_L2 = LogisticRegression(penalty ='l2',C=1)#C from the above test\n",
    "Logistic_L2.fit(train_features_final, np.ravel(train_labels))\n",
    "\n",
    "preds = Logistic_L2.predict(dev_features_final)\n",
    "pred_probas = Logistic_L2.predict_proba(dev_features_final)\n",
    "F_Score = metrics.f1_score(np.ravel(dev_labels), preds, average='binary')\n",
    "\n",
    "\n",
    "#Call to display outputs\n",
    "model_output(pred_probas, F_Score, preds) #Please input pred_probas, F_Score, and prediction(preds)\n",
    "fpr,tpr,_ = roc_curve(dev_labels, pred_probas[:,1])\n",
    "roc_auc = metrics.auc(fpr,tpr)\n",
    "print ('C=%i, auc=%.5f, %i features selected. ' %(8,roc_auc,len(index)))"
   ]
  },
  {
   "cell_type": "markdown",
   "metadata": {},
   "source": [
    "#####5.Hyper-Parameter Tuning and compare models"
   ]
  },
  {
   "cell_type": "code",
   "execution_count": 291,
   "metadata": {
    "collapsed": false
   },
   "outputs": [
    {
     "name": "stdout",
     "output_type": "stream",
     "text": [
      "{'C': 23.0}\n",
      "0.754633153613\n"
     ]
    },
    {
     "data": {
      "text/plain": [
       "[<matplotlib.lines.Line2D at 0x21bb6be0>]"
      ]
     },
     "execution_count": 291,
     "metadata": {},
     "output_type": "execute_result"
    },
    {
     "data": {
      "image/png": "[encoded data removed]",
      "text/plain": [
       "<matplotlib.figure.Figure at 0xe45d208>"
      ]
     },
     "metadata": {},
     "output_type": "display_data"
    }
   ],
   "source": [
    "from sklearn.grid_search import GridSearchCV\n",
    "classifier = LogisticRegression(penalty ='l2')\n",
    "Cs = {'C': [ 0.0001, 0.001, 0.01, 0.1, 0.5, 1.0, 2.0, 10.0, 13.0, 15.0, 17.0, 20.0, 23.0]}\n",
    "\n",
    "clf = GridSearchCV(classifier, Cs,scoring ='roc_auc',cv=6)\n",
    "clf.fit(train_features_final, np.ravel(train_labels))\n",
    "print(clf.best_params_)\n",
    "print(clf.best_score_)\n",
    "\n",
    "score=[]\n",
    "para=[]\n",
    "for i in range(10):\n",
    "    score.append(clf.grid_scores_[i][1])\n",
    "    para.append(clf.grid_scores_[i][0]['C'])\n",
    "\n",
    "    \n",
    "plt.plot(para,score)\n",
    "# plt.plot(para,score)\n",
    "\n"
   ]
  },
  {
   "cell_type": "code",
   "execution_count": 292,
   "metadata": {
    "collapsed": false
   },
   "outputs": [
    {
     "name": "stdout",
     "output_type": "stream",
     "text": [
      "Logistic regression on numeric data: F-Score = 0.4333: \n",
      "Accuracy = 0.6144\n",
      "accuracy_score: 0.349650\n",
      "recall_score: 0.569476\n",
      "roc_auc_score: 0.599773840525\n",
      "auc: 0.63\n"
     ]
    },
    {
     "data": {
      "image/png": "[encoded data removed]",
      "text/plain": [
       "<matplotlib.figure.Figure at 0x9feed30>"
      ]
     },
     "metadata": {},
     "output_type": "display_data"
    },
    {
     "name": "stdout",
     "output_type": "stream",
     "text": [
      "0.627956790493\n"
     ]
    }
   ],
   "source": [
    "C_best=clf.best_params_['C']\n",
    "\n",
    "\n",
    "Logistic_L2 = LogisticRegression(penalty ='l2',C=C_best)#C from the above test\n",
    "Logistic_L2.fit(train_features_final, np.ravel(train_labels))\n",
    "\n",
    "preds = Logistic_L2.predict(dev_features_final)\n",
    "pred_probas = Logistic_L2.predict_proba(dev_features_final)\n",
    "F_Score = metrics.f1_score(np.ravel(dev_labels), preds, average='binary')\n",
    "\n",
    "\n",
    "#Call to display outputs\n",
    "model_output(pred_probas, F_Score, preds) #Please input pred_probas, F_Score, and prediction(preds)\n",
    "fpr,tpr,_ = roc_curve(dev_labels, pred_probas[:,1])\n",
    "roc_auc = metrics.auc(fpr,tpr)\n",
    "print (roc_auc)"
   ]
  },
  {
   "cell_type": "markdown",
   "metadata": {},
   "source": [
    "Le: This is the part I'm not quite understand, that the auc is lower"
   ]
  },
  {
   "cell_type": "code",
   "execution_count": 294,
   "metadata": {
    "collapsed": false
   },
   "outputs": [
    {
     "name": "stdout",
     "output_type": "stream",
     "text": [
      "{'C': 1000, 'kernel': 'linear'}\n",
      "0.816659014204\n"
     ]
    }
   ],
   "source": [
    "from sklearn.svm import SVC\n",
    "\n",
    "tuned_parameters = [{'kernel': ['rbf'], 'gamma': [1e-3, 1e-4],\n",
    "                     'C': [1, 10, 100, 1000]},\n",
    "                    {'kernel': ['linear'], 'C': [1, 10, 100, 1000]}]\n",
    "\n",
    "\n",
    "# Build a SVM Classifier with linear kernel\n",
    "classifier = SVC()\n",
    "\n",
    "clf = GridSearchCV(classifier,tuned_parameters,scoring ='roc_auc',cv=6)\n",
    "clf.fit(train_features_final, np.ravel(train_labels))\n",
    "print(clf.best_params_)\n",
    "print(clf.best_score_)\n",
    "\n"
   ]
  },
  {
   "cell_type": "code",
   "execution_count": 297,
   "metadata": {
    "collapsed": false
   },
   "outputs": [
    {
     "name": "stdout",
     "output_type": "stream",
     "text": [
      "Logistic regression on numeric data: F-Score = 0.0000: \n",
      "Accuracy = 0.7412\n",
      "accuracy_score: 0.000000\n",
      "recall_score: 0.000000\n",
      "roc_auc_score: 0.5\n",
      "auc: 0.61\n"
     ]
    },
    {
     "data": {
      "image/png": "[encoded data removed]",
      "text/plain": [
       "<matplotlib.figure.Figure at 0xeff7dd8>"
      ]
     },
     "metadata": {},
     "output_type": "display_data"
    },
    {
     "name": "stdout",
     "output_type": "stream",
     "text": [
      "0.609345750358\n"
     ]
    }
   ],
   "source": [
    "\n",
    "svc= SVC(C=1000 , kernel='rbf',gamma= 0.0001,probability=True)#C from the above test\n",
    "# svc= SVC(C=1000 , kernel='linear',probability=True) ##this is too bad\n",
    "svc.fit(train_features_final, np.ravel(train_labels))\n",
    "\n",
    "preds = svc.predict(dev_features_final)\n",
    "pred_probas = svc.predict_proba(dev_features_final)\n",
    "F_Score = metrics.f1_score(np.ravel(dev_labels), preds, average='binary')\n",
    "\n",
    "\n",
    "#Call to display outputs\n",
    "model_output(pred_probas, F_Score, preds) #Please input pred_probas, F_Score, and prediction(preds)\n",
    "fpr,tpr,_ = roc_curve(dev_labels, pred_probas[:,1])\n",
    "roc_auc = metrics.auc(fpr,tpr)\n",
    "print (roc_auc)\n"
   ]
  },
  {
   "cell_type": "markdown",
   "metadata": {},
   "source": [
    "#Below parts are all my progressions, please ignore.\n",
    "#I will clean up, re-organize and make a new version that we can share"
   ]
  },
  {
   "cell_type": "code",
   "execution_count": null,
   "metadata": {
    "collapsed": true
   },
   "outputs": [],
   "source": []
  },
  {
   "cell_type": "code",
   "execution_count": null,
   "metadata": {
    "collapsed": true
   },
   "outputs": [],
   "source": []
  },
  {
   "cell_type": "code",
   "execution_count": null,
   "metadata": {
    "collapsed": true
   },
   "outputs": [],
   "source": []
  },
  {
   "cell_type": "code",
   "execution_count": null,
   "metadata": {
    "collapsed": true
   },
   "outputs": [],
   "source": []
  },
  {
   "cell_type": "code",
   "execution_count": null,
   "metadata": {
    "collapsed": true
   },
   "outputs": [],
   "source": []
  },
  {
   "cell_type": "code",
   "execution_count": null,
   "metadata": {
    "collapsed": true
   },
   "outputs": [],
   "source": []
  },
  {
   "cell_type": "code",
   "execution_count": null,
   "metadata": {
    "collapsed": true
   },
   "outputs": [],
   "source": []
  },
  {
   "cell_type": "code",
   "execution_count": null,
   "metadata": {
    "collapsed": true
   },
   "outputs": [],
   "source": []
  },
  {
   "cell_type": "code",
   "execution_count": null,
   "metadata": {
    "collapsed": true
   },
   "outputs": [],
   "source": []
  },
  {
   "cell_type": "code",
   "execution_count": null,
   "metadata": {
    "collapsed": true
   },
   "outputs": [],
   "source": []
  },
  {
   "cell_type": "code",
   "execution_count": null,
   "metadata": {
    "collapsed": true
   },
   "outputs": [],
   "source": []
  },
  {
   "cell_type": "code",
   "execution_count": null,
   "metadata": {
    "collapsed": true
   },
   "outputs": [],
   "source": []
  },
  {
   "cell_type": "code",
   "execution_count": null,
   "metadata": {
    "collapsed": true
   },
   "outputs": [],
   "source": []
  },
  {
   "cell_type": "code",
   "execution_count": null,
   "metadata": {
    "collapsed": true
   },
   "outputs": [],
   "source": []
  },
  {
   "cell_type": "code",
   "execution_count": null,
   "metadata": {
    "collapsed": true
   },
   "outputs": [],
   "source": []
  },
  {
   "cell_type": "code",
   "execution_count": null,
   "metadata": {
    "collapsed": true
   },
   "outputs": [],
   "source": []
  },
  {
   "cell_type": "code",
   "execution_count": null,
   "metadata": {
    "collapsed": true
   },
   "outputs": [],
   "source": []
  },
  {
   "cell_type": "code",
   "execution_count": null,
   "metadata": {
    "collapsed": true
   },
   "outputs": [],
   "source": []
  },
  {
   "cell_type": "code",
   "execution_count": 107,
   "metadata": {
    "collapsed": false,
    "scrolled": false
   },
   "outputs": [
    {
     "name": "stdout",
     "output_type": "stream",
     "text": [
      "(3975, 473)\n",
      "Logistic regression on numeric data: F-Score = 0.0633: \n",
      "Accuracy = 0.7382\n",
      "accuracy_score: 0.428571\n",
      "recall_score: 0.034169\n",
      "roc_auc_score: 0.509128832977\n",
      "auc: 0.63\n"
     ]
    },
    {
     "data": {
      "image/png": "[encoded data removed]",
      "text/plain": [
       "<matplotlib.figure.Figure at 0x978f208>"
      ]
     },
     "metadata": {},
     "output_type": "display_data"
    },
    {
     "name": "stdout",
     "output_type": "stream",
     "text": [
      "0.632213590227\n"
     ]
    }
   ],
   "source": [
    "train_narrative=np.concatenate((cv_features.toarray(), narrative_all), axis=1)\n",
    "dev_narrative=np.concatenate((cv_features_dev.toarray(), narrative_all_dev), axis=1)\n",
    "\n",
    "print(train_narrative.shape)\n",
    "# train_log(train_matrix_process_text,dev_matrix_process_text)\n",
    "# train_log(train_narrative,dev_narrative)\n",
    "\n",
    "\n",
    "# vectorizer_process = CountVectorizer(analyzer='word',stop_words='english',preprocessor = empty_preprocessor)\n",
    "# word_matrix_process= vectorizer_process.fit_transform(train_all_balance)\n",
    "# dev_matrix_process = vectorizer_process.transform(dev_all)\n",
    "\n",
    "a=train_narrative\n",
    "b=dev_narrative\n",
    "\n",
    "model_LG_L1 = LogisticRegression(penalty ='l1',C=1)#C from the above test\n",
    "model_LG_L1.fit(a, np.ravel(train_labels))\n",
    "\n",
    "#Update the new index\n",
    "index=[]\n",
    "for i,z in enumerate(np.sum(np.abs(model_LG_L1.coef_),axis=0) ):\n",
    "    if z!=0:\n",
    "        index.append(i)\n",
    "            \n",
    "model_LG = LogisticRegression(penalty ='l2',C=1)#C from the above test\n",
    "model_LG.fit(a[:,index], np.ravel(train_labels))\n",
    "\n",
    "preds = model_LG.predict(b[:,index])\n",
    "F_Score = metrics.f1_score(np.ravel(dev_labels), preds, average='binary')\n",
    "pred_probas = model_LG.predict_proba(b[:,index])\n",
    "\n",
    "#Call to display outputs\n",
    "model_output(pred_probas, F_Score, preds) #Please input pred_probas, F_Score, and prediction(preds)\n",
    "fpr,tpr,_ = roc_curve(dev_labels, pred_probas[:,1])\n",
    "roc_auc = metrics.auc(fpr,tpr)\n",
    "print (roc_auc)"
   ]
  },
  {
   "cell_type": "code",
   "execution_count": null,
   "metadata": {
    "collapsed": true
   },
   "outputs": [],
   "source": [
    "from sklearn.grid_search import GridSearchCV\n",
    "classifier = svc = SVC(kernel=\"linear\")\n",
    "Cs = {'C': [ 0.0001, 0.001, 0.01, 0.1, 0.5, 1.0, 2.0, 10.0, 13.0, 15.0]}\n",
    "\n",
    "clf = GridSearchCV(classifier, Cs,scoring ='roc_auc',cv=6)\n",
    "clf.fit(train_features_final, np.ravel(train_labels))\n",
    "print(clf.best_params_)\n",
    "print(clf.best_score_)"
   ]
  },
  {
   "cell_type": "markdown",
   "metadata": {},
   "source": [
    "###take a look at the top cofficient words\n"
   ]
  },
  {
   "cell_type": "code",
   "execution_count": 9,
   "metadata": {
    "collapsed": false
   },
   "outputs": [
    {
     "name": "stdout",
     "output_type": "stream",
     "text": [
      "Optimal number of features : 4068\n"
     ]
    },
    {
     "name": "stderr",
     "output_type": "stream",
     "text": [
      "C:\\Users\\lgu\\AppData\\Local\\Continuum\\Anaconda\\envs\\mpl33\\lib\\site-packages\\sklearn\\utils\\validation.py:449: DataConversionWarning: A column-vector y was passed when a 1d array was expected. Please change the shape of y to (n_samples, ), for example using ravel().\n",
      "  y = column_or_1d(y, warn=True)\n"
     ]
    },
    {
     "data": {
      "image/png": "[encoded data removed]",
      "text/plain": [
       "<matplotlib.figure.Figure at 0x6c2a588>"
      ]
     },
     "metadata": {},
     "output_type": "display_data"
    }
   ],
   "source": [
    "import matplotlib.pyplot as plt\n",
    "from sklearn.svm import SVC\n",
    "from sklearn.cross_validation import StratifiedKFold\n",
    "from sklearn.feature_selection import RFECV\n",
    "from sklearn.datasets import make_classification\n",
    "\n",
    "# Build a SVM Classifier with linear kernel\n",
    "svc = SVC(kernel=\"linear\")\n",
    "\n",
    "rfecv = RFECV(estimator=svc, step=0.1, cv=5,scoring='roc_auc')\n",
    "rfecv.fit(train_matrix_process_text, train_labels)\n",
    "\n",
    "print(\"Optimal number of features : %d\" % rfecv.n_features_)\n",
    "\n",
    "# Plot number of features VS. cross-validation scores\n",
    "plt.figure()\n",
    "plt.xlabel(\"Number of features selected\")\n",
    "plt.ylabel(\"Cross validation score (nb of correct classifications)\")\n",
    "plt.plot(range(1, len(rfecv.grid_scores_) + 1), rfecv.grid_scores_)\n",
    "plt.show()"
   ]
  },
  {
   "cell_type": "code",
   "execution_count": 12,
   "metadata": {
    "collapsed": false
   },
   "outputs": [
    {
     "name": "stdout",
     "output_type": "stream",
     "text": [
      "Logistic regression on numeric data: F-Score = 0.0596: \n",
      "Accuracy = 0.7394\n",
      "accuracy_score: 0.451613\n",
      "recall_score: 0.031891\n",
      "roc_auc_score: 0.509183198236\n",
      "auc: 0.60\n"
     ]
    },
    {
     "data": {
      "image/png": "[encoded data removed]",
      "text/plain": [
       "<matplotlib.figure.Figure at 0xe16f080>"
      ]
     },
     "metadata": {},
     "output_type": "display_data"
    },
    {
     "name": "stdout",
     "output_type": "stream",
     "text": [
      "0.596861674849\n"
     ]
    }
   ],
   "source": [
    "cv_features=train_matrix_process_text[:,rfecv.support_]\n",
    "cv_features_dev= dev_matrix_process_text[:,rfecv.support_]\n",
    "\n",
    "from sklearn.svm import SVC\n",
    "\n",
    "svr = SVC(kernel=\"linear\",probability=True)\n",
    "svr.fit(cv_features, train_labels.values.flatten())\n",
    "\n",
    "\n",
    "preds = svr.predict(cv_features_dev)\n",
    "F_Score = metrics.f1_score(dev_labels, preds, average='binary')\n",
    "pred_probas = svr.predict_proba(cv_features_dev)\n",
    "\n",
    "# Call to display outputs\n",
    "model_output(pred_probas, F_Score, preds)\n",
    "fpr,tpr,_ = roc_curve(dev_labels, pred_probas[:,1])\n",
    "roc_auc = metrics.auc(fpr,tpr)\n",
    "print(roc_auc)\n",
    "\n"
   ]
  },
  {
   "cell_type": "code",
   "execution_count": 140,
   "metadata": {
    "collapsed": false,
    "scrolled": true
   },
   "outputs": [
    {
     "name": "stdout",
     "output_type": "stream",
     "text": [
      "(1, 10164)\n",
      "          Feature      coef\n",
      "0           booze  0.515605\n",
      "1      unexpected  0.516884\n",
      "2          paying  0.517429\n",
      "3         drained  0.517980\n",
      "4              wa  0.519384\n",
      "5           cheer  0.520825\n",
      "6         katzmcn  0.522486\n",
      "7         managed  0.524853\n",
      "8        received  0.528355\n",
      "9            skip  0.529663\n",
      "10          touch  0.531015\n",
      "11       carolina  0.533128\n",
      "12       giftcard  0.534986\n",
      "13           papa  0.535260\n",
      "14             gt  0.535905\n",
      "15            cny  0.536643\n",
      "16      wildernes  0.536643\n",
      "17          forum  0.537660\n",
      "18        january  0.538437\n",
      "19          super  0.539903\n",
      "20          cover  0.540653\n",
      "21       absolute  0.542615\n",
      "22           blow  0.543957\n",
      "23        immense  0.545204\n",
      "24         biggie  0.546672\n",
      "25   biochemistry  0.548862\n",
      "26          payed  0.550278\n",
      "27         bought  0.551330\n",
      "28          teach  0.551402\n",
      "29       portland  0.552184\n",
      "..            ...       ...\n",
      "170        sunday  0.998053\n",
      "171          come  1.009468\n",
      "172         month  1.017403\n",
      "173      thursday  1.023086\n",
      "174         tight  1.031569\n",
      "175        dollar  1.037468\n",
      "176           pic  1.041241\n",
      "177    unemployed  1.044017\n",
      "178         check  1.072574\n",
      "179       medical  1.086895\n",
      "180          runn  1.108746\n",
      "181        recent  1.113946\n",
      "182     yesterday  1.127324\n",
      "183       current  1.134059\n",
      "184           dog  1.141731\n",
      "185        father  1.147907\n",
      "186           son  1.219964\n",
      "187       request  1.225734\n",
      "188          best  1.239814\n",
      "189          deal  1.269602\n",
      "190          nice  1.300073\n",
      "191           com  1.326038\n",
      "192           jpg  1.348056\n",
      "193         ramen  1.418635\n",
      "194         imgur  1.449020\n",
      "195      paycheck  1.478184\n",
      "196      surprise  1.728950\n",
      "197         thank  1.821286\n",
      "198          http  1.851574\n",
      "199          edit  2.461976\n",
      "\n",
      "[200 rows x 2 columns]\n",
      "       Feature      coef\n",
      "0       friend -1.541150\n",
      "1         sitt -1.107218\n",
      "2      started -1.090329\n",
      "3         free -1.039133\n",
      "4          eat -1.016207\n",
      "5        house -0.897691\n",
      "6           ha -0.883854\n",
      "7          won -0.849829\n",
      "8       little -0.824553\n",
      "9         love -0.808433\n",
      "10       extra -0.776232\n",
      "11     figured -0.769299\n",
      "12        left -0.767825\n",
      "13        morn -0.753175\n",
      "14         bed -0.724797\n",
      "15        look -0.707643\n",
      "16        laid -0.705843\n",
      "17        ohio -0.701000\n",
      "18       place -0.698998\n",
      "19      street -0.687979\n",
      "20     brother -0.685697\n",
      "21       sleep -0.685682\n",
      "22        area -0.677766\n",
      "23      hungry -0.674751\n",
      "24    southern -0.674110\n",
      "25         new -0.660836\n",
      "26     company -0.652680\n",
      "27        live -0.645038\n",
      "28    terrible -0.631717\n",
      "29      shitty -0.629226\n",
      "..         ...       ...\n",
      "170     tucson -0.357786\n",
      "171      study -0.356863\n",
      "172  afternoon -0.355859\n",
      "173       hear -0.349887\n",
      "174   michigan -0.347287\n",
      "175    noticed -0.345289\n",
      "176       deed -0.344375\n",
      "177    explain -0.343100\n",
      "178     throne -0.341670\n",
      "179    country -0.339594\n",
      "180      grade -0.339009\n",
      "181     someth -0.338079\n",
      "182     turkey -0.337295\n",
      "183    removed -0.336135\n",
      "184       cash -0.335833\n",
      "185       tech -0.334803\n",
      "186    magical -0.334377\n",
      "187     island -0.333913\n",
      "188       tide -0.332798\n",
      "189     hunger -0.331213\n",
      "190   february -0.331098\n",
      "191  everybody -0.330595\n",
      "192   babysitt -0.329737\n",
      "193      apple -0.328071\n",
      "194  statement -0.327990\n",
      "195      value -0.327173\n",
      "196    regular -0.326653\n",
      "197    outside -0.326527\n",
      "198    license -0.326462\n",
      "199     pennie -0.326290\n",
      "\n",
      "[200 rows x 2 columns]\n"
     ]
    }
   ],
   "source": [
    "print(model_LG.coef_.shape)\n",
    "# print( abs(model_LG.coef_ [0]))\n",
    "# print(len(vectorizer_process.vocabulary_))\n",
    "# print(vectorizer_process.vocabulary_)\n",
    "\n",
    "model_LG = LogisticRegression(penalty ='l2',C=1)\n",
    "model_LG.fit(train_matrix_process_text, np.ravel(train_labels))\n",
    "\n",
    "index_good=np.argsort((model_LG.coef_ [0]))[-200:]\n",
    "\n",
    "df = pd.DataFrame({'Feature': np.array(vectorizer_process.get_feature_names())[index_good], 'coef': np.array(model_LG.coef_ [0])[index_good]})\n",
    "print(df)\n",
    "\n",
    "index_bad=np.argsort((model_LG.coef_ [0]))[:200]\n",
    "\n",
    "df = pd.DataFrame({'Feature': np.array(vectorizer_process.get_feature_names())[index_bad], 'coef': np.array(model_LG.coef_ [0])[index_bad]})\n",
    "print(df)\n",
    "\n",
    "\n",
    "# a=np.concatenate((np.array(vectorizer_process.get_feature_names())[index],np.array(model_LG.coef_ [0])[index]), axis=0)\n",
    "# a= np.array(vectorizer_process.get_feature_names())[index]+np.array(model_LG.coef_ [0])[index]\n",
    "# print(a)"
   ]
  },
  {
   "cell_type": "markdown",
   "metadata": {},
   "source": [
    "##Try to find the best number of words to include in the model"
   ]
  },
  {
   "cell_type": "code",
   "execution_count": 141,
   "metadata": {
    "collapsed": false
   },
   "outputs": [],
   "source": [
    "def empty_preprocessor(s):\n",
    "    return s\n",
    "\n",
    "def train_tf_idf(dicts):\n",
    "    \n",
    "    vectorizer_process_limit = TfidfVectorizer(preprocessor =first_preprocessor,analyzer='word',stop_words='english',vocabulary=dicts )\n",
    "    train_matrix_process_text= vectorizer_process_limit.fit_transform(train_text)\n",
    "    dev_matrix_process_text = vectorizer_process_limit.transform(dev_text)\n",
    "\n",
    "\n",
    "    model_LG_limit = LogisticRegression(penalty ='l2',C=13)\n",
    "    model_LG_limit.fit(train_matrix_process_text, np.ravel(train_labels))\n",
    "\n",
    "    # print('f1_score: %f' %metrics.f1_score(dev_labels,model_LG.predict(dev_matrix_process_text),average='binary'))\n",
    "    # print('precision_score: %f' %metrics.precision_score(dev_labels,model_LG.predict(dev_matrix_process_text)))\n",
    "    # print('recall_score: %f' %metrics.recall_score(dev_labels,model_LG.predict(dev_matrix_process_text)))\n",
    "    # print('accuracy_score: %f' %metrics.accuracy_score(dev_labels,model_LG.predict(dev_matrix_process_text)))\n",
    "\n",
    "    preds = model_LG_limit.predict(dev_matrix_process_text)\n",
    "    F_Score = metrics.f1_score(dev_labels, preds, average='binary')\n",
    "    pred_probas = model_LG_limit.predict_proba(dev_matrix_process_text)\n",
    "\n",
    "    #Call to display outputs\n",
    "#     model_output(pred_probas, F_Score, preds)\n",
    "    fpr,tpr,_ = roc_curve(dev_labels, pred_probas[:,1])\n",
    "    roc_auc = metrics.auc(fpr,tpr)\n",
    "    return roc_auc"
   ]
  },
  {
   "cell_type": "code",
   "execution_count": 142,
   "metadata": {
    "collapsed": false,
    "scrolled": true
   },
   "outputs": [],
   "source": [
    "auc=[]\n",
    "idx=[]\n",
    "for i in range(100,4000,40):\n",
    "    index_good=np.argsort((model_LG.coef_ [0]))[-i:]\n",
    "    index_bad=np.argsort((model_LG.coef_ [0]))[:i]\n",
    "    dicts=[]\n",
    "    dicts=list(np.array(vectorizer_process.get_feature_names())[index_good])+list(np.array(vectorizer_process.get_feature_names())[index_bad])\n",
    "    auc.append(train_tf_idf(dicts))\n",
    "    idx.append(i)\n",
    "\n",
    "\n",
    " \n",
    "    \n"
   ]
  },
  {
   "cell_type": "code",
   "execution_count": 144,
   "metadata": {
    "collapsed": false
   },
   "outputs": [
    {
     "name": "stdout",
     "output_type": "stream",
     "text": [
      "[52 65 53 64 67 48 47 51 61 43 66 62 46 68 50 55 63 59 56 44 75 45 54 60 57\n",
      " 74 76 69 77 49 41 42 72 58 40 78 71 73 70 79 39 80 29 28 30 38 81 16 31 82\n",
      " 37 15 83 84 36 14  9 20 27 85 86 26 87 90 19 33 89 32 17 88 35 91 18 92 13\n",
      " 24 22 11 34 12 21 93 25 23 95 10  8 97 94 96  7  5  1  6  2  4  3  0]\n",
      "100\n",
      "0.593394983536\n"
     ]
    },
    {
     "data": {
      "image/png": "[encoded data removed]",
      "text/plain": [
       "<matplotlib.figure.Figure at 0xf8bfb70>"
      ]
     },
     "metadata": {},
     "output_type": "display_data"
    }
   ],
   "source": [
    "plt.plot(idx,auc)\n",
    "# plt.show()\n",
    "print(np.argsort(auc))\n",
    "print(idx[0])\n",
    "print(auc[0])\n"
   ]
  },
  {
   "cell_type": "markdown",
   "metadata": {},
   "source": [
    "####given the best number of words to include is 220, i picked the top 220 words from each side"
   ]
  },
  {
   "cell_type": "code",
   "execution_count": 23,
   "metadata": {
    "collapsed": true
   },
   "outputs": [],
   "source": [
    "for i in [220]:\n",
    "    index_good=np.argsort((model_LG.coef_ [0]))[-i:]\n",
    "    index_bad=np.argsort((model_LG.coef_ [0]))[:i]\n",
    "    dicts=[]\n",
    "    dicts=list(np.array(vectorizer_process.get_feature_names())[index_good])+list(np.array(vectorizer_process.get_feature_names())[index_bad])\n",
    "    vectorizer_process_limit = TfidfVectorizer(preprocessor =first_preprocessor,analyzer='word',stop_words='english',vocabulary=dicts )\n",
    "    train_matrix_process_text= vectorizer_process_limit.fit_transform(train_text)\n",
    "    dev_matrix_process_text = vectorizer_process_limit.transform(dev_text)"
   ]
  },
  {
   "cell_type": "code",
   "execution_count": 24,
   "metadata": {
    "collapsed": false,
    "scrolled": false
   },
   "outputs": [
    {
     "name": "stdout",
     "output_type": "stream",
     "text": [
      "Logistic regression on numeric data: F-Score = 0.2538: \n",
      "Accuracy = 0.7123\n",
      "accuracy_score: 0.386047\n",
      "recall_score: 0.189066\n",
      "roc_auc_score: 0.542027063026\n",
      "auc: 0.62\n"
     ]
    },
    {
     "data": {
      "image/png": "[encoded data removed]",
      "text/plain": [
       "<matplotlib.figure.Figure at 0xe0ebfd0>"
      ]
     },
     "metadata": {},
     "output_type": "display_data"
    },
    {
     "name": "stdout",
     "output_type": "stream",
     "text": [
      "0.616356150432\n"
     ]
    }
   ],
   "source": [
    "np.random.seed(0)\n",
    "\n",
    "# vectorizer_process = CountVectorizer(analyzer='word',stop_words='english',preprocessor = empty_preprocessor)\n",
    "# word_matrix_process= vectorizer_process.fit_transform(train_all_balance)\n",
    "# dev_matrix_process = vectorizer_process.transform(dev_all)\n",
    "\n",
    "a=train_matrix_process_text\n",
    "b=dev_matrix_process_text\n",
    "\n",
    "model_LG_L1 = LogisticRegression(penalty ='l1',C=1)#C from the above test\n",
    "model_LG_L1.fit(a, np.ravel(train_labels))\n",
    "\n",
    "#Update the new index\n",
    "index=[]\n",
    "for i,z in enumerate(np.sum(np.abs(model_LG_L1.coef_),axis=0) ):\n",
    "    if z!=0:\n",
    "        index.append(i)\n",
    "            \n",
    "model_LG = LogisticRegression(penalty ='l2',C=13)#C from the above test\n",
    "model_LG.fit(a[:,index], np.ravel(train_labels))\n",
    "\n",
    "preds = model_LG.predict(b[:,index])\n",
    "F_Score = metrics.f1_score(np.ravel(dev_labels), preds, average='binary')\n",
    "pred_probas = model_LG.predict_proba(b[:,index])\n",
    "\n",
    "#Call to display outputs\n",
    "model_output(pred_probas, F_Score, preds) #Please input pred_probas, F_Score, and prediction(preds)\n",
    "fpr,tpr,_ = roc_curve(dev_labels, pred_probas[:,1])\n",
    "roc_auc = metrics.auc(fpr,tpr)\n",
    "print (roc_auc)\n",
    "\n"
   ]
  },
  {
   "cell_type": "code",
   "execution_count": null,
   "metadata": {
    "collapsed": false
   },
   "outputs": [],
   "source": [
    "train_matrix_process_text.shape"
   ]
  },
  {
   "cell_type": "code",
   "execution_count": 80,
   "metadata": {
    "collapsed": false
   },
   "outputs": [
    {
     "name": "stdout",
     "output_type": "stream",
     "text": [
      "[False False False ..., False False False]\n",
      "[2532 9121 4684 ..., 2475 4992  500]\n"
     ]
    },
    {
     "name": "stderr",
     "output_type": "stream",
     "text": [
      "C:\\Users\\lgu\\AppData\\Local\\Continuum\\Anaconda\\envs\\mpl33\\lib\\site-packages\\sklearn\\utils\\validation.py:449: DataConversionWarning: A column-vector y was passed when a 1d array was expected. Please change the shape of y to (n_samples, ), for example using ravel().\n",
      "  y = column_or_1d(y, warn=True)\n"
     ]
    }
   ],
   "source": [
    "\n",
    "# Recursive Feature Elimination\n",
    "from sklearn import datasets\n",
    "from sklearn.feature_selection import RFE\n",
    "from sklearn.linear_model import LogisticRegression\n",
    "# load the iris datasets\n",
    "\n",
    "# create a base classifier used to evaluate a subset of attributes\n",
    "model = LogisticRegression(penalty ='l2',C=13)\n",
    "# create the RFE model and select 3 attributes\n",
    "rfe = RFE(model)\n",
    "rfe = rfe.fit(train_matrix_process_text, train_labels)\n",
    "# summarize the selection of the attributes\n",
    "print(rfe.support_)\n",
    "print(rfe.ranking_)"
   ]
  },
  {
   "cell_type": "code",
   "execution_count": 151,
   "metadata": {
    "collapsed": false
   },
   "outputs": [
    {
     "data": {
      "text/plain": [
       "10"
      ]
     },
     "execution_count": 151,
     "metadata": {},
     "output_type": "execute_result"
    }
   ],
   "source": [
    "sum(rfe.support_)\n",
    "rfe.n_features_"
   ]
  },
  {
   "cell_type": "code",
   "execution_count": 175,
   "metadata": {
    "collapsed": false
   },
   "outputs": [
    {
     "data": {
      "text/plain": [
       "(3975, 4068)"
      ]
     },
     "execution_count": 175,
     "metadata": {},
     "output_type": "execute_result"
    }
   ],
   "source": [
    "train_matrix_process_text[:,rfecv.support_].shape"
   ]
  },
  {
   "cell_type": "code",
   "execution_count": 168,
   "metadata": {
    "collapsed": false
   },
   "outputs": [
    {
     "name": "stdout",
     "output_type": "stream",
     "text": [
      "7\n",
      "[ True False  True ...,  True  True  True]\n",
      "[ 0.5030999   0.51960515  0.58728654  0.60379145  0.60386398  0.60523934\n",
      "  0.60236702  0.60042925  0.60000568  0.59950315  0.59949963  0.59949444]\n"
     ]
    },
    {
     "data": {
      "text/plain": [
       "(1, 10164)"
      ]
     },
     "execution_count": 168,
     "metadata": {},
     "output_type": "execute_result"
    }
   ],
   "source": [
    "train_matrix_process_text.shape\n",
    "print(np.max(rfecv.ranking_))\n",
    "print(rfecv.support_)\n",
    "\n",
    "print(rfecv.grid_scores_)\n",
    "rfecv.ranking_.shape\n",
    "model_LG.coef_.shape"
   ]
  },
  {
   "cell_type": "code",
   "execution_count": 170,
   "metadata": {
    "collapsed": false
   },
   "outputs": [
    {
     "data": {
      "text/plain": [
       "10164"
      ]
     },
     "execution_count": 170,
     "metadata": {},
     "output_type": "execute_result"
    }
   ],
   "source": [
    "len(vectorizer_process.get_feature_names()) \n",
    "# dicts_rfe = \n",
    "#train_tf_idf(dicts)"
   ]
  },
  {
   "cell_type": "code",
   "execution_count": 130,
   "metadata": {
    "collapsed": false,
    "scrolled": true
   },
   "outputs": [
    {
     "name": "stdout",
     "output_type": "stream",
     "text": [
      "(3975, 10164)\n"
     ]
    }
   ],
   "source": [
    "print(train_matrix_process_text.shape)\n",
    "word=[]\n",
    "for i in rfe.ranking_[:500]:\n",
    "#     print(i)\n",
    "    word.append(vectorizer_process.get_feature_names()[i])\n",
    "\n",
    "# print(vectorizer_process.get_feature_names()[i] for i in rfe.ranking_)\n",
    "\n"
   ]
  },
  {
   "cell_type": "code",
   "execution_count": 109,
   "metadata": {
    "collapsed": false
   },
   "outputs": [
    {
     "name": "stdout",
     "output_type": "stream",
     "text": [
      "500\n",
      "0.531689509136\n"
     ]
    }
   ],
   "source": [
    "print(len(word))\n",
    "vectorizer_process_entropy = TfidfVectorizer(preprocessor =first_preprocessor,analyzer='word',stop_words='english',vocabulary=word )\n",
    "train_matrix_process_text_entropy= vectorizer_process_entropy.fit_transform(train_text)\n",
    "dev_matrix_process_text_entropy = vectorizer_process_entropy.transform(dev_text)\n",
    "\n",
    "\n",
    "model_LG_limit_entropy = LogisticRegression(penalty ='l2',C=13)\n",
    "model_LG_limit_entropy.fit(train_matrix_process_text_entropy, np.ravel(train_labels))\n",
    "\n",
    "# print('f1_score: %f' %metrics.f1_score(dev_labels,model_LG.predict(dev_matrix_process_text),average='binary'))\n",
    "# print('precision_score: %f' %metrics.precision_score(dev_labels,model_LG.predict(dev_matrix_process_text)))\n",
    "# print('recall_score: %f' %metrics.recall_score(dev_labels,model_LG.predict(dev_matrix_process_text)))\n",
    "# print('accuracy_score: %f' %metrics.accuracy_score(dev_labels,model_LG.predict(dev_matrix_process_text)))\n",
    "\n",
    "preds = model_LG_limit_entropy.predict(dev_matrix_process_text_entropy)\n",
    "F_Score = metrics.f1_score(dev_labels, preds, average='binary')\n",
    "pred_probas = model_LG_limit_entropy.predict_proba(dev_matrix_process_text_entropy)\n",
    "\n",
    "#Call to display outputs\n",
    "#     model_output(pred_probas, F_Score, preds)\n",
    "fpr,tpr,_ = roc_curve(dev_labels, pred_probas[:,1])\n",
    "roc_auc = metrics.auc(fpr,tpr)\n",
    "print(roc_auc)"
   ]
  },
  {
   "cell_type": "code",
   "execution_count": 129,
   "metadata": {
    "collapsed": false
   },
   "outputs": [
    {
     "name": "stdout",
     "output_type": "stream",
     "text": [
      "0.562854393528\n"
     ]
    }
   ],
   "source": [
    "# print(train_matrix_process_text.shape)\n",
    "# print(train_labels.shape)\n",
    "from sklearn.svm import SVC\n",
    "\n",
    "svr = SVC(probability=True)\n",
    "svr.fit(train_matrix_process_text, train_labels.values.flatten())\n",
    "\n",
    "\n",
    "# print('f1_score: %f' %metrics.f1_score(dev_labels,model_LG.predict(dev_matrix_process_text),average='binary'))\n",
    "# print('precision_score: %f' %metrics.precision_score(dev_labels,model_LG.predict(dev_matrix_process_text)))\n",
    "# print('recall_score: %f' %metrics.recall_score(dev_labels,model_LG.predict(dev_matrix_process_text)))\n",
    "# print('accuracy_score: %f' %metrics.accuracy_score(dev_labels,model_LG.predict(dev_matrix_process_text)))\n",
    "\n",
    "preds = svr.predict(dev_matrix_process_text)\n",
    "F_Score = metrics.f1_score(dev_labels, preds, average='binary')\n",
    "pred_probas = svr.predict_proba(dev_matrix_process_text)\n",
    "\n",
    "#Call to display outputs\n",
    "#     model_output(pred_probas, F_Score, preds)\n",
    "fpr,tpr,_ = roc_curve(dev_labels, pred_probas[:,1])\n",
    "roc_auc = metrics.auc(fpr,tpr)\n",
    "print(roc_auc)"
   ]
  },
  {
   "cell_type": "markdown",
   "metadata": {},
   "source": [
    "##Narrative"
   ]
  },
  {
   "cell_type": "code",
   "execution_count": 28,
   "metadata": {
    "collapsed": false
   },
   "outputs": [
    {
     "name": "stdout",
     "output_type": "stream",
     "text": [
      "[[0 0 0 ..., 0 0 0]\n",
      " [0 0 0 ..., 1 0 0]\n",
      " [0 0 0 ..., 0 0 0]\n",
      " ..., \n",
      " [0 0 0 ..., 0 0 0]\n",
      " [0 0 0 ..., 0 0 0]\n",
      " [0 0 0 ..., 0 0 0]]\n"
     ]
    }
   ],
   "source": [
    "print(narrative_all)"
   ]
  },
  {
   "cell_type": "markdown",
   "metadata": {},
   "source": [
    "##excl_marks\n"
   ]
  },
  {
   "cell_type": "code",
   "execution_count": 34,
   "metadata": {
    "collapsed": false
   },
   "outputs": [
    {
     "name": "stdout",
     "output_type": "stream",
     "text": [
      "(3975, 449)\n",
      "Logistic regression on numeric data: F-Score = 0.2774: \n",
      "Accuracy = 0.7205\n",
      "accuracy_score: 0.419355\n",
      "recall_score: 0.207289\n",
      "roc_auc_score: 0.553525315183\n",
      "auc: 0.62\n"
     ]
    },
    {
     "data": {
      "image/png": "[encoded data removed]",
      "text/plain": [
       "<matplotlib.figure.Figure at 0xdd30ba8>"
      ]
     },
     "metadata": {},
     "output_type": "display_data"
    },
    {
     "name": "stdout",
     "output_type": "stream",
     "text": [
      "0.619158679504\n"
     ]
    }
   ],
   "source": [
    "train_narrative_excl_cap=np.concatenate((train_narrative_excl, train_caps), axis=1)\n",
    "dev_narrative_excl_cap=np.concatenate((dev_narrative_excl, dev_caps), axis=1)\n",
    "print(train_narrative_excl_cap.shape)\n",
    "# train_log(train_matrix_process_text,dev_matrix_process_text)\n",
    "# train_log(train_narrative,dev_narrative)\n",
    "np.random.seed(0)\n",
    "\n",
    "# vectorizer_process = CountVectorizer(analyzer='word',stop_words='english',preprocessor = empty_preprocessor)\n",
    "# word_matrix_process= vectorizer_process.fit_transform(train_all_balance)\n",
    "# dev_matrix_process = vectorizer_process.transform(dev_all)\n",
    "\n",
    "a=train_narrative_excl_cap\n",
    "b=dev_narrative_excl_cap\n",
    "\n",
    "model_LG_L1 = LogisticRegression(penalty ='l1',C=1)#C from the above test\n",
    "model_LG_L1.fit(a, np.ravel(train_labels))\n",
    "\n",
    "#Update the new index\n",
    "index=[]\n",
    "for i,z in enumerate(np.sum(np.abs(model_LG_L1.coef_),axis=0) ):\n",
    "    if z!=0:\n",
    "        index.append(i)\n",
    "            \n",
    "model_LG = LogisticRegression(penalty ='l2',C=13)#C from the above test\n",
    "model_LG.fit(a[:,index], np.ravel(train_labels))\n",
    "\n",
    "preds = model_LG.predict(b[:,index])\n",
    "F_Score = metrics.f1_score(np.ravel(dev_labels), preds, average='binary')\n",
    "pred_probas = model_LG.predict_proba(b[:,index])\n",
    "\n",
    "#Call to display outputs\n",
    "model_output(pred_probas, F_Score, preds) #Please input pred_probas, F_Score, and prediction(preds)\n",
    "fpr,tpr,_ = roc_curve(dev_labels, pred_probas[:,1])\n",
    "roc_auc = metrics.auc(fpr,tpr)\n",
    "print (roc_auc)"
   ]
  },
  {
   "cell_type": "code",
   "execution_count": 73,
   "metadata": {
    "collapsed": false
   },
   "outputs": [
    {
     "name": "stdout",
     "output_type": "stream",
     "text": [
      "(3975, 449)\n",
      "0.644384159413\n",
      "Logistic regression on numeric data: F-Score = 0.0393: \n",
      "Accuracy = 0.7406\n",
      "accuracy_score: 0.473684\n",
      "recall_score: 0.020501\n",
      "roc_auc_score: 0.506272844735\n",
      "auc: 0.64\n"
     ]
    },
    {
     "data": {
      "image/png": "[encoded data removed]",
      "text/plain": [
       "<matplotlib.figure.Figure at 0xe4c8438>"
      ]
     },
     "metadata": {},
     "output_type": "display_data"
    }
   ],
   "source": [
    "train_narrative_excl_cap=np.concatenate((train_narrative_excl, train_caps), axis=1)\n",
    "dev_narrative_excl_cap=np.concatenate((dev_narrative_excl, dev_caps), axis=1)\n",
    "print(train_narrative_excl_cap.shape)\n",
    "# train_log(train_matrix_process_text,dev_matrix_process_text)\n",
    "# train_log(train_narrative,dev_narrative)\n",
    "np.random.seed(0)\n",
    "\n",
    "# vectorizer_process = CountVectorizer(analyzer='word',stop_words='english',preprocessor = empty_preprocessor)\n",
    "# word_matrix_process= vectorizer_process.fit_transform(train_all_balance)\n",
    "# dev_matrix_process = vectorizer_process.transform(dev_all)\n",
    "\n",
    "a=train_narrative_excl_cap\n",
    "b=dev_narrative_excl_cap\n",
    "\n",
    "model_LG_L1 = LogisticRegression(penalty ='l1',C=1)#C from the above test\n",
    "model_LG_L1.fit(a, np.ravel(train_labels))\n",
    "\n",
    "#Update the new index\n",
    "index=[]\n",
    "for i,z in enumerate(np.sum(np.abs(model_LG_L1.coef_),axis=0) ):\n",
    "    if z!=0:\n",
    "        index.append(i)\n",
    "            \n",
    "model_LG = LogisticRegression(penalty ='l2',C=0.26)#C from the above test\n",
    "model_LG.fit(a[:,index], np.ravel(train_labels))\n",
    "\n",
    "preds = model_LG.predict(b[:,index])\n",
    "F_Score = metrics.f1_score(np.ravel(dev_labels), preds, average='binary')\n",
    "pred_probas = model_LG.predict_proba(b[:,index])\n",
    "\n",
    "#Call to display outputs\n",
    "\n",
    "fpr,tpr,_ = roc_curve(dev_labels, pred_probas[:,1])\n",
    "roc_auc = metrics.auc(fpr,tpr)\n",
    "print (roc_auc)\n",
    "model_output(pred_probas, F_Score, preds) #Please input pred_probas, F_Score, and prediction(preds)\n"
   ]
  },
  {
   "cell_type": "code",
   "execution_count": 38,
   "metadata": {
    "collapsed": false,
    "scrolled": true
   },
   "outputs": [
    {
     "name": "stdout",
     "output_type": "stream",
     "text": [
      "(3975, 449)\n"
     ]
    }
   ],
   "source": [
    "train_narrative_excl_cap=np.concatenate((train_narrative_excl, train_caps), axis=1)\n",
    "dev_narrative_excl_cap=np.concatenate((dev_narrative_excl, dev_caps), axis=1)\n",
    "print(train_narrative_excl_cap.shape)\n",
    "# train_log(train_matrix_process_text,dev_matrix_process_text)\n",
    "# train_log(train_narrative,dev_narrative)\n",
    "np.random.seed(0)\n",
    "\n",
    "# vectorizer_process = CountVectorizer(analyzer='word',stop_words='english',preprocessor = empty_preprocessor)\n",
    "# word_matrix_process= vectorizer_process.fit_transform(train_all_balance)\n",
    "# dev_matrix_process = vectorizer_process.transform(dev_all)\n",
    "\n",
    "a=train_narrative_excl_cap\n",
    "b=dev_narrative_excl_cap\n",
    "\n",
    "auc=[]\n",
    "c1=[]\n",
    "c2=[]\n",
    "for i in np.arange(0.1,3,0.1):\n",
    "    for j in np.arange(0.1,5,0.1):\n",
    "        \n",
    "        model_LG_L1 = LogisticRegression(penalty ='l1',C=i)#C from the above test 0.7\n",
    "        model_LG_L1.fit(a, np.ravel(train_labels))\n",
    "\n",
    "        #Update the new index\n",
    "        index=[]\n",
    "        for i,z in enumerate(np.sum(np.abs(model_LG_L1.coef_),axis=0) ):\n",
    "            if z!=0:\n",
    "                index.append(i)\n",
    "\n",
    "        model_LG = LogisticRegression(penalty ='l2',C=j)#C from the above test 0.3\n",
    "        model_LG.fit(a[:,index], np.ravel(train_labels))\n",
    "\n",
    "        preds = model_LG.predict(b[:,index])\n",
    "        F_Score = metrics.f1_score(np.ravel(dev_labels), preds, average='binary')\n",
    "        pred_probas = model_LG.predict_proba(b[:,index])\n",
    "\n",
    "        #Call to display outputs\n",
    "    #     model_output(pred_probas, F_Score, preds) #Please input pred_probas, F_Score, and prediction(preds)\n",
    "        fpr,tpr,_ = roc_curve(dev_labels, pred_probas[:,1])\n",
    "        roc_auc = metrics.auc(fpr,tpr)\n",
    "        auc.append(roc_auc)\n",
    "        c1.append(i)\n",
    "        c2.append(j)"
   ]
  },
  {
   "cell_type": "markdown",
   "metadata": {},
   "source": [
    "#PLEASE STOP HERE\n",
    "\n",
    "###The below code is only an appendix of what I have tested previously"
   ]
  },
  {
   "cell_type": "markdown",
   "metadata": {},
   "source": [
    "##Title"
   ]
  },
  {
   "cell_type": "code",
   "execution_count": null,
   "metadata": {
    "collapsed": false
   },
   "outputs": [],
   "source": [
    "def empty_preprocessor(s):\n",
    "    return s\n",
    "\n",
    "\n",
    "    \n",
    "vectorizer_process_title = TfidfVectorizer(preprocessor =first_preprocessor,analyzer='word',stop_words='english' )\n",
    "train_matrix_process_title= vectorizer_process_title.fit_transform(train_title)\n",
    "dev_matrix_process_title = vectorizer_process_title.transform(dev_title)\n",
    "\n",
    "\n",
    "model_LG_title = LogisticRegression(penalty ='l2',C=12)\n",
    "model_LG_title.fit(train_matrix_process_title, np.ravel(train_labels))\n",
    "\n",
    "# print('f1_score: %f' %metrics.f1_score(dev_labels,model_LG.predict(dev_matrix_process_text),average='binary'))\n",
    "# print('precision_score: %f' %metrics.precision_score(dev_labels,model_LG.predict(dev_matrix_process_text)))\n",
    "# print('recall_score: %f' %metrics.recall_score(dev_labels,model_LG.predict(dev_matrix_process_text)))\n",
    "# print('accuracy_score: %f' %metrics.accuracy_score(dev_labels,model_LG.predict(dev_matrix_process_text)))\n",
    "\n",
    "preds = model_LG_title.predict(dev_matrix_process_title)\n",
    "F_Score = metrics.f1_score(dev_labels, preds, average='binary')\n",
    "pred_probas = model_LG_title.predict_proba(dev_matrix_process_title)\n",
    "\n",
    "#Call to display outputs\n",
    "model_output(pred_probas, F_Score, preds)\n",
    "fpr,tpr,_ = roc_curve(dev_labels, pred_probas[:,1])\n",
    "roc_auc = metrics.auc(fpr,tpr)\n",
    "\n",
    "\n"
   ]
  },
  {
   "cell_type": "code",
   "execution_count": 199,
   "metadata": {
    "collapsed": false,
    "scrolled": true
   },
   "outputs": [
    {
     "name": "stdout",
     "output_type": "stream",
     "text": [
      "(1, 5325)\n",
      "<class 'numpy.ndarray'>\n",
      "(200,)\n",
      "         Feature      coef\n",
      "0     variations  2.599917\n",
      "1           woke  2.607606\n",
      "2          plain  2.609249\n",
      "3      Shoreline  2.614414\n",
      "4        suppose  2.616475\n",
      "5           Laid  2.617343\n",
      "6      northwest  2.618045\n",
      "7        Madison  2.621659\n",
      "8         Paypal  2.625995\n",
      "9          spend  2.629419\n",
      "10            15  2.629707\n",
      "11          Bday  2.631496\n",
      "12      provider  2.637658\n",
      "13            Be  2.638079\n",
      "14        Lonely  2.638260\n",
      "15          city  2.640188\n",
      "16         layed  2.645624\n",
      "17       cooking  2.645841\n",
      "18           PTO  2.646531\n",
      "19      northern  2.649818\n",
      "20        Castle  2.653504\n",
      "21            26  2.661185\n",
      "22         Round  2.663817\n",
      "23       Midland  2.665807\n",
      "24           Ann  2.667911\n",
      "25         Arbor  2.667911\n",
      "26         Porto  2.669798\n",
      "27      Portugal  2.669798\n",
      "28        lights  2.677325\n",
      "29    roundabout  2.678541\n",
      "..           ...       ...\n",
      "170           10  3.654849\n",
      "171        Cloud  3.664586\n",
      "172          ago  3.705891\n",
      "173      spoiled  3.706620\n",
      "174     shoulder  3.712545\n",
      "175     romantic  3.717713\n",
      "176    Pregnancy  3.728579\n",
      "177    Flagstaff  3.737665\n",
      "178      cookout  3.740247\n",
      "179       author  3.749126\n",
      "180         Late  3.767739\n",
      "181     Kentucky  3.773863\n",
      "182         didn  3.812494\n",
      "183      Arizona  3.829988\n",
      "184    southwest  3.831196\n",
      "185          lot  3.937967\n",
      "186     Kingston  3.979451\n",
      "187        sucks  3.995835\n",
      "188         hang  4.012302\n",
      "189        Metro  4.025928\n",
      "190        Ranch  4.098611\n",
      "191    firstborn  4.163086\n",
      "192        awful  4.368223\n",
      "193       return  4.382844\n",
      "194  anniversary  4.476987\n",
      "195          ask  4.641234\n",
      "196          Kid  4.754698\n",
      "197       asking  4.810765\n",
      "198    Christmas  4.929290\n",
      "199         flat  5.206817\n",
      "\n",
      "[200 rows x 2 columns]\n",
      "          Feature      coef\n",
      "0           slice -3.516080\n",
      "1            want -3.400609\n",
      "2            Post -3.330826\n",
      "3              11 -3.297453\n",
      "4          Thanks -3.294538\n",
      "5            soon -3.292787\n",
      "6         Houston -3.141558\n",
      "7          school -3.133844\n",
      "8          Please -3.122065\n",
      "9         thought -3.014083\n",
      "10         Wallet -2.946016\n",
      "11       Colorado -2.919777\n",
      "12      Extremely -2.893392\n",
      "13           Been -2.845344\n",
      "14           date -2.820761\n",
      "15         reason -2.797535\n",
      "16           Want -2.779207\n",
      "17             gf -2.735369\n",
      "18            fed -2.719921\n",
      "19          extra -2.711640\n",
      "20          times -2.699260\n",
      "21             BC -2.689099\n",
      "22            Car -2.650275\n",
      "23          debit -2.645467\n",
      "24          weird -2.621900\n",
      "25            cat -2.613294\n",
      "26   unemployment -2.604553\n",
      "27          short -2.595652\n",
      "28          order -2.585211\n",
      "29           hope -2.581482\n",
      "..            ...       ...\n",
      "170  marshmallows -1.765419\n",
      "171          Days -1.764921\n",
      "172          step -1.764089\n",
      "173       filling -1.762599\n",
      "174       Shorted -1.759990\n",
      "175     koreatown -1.751347\n",
      "176          eggs -1.750441\n",
      "177         state -1.745033\n",
      "178            RI -1.735183\n",
      "179       midterm -1.730971\n",
      "180       wanting -1.730603\n",
      "181      verified -1.729738\n",
      "182        Dakota -1.729261\n",
      "183       started -1.728615\n",
      "184          Reno -1.724034\n",
      "185        fuckin -1.722632\n",
      "186           EST -1.717956\n",
      "187            ky -1.712705\n",
      "188     hopefully -1.709972\n",
      "189      Auckland -1.709246\n",
      "190       Canadia -1.706694\n",
      "191       Bothell -1.704909\n",
      "192            AK -1.690912\n",
      "193       bedrest -1.687720\n",
      "194      homework -1.682915\n",
      "195        Dexter -1.681367\n",
      "196   miscarriage -1.675299\n",
      "197           Son -1.671853\n",
      "198          Cold -1.666993\n",
      "199         uncle -1.661580\n",
      "\n",
      "[200 rows x 2 columns]\n"
     ]
    }
   ],
   "source": [
    "print(model_LG_limit_title.coef_.shape)\n",
    "# print( abs(model_LG.coef_ [0]))\n",
    "# print(len(vectorizer_process.vocabulary_))\n",
    "# print(vectorizer_process.vocabulary_)\n",
    "index_good=np.argsort((model_LG_limit_title.coef_ [0]))[-200:]\n",
    "print(type(index_good))\n",
    "print(index_good.shape)\n",
    "df = pd.DataFrame({'Feature': np.array(vectorizer_process_title.get_feature_names())[index_good], 'coef': np.array(model_LG_limit_title.coef_ [0])[index_good]})\n",
    "print(df)\n",
    "\n",
    "index_bad=np.argsort((model_LG_limit_title.coef_ [0]))[:200]\n",
    "\n",
    "df = pd.DataFrame({'Feature': np.array(vectorizer_process_title.get_feature_names())[index_bad], 'coef': np.array(model_LG_limit_title.coef_ [0])[index_bad]})\n",
    "print(df)"
   ]
  },
  {
   "cell_type": "code",
   "execution_count": 195,
   "metadata": {
    "collapsed": false,
    "scrolled": true
   },
   "outputs": [
    {
     "name": "stdout",
     "output_type": "stream",
     "text": [
      "[[1322 1696 1788 1975 2266 2394 2449 2693 3169 3273 3478]\n",
      " [   0    0    0    0    0    0    0    0    0    0    0]]\n",
      "[ '[Request] Boise Idaho security guy, sure would like a slice of pepperoni. :)'\n",
      " '[REQUEST] Melting in Phoenix,AZ; Could use a slice or two as relief :D '\n",
      " \"[Request] - It's the last day of finals and I've been up for 3 days. A slice of pizza could be the extra motivation I need to finish this 20 page religion paper. Help a girl out in the Chicago area! \"\n",
      " '[REQUEST] WA USA, would like a celebratory slice while working on finals.'\n",
      " '[Request] UK, Salivating student seeks special slice'\n",
      " \"[Request] Long time lurker, plenty of sob stories but none that need to be shared. I know it's hard to get a pizza randomly but I can do things that many people might be afraid to do. I'm hoping for a slice.\"\n",
      " '[Request] Will trade professional graphic design for a tasty slice of love :)'\n",
      " '[request] Florida, would murder for a slice. '\n",
      " '[Request] Syracuse, NY.broke college student dying for a slice of cheesy tastiness.'\n",
      " '(REQUEST) St. Louis Missouri. Unemployed and could use a slice'\n",
      " '[Request] Nice cool day here in San Diego, a hot slice of pizza sounds great!']\n",
      "[[False]\n",
      " [False]\n",
      " [False]\n",
      " [False]\n",
      " [False]\n",
      " [False]\n",
      " [False]\n",
      " [False]\n",
      " [False]\n",
      " [False]\n",
      " [False]]\n"
     ]
    }
   ],
   "source": [
    "i=vectorizer_process_limit_title.vocabulary_['slice']\n",
    "a=np.array(np.nonzero(train_matrix_process_title[:,i].toarray()))\n",
    "print(a)\n",
    "print(np.array(train_title)[a[0]])\n",
    "print(np.array(train_labels)[a[0]])"
   ]
  },
  {
   "cell_type": "code",
   "execution_count": 202,
   "metadata": {
    "collapsed": false
   },
   "outputs": [],
   "source": [
    "def empty_preprocessor(s):\n",
    "    return s\n",
    "\n",
    "def train_tf_idf_title(dicts):\n",
    "    \n",
    "    vectorizer_process_limit_title = TfidfVectorizer(preprocessor =empty_preprocessor,analyzer='word',stop_words='english',vocabulary=dicts )\n",
    "    train_matrix_process_limit_title= vectorizer_process_limit_title.fit_transform(train_title)\n",
    "    dev_matrix_process_limit_title = vectorizer_process_limit_title.transform(dev_title)\n",
    "\n",
    "\n",
    "    model_LG_limit_title = LogisticRegression(penalty ='l2',C=12)\n",
    "    model_LG_limit_title.fit(train_matrix_process_limit_title, np.ravel(train_labels))\n",
    "\n",
    "    # print('f1_score: %f' %metrics.f1_score(dev_labels,model_LG.predict(dev_matrix_process_text),average='binary'))\n",
    "    # print('precision_score: %f' %metrics.precision_score(dev_labels,model_LG.predict(dev_matrix_process_text)))\n",
    "    # print('recall_score: %f' %metrics.recall_score(dev_labels,model_LG.predict(dev_matrix_process_text)))\n",
    "    # print('accuracy_score: %f' %metrics.accuracy_score(dev_labels,model_LG.predict(dev_matrix_process_text)))\n",
    "\n",
    "    preds = model_LG_limit_title.predict(dev_matrix_process_limit_title)\n",
    "    F_Score = metrics.f1_score(dev_labels, preds, average='binary')\n",
    "    pred_probas = model_LG_limit_title.predict_proba(dev_matrix_process_limit_title)\n",
    "\n",
    "    #Call to display outputs\n",
    "#     model_output(pred_probas, F_Score, preds)\n",
    "    fpr,tpr,_ = roc_curve(dev_labels, pred_probas[:,1])\n",
    "    roc_auc = metrics.auc(fpr,tpr)\n",
    "    return roc_auc\n",
    "\n",
    "\n"
   ]
  },
  {
   "cell_type": "code",
   "execution_count": 203,
   "metadata": {
    "collapsed": false
   },
   "outputs": [],
   "source": [
    "auc=[]\n",
    "idx=[]\n",
    "for i in range(50,1500,20):\n",
    "    index_good=np.argsort((model_LG_limit_title.coef_ [0]))[-i:]\n",
    "    index_bad=np.argsort((model_LG_limit_title.coef_ [0]))[:i]\n",
    "    dicts=[]\n",
    "    dicts=list(np.array(vectorizer_process_title.get_feature_names())[index_good])+list(np.array(vectorizer_process_title.get_feature_names())[index_bad])\n",
    "    auc.append(train_tf_idf_title(dicts))\n",
    "    idx.append(i)\n"
   ]
  },
  {
   "cell_type": "code",
   "execution_count": null,
   "metadata": {
    "collapsed": false
   },
   "outputs": [],
   "source": [
    "plt.plot(idx,auc)\n",
    "# plt.show()\n",
    "np.argsort(auc)\n",
    "print(idx[22])\n",
    "print(auc[22])"
   ]
  },
  {
   "cell_type": "code",
   "execution_count": null,
   "metadata": {
    "collapsed": true
   },
   "outputs": [],
   "source": []
  },
  {
   "cell_type": "markdown",
   "metadata": {},
   "source": [
    "##Combine"
   ]
  },
  {
   "cell_type": "code",
   "execution_count": 262,
   "metadata": {
    "collapsed": true
   },
   "outputs": [],
   "source": [
    "index_good=np.argsort((model_LG_limit_title.coef_ [0]))[-490:]\n",
    "index_bad=np.argsort((model_LG_limit_title.coef_ [0]))[:490]\n",
    "dicts_title=[]\n",
    "dicts_title=list(np.array(vectorizer_process_title.get_feature_names())[index_good])+list(np.array(vectorizer_process_title.get_feature_names())[index_bad])\n",
    "index_good=np.argsort((model_LG.coef_ [0]))[-2740:]\n",
    "index_bad=np.argsort((model_LG.coef_ [0]))[:2740]\n",
    "dicts_text=[]\n",
    "dicts_text=list(np.array(vectorizer_process.get_feature_names())[index_good])+list(np.array(vectorizer_process.get_feature_names())[index_bad])\n",
    "\n",
    "\n",
    "\n",
    "    "
   ]
  },
  {
   "cell_type": "code",
   "execution_count": 263,
   "metadata": {
    "collapsed": true
   },
   "outputs": [],
   "source": [
    "vectorizer_process_limit_title = TfidfVectorizer(preprocessor =empty_preprocessor,analyzer='word',stop_words='english',vocabulary=dicts_title )\n",
    "train_matrix_process_limit_title= vectorizer_process_limit_title.fit_transform(train_title)\n",
    "dev_matrix_process_limit_title = vectorizer_process_limit_title.transform(dev_title)\n",
    "\n",
    "vectorizer_process_limit_text = TfidfVectorizer(preprocessor =empty_preprocessor,analyzer='word',stop_words='english',vocabulary=dicts_text )\n",
    "train_matrix_process_text= vectorizer_process_limit_text.fit_transform(train_text)\n",
    "dev_matrix_process_text = vectorizer_process_limit_text.transform(dev_text)\n"
   ]
  },
  {
   "cell_type": "code",
   "execution_count": 264,
   "metadata": {
    "collapsed": false
   },
   "outputs": [
    {
     "name": "stdout",
     "output_type": "stream",
     "text": [
      "(3975, 980)\n",
      "(1696, 980)\n",
      "(3975, 5480)\n",
      "(1696, 5480)\n",
      "(1696, 6460)\n"
     ]
    }
   ],
   "source": [
    "print(train_matrix_process_limit_title.shape)\n",
    "print(dev_matrix_process_limit_title.shape)\n",
    "\n",
    "print(train_matrix_process_text.shape)\n",
    "print(dev_matrix_process_text.shape)\n",
    "\n",
    "train_combine=np.hstack( (train_matrix_process_limit_title.toarray(),train_matrix_process_text.toarray()))\n",
    "dev_combine=np.hstack( (dev_matrix_process_limit_title.toarray(),dev_matrix_process_text.toarray()))\n",
    "print(dev_combine.shape)\n",
    "# print(train_matrix_process_limit_title.toarray())"
   ]
  },
  {
   "cell_type": "code",
   "execution_count": 265,
   "metadata": {
    "collapsed": false
   },
   "outputs": [
    {
     "name": "stdout",
     "output_type": "stream",
     "text": [
      "Logistic regression on numeric data: F-Score = 0.2906: \n",
      "Accuracy = 0.7093\n",
      "accuracy_score: 0.394531\n",
      "recall_score: 0.230068\n",
      "roc_auc_score: 0.553379435072\n",
      "auc: 0.58\n"
     ]
    },
    {
     "data": {
      "image/png": "[encoded data removed]",
      "text/plain": [
       "<matplotlib.figure.Figure at 0xe55f710>"
      ]
     },
     "metadata": {},
     "output_type": "display_data"
    },
    {
     "name": "stdout",
     "output_type": "stream",
     "text": [
      "0.581291464836\n"
     ]
    }
   ],
   "source": [
    "model_LG_all= LogisticRegression(penalty ='l2',C=12)\n",
    "model_LG_all.fit(train_combine, np.ravel(train_labels))\n",
    "\n",
    "# print('f1_score: %f' %metrics.f1_score(dev_labels,model_LG.predict(dev_matrix_process_text),average='binary'))\n",
    "# print('precision_score: %f' %metrics.precision_score(dev_labels,model_LG.predict(dev_matrix_process_text)))\n",
    "# print('recall_score: %f' %metrics.recall_score(dev_labels,model_LG.predict(dev_matrix_process_text)))\n",
    "# print('accuracy_score: %f' %metrics.accuracy_score(dev_labels,model_LG.predict(dev_matrix_process_text)))\n",
    "\n",
    "preds = model_LG_all.predict(dev_combine)\n",
    "F_Score = metrics.f1_score(dev_labels, preds, average='binary')\n",
    "pred_probas = model_LG_all.predict_proba(dev_combine)\n",
    "\n",
    "#Call to display outputs\n",
    "model_output(pred_probas, F_Score, preds)\n",
    "fpr,tpr,_ = roc_curve(dev_labels, pred_probas[:,1])\n",
    "roc_auc = metrics.auc(fpr,tpr)\n",
    "print (roc_auc)"
   ]
  },
  {
   "cell_type": "markdown",
   "metadata": {},
   "source": [
    "###narrative"
   ]
  },
  {
   "cell_type": "code",
   "execution_count": 272,
   "metadata": {
    "collapsed": true
   },
   "outputs": [],
   "source": [
    "\n",
    "train_all = train_text+train_title\n",
    "dev_all = dev_text+dev_title"
   ]
  },
  {
   "cell_type": "code",
   "execution_count": 266,
   "metadata": {
    "collapsed": true
   },
   "outputs": [],
   "source": [
    "desire = re.compile(r'(friend|party|birthday|boyfriend|girlfriend|date|drinks|drunk|wasted|invite|invited|celebrate|celebrating|game|games|movie|beer|crave|craving)', re.IGNORECASE)\n",
    "family = re.compile(r'(husband|wife|family|parent|parents|mother|father|mom|mum|son|dad|daughter)', re.IGNORECASE)\n",
    "job = re.compile(r'(job|unemployment|employment|hire|hired|fired|interview|work|paycheck)', re.IGNORECASE)\n",
    "money = re.compile(r'(money|bill|bills|rent|bank|account|paycheck|due|broke|bills|deposit|cash|dollar|dollars|bucks|paid|payed|buy|check|spent|financial|poor|loan|\\\n",
    "credit|budget|day|now|time|week|until|last|month|tonight|today|next|night|when|tomorrow|first|after|while|before|long|hour|Friday|ago|still|due|past|soon|current|years|never|till|yesterday|morning|evening)', re.IGNORECASE)\n",
    "student = re.compile(r'(college|student|university|finals|study|studying|class|semester|school|roommate|project|tuition|dorm)', re.IGNORECASE)\n",
    "mood = re.compile(r'(thank|nice|like|best|great|surprise)', re.IGNORECASE) \n",
    "\n",
    "\n"
   ]
  },
  {
   "cell_type": "code",
   "execution_count": 269,
   "metadata": {
    "collapsed": false
   },
   "outputs": [],
   "source": [
    "def myfunc(a,b):\n",
    "    if len(a)==0:\n",
    "        return 0 \n",
    "    else:\n",
    "        return len(b.findall(a))/float(len(a))\n",
    "\n"
   ]
  },
  {
   "cell_type": "code",
   "execution_count": 273,
   "metadata": {
    "collapsed": false
   },
   "outputs": [],
   "source": [
    "narrative_all=np.ndarray(shape=(len(train_text),5),dtype=int)\n",
    "narrative_all_dev=np.ndarray(shape=(len(dev_text),5),dtype=int)\n",
    "\n",
    "for index,i in enumerate([desire,family,job,money,student]):\n",
    "    \n",
    "    vfunc = np.vectorize(myfunc)\n",
    "    narrative=vfunc(train_all,i)\n",
    "    narrative_dev=vfunc(dev_all,i)\n",
    "    med=np.median(narrative)\n",
    "    narrative_all[:,index]=np.where(narrative>med,1,0)\n",
    "    narrative_all_dev[:,index]=np.where(narrative_dev>med,1,0)\n",
    "    \n"
   ]
  },
  {
   "cell_type": "code",
   "execution_count": 286,
   "metadata": {
    "collapsed": false
   },
   "outputs": [],
   "source": [
    "\n",
    "\n",
    "# np.hstack((word_matrix_process, narrative_all))\n",
    "# word_matrix_process+narrative_all\n",
    "a=np.concatenate((train_matrix_process_text.toarray(), narrative_all), axis=1)\n",
    "b=np.concatenate((dev_matrix_process_text.toarray(), narrative_all_dev), axis=1)"
   ]
  },
  {
   "cell_type": "code",
   "execution_count": 276,
   "metadata": {
    "collapsed": false
   },
   "outputs": [
    {
     "name": "stdout",
     "output_type": "stream",
     "text": [
      "(3975, 5480)\n",
      "(1696, 5480)\n",
      "(3975, 5485)\n",
      "(1696, 5485)\n"
     ]
    }
   ],
   "source": [
    "print(train_matrix_process_text.shape) \n",
    "print(dev_matrix_process_text.shape) \n",
    "print(a.shape) \n",
    "print(b.shape) "
   ]
  },
  {
   "cell_type": "code",
   "execution_count": 317,
   "metadata": {
    "collapsed": false
   },
   "outputs": [
    {
     "name": "stdout",
     "output_type": "stream",
     "text": [
      "Logistic regression on numeric data: F-Score = 0.0223: \n",
      "Accuracy = 0.7417\n",
      "accuracy_score: 0.555556\n",
      "recall_score: 0.011390\n",
      "roc_auc_score: 0.504103670923\n",
      "auc: 0.63\n"
     ]
    },
    {
     "data": {
      "image/png": "[encoded data removed]",
      "text/plain": [
       "<matplotlib.figure.Figure at 0xc082ef0>"
      ]
     },
     "metadata": {},
     "output_type": "display_data"
    },
    {
     "name": "stdout",
     "output_type": "stream",
     "text": [
      "0.630541858531\n"
     ]
    }
   ],
   "source": [
    "def empty_preprocessor(s):\n",
    "    return s\n",
    "\n",
    "\n",
    "# vectorizer_process = CountVectorizer(preprocessor =empty_preprocessor,analyzer='word',stop_words='english' )\n",
    "# word_matrix_process= vectorizer_process.fit_transform(train_all_balance)\n",
    "# dev_matrix_process = vectorizer_process.transform(dev_all)\n",
    "\n",
    "# a=np.concatenate((word_matrix_process.toarray(), narrative_all), axis=1)\n",
    "# b=np.concatenate((dev_matrix_process.toarray(), narrative_all_dev), axis=1)\n",
    "\n",
    "model_LG = LogisticRegression(penalty ='l2',C=0.3)\n",
    "model_LG.fit(a, np.ravel(train_labels))\n",
    "\n",
    "preds = model_LG.predict(b)\n",
    "F_Score = metrics.f1_score(dev_labels, preds, average='binary')\n",
    "pred_probas = model_LG.predict_proba(b)\n",
    "\n",
    "#Call to display outputs\n",
    "model_output(pred_probas, F_Score, preds)\n",
    "fpr,tpr,_ = roc_curve(dev_labels, pred_probas[:,1])\n",
    "roc_auc = metrics.auc(fpr,tpr)\n",
    "print (roc_auc)"
   ]
  },
  {
   "cell_type": "code",
   "execution_count": 326,
   "metadata": {
    "collapsed": false
   },
   "outputs": [
    {
     "name": "stdout",
     "output_type": "stream",
     "text": [
      "Logistic regression on numeric data: F-Score = 0.0090: \n",
      "Accuracy = 0.7412\n",
      "accuracy_score: 0.500000\n",
      "recall_score: 0.004556\n",
      "roc_auc_score: 0.50148235938\n",
      "auc: 0.63\n"
     ]
    },
    {
     "data": {
      "image/png": "[encoded data removed]",
      "text/plain": [
       "<matplotlib.figure.Figure at 0x9183a20>"
      ]
     },
     "metadata": {},
     "output_type": "display_data"
    },
    {
     "name": "stdout",
     "output_type": "stream",
     "text": [
      "0.630142273881\n"
     ]
    }
   ],
   "source": [
    "np.random.seed(0)\n",
    "\n",
    "# vectorizer_process = CountVectorizer(analyzer='word',stop_words='english',preprocessor = empty_preprocessor)\n",
    "# word_matrix_process= vectorizer_process.fit_transform(train_all_balance)\n",
    "# dev_matrix_process = vectorizer_process.transform(dev_all)\n",
    "\n",
    "# a=np.concatenate((word_matrix_process.toarray(), narrative_all), axis=1)\n",
    "# b=np.concatenate((dev_matrix_process.toarray(), narrative_all_dev), axis=1)\n",
    "\n",
    "model_LG_L1 = LogisticRegression(penalty ='l1',C=14)#C from the above test\n",
    "model_LG_L1.fit(a, np.ravel(train_labels))\n",
    "\n",
    "#Update the new index\n",
    "index=[]\n",
    "for i,z in enumerate(np.sum(np.abs(model_LG_L1.coef_),axis=0) ):\n",
    "    if z!=0:\n",
    "        index.append(i)\n",
    "            \n",
    "model_LG = LogisticRegression(penalty ='l2',C=0.3)#C from the above test\n",
    "model_LG.fit(a[:,index], np.ravel(train_labels))\n",
    "\n",
    "preds = model_LG.predict(b[:,index])\n",
    "F_Score = metrics.f1_score(np.ravel(dev_labels), preds, average='binary')\n",
    "pred_probas = model_LG.predict_proba(b[:,index])\n",
    "\n",
    "#Call to display outputs\n",
    "model_output(pred_probas, F_Score, preds) #Please input pred_probas, F_Score, and prediction(preds)\n",
    "fpr,tpr,_ = roc_curve(dev_labels, pred_probas[:,1])\n",
    "roc_auc = metrics.auc(fpr,tpr)\n",
    "print (roc_auc)"
   ]
  }
 ],
 "metadata": {
  "kernelspec": {
   "display_name": "Python 3",
   "language": "python",
   "name": "python3"
  },
  "language_info": {
   "codemirror_mode": {
    "name": "ipython",
    "version": 3
   },
   "file_extension": ".py",
   "mimetype": "text/x-python",
   "name": "python",
   "nbconvert_exporter": "python",
   "pygments_lexer": "ipython3",
   "version": "3.3.5"
  }
 },
 "nbformat": 4,
 "nbformat_minor": 0
}
